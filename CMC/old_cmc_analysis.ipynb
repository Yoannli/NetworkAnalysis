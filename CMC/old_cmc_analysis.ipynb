{
 "cells": [
  {
   "cell_type": "code",
   "execution_count": 20,
   "metadata": {},
   "outputs": [],
   "source": [
    "import pandas as pd\n",
    "import seaborn as sns\n",
    "import matplotlib.pyplot as plt\n",
    "sns.set_style(\"darkgrid\")\n",
    "import plotly.graph_objects as go"
   ]
  },
  {
   "cell_type": "code",
   "execution_count": 3,
   "metadata": {},
   "outputs": [],
   "source": [
    "# set number of columns in  pandas output\n",
    "pd.set_option('display.max_columns', 100)"
   ]
  },
  {
   "cell_type": "markdown",
   "metadata": {},
   "source": [
    "Data obtained from https://cancer.sanger.ac.uk/cosmic/download/cancer-mutation-census/v99/alldata-cmc under \"Cancer Mutation Census\". Downloaded CancerMutationCensus_AllData_Tsv_v99_GRCh37.tar"
   ]
  },
  {
   "cell_type": "code",
   "execution_count": 4,
   "metadata": {},
   "outputs": [
    {
     "data": {
      "text/html": [
       "<div>\n",
       "<style scoped>\n",
       "    .dataframe tbody tr th:only-of-type {\n",
       "        vertical-align: middle;\n",
       "    }\n",
       "\n",
       "    .dataframe tbody tr th {\n",
       "        vertical-align: top;\n",
       "    }\n",
       "\n",
       "    .dataframe thead th {\n",
       "        text-align: right;\n",
       "    }\n",
       "</style>\n",
       "<table border=\"1\" class=\"dataframe\">\n",
       "  <thead>\n",
       "    <tr style=\"text-align: right;\">\n",
       "      <th></th>\n",
       "      <th>GENE_NAME</th>\n",
       "      <th>Mutation AA</th>\n",
       "      <th>AA_MUT_START</th>\n",
       "      <th>AA_MUT_STOP</th>\n",
       "      <th>AA_WT_ALLELE_SEQ</th>\n",
       "      <th>AA_MUT_ALLELE_SEQ</th>\n",
       "      <th>Mutation Description AA</th>\n",
       "      <th>MUTATION_SIGNIFICANCE_TIER</th>\n",
       "    </tr>\n",
       "  </thead>\n",
       "  <tbody>\n",
       "    <tr>\n",
       "      <th>0</th>\n",
       "      <td>PODN</td>\n",
       "      <td>p.N296K</td>\n",
       "      <td>296</td>\n",
       "      <td>296</td>\n",
       "      <td>N</td>\n",
       "      <td>K</td>\n",
       "      <td>Substitution - Missense</td>\n",
       "      <td>Other</td>\n",
       "    </tr>\n",
       "    <tr>\n",
       "      <th>1</th>\n",
       "      <td>PODN</td>\n",
       "      <td>p.R211C</td>\n",
       "      <td>211</td>\n",
       "      <td>211</td>\n",
       "      <td>R</td>\n",
       "      <td>C</td>\n",
       "      <td>Substitution - Missense</td>\n",
       "      <td>Other</td>\n",
       "    </tr>\n",
       "    <tr>\n",
       "      <th>2</th>\n",
       "      <td>PODN</td>\n",
       "      <td>p.L312=</td>\n",
       "      <td>312</td>\n",
       "      <td>312</td>\n",
       "      <td>L</td>\n",
       "      <td>L</td>\n",
       "      <td>Substitution - coding silent</td>\n",
       "      <td>Other</td>\n",
       "    </tr>\n",
       "    <tr>\n",
       "      <th>3</th>\n",
       "      <td>PODN</td>\n",
       "      <td>p.I380Sfs*55</td>\n",
       "      <td>380</td>\n",
       "      <td>380</td>\n",
       "      <td>I</td>\n",
       "      <td>SAAWSTCCCTATSCGSRASTHWPSRASSGCTRCTCTTTRWSACPVA...</td>\n",
       "      <td>Deletion - Frameshift</td>\n",
       "      <td>Other</td>\n",
       "    </tr>\n",
       "    <tr>\n",
       "      <th>4</th>\n",
       "      <td>PODN</td>\n",
       "      <td>p.V412M</td>\n",
       "      <td>412</td>\n",
       "      <td>412</td>\n",
       "      <td>V</td>\n",
       "      <td>M</td>\n",
       "      <td>Substitution - Missense</td>\n",
       "      <td>Other</td>\n",
       "    </tr>\n",
       "    <tr>\n",
       "      <th>...</th>\n",
       "      <td>...</td>\n",
       "      <td>...</td>\n",
       "      <td>...</td>\n",
       "      <td>...</td>\n",
       "      <td>...</td>\n",
       "      <td>...</td>\n",
       "      <td>...</td>\n",
       "      <td>...</td>\n",
       "    </tr>\n",
       "    <tr>\n",
       "      <th>5225809</th>\n",
       "      <td>AC011308.1</td>\n",
       "      <td>p.G9D</td>\n",
       "      <td>9</td>\n",
       "      <td>9</td>\n",
       "      <td>G</td>\n",
       "      <td>D</td>\n",
       "      <td>Substitution - Missense</td>\n",
       "      <td>Other</td>\n",
       "    </tr>\n",
       "    <tr>\n",
       "      <th>5225810</th>\n",
       "      <td>RPS17L</td>\n",
       "      <td>p.E75G</td>\n",
       "      <td>75</td>\n",
       "      <td>75</td>\n",
       "      <td>E</td>\n",
       "      <td>G</td>\n",
       "      <td>Substitution - Missense</td>\n",
       "      <td>Other</td>\n",
       "    </tr>\n",
       "    <tr>\n",
       "      <th>5225811</th>\n",
       "      <td>RPS17L</td>\n",
       "      <td>p.R81S</td>\n",
       "      <td>81</td>\n",
       "      <td>81</td>\n",
       "      <td>R</td>\n",
       "      <td>S</td>\n",
       "      <td>Substitution - Missense</td>\n",
       "      <td>Other</td>\n",
       "    </tr>\n",
       "    <tr>\n",
       "      <th>5225812</th>\n",
       "      <td>FKSG68</td>\n",
       "      <td>p.Q74R</td>\n",
       "      <td>74</td>\n",
       "      <td>74</td>\n",
       "      <td>Q</td>\n",
       "      <td>R</td>\n",
       "      <td>Substitution - Missense</td>\n",
       "      <td>Other</td>\n",
       "    </tr>\n",
       "    <tr>\n",
       "      <th>5225813</th>\n",
       "      <td>FKSG68</td>\n",
       "      <td>p.G114=</td>\n",
       "      <td>114</td>\n",
       "      <td>114</td>\n",
       "      <td>G</td>\n",
       "      <td>G</td>\n",
       "      <td>Substitution - coding silent</td>\n",
       "      <td>Other</td>\n",
       "    </tr>\n",
       "  </tbody>\n",
       "</table>\n",
       "<p>5225814 rows × 8 columns</p>\n",
       "</div>"
      ],
      "text/plain": [
       "          GENE_NAME   Mutation AA  AA_MUT_START  AA_MUT_STOP AA_WT_ALLELE_SEQ  \\\n",
       "0              PODN       p.N296K           296          296                N   \n",
       "1              PODN       p.R211C           211          211                R   \n",
       "2              PODN       p.L312=           312          312                L   \n",
       "3              PODN  p.I380Sfs*55           380          380                I   \n",
       "4              PODN       p.V412M           412          412                V   \n",
       "...             ...           ...           ...          ...              ...   \n",
       "5225809  AC011308.1         p.G9D             9            9                G   \n",
       "5225810      RPS17L        p.E75G            75           75                E   \n",
       "5225811      RPS17L        p.R81S            81           81                R   \n",
       "5225812      FKSG68        p.Q74R            74           74                Q   \n",
       "5225813      FKSG68       p.G114=           114          114                G   \n",
       "\n",
       "                                         AA_MUT_ALLELE_SEQ  \\\n",
       "0                                                        K   \n",
       "1                                                        C   \n",
       "2                                                        L   \n",
       "3        SAAWSTCCCTATSCGSRASTHWPSRASSGCTRCTCTTTRWSACPVA...   \n",
       "4                                                        M   \n",
       "...                                                    ...   \n",
       "5225809                                                  D   \n",
       "5225810                                                  G   \n",
       "5225811                                                  S   \n",
       "5225812                                                  R   \n",
       "5225813                                                  G   \n",
       "\n",
       "              Mutation Description AA MUTATION_SIGNIFICANCE_TIER  \n",
       "0             Substitution - Missense                      Other  \n",
       "1             Substitution - Missense                      Other  \n",
       "2        Substitution - coding silent                      Other  \n",
       "3               Deletion - Frameshift                      Other  \n",
       "4             Substitution - Missense                      Other  \n",
       "...                               ...                        ...  \n",
       "5225809       Substitution - Missense                      Other  \n",
       "5225810       Substitution - Missense                      Other  \n",
       "5225811       Substitution - Missense                      Other  \n",
       "5225812       Substitution - Missense                      Other  \n",
       "5225813  Substitution - coding silent                      Other  \n",
       "\n",
       "[5225814 rows x 8 columns]"
      ]
     },
     "execution_count": 4,
     "metadata": {},
     "output_type": "execute_result"
    }
   ],
   "source": [
    "# df = pd.read_csv('cmc_export.tsv', sep='\\t', nrows=100) # read first 100 rows\n",
    "df = pd.read_csv('cmc_export.tsv', sep='\\t', usecols=['GENE_NAME' ,'AA_MUT_START', 'AA_MUT_STOP', 'AA_WT_ALLELE_SEQ', 'AA_MUT_ALLELE_SEQ', 'Mutation AA', 'Mutation Description AA', 'MUTATION_SIGNIFICANCE_TIER'])\n",
    "df"
   ]
  },
  {
   "cell_type": "markdown",
   "metadata": {},
   "source": [
    "Only focusing on single amino acid mutations..."
   ]
  },
  {
   "cell_type": "code",
   "execution_count": 5,
   "metadata": {},
   "outputs": [
    {
     "data": {
      "text/plain": [
       "array(['Substitution - Missense', 'Substitution - coding silent',\n",
       "       'Deletion - Frameshift', 'Substitution - Nonsense',\n",
       "       'Deletion - In frame', 'Insertion - In frame',\n",
       "       'Insertion - Frameshift', nan, 'Nonstop extension',\n",
       "       'Complex - frameshift', 'Complex - deletion inframe', 'Frameshift',\n",
       "       'Complex - insertion inframe'], dtype=object)"
      ]
     },
     "execution_count": 5,
     "metadata": {},
     "output_type": "execute_result"
    }
   ],
   "source": [
    "df['Mutation Description AA'].unique()"
   ]
  },
  {
   "cell_type": "code",
   "execution_count": 6,
   "metadata": {},
   "outputs": [
    {
     "data": {
      "text/html": [
       "<div>\n",
       "<style scoped>\n",
       "    .dataframe tbody tr th:only-of-type {\n",
       "        vertical-align: middle;\n",
       "    }\n",
       "\n",
       "    .dataframe tbody tr th {\n",
       "        vertical-align: top;\n",
       "    }\n",
       "\n",
       "    .dataframe thead th {\n",
       "        text-align: right;\n",
       "    }\n",
       "</style>\n",
       "<table border=\"1\" class=\"dataframe\">\n",
       "  <thead>\n",
       "    <tr style=\"text-align: right;\">\n",
       "      <th></th>\n",
       "      <th>GENE_NAME</th>\n",
       "      <th>AA_MUT_NUM</th>\n",
       "      <th>tier1_count</th>\n",
       "      <th>tier2_count</th>\n",
       "      <th>tier3_count</th>\n",
       "      <th>tierOther_count</th>\n",
       "    </tr>\n",
       "  </thead>\n",
       "  <tbody>\n",
       "    <tr>\n",
       "      <th>0</th>\n",
       "      <td>EGFR</td>\n",
       "      <td>2</td>\n",
       "      <td>0.0</td>\n",
       "      <td>0.0</td>\n",
       "      <td>0.0</td>\n",
       "      <td>1.0</td>\n",
       "    </tr>\n",
       "    <tr>\n",
       "      <th>1</th>\n",
       "      <td>EGFR</td>\n",
       "      <td>4</td>\n",
       "      <td>0.0</td>\n",
       "      <td>0.0</td>\n",
       "      <td>0.0</td>\n",
       "      <td>1.0</td>\n",
       "    </tr>\n",
       "    <tr>\n",
       "      <th>2</th>\n",
       "      <td>EGFR</td>\n",
       "      <td>5</td>\n",
       "      <td>0.0</td>\n",
       "      <td>0.0</td>\n",
       "      <td>0.0</td>\n",
       "      <td>1.0</td>\n",
       "    </tr>\n",
       "    <tr>\n",
       "      <th>3</th>\n",
       "      <td>EGFR</td>\n",
       "      <td>13</td>\n",
       "      <td>0.0</td>\n",
       "      <td>0.0</td>\n",
       "      <td>0.0</td>\n",
       "      <td>2.0</td>\n",
       "    </tr>\n",
       "    <tr>\n",
       "      <th>4</th>\n",
       "      <td>EGFR</td>\n",
       "      <td>16</td>\n",
       "      <td>0.0</td>\n",
       "      <td>0.0</td>\n",
       "      <td>0.0</td>\n",
       "      <td>1.0</td>\n",
       "    </tr>\n",
       "    <tr>\n",
       "      <th>...</th>\n",
       "      <td>...</td>\n",
       "      <td>...</td>\n",
       "      <td>...</td>\n",
       "      <td>...</td>\n",
       "      <td>...</td>\n",
       "      <td>...</td>\n",
       "    </tr>\n",
       "    <tr>\n",
       "      <th>1447</th>\n",
       "      <td>TP53</td>\n",
       "      <td>390</td>\n",
       "      <td>0.0</td>\n",
       "      <td>0.0</td>\n",
       "      <td>5.0</td>\n",
       "      <td>1.0</td>\n",
       "    </tr>\n",
       "    <tr>\n",
       "      <th>1448</th>\n",
       "      <td>TP53</td>\n",
       "      <td>391</td>\n",
       "      <td>0.0</td>\n",
       "      <td>0.0</td>\n",
       "      <td>2.0</td>\n",
       "      <td>2.0</td>\n",
       "    </tr>\n",
       "    <tr>\n",
       "      <th>1449</th>\n",
       "      <td>TP53</td>\n",
       "      <td>392</td>\n",
       "      <td>0.0</td>\n",
       "      <td>0.0</td>\n",
       "      <td>0.0</td>\n",
       "      <td>2.0</td>\n",
       "    </tr>\n",
       "    <tr>\n",
       "      <th>1450</th>\n",
       "      <td>TP53</td>\n",
       "      <td>393</td>\n",
       "      <td>0.0</td>\n",
       "      <td>0.0</td>\n",
       "      <td>3.0</td>\n",
       "      <td>0.0</td>\n",
       "    </tr>\n",
       "    <tr>\n",
       "      <th>1451</th>\n",
       "      <td>TP53</td>\n",
       "      <td>394</td>\n",
       "      <td>0.0</td>\n",
       "      <td>0.0</td>\n",
       "      <td>3.0</td>\n",
       "      <td>4.0</td>\n",
       "    </tr>\n",
       "  </tbody>\n",
       "</table>\n",
       "<p>1452 rows × 6 columns</p>\n",
       "</div>"
      ],
      "text/plain": [
       "     GENE_NAME  AA_MUT_NUM  tier1_count  tier2_count  tier3_count  \\\n",
       "0         EGFR           2          0.0          0.0          0.0   \n",
       "1         EGFR           4          0.0          0.0          0.0   \n",
       "2         EGFR           5          0.0          0.0          0.0   \n",
       "3         EGFR          13          0.0          0.0          0.0   \n",
       "4         EGFR          16          0.0          0.0          0.0   \n",
       "...        ...         ...          ...          ...          ...   \n",
       "1447      TP53         390          0.0          0.0          5.0   \n",
       "1448      TP53         391          0.0          0.0          2.0   \n",
       "1449      TP53         392          0.0          0.0          0.0   \n",
       "1450      TP53         393          0.0          0.0          3.0   \n",
       "1451      TP53         394          0.0          0.0          3.0   \n",
       "\n",
       "      tierOther_count  \n",
       "0                 1.0  \n",
       "1                 1.0  \n",
       "2                 1.0  \n",
       "3                 2.0  \n",
       "4                 1.0  \n",
       "...               ...  \n",
       "1447              1.0  \n",
       "1448              2.0  \n",
       "1449              2.0  \n",
       "1450              0.0  \n",
       "1451              4.0  \n",
       "\n",
       "[1452 rows x 6 columns]"
      ]
     },
     "execution_count": 6,
     "metadata": {},
     "output_type": "execute_result"
    }
   ],
   "source": [
    "# all_mutations = pd.DataFrame()\n",
    "\n",
    "tmp = df[(df['GENE_NAME'].isin(['KRAS', 'TP53', 'HRAS', 'EGFR'])) & \\\n",
    "(df['AA_MUT_START'] == df['AA_MUT_STOP'])]\n",
    "tmp = tmp[['GENE_NAME' ,'AA_MUT_START', 'AA_WT_ALLELE_SEQ', 'AA_MUT_ALLELE_SEQ', 'Mutation AA', 'Mutation Description AA', 'MUTATION_SIGNIFICANCE_TIER']].sort_values(by='AA_MUT_START')\n",
    "\n",
    "# mutation not nan in AA_WT_ALLELE_SEQ\tMutation AA\tMutation Description AA\n",
    "tmp = tmp.dropna(subset=['AA_WT_ALLELE_SEQ', 'Mutation AA', 'Mutation Description AA'])\n",
    "\n",
    "# for each gene_name and residue number, count the number of each mutation_significance_tier\n",
    "tmp = tmp.groupby(['GENE_NAME', 'AA_MUT_START', 'MUTATION_SIGNIFICANCE_TIER']).size().unstack().fillna(0).reset_index()\n",
    "tmp.columns = ['GENE_NAME', 'AA_MUT_NUM', 'tier1_count', 'tier2_count', 'tier3_count', 'tierOther_count']\n",
    "tmp\n"
   ]
  },
  {
   "cell_type": "code",
   "execution_count": 7,
   "metadata": {},
   "outputs": [
    {
     "data": {
      "text/html": [
       "<div>\n",
       "<style scoped>\n",
       "    .dataframe tbody tr th:only-of-type {\n",
       "        vertical-align: middle;\n",
       "    }\n",
       "\n",
       "    .dataframe tbody tr th {\n",
       "        vertical-align: top;\n",
       "    }\n",
       "\n",
       "    .dataframe thead th {\n",
       "        text-align: right;\n",
       "    }\n",
       "</style>\n",
       "<table border=\"1\" class=\"dataframe\">\n",
       "  <thead>\n",
       "    <tr style=\"text-align: right;\">\n",
       "      <th></th>\n",
       "      <th>gene_symbol</th>\n",
       "      <th>pdb_id</th>\n",
       "      <th>chain</th>\n",
       "      <th>uniprot_id</th>\n",
       "      <th>assoc_gene</th>\n",
       "      <th>resolution</th>\n",
       "      <th>res_num</th>\n",
       "      <th>pdb_res</th>\n",
       "      <th>uniprot_res</th>\n",
       "      <th>network_score</th>\n",
       "      <th>outside_range</th>\n",
       "      <th>residue_match</th>\n",
       "    </tr>\n",
       "  </thead>\n",
       "  <tbody>\n",
       "    <tr>\n",
       "      <th>0</th>\n",
       "      <td>EGFR</td>\n",
       "      <td>3POZ</td>\n",
       "      <td>A</td>\n",
       "      <td>P00533</td>\n",
       "      <td>EGFR</td>\n",
       "      <td>1.5</td>\n",
       "      <td>701</td>\n",
       "      <td>Q</td>\n",
       "      <td>Q</td>\n",
       "      <td>-3.791355</td>\n",
       "      <td>False</td>\n",
       "      <td>True</td>\n",
       "    </tr>\n",
       "    <tr>\n",
       "      <th>1</th>\n",
       "      <td>EGFR</td>\n",
       "      <td>3POZ</td>\n",
       "      <td>A</td>\n",
       "      <td>P00533</td>\n",
       "      <td>EGFR</td>\n",
       "      <td>1.5</td>\n",
       "      <td>702</td>\n",
       "      <td>A</td>\n",
       "      <td>A</td>\n",
       "      <td>-2.634055</td>\n",
       "      <td>False</td>\n",
       "      <td>True</td>\n",
       "    </tr>\n",
       "    <tr>\n",
       "      <th>2</th>\n",
       "      <td>EGFR</td>\n",
       "      <td>3POZ</td>\n",
       "      <td>A</td>\n",
       "      <td>P00533</td>\n",
       "      <td>EGFR</td>\n",
       "      <td>1.5</td>\n",
       "      <td>703</td>\n",
       "      <td>L</td>\n",
       "      <td>L</td>\n",
       "      <td>-1.231055</td>\n",
       "      <td>False</td>\n",
       "      <td>True</td>\n",
       "    </tr>\n",
       "    <tr>\n",
       "      <th>3</th>\n",
       "      <td>EGFR</td>\n",
       "      <td>3POZ</td>\n",
       "      <td>A</td>\n",
       "      <td>P00533</td>\n",
       "      <td>EGFR</td>\n",
       "      <td>1.5</td>\n",
       "      <td>704</td>\n",
       "      <td>L</td>\n",
       "      <td>L</td>\n",
       "      <td>0.452193</td>\n",
       "      <td>False</td>\n",
       "      <td>True</td>\n",
       "    </tr>\n",
       "    <tr>\n",
       "      <th>4</th>\n",
       "      <td>EGFR</td>\n",
       "      <td>3POZ</td>\n",
       "      <td>A</td>\n",
       "      <td>P00533</td>\n",
       "      <td>EGFR</td>\n",
       "      <td>1.5</td>\n",
       "      <td>705</td>\n",
       "      <td>R</td>\n",
       "      <td>R</td>\n",
       "      <td>-1.086163</td>\n",
       "      <td>False</td>\n",
       "      <td>True</td>\n",
       "    </tr>\n",
       "  </tbody>\n",
       "</table>\n",
       "</div>"
      ],
      "text/plain": [
       "  gene_symbol pdb_id chain uniprot_id assoc_gene  resolution  res_num pdb_res  \\\n",
       "0        EGFR   3POZ     A     P00533       EGFR         1.5      701       Q   \n",
       "1        EGFR   3POZ     A     P00533       EGFR         1.5      702       A   \n",
       "2        EGFR   3POZ     A     P00533       EGFR         1.5      703       L   \n",
       "3        EGFR   3POZ     A     P00533       EGFR         1.5      704       L   \n",
       "4        EGFR   3POZ     A     P00533       EGFR         1.5      705       R   \n",
       "\n",
       "  uniprot_res  network_score  outside_range  residue_match  \n",
       "0           Q      -3.791355          False           True  \n",
       "1           A      -2.634055          False           True  \n",
       "2           L      -1.231055          False           True  \n",
       "3           L       0.452193          False           True  \n",
       "4           R      -1.086163          False           True  "
      ]
     },
     "execution_count": 7,
     "metadata": {},
     "output_type": "execute_result"
    }
   ],
   "source": [
    "residue_data = pd.read_csv('../final_data.csv')\n",
    "# residue_data = residue_data[residue_data['assoc_gene'] == gene]\n",
    "residue_data.head()"
   ]
  },
  {
   "cell_type": "code",
   "execution_count": 9,
   "metadata": {},
   "outputs": [
    {
     "data": {
      "text/html": [
       "<div>\n",
       "<style scoped>\n",
       "    .dataframe tbody tr th:only-of-type {\n",
       "        vertical-align: middle;\n",
       "    }\n",
       "\n",
       "    .dataframe tbody tr th {\n",
       "        vertical-align: top;\n",
       "    }\n",
       "\n",
       "    .dataframe thead th {\n",
       "        text-align: right;\n",
       "    }\n",
       "</style>\n",
       "<table border=\"1\" class=\"dataframe\">\n",
       "  <thead>\n",
       "    <tr style=\"text-align: right;\">\n",
       "      <th></th>\n",
       "      <th>gene_symbol</th>\n",
       "      <th>pdb_id</th>\n",
       "      <th>chain</th>\n",
       "      <th>uniprot_id</th>\n",
       "      <th>assoc_gene</th>\n",
       "      <th>resolution</th>\n",
       "      <th>res_num</th>\n",
       "      <th>pdb_res</th>\n",
       "      <th>uniprot_res</th>\n",
       "      <th>network_score</th>\n",
       "      <th>outside_range</th>\n",
       "      <th>residue_match</th>\n",
       "      <th>GENE_NAME</th>\n",
       "      <th>AA_MUT_NUM</th>\n",
       "      <th>tier1_count</th>\n",
       "      <th>tier2_count</th>\n",
       "      <th>tier3_count</th>\n",
       "      <th>tierOther_count</th>\n",
       "    </tr>\n",
       "  </thead>\n",
       "  <tbody>\n",
       "    <tr>\n",
       "      <th>0</th>\n",
       "      <td>EGFR</td>\n",
       "      <td>3POZ</td>\n",
       "      <td>A</td>\n",
       "      <td>P00533</td>\n",
       "      <td>EGFR</td>\n",
       "      <td>1.5</td>\n",
       "      <td>701</td>\n",
       "      <td>Q</td>\n",
       "      <td>Q</td>\n",
       "      <td>-3.791355</td>\n",
       "      <td>False</td>\n",
       "      <td>True</td>\n",
       "      <td>EGFR</td>\n",
       "      <td>701.0</td>\n",
       "      <td>0.0</td>\n",
       "      <td>0.0</td>\n",
       "      <td>0.0</td>\n",
       "      <td>1.0</td>\n",
       "    </tr>\n",
       "    <tr>\n",
       "      <th>1</th>\n",
       "      <td>EGFR</td>\n",
       "      <td>3POZ</td>\n",
       "      <td>A</td>\n",
       "      <td>P00533</td>\n",
       "      <td>EGFR</td>\n",
       "      <td>1.5</td>\n",
       "      <td>702</td>\n",
       "      <td>A</td>\n",
       "      <td>A</td>\n",
       "      <td>-2.634055</td>\n",
       "      <td>False</td>\n",
       "      <td>True</td>\n",
       "      <td>EGFR</td>\n",
       "      <td>702.0</td>\n",
       "      <td>0.0</td>\n",
       "      <td>0.0</td>\n",
       "      <td>0.0</td>\n",
       "      <td>4.0</td>\n",
       "    </tr>\n",
       "    <tr>\n",
       "      <th>2</th>\n",
       "      <td>EGFR</td>\n",
       "      <td>3POZ</td>\n",
       "      <td>A</td>\n",
       "      <td>P00533</td>\n",
       "      <td>EGFR</td>\n",
       "      <td>1.5</td>\n",
       "      <td>703</td>\n",
       "      <td>L</td>\n",
       "      <td>L</td>\n",
       "      <td>-1.231055</td>\n",
       "      <td>False</td>\n",
       "      <td>True</td>\n",
       "      <td>EGFR</td>\n",
       "      <td>703.0</td>\n",
       "      <td>0.0</td>\n",
       "      <td>0.0</td>\n",
       "      <td>0.0</td>\n",
       "      <td>3.0</td>\n",
       "    </tr>\n",
       "    <tr>\n",
       "      <th>3</th>\n",
       "      <td>EGFR</td>\n",
       "      <td>3POZ</td>\n",
       "      <td>A</td>\n",
       "      <td>P00533</td>\n",
       "      <td>EGFR</td>\n",
       "      <td>1.5</td>\n",
       "      <td>704</td>\n",
       "      <td>L</td>\n",
       "      <td>L</td>\n",
       "      <td>0.452193</td>\n",
       "      <td>False</td>\n",
       "      <td>True</td>\n",
       "      <td>EGFR</td>\n",
       "      <td>704.0</td>\n",
       "      <td>0.0</td>\n",
       "      <td>0.0</td>\n",
       "      <td>0.0</td>\n",
       "      <td>1.0</td>\n",
       "    </tr>\n",
       "    <tr>\n",
       "      <th>4</th>\n",
       "      <td>EGFR</td>\n",
       "      <td>3POZ</td>\n",
       "      <td>A</td>\n",
       "      <td>P00533</td>\n",
       "      <td>EGFR</td>\n",
       "      <td>1.5</td>\n",
       "      <td>705</td>\n",
       "      <td>R</td>\n",
       "      <td>R</td>\n",
       "      <td>-1.086163</td>\n",
       "      <td>False</td>\n",
       "      <td>True</td>\n",
       "      <td>EGFR</td>\n",
       "      <td>705.0</td>\n",
       "      <td>0.0</td>\n",
       "      <td>0.0</td>\n",
       "      <td>0.0</td>\n",
       "      <td>1.0</td>\n",
       "    </tr>\n",
       "    <tr>\n",
       "      <th>...</th>\n",
       "      <td>...</td>\n",
       "      <td>...</td>\n",
       "      <td>...</td>\n",
       "      <td>...</td>\n",
       "      <td>...</td>\n",
       "      <td>...</td>\n",
       "      <td>...</td>\n",
       "      <td>...</td>\n",
       "      <td>...</td>\n",
       "      <td>...</td>\n",
       "      <td>...</td>\n",
       "      <td>...</td>\n",
       "      <td>...</td>\n",
       "      <td>...</td>\n",
       "      <td>...</td>\n",
       "      <td>...</td>\n",
       "      <td>...</td>\n",
       "      <td>...</td>\n",
       "    </tr>\n",
       "    <tr>\n",
       "      <th>52394</th>\n",
       "      <td>TP53</td>\n",
       "      <td>8E7A</td>\n",
       "      <td>A</td>\n",
       "      <td>P04637</td>\n",
       "      <td>TP53</td>\n",
       "      <td>1.3</td>\n",
       "      <td>287</td>\n",
       "      <td>E</td>\n",
       "      <td>E</td>\n",
       "      <td>-1.837237</td>\n",
       "      <td>False</td>\n",
       "      <td>True</td>\n",
       "      <td>TP53</td>\n",
       "      <td>287.0</td>\n",
       "      <td>0.0</td>\n",
       "      <td>0.0</td>\n",
       "      <td>4.0</td>\n",
       "      <td>9.0</td>\n",
       "    </tr>\n",
       "    <tr>\n",
       "      <th>52395</th>\n",
       "      <td>TP53</td>\n",
       "      <td>8E7A</td>\n",
       "      <td>A</td>\n",
       "      <td>P04637</td>\n",
       "      <td>TP53</td>\n",
       "      <td>1.3</td>\n",
       "      <td>288</td>\n",
       "      <td>N</td>\n",
       "      <td>N</td>\n",
       "      <td>-1.837237</td>\n",
       "      <td>False</td>\n",
       "      <td>True</td>\n",
       "      <td>TP53</td>\n",
       "      <td>288.0</td>\n",
       "      <td>0.0</td>\n",
       "      <td>0.0</td>\n",
       "      <td>12.0</td>\n",
       "      <td>5.0</td>\n",
       "    </tr>\n",
       "    <tr>\n",
       "      <th>52396</th>\n",
       "      <td>TP53</td>\n",
       "      <td>8E7A</td>\n",
       "      <td>A</td>\n",
       "      <td>P04637</td>\n",
       "      <td>TP53</td>\n",
       "      <td>1.3</td>\n",
       "      <td>289</td>\n",
       "      <td>L</td>\n",
       "      <td>L</td>\n",
       "      <td>-1.196778</td>\n",
       "      <td>False</td>\n",
       "      <td>True</td>\n",
       "      <td>TP53</td>\n",
       "      <td>289.0</td>\n",
       "      <td>0.0</td>\n",
       "      <td>0.0</td>\n",
       "      <td>3.0</td>\n",
       "      <td>5.0</td>\n",
       "    </tr>\n",
       "    <tr>\n",
       "      <th>52397</th>\n",
       "      <td>TP53</td>\n",
       "      <td>8E7A</td>\n",
       "      <td>A</td>\n",
       "      <td>P04637</td>\n",
       "      <td>TP53</td>\n",
       "      <td>1.3</td>\n",
       "      <td>290</td>\n",
       "      <td>R</td>\n",
       "      <td>R</td>\n",
       "      <td>-1.624046</td>\n",
       "      <td>False</td>\n",
       "      <td>True</td>\n",
       "      <td>TP53</td>\n",
       "      <td>290.0</td>\n",
       "      <td>0.0</td>\n",
       "      <td>0.0</td>\n",
       "      <td>10.0</td>\n",
       "      <td>6.0</td>\n",
       "    </tr>\n",
       "    <tr>\n",
       "      <th>52398</th>\n",
       "      <td>TP53</td>\n",
       "      <td>8E7A</td>\n",
       "      <td>A</td>\n",
       "      <td>P04637</td>\n",
       "      <td>TP53</td>\n",
       "      <td>1.3</td>\n",
       "      <td>291</td>\n",
       "      <td>K</td>\n",
       "      <td>K</td>\n",
       "      <td>-1.816740</td>\n",
       "      <td>False</td>\n",
       "      <td>True</td>\n",
       "      <td>TP53</td>\n",
       "      <td>291.0</td>\n",
       "      <td>0.0</td>\n",
       "      <td>0.0</td>\n",
       "      <td>7.0</td>\n",
       "      <td>7.0</td>\n",
       "    </tr>\n",
       "  </tbody>\n",
       "</table>\n",
       "<p>52399 rows × 18 columns</p>\n",
       "</div>"
      ],
      "text/plain": [
       "      gene_symbol pdb_id chain uniprot_id assoc_gene  resolution  res_num  \\\n",
       "0            EGFR   3POZ     A     P00533       EGFR         1.5      701   \n",
       "1            EGFR   3POZ     A     P00533       EGFR         1.5      702   \n",
       "2            EGFR   3POZ     A     P00533       EGFR         1.5      703   \n",
       "3            EGFR   3POZ     A     P00533       EGFR         1.5      704   \n",
       "4            EGFR   3POZ     A     P00533       EGFR         1.5      705   \n",
       "...           ...    ...   ...        ...        ...         ...      ...   \n",
       "52394        TP53   8E7A     A     P04637       TP53         1.3      287   \n",
       "52395        TP53   8E7A     A     P04637       TP53         1.3      288   \n",
       "52396        TP53   8E7A     A     P04637       TP53         1.3      289   \n",
       "52397        TP53   8E7A     A     P04637       TP53         1.3      290   \n",
       "52398        TP53   8E7A     A     P04637       TP53         1.3      291   \n",
       "\n",
       "      pdb_res uniprot_res  network_score  outside_range  residue_match  \\\n",
       "0           Q           Q      -3.791355          False           True   \n",
       "1           A           A      -2.634055          False           True   \n",
       "2           L           L      -1.231055          False           True   \n",
       "3           L           L       0.452193          False           True   \n",
       "4           R           R      -1.086163          False           True   \n",
       "...       ...         ...            ...            ...            ...   \n",
       "52394       E           E      -1.837237          False           True   \n",
       "52395       N           N      -1.837237          False           True   \n",
       "52396       L           L      -1.196778          False           True   \n",
       "52397       R           R      -1.624046          False           True   \n",
       "52398       K           K      -1.816740          False           True   \n",
       "\n",
       "      GENE_NAME  AA_MUT_NUM  tier1_count  tier2_count  tier3_count  \\\n",
       "0          EGFR       701.0          0.0          0.0          0.0   \n",
       "1          EGFR       702.0          0.0          0.0          0.0   \n",
       "2          EGFR       703.0          0.0          0.0          0.0   \n",
       "3          EGFR       704.0          0.0          0.0          0.0   \n",
       "4          EGFR       705.0          0.0          0.0          0.0   \n",
       "...         ...         ...          ...          ...          ...   \n",
       "52394      TP53       287.0          0.0          0.0          4.0   \n",
       "52395      TP53       288.0          0.0          0.0         12.0   \n",
       "52396      TP53       289.0          0.0          0.0          3.0   \n",
       "52397      TP53       290.0          0.0          0.0         10.0   \n",
       "52398      TP53       291.0          0.0          0.0          7.0   \n",
       "\n",
       "       tierOther_count  \n",
       "0                  1.0  \n",
       "1                  4.0  \n",
       "2                  3.0  \n",
       "3                  1.0  \n",
       "4                  1.0  \n",
       "...                ...  \n",
       "52394              9.0  \n",
       "52395              5.0  \n",
       "52396              5.0  \n",
       "52397              6.0  \n",
       "52398              7.0  \n",
       "\n",
       "[52399 rows x 18 columns]"
      ]
     },
     "execution_count": 9,
     "metadata": {},
     "output_type": "execute_result"
    }
   ],
   "source": [
    "# merge the two dataframes\n",
    "tmp = pd.merge(residue_data, tmp, how='left', left_on=['assoc_gene', 'res_num'], right_on=['GENE_NAME', 'AA_MUT_NUM'])\n",
    "tmp"
   ]
  },
  {
   "cell_type": "code",
   "execution_count": 10,
   "metadata": {},
   "outputs": [
    {
     "data": {
      "text/html": [
       "<div>\n",
       "<style scoped>\n",
       "    .dataframe tbody tr th:only-of-type {\n",
       "        vertical-align: middle;\n",
       "    }\n",
       "\n",
       "    .dataframe tbody tr th {\n",
       "        vertical-align: top;\n",
       "    }\n",
       "\n",
       "    .dataframe thead th {\n",
       "        text-align: right;\n",
       "    }\n",
       "</style>\n",
       "<table border=\"1\" class=\"dataframe\">\n",
       "  <thead>\n",
       "    <tr style=\"text-align: right;\">\n",
       "      <th></th>\n",
       "      <th>gene_symbol</th>\n",
       "      <th>pdb_id</th>\n",
       "      <th>chain</th>\n",
       "      <th>uniprot_id</th>\n",
       "      <th>assoc_gene</th>\n",
       "      <th>resolution</th>\n",
       "      <th>res_num</th>\n",
       "      <th>pdb_res</th>\n",
       "      <th>uniprot_res</th>\n",
       "      <th>network_score</th>\n",
       "      <th>outside_range</th>\n",
       "      <th>residue_match</th>\n",
       "      <th>GENE_NAME</th>\n",
       "      <th>AA_MUT_NUM</th>\n",
       "      <th>tier1_count</th>\n",
       "      <th>tier2_count</th>\n",
       "      <th>tier3_count</th>\n",
       "      <th>tierOther_count</th>\n",
       "    </tr>\n",
       "  </thead>\n",
       "  <tbody>\n",
       "    <tr>\n",
       "      <th>25998</th>\n",
       "      <td>TP53</td>\n",
       "      <td>1C26</td>\n",
       "      <td>A</td>\n",
       "      <td>P04637</td>\n",
       "      <td>TP53</td>\n",
       "      <td>1.7</td>\n",
       "      <td>325</td>\n",
       "      <td>G</td>\n",
       "      <td>G</td>\n",
       "      <td>-0.148266</td>\n",
       "      <td>False</td>\n",
       "      <td>True</td>\n",
       "      <td>TP53</td>\n",
       "      <td>325.0</td>\n",
       "      <td>1.0</td>\n",
       "      <td>0.0</td>\n",
       "      <td>2.0</td>\n",
       "      <td>2.0</td>\n",
       "    </tr>\n",
       "    <tr>\n",
       "      <th>25999</th>\n",
       "      <td>TP53</td>\n",
       "      <td>1C26</td>\n",
       "      <td>A</td>\n",
       "      <td>P04637</td>\n",
       "      <td>TP53</td>\n",
       "      <td>1.7</td>\n",
       "      <td>326</td>\n",
       "      <td>E</td>\n",
       "      <td>E</td>\n",
       "      <td>-0.982754</td>\n",
       "      <td>False</td>\n",
       "      <td>True</td>\n",
       "      <td>TP53</td>\n",
       "      <td>326.0</td>\n",
       "      <td>1.0</td>\n",
       "      <td>0.0</td>\n",
       "      <td>4.0</td>\n",
       "      <td>2.0</td>\n",
       "    </tr>\n",
       "    <tr>\n",
       "      <th>26000</th>\n",
       "      <td>TP53</td>\n",
       "      <td>1C26</td>\n",
       "      <td>A</td>\n",
       "      <td>P04637</td>\n",
       "      <td>TP53</td>\n",
       "      <td>1.7</td>\n",
       "      <td>327</td>\n",
       "      <td>Y</td>\n",
       "      <td>Y</td>\n",
       "      <td>0.164008</td>\n",
       "      <td>False</td>\n",
       "      <td>True</td>\n",
       "      <td>TP53</td>\n",
       "      <td>327.0</td>\n",
       "      <td>0.0</td>\n",
       "      <td>0.0</td>\n",
       "      <td>6.0</td>\n",
       "      <td>2.0</td>\n",
       "    </tr>\n",
       "    <tr>\n",
       "      <th>26001</th>\n",
       "      <td>TP53</td>\n",
       "      <td>1C26</td>\n",
       "      <td>A</td>\n",
       "      <td>P04637</td>\n",
       "      <td>TP53</td>\n",
       "      <td>1.7</td>\n",
       "      <td>328</td>\n",
       "      <td>F</td>\n",
       "      <td>F</td>\n",
       "      <td>-0.577961</td>\n",
       "      <td>False</td>\n",
       "      <td>True</td>\n",
       "      <td>TP53</td>\n",
       "      <td>328.0</td>\n",
       "      <td>0.0</td>\n",
       "      <td>0.0</td>\n",
       "      <td>4.0</td>\n",
       "      <td>3.0</td>\n",
       "    </tr>\n",
       "    <tr>\n",
       "      <th>26002</th>\n",
       "      <td>TP53</td>\n",
       "      <td>1C26</td>\n",
       "      <td>A</td>\n",
       "      <td>P04637</td>\n",
       "      <td>TP53</td>\n",
       "      <td>1.7</td>\n",
       "      <td>329</td>\n",
       "      <td>T</td>\n",
       "      <td>T</td>\n",
       "      <td>-0.808752</td>\n",
       "      <td>False</td>\n",
       "      <td>True</td>\n",
       "      <td>TP53</td>\n",
       "      <td>329.0</td>\n",
       "      <td>0.0</td>\n",
       "      <td>0.0</td>\n",
       "      <td>2.0</td>\n",
       "      <td>4.0</td>\n",
       "    </tr>\n",
       "    <tr>\n",
       "      <th>...</th>\n",
       "      <td>...</td>\n",
       "      <td>...</td>\n",
       "      <td>...</td>\n",
       "      <td>...</td>\n",
       "      <td>...</td>\n",
       "      <td>...</td>\n",
       "      <td>...</td>\n",
       "      <td>...</td>\n",
       "      <td>...</td>\n",
       "      <td>...</td>\n",
       "      <td>...</td>\n",
       "      <td>...</td>\n",
       "      <td>...</td>\n",
       "      <td>...</td>\n",
       "      <td>...</td>\n",
       "      <td>...</td>\n",
       "      <td>...</td>\n",
       "      <td>...</td>\n",
       "    </tr>\n",
       "    <tr>\n",
       "      <th>52394</th>\n",
       "      <td>TP53</td>\n",
       "      <td>8E7A</td>\n",
       "      <td>A</td>\n",
       "      <td>P04637</td>\n",
       "      <td>TP53</td>\n",
       "      <td>1.3</td>\n",
       "      <td>287</td>\n",
       "      <td>E</td>\n",
       "      <td>E</td>\n",
       "      <td>-1.837237</td>\n",
       "      <td>False</td>\n",
       "      <td>True</td>\n",
       "      <td>TP53</td>\n",
       "      <td>287.0</td>\n",
       "      <td>0.0</td>\n",
       "      <td>0.0</td>\n",
       "      <td>4.0</td>\n",
       "      <td>9.0</td>\n",
       "    </tr>\n",
       "    <tr>\n",
       "      <th>52395</th>\n",
       "      <td>TP53</td>\n",
       "      <td>8E7A</td>\n",
       "      <td>A</td>\n",
       "      <td>P04637</td>\n",
       "      <td>TP53</td>\n",
       "      <td>1.3</td>\n",
       "      <td>288</td>\n",
       "      <td>N</td>\n",
       "      <td>N</td>\n",
       "      <td>-1.837237</td>\n",
       "      <td>False</td>\n",
       "      <td>True</td>\n",
       "      <td>TP53</td>\n",
       "      <td>288.0</td>\n",
       "      <td>0.0</td>\n",
       "      <td>0.0</td>\n",
       "      <td>12.0</td>\n",
       "      <td>5.0</td>\n",
       "    </tr>\n",
       "    <tr>\n",
       "      <th>52396</th>\n",
       "      <td>TP53</td>\n",
       "      <td>8E7A</td>\n",
       "      <td>A</td>\n",
       "      <td>P04637</td>\n",
       "      <td>TP53</td>\n",
       "      <td>1.3</td>\n",
       "      <td>289</td>\n",
       "      <td>L</td>\n",
       "      <td>L</td>\n",
       "      <td>-1.196778</td>\n",
       "      <td>False</td>\n",
       "      <td>True</td>\n",
       "      <td>TP53</td>\n",
       "      <td>289.0</td>\n",
       "      <td>0.0</td>\n",
       "      <td>0.0</td>\n",
       "      <td>3.0</td>\n",
       "      <td>5.0</td>\n",
       "    </tr>\n",
       "    <tr>\n",
       "      <th>52397</th>\n",
       "      <td>TP53</td>\n",
       "      <td>8E7A</td>\n",
       "      <td>A</td>\n",
       "      <td>P04637</td>\n",
       "      <td>TP53</td>\n",
       "      <td>1.3</td>\n",
       "      <td>290</td>\n",
       "      <td>R</td>\n",
       "      <td>R</td>\n",
       "      <td>-1.624046</td>\n",
       "      <td>False</td>\n",
       "      <td>True</td>\n",
       "      <td>TP53</td>\n",
       "      <td>290.0</td>\n",
       "      <td>0.0</td>\n",
       "      <td>0.0</td>\n",
       "      <td>10.0</td>\n",
       "      <td>6.0</td>\n",
       "    </tr>\n",
       "    <tr>\n",
       "      <th>52398</th>\n",
       "      <td>TP53</td>\n",
       "      <td>8E7A</td>\n",
       "      <td>A</td>\n",
       "      <td>P04637</td>\n",
       "      <td>TP53</td>\n",
       "      <td>1.3</td>\n",
       "      <td>291</td>\n",
       "      <td>K</td>\n",
       "      <td>K</td>\n",
       "      <td>-1.816740</td>\n",
       "      <td>False</td>\n",
       "      <td>True</td>\n",
       "      <td>TP53</td>\n",
       "      <td>291.0</td>\n",
       "      <td>0.0</td>\n",
       "      <td>0.0</td>\n",
       "      <td>7.0</td>\n",
       "      <td>7.0</td>\n",
       "    </tr>\n",
       "  </tbody>\n",
       "</table>\n",
       "<p>25795 rows × 18 columns</p>\n",
       "</div>"
      ],
      "text/plain": [
       "      gene_symbol pdb_id chain uniprot_id assoc_gene  resolution  res_num  \\\n",
       "25998        TP53   1C26     A     P04637       TP53         1.7      325   \n",
       "25999        TP53   1C26     A     P04637       TP53         1.7      326   \n",
       "26000        TP53   1C26     A     P04637       TP53         1.7      327   \n",
       "26001        TP53   1C26     A     P04637       TP53         1.7      328   \n",
       "26002        TP53   1C26     A     P04637       TP53         1.7      329   \n",
       "...           ...    ...   ...        ...        ...         ...      ...   \n",
       "52394        TP53   8E7A     A     P04637       TP53         1.3      287   \n",
       "52395        TP53   8E7A     A     P04637       TP53         1.3      288   \n",
       "52396        TP53   8E7A     A     P04637       TP53         1.3      289   \n",
       "52397        TP53   8E7A     A     P04637       TP53         1.3      290   \n",
       "52398        TP53   8E7A     A     P04637       TP53         1.3      291   \n",
       "\n",
       "      pdb_res uniprot_res  network_score  outside_range  residue_match  \\\n",
       "25998       G           G      -0.148266          False           True   \n",
       "25999       E           E      -0.982754          False           True   \n",
       "26000       Y           Y       0.164008          False           True   \n",
       "26001       F           F      -0.577961          False           True   \n",
       "26002       T           T      -0.808752          False           True   \n",
       "...       ...         ...            ...            ...            ...   \n",
       "52394       E           E      -1.837237          False           True   \n",
       "52395       N           N      -1.837237          False           True   \n",
       "52396       L           L      -1.196778          False           True   \n",
       "52397       R           R      -1.624046          False           True   \n",
       "52398       K           K      -1.816740          False           True   \n",
       "\n",
       "      GENE_NAME  AA_MUT_NUM  tier1_count  tier2_count  tier3_count  \\\n",
       "25998      TP53       325.0          1.0          0.0          2.0   \n",
       "25999      TP53       326.0          1.0          0.0          4.0   \n",
       "26000      TP53       327.0          0.0          0.0          6.0   \n",
       "26001      TP53       328.0          0.0          0.0          4.0   \n",
       "26002      TP53       329.0          0.0          0.0          2.0   \n",
       "...         ...         ...          ...          ...          ...   \n",
       "52394      TP53       287.0          0.0          0.0          4.0   \n",
       "52395      TP53       288.0          0.0          0.0         12.0   \n",
       "52396      TP53       289.0          0.0          0.0          3.0   \n",
       "52397      TP53       290.0          0.0          0.0         10.0   \n",
       "52398      TP53       291.0          0.0          0.0          7.0   \n",
       "\n",
       "       tierOther_count  \n",
       "25998              2.0  \n",
       "25999              2.0  \n",
       "26000              2.0  \n",
       "26001              3.0  \n",
       "26002              4.0  \n",
       "...                ...  \n",
       "52394              9.0  \n",
       "52395              5.0  \n",
       "52396              5.0  \n",
       "52397              6.0  \n",
       "52398              7.0  \n",
       "\n",
       "[25795 rows x 18 columns]"
      ]
     },
     "execution_count": 10,
     "metadata": {},
     "output_type": "execute_result"
    }
   ],
   "source": [
    "tmp2 = tmp[tmp['GENE_NAME']==\"TP53\"]\n",
    "tmp2"
   ]
  },
  {
   "cell_type": "code",
   "execution_count": null,
   "metadata": {},
   "outputs": [],
   "source": []
  },
  {
   "cell_type": "code",
   "execution_count": null,
   "metadata": {},
   "outputs": [],
   "source": []
  },
  {
   "cell_type": "code",
   "execution_count": null,
   "metadata": {},
   "outputs": [],
   "source": []
  },
  {
   "cell_type": "code",
   "execution_count": 18,
   "metadata": {},
   "outputs": [
    {
     "data": {
      "text/plain": [
       "array(['1C26', '1KZY', '1TSR', '1TUP', '1UOL', '1YC5', '1YCS', '2AC0',\n",
       "       '2ADY', '2AHI', '2ATA', '2BIM', '2BIN', '2BIO', '2BIP', '2BIQ',\n",
       "       '2F1X', '2J1W', '2J1X', '2J1Y', '2J20', '2J21', '2OCJ', '2PCX',\n",
       "       '2VUK', '2WGX', '2X0U', '2X0V', '2X0W', '2XWR', '2YBG', '3D05',\n",
       "       '3D06', '3D07', '3D08', '3D09', '3IGK', '3IGL', '3KMD', '3KZ8',\n",
       "       '3Q01', '3Q05', '3TS8', '3ZME', '4AGL', '4AGM', '4AGN', '4AGO',\n",
       "       '4AGP', '4AGQ', '4HJE', '4IBQ', '4IBS', '4IBT', '4IBU', '4IBV',\n",
       "       '4IBW', '4IBY', '4IBZ', '4IJT', '4KVP', '4LO9', '4LOE', '4LOF',\n",
       "       '4MZI', '4MZR', '4QO1', '4RP6', '4RP7', '5A7B', '5AB9', '5ABA',\n",
       "       '5AOI', '5AOJ', '5AOK', '5AOL', '5AOM', '5BUA', '5ECG', '5G4M',\n",
       "       '5G4N', '5G4O', '5LAP', '5LGY', '5MCT', '5MCW', '5MF7', '5MG7',\n",
       "       '5O1A', '5O1B', '5O1C', '5O1D', '5O1E', '5O1F', '5O1G', '5O1H',\n",
       "       '5O1I', '6FF9', '6GGA', '6GGB', '6GGC', '6GGE', '6GGF', '6RL3',\n",
       "       '6SHZ', '7B4H', '7B4N', '8A92', '8E7A'], dtype=object)"
      ]
     },
     "execution_count": 18,
     "metadata": {},
     "output_type": "execute_result"
    }
   ],
   "source": [
    "tmp2['pdb_id'].unique()\n"
   ]
  },
  {
   "cell_type": "code",
   "execution_count": 19,
   "metadata": {},
   "outputs": [
    {
     "data": {
      "image/png": "[encoded data removed]",
      "text/plain": [
       "<Figure size 1000x800 with 2 Axes>"
      ]
     },
     "metadata": {},
     "output_type": "display_data"
    }
   ],
   "source": [
    "# Sort the DataFrame by res_num\n",
    "df_sorted = tmp2[tmp2['pdb_id']=='4IBQ'].sort_values(by='res_num')\n",
    "\n",
    "# Create stacked bar chart\n",
    "plt.figure(figsize=(10, 8))\n",
    "\n",
    "# Stacked bar chart\n",
    "plt.subplot(2, 1, 1)\n",
    "plt.bar(df_sorted['res_num'], df_sorted['tier1_count'], color='red', label='Tier 1', width=0.4)\n",
    "plt.bar(df_sorted['res_num'], df_sorted['tier2_count'], bottom=df_sorted['tier1_count'], color='orange', label='Tier 2', width=0.4)\n",
    "plt.bar(df_sorted['res_num'], df_sorted['tier3_count'], bottom=df_sorted['tier1_count'] + df_sorted['tier2_count'], color='yellow', label='Tier 3', width=0.4)\n",
    "plt.bar(df_sorted['res_num'], df_sorted['tierOther_count'], bottom=df_sorted['tier1_count'] + df_sorted['tier2_count'] + df_sorted['tier3_count'], color='grey', label='Tier Other', width=0.4)\n",
    "plt.xlabel('res_num')\n",
    "plt.ylabel('Count')\n",
    "plt.title('Stacked Bar Chart of Counts by Tier')\n",
    "plt.legend()\n",
    "\n",
    "# Bar plot of network score\n",
    "plt.subplot(2, 1, 2)\n",
    "plt.bar(df_sorted['res_num'], df_sorted['network_score'], color='blue')\n",
    "plt.xlabel('res_num')\n",
    "plt.ylabel('Network Score')\n",
    "plt.title('Bar Plot of Network Score')\n",
    "\n",
    "plt.tight_layout()\n",
    "plt.show()"
   ]
  },
  {
   "cell_type": "code",
   "execution_count": 25,
   "metadata": {},
   "outputs": [
    {
     "data": {
      "application/vnd.plotly.v1+json": {
       "config": {
        "plotlyServerURL": "https://plot.ly"
       },
       "data": [
        {
         "marker": {
          "color": "red"
         },
         "name": "Tier 1",
         "type": "bar",
         "x": [
          96,
          97,
          98,
          99,
          100,
          101,
          102,
          103,
          104,
          105,
          106,
          107,
          108,
          109,
          110,
          111,
          112,
          113,
          114,
          115,
          116,
          117,
          118,
          119,
          120,
          121,
          122,
          123,
          124,
          125,
          126,
          127,
          128,
          129,
          130,
          131,
          132,
          133,
          134,
          135,
          136,
          137,
          138,
          139,
          140,
          141,
          142,
          143,
          144,
          145,
          146,
          147,
          148,
          149,
          150,
          151,
          152,
          153,
          154,
          155,
          156,
          157,
          158,
          159,
          160,
          161,
          162,
          163,
          164,
          165,
          166,
          167,
          168,
          169,
          170,
          171,
          172,
          173,
          174,
          175,
          176,
          177,
          178,
          179,
          180,
          181,
          182,
          183,
          184,
          185,
          186,
          187,
          188,
          189,
          190,
          191,
          192,
          193,
          194,
          195,
          196,
          197,
          198,
          199,
          200,
          201,
          202,
          203,
          204,
          205,
          206,
          207,
          208,
          209,
          210,
          211,
          212,
          213,
          214,
          215,
          216,
          217,
          218,
          219,
          220,
          221,
          222,
          223,
          224,
          225,
          226,
          227,
          228,
          229,
          230,
          231,
          232,
          233,
          234,
          235,
          236,
          237,
          238,
          239,
          240,
          241,
          242,
          243,
          244,
          245,
          246,
          247,
          248,
          249,
          250,
          251,
          252,
          253,
          254,
          255,
          256,
          257,
          258,
          259,
          260,
          261,
          262,
          263,
          264,
          265,
          266,
          267,
          268,
          269,
          270,
          271,
          272,
          273,
          274,
          275,
          276,
          277,
          278,
          279,
          280,
          281,
          282,
          283,
          284,
          285,
          286,
          287,
          288
         ],
         "y": [
          0,
          0,
          0,
          0,
          1,
          0,
          0,
          1,
          1,
          0,
          0,
          2,
          0,
          0,
          0,
          0,
          0,
          0,
          1,
          0,
          0,
          0,
          0,
          0,
          1,
          0,
          0,
          0,
          1,
          0,
          0,
          0,
          0,
          0,
          0,
          0,
          0,
          0,
          0,
          0,
          0,
          0,
          0,
          1,
          0,
          0,
          0,
          0,
          1,
          0,
          2,
          0,
          0,
          0,
          0,
          0,
          0,
          0,
          0,
          0,
          0,
          0,
          0,
          0,
          0,
          0,
          0,
          0,
          1,
          1,
          1,
          1,
          0,
          0,
          0,
          1,
          0,
          0,
          0,
          3,
          0,
          0,
          0,
          0,
          1,
          0,
          0,
          1,
          0,
          0,
          0,
          0,
          0,
          0,
          0,
          0,
          1,
          0,
          0,
          0,
          1,
          0,
          1,
          1,
          0,
          0,
          0,
          0,
          1,
          2,
          0,
          0,
          0,
          0,
          0,
          0,
          0,
          1,
          0,
          0,
          0,
          0,
          0,
          0,
          1,
          1,
          0,
          0,
          0,
          0,
          0,
          0,
          0,
          0,
          0,
          0,
          0,
          0,
          1,
          0,
          0,
          0,
          0,
          0,
          0,
          0,
          0,
          0,
          0,
          0,
          0,
          0,
          4,
          0,
          0,
          0,
          0,
          0,
          0,
          0,
          0,
          0,
          1,
          0,
          0,
          0,
          0,
          0,
          0,
          0,
          1,
          0,
          0,
          0,
          0,
          1,
          0,
          6,
          0,
          1,
          0,
          1,
          0,
          0,
          0,
          0,
          0,
          0,
          0,
          0,
          1,
          0,
          0
         ]
        },
        {
         "marker": {
          "color": "orange"
         },
         "name": "Tier 2",
         "type": "bar",
         "x": [
          96,
          97,
          98,
          99,
          100,
          101,
          102,
          103,
          104,
          105,
          106,
          107,
          108,
          109,
          110,
          111,
          112,
          113,
          114,
          115,
          116,
          117,
          118,
          119,
          120,
          121,
          122,
          123,
          124,
          125,
          126,
          127,
          128,
          129,
          130,
          131,
          132,
          133,
          134,
          135,
          136,
          137,
          138,
          139,
          140,
          141,
          142,
          143,
          144,
          145,
          146,
          147,
          148,
          149,
          150,
          151,
          152,
          153,
          154,
          155,
          156,
          157,
          158,
          159,
          160,
          161,
          162,
          163,
          164,
          165,
          166,
          167,
          168,
          169,
          170,
          171,
          172,
          173,
          174,
          175,
          176,
          177,
          178,
          179,
          180,
          181,
          182,
          183,
          184,
          185,
          186,
          187,
          188,
          189,
          190,
          191,
          192,
          193,
          194,
          195,
          196,
          197,
          198,
          199,
          200,
          201,
          202,
          203,
          204,
          205,
          206,
          207,
          208,
          209,
          210,
          211,
          212,
          213,
          214,
          215,
          216,
          217,
          218,
          219,
          220,
          221,
          222,
          223,
          224,
          225,
          226,
          227,
          228,
          229,
          230,
          231,
          232,
          233,
          234,
          235,
          236,
          237,
          238,
          239,
          240,
          241,
          242,
          243,
          244,
          245,
          246,
          247,
          248,
          249,
          250,
          251,
          252,
          253,
          254,
          255,
          256,
          257,
          258,
          259,
          260,
          261,
          262,
          263,
          264,
          265,
          266,
          267,
          268,
          269,
          270,
          271,
          272,
          273,
          274,
          275,
          276,
          277,
          278,
          279,
          280,
          281,
          282,
          283,
          284,
          285,
          286,
          287,
          288
         ],
         "y": [
          0,
          0,
          0,
          0,
          0,
          0,
          0,
          0,
          0,
          1,
          0,
          0,
          0,
          0,
          1,
          0,
          0,
          0,
          0,
          0,
          0,
          0,
          0,
          0,
          0,
          0,
          0,
          0,
          0,
          0,
          1,
          0,
          0,
          0,
          0,
          0,
          0,
          0,
          0,
          0,
          0,
          0,
          0,
          0,
          0,
          2,
          0,
          0,
          0,
          0,
          0,
          0,
          0,
          0,
          0,
          0,
          0,
          0,
          0,
          1,
          0,
          1,
          1,
          2,
          0,
          0,
          0,
          2,
          0,
          0,
          0,
          0,
          0,
          0,
          0,
          0,
          0,
          1,
          0,
          1,
          2,
          0,
          0,
          2,
          0,
          0,
          0,
          0,
          0,
          0,
          0,
          0,
          0,
          0,
          0,
          0,
          0,
          3,
          1,
          1,
          0,
          0,
          0,
          0,
          0,
          0,
          0,
          0,
          0,
          1,
          0,
          0,
          0,
          0,
          0,
          0,
          0,
          0,
          1,
          0,
          1,
          0,
          0,
          0,
          1,
          0,
          0,
          0,
          0,
          0,
          0,
          0,
          0,
          0,
          0,
          0,
          0,
          0,
          1,
          0,
          1,
          1,
          2,
          1,
          0,
          2,
          1,
          0,
          1,
          4,
          0,
          0,
          1,
          2,
          1,
          0,
          0,
          0,
          0,
          0,
          0,
          1,
          0,
          0,
          0,
          0,
          0,
          0,
          0,
          0,
          2,
          0,
          0,
          0,
          1,
          1,
          1,
          0,
          0,
          1,
          0,
          0,
          2,
          0,
          2,
          1,
          1,
          0,
          0,
          1,
          1,
          0,
          0
         ]
        },
        {
         "marker": {
          "color": "yellow"
         },
         "name": "Tier 3",
         "type": "bar",
         "x": [
          96,
          97,
          98,
          99,
          100,
          101,
          102,
          103,
          104,
          105,
          106,
          107,
          108,
          109,
          110,
          111,
          112,
          113,
          114,
          115,
          116,
          117,
          118,
          119,
          120,
          121,
          122,
          123,
          124,
          125,
          126,
          127,
          128,
          129,
          130,
          131,
          132,
          133,
          134,
          135,
          136,
          137,
          138,
          139,
          140,
          141,
          142,
          143,
          144,
          145,
          146,
          147,
          148,
          149,
          150,
          151,
          152,
          153,
          154,
          155,
          156,
          157,
          158,
          159,
          160,
          161,
          162,
          163,
          164,
          165,
          166,
          167,
          168,
          169,
          170,
          171,
          172,
          173,
          174,
          175,
          176,
          177,
          178,
          179,
          180,
          181,
          182,
          183,
          184,
          185,
          186,
          187,
          188,
          189,
          190,
          191,
          192,
          193,
          194,
          195,
          196,
          197,
          198,
          199,
          200,
          201,
          202,
          203,
          204,
          205,
          206,
          207,
          208,
          209,
          210,
          211,
          212,
          213,
          214,
          215,
          216,
          217,
          218,
          219,
          220,
          221,
          222,
          223,
          224,
          225,
          226,
          227,
          228,
          229,
          230,
          231,
          232,
          233,
          234,
          235,
          236,
          237,
          238,
          239,
          240,
          241,
          242,
          243,
          244,
          245,
          246,
          247,
          248,
          249,
          250,
          251,
          252,
          253,
          254,
          255,
          256,
          257,
          258,
          259,
          260,
          261,
          262,
          263,
          264,
          265,
          266,
          267,
          268,
          269,
          270,
          271,
          272,
          273,
          274,
          275,
          276,
          277,
          278,
          279,
          280,
          281,
          282,
          283,
          284,
          285,
          286,
          287,
          288
         ],
         "y": [
          6,
          4,
          2,
          4,
          6,
          4,
          3,
          9,
          5,
          3,
          7,
          8,
          6,
          8,
          12,
          12,
          6,
          5,
          6,
          7,
          3,
          2,
          6,
          3,
          9,
          3,
          5,
          6,
          6,
          11,
          6,
          7,
          6,
          5,
          10,
          7,
          11,
          12,
          5,
          12,
          11,
          3,
          7,
          6,
          6,
          10,
          5,
          10,
          16,
          3,
          5,
          2,
          9,
          6,
          5,
          8,
          12,
          9,
          16,
          8,
          12,
          16,
          11,
          5,
          4,
          9,
          6,
          14,
          4,
          7,
          3,
          12,
          8,
          3,
          3,
          8,
          3,
          12,
          7,
          7,
          13,
          4,
          13,
          11,
          3,
          5,
          4,
          4,
          8,
          3,
          4,
          3,
          9,
          8,
          7,
          6,
          3,
          9,
          5,
          17,
          10,
          1,
          6,
          7,
          3,
          6,
          2,
          4,
          7,
          11,
          6,
          9,
          8,
          10,
          7,
          5,
          2,
          11,
          10,
          14,
          9,
          3,
          6,
          3,
          12,
          5,
          4,
          4,
          6,
          4,
          4,
          7,
          8,
          10,
          6,
          4,
          6,
          6,
          14,
          3,
          9,
          10,
          11,
          15,
          7,
          9,
          13,
          4,
          11,
          8,
          11,
          3,
          11,
          11,
          1,
          7,
          6,
          7,
          5,
          11,
          7,
          9,
          5,
          7,
          4,
          6,
          3,
          6,
          5,
          6,
          5,
          5,
          9,
          7,
          9,
          6,
          8,
          11,
          9,
          11,
          8,
          6,
          9,
          9,
          12,
          14,
          8,
          11,
          8,
          8,
          8,
          4,
          12
         ]
        },
        {
         "marker": {
          "color": "grey"
         },
         "name": "Tier Other",
         "type": "bar",
         "x": [
          96,
          97,
          98,
          99,
          100,
          101,
          102,
          103,
          104,
          105,
          106,
          107,
          108,
          109,
          110,
          111,
          112,
          113,
          114,
          115,
          116,
          117,
          118,
          119,
          120,
          121,
          122,
          123,
          124,
          125,
          126,
          127,
          128,
          129,
          130,
          131,
          132,
          133,
          134,
          135,
          136,
          137,
          138,
          139,
          140,
          141,
          142,
          143,
          144,
          145,
          146,
          147,
          148,
          149,
          150,
          151,
          152,
          153,
          154,
          155,
          156,
          157,
          158,
          159,
          160,
          161,
          162,
          163,
          164,
          165,
          166,
          167,
          168,
          169,
          170,
          171,
          172,
          173,
          174,
          175,
          176,
          177,
          178,
          179,
          180,
          181,
          182,
          183,
          184,
          185,
          186,
          187,
          188,
          189,
          190,
          191,
          192,
          193,
          194,
          195,
          196,
          197,
          198,
          199,
          200,
          201,
          202,
          203,
          204,
          205,
          206,
          207,
          208,
          209,
          210,
          211,
          212,
          213,
          214,
          215,
          216,
          217,
          218,
          219,
          220,
          221,
          222,
          223,
          224,
          225,
          226,
          227,
          228,
          229,
          230,
          231,
          232,
          233,
          234,
          235,
          236,
          237,
          238,
          239,
          240,
          241,
          242,
          243,
          244,
          245,
          246,
          247,
          248,
          249,
          250,
          251,
          252,
          253,
          254,
          255,
          256,
          257,
          258,
          259,
          260,
          261,
          262,
          263,
          264,
          265,
          266,
          267,
          268,
          269,
          270,
          271,
          272,
          273,
          274,
          275,
          276,
          277,
          278,
          279,
          280,
          281,
          282,
          283,
          284,
          285,
          286,
          287,
          288
         ],
         "y": [
          5,
          4,
          5,
          2,
          3,
          2,
          3,
          2,
          2,
          4,
          3,
          5,
          5,
          5,
          6,
          4,
          5,
          9,
          1,
          1,
          3,
          3,
          4,
          6,
          6,
          3,
          1,
          1,
          6,
          4,
          4,
          5,
          6,
          5,
          7,
          7,
          2,
          8,
          5,
          3,
          7,
          7,
          6,
          7,
          5,
          4,
          10,
          6,
          6,
          8,
          6,
          7,
          9,
          6,
          5,
          7,
          8,
          10,
          8,
          7,
          8,
          8,
          6,
          6,
          8,
          7,
          7,
          3,
          7,
          7,
          8,
          8,
          8,
          5,
          7,
          8,
          8,
          5,
          7,
          2,
          5,
          10,
          6,
          3,
          5,
          5,
          6,
          2,
          5,
          8,
          6,
          7,
          3,
          6,
          8,
          8,
          7,
          2,
          6,
          3,
          5,
          7,
          4,
          6,
          5,
          6,
          8,
          8,
          7,
          0,
          3,
          5,
          9,
          5,
          6,
          7,
          6,
          4,
          6,
          5,
          1,
          6,
          7,
          9,
          0,
          6,
          9,
          8,
          7,
          6,
          6,
          6,
          9,
          6,
          6,
          8,
          5,
          8,
          4,
          8,
          6,
          4,
          2,
          6,
          8,
          7,
          4,
          9,
          5,
          10,
          3,
          8,
          4,
          6,
          11,
          8,
          6,
          8,
          8,
          6,
          7,
          4,
          9,
          7,
          6,
          10,
          7,
          5,
          6,
          9,
          7,
          9,
          6,
          8,
          2,
          8,
          6,
          1,
          3,
          4,
          8,
          5,
          2,
          7,
          1,
          2,
          6,
          8,
          5,
          5,
          4,
          9,
          5
         ]
        }
       ],
       "layout": {
        "barmode": "stack",
        "template": {
         "data": {
          "bar": [
           {
            "error_x": {
             "color": "#2a3f5f"
            },
            "error_y": {
             "color": "#2a3f5f"
            },
            "marker": {
             "line": {
              "color": "#E5ECF6",
              "width": 0.5
             },
             "pattern": {
              "fillmode": "overlay",
              "size": 10,
              "solidity": 0.2
             }
            },
            "type": "bar"
           }
          ],
          "barpolar": [
           {
            "marker": {
             "line": {
              "color": "#E5ECF6",
              "width": 0.5
             },
             "pattern": {
              "fillmode": "overlay",
              "size": 10,
              "solidity": 0.2
             }
            },
            "type": "barpolar"
           }
          ],
          "carpet": [
           {
            "aaxis": {
             "endlinecolor": "#2a3f5f",
             "gridcolor": "white",
             "linecolor": "white",
             "minorgridcolor": "white",
             "startlinecolor": "#2a3f5f"
            },
            "baxis": {
             "endlinecolor": "#2a3f5f",
             "gridcolor": "white",
             "linecolor": "white",
             "minorgridcolor": "white",
             "startlinecolor": "#2a3f5f"
            },
            "type": "carpet"
           }
          ],
          "choropleth": [
           {
            "colorbar": {
             "outlinewidth": 0,
             "ticks": ""
            },
            "type": "choropleth"
           }
          ],
          "contour": [
           {
            "colorbar": {
             "outlinewidth": 0,
             "ticks": ""
            },
            "colorscale": [
             [
              0,
              "#0d0887"
             ],
             [
              0.1111111111111111,
              "#46039f"
             ],
             [
              0.2222222222222222,
              "#7201a8"
             ],
             [
              0.3333333333333333,
              "#9c179e"
             ],
             [
              0.4444444444444444,
              "#bd3786"
             ],
             [
              0.5555555555555556,
              "#d8576b"
             ],
             [
              0.6666666666666666,
              "#ed7953"
             ],
             [
              0.7777777777777778,
              "#fb9f3a"
             ],
             [
              0.8888888888888888,
              "#fdca26"
             ],
             [
              1,
              "#f0f921"
             ]
            ],
            "type": "contour"
           }
          ],
          "contourcarpet": [
           {
            "colorbar": {
             "outlinewidth": 0,
             "ticks": ""
            },
            "type": "contourcarpet"
           }
          ],
          "heatmap": [
           {
            "colorbar": {
             "outlinewidth": 0,
             "ticks": ""
            },
            "colorscale": [
             [
              0,
              "#0d0887"
             ],
             [
              0.1111111111111111,
              "#46039f"
             ],
             [
              0.2222222222222222,
              "#7201a8"
             ],
             [
              0.3333333333333333,
              "#9c179e"
             ],
             [
              0.4444444444444444,
              "#bd3786"
             ],
             [
              0.5555555555555556,
              "#d8576b"
             ],
             [
              0.6666666666666666,
              "#ed7953"
             ],
             [
              0.7777777777777778,
              "#fb9f3a"
             ],
             [
              0.8888888888888888,
              "#fdca26"
             ],
             [
              1,
              "#f0f921"
             ]
            ],
            "type": "heatmap"
           }
          ],
          "heatmapgl": [
           {
            "colorbar": {
             "outlinewidth": 0,
             "ticks": ""
            },
            "colorscale": [
             [
              0,
              "#0d0887"
             ],
             [
              0.1111111111111111,
              "#46039f"
             ],
             [
              0.2222222222222222,
              "#7201a8"
             ],
             [
              0.3333333333333333,
              "#9c179e"
             ],
             [
              0.4444444444444444,
              "#bd3786"
             ],
             [
              0.5555555555555556,
              "#d8576b"
             ],
             [
              0.6666666666666666,
              "#ed7953"
             ],
             [
              0.7777777777777778,
              "#fb9f3a"
             ],
             [
              0.8888888888888888,
              "#fdca26"
             ],
             [
              1,
              "#f0f921"
             ]
            ],
            "type": "heatmapgl"
           }
          ],
          "histogram": [
           {
            "marker": {
             "pattern": {
              "fillmode": "overlay",
              "size": 10,
              "solidity": 0.2
             }
            },
            "type": "histogram"
           }
          ],
          "histogram2d": [
           {
            "colorbar": {
             "outlinewidth": 0,
             "ticks": ""
            },
            "colorscale": [
             [
              0,
              "#0d0887"
             ],
             [
              0.1111111111111111,
              "#46039f"
             ],
             [
              0.2222222222222222,
              "#7201a8"
             ],
             [
              0.3333333333333333,
              "#9c179e"
             ],
             [
              0.4444444444444444,
              "#bd3786"
             ],
             [
              0.5555555555555556,
              "#d8576b"
             ],
             [
              0.6666666666666666,
              "#ed7953"
             ],
             [
              0.7777777777777778,
              "#fb9f3a"
             ],
             [
              0.8888888888888888,
              "#fdca26"
             ],
             [
              1,
              "#f0f921"
             ]
            ],
            "type": "histogram2d"
           }
          ],
          "histogram2dcontour": [
           {
            "colorbar": {
             "outlinewidth": 0,
             "ticks": ""
            },
            "colorscale": [
             [
              0,
              "#0d0887"
             ],
             [
              0.1111111111111111,
              "#46039f"
             ],
             [
              0.2222222222222222,
              "#7201a8"
             ],
             [
              0.3333333333333333,
              "#9c179e"
             ],
             [
              0.4444444444444444,
              "#bd3786"
             ],
             [
              0.5555555555555556,
              "#d8576b"
             ],
             [
              0.6666666666666666,
              "#ed7953"
             ],
             [
              0.7777777777777778,
              "#fb9f3a"
             ],
             [
              0.8888888888888888,
              "#fdca26"
             ],
             [
              1,
              "#f0f921"
             ]
            ],
            "type": "histogram2dcontour"
           }
          ],
          "mesh3d": [
           {
            "colorbar": {
             "outlinewidth": 0,
             "ticks": ""
            },
            "type": "mesh3d"
           }
          ],
          "parcoords": [
           {
            "line": {
             "colorbar": {
              "outlinewidth": 0,
              "ticks": ""
             }
            },
            "type": "parcoords"
           }
          ],
          "pie": [
           {
            "automargin": true,
            "type": "pie"
           }
          ],
          "scatter": [
           {
            "fillpattern": {
             "fillmode": "overlay",
             "size": 10,
             "solidity": 0.2
            },
            "type": "scatter"
           }
          ],
          "scatter3d": [
           {
            "line": {
             "colorbar": {
              "outlinewidth": 0,
              "ticks": ""
             }
            },
            "marker": {
             "colorbar": {
              "outlinewidth": 0,
              "ticks": ""
             }
            },
            "type": "scatter3d"
           }
          ],
          "scattercarpet": [
           {
            "marker": {
             "colorbar": {
              "outlinewidth": 0,
              "ticks": ""
             }
            },
            "type": "scattercarpet"
           }
          ],
          "scattergeo": [
           {
            "marker": {
             "colorbar": {
              "outlinewidth": 0,
              "ticks": ""
             }
            },
            "type": "scattergeo"
           }
          ],
          "scattergl": [
           {
            "marker": {
             "colorbar": {
              "outlinewidth": 0,
              "ticks": ""
             }
            },
            "type": "scattergl"
           }
          ],
          "scattermapbox": [
           {
            "marker": {
             "colorbar": {
              "outlinewidth": 0,
              "ticks": ""
             }
            },
            "type": "scattermapbox"
           }
          ],
          "scatterpolar": [
           {
            "marker": {
             "colorbar": {
              "outlinewidth": 0,
              "ticks": ""
             }
            },
            "type": "scatterpolar"
           }
          ],
          "scatterpolargl": [
           {
            "marker": {
             "colorbar": {
              "outlinewidth": 0,
              "ticks": ""
             }
            },
            "type": "scatterpolargl"
           }
          ],
          "scatterternary": [
           {
            "marker": {
             "colorbar": {
              "outlinewidth": 0,
              "ticks": ""
             }
            },
            "type": "scatterternary"
           }
          ],
          "surface": [
           {
            "colorbar": {
             "outlinewidth": 0,
             "ticks": ""
            },
            "colorscale": [
             [
              0,
              "#0d0887"
             ],
             [
              0.1111111111111111,
              "#46039f"
             ],
             [
              0.2222222222222222,
              "#7201a8"
             ],
             [
              0.3333333333333333,
              "#9c179e"
             ],
             [
              0.4444444444444444,
              "#bd3786"
             ],
             [
              0.5555555555555556,
              "#d8576b"
             ],
             [
              0.6666666666666666,
              "#ed7953"
             ],
             [
              0.7777777777777778,
              "#fb9f3a"
             ],
             [
              0.8888888888888888,
              "#fdca26"
             ],
             [
              1,
              "#f0f921"
             ]
            ],
            "type": "surface"
           }
          ],
          "table": [
           {
            "cells": {
             "fill": {
              "color": "#EBF0F8"
             },
             "line": {
              "color": "white"
             }
            },
            "header": {
             "fill": {
              "color": "#C8D4E3"
             },
             "line": {
              "color": "white"
             }
            },
            "type": "table"
           }
          ]
         },
         "layout": {
          "annotationdefaults": {
           "arrowcolor": "#2a3f5f",
           "arrowhead": 0,
           "arrowwidth": 1
          },
          "autotypenumbers": "strict",
          "coloraxis": {
           "colorbar": {
            "outlinewidth": 0,
            "ticks": ""
           }
          },
          "colorscale": {
           "diverging": [
            [
             0,
             "#8e0152"
            ],
            [
             0.1,
             "#c51b7d"
            ],
            [
             0.2,
             "#de77ae"
            ],
            [
             0.3,
             "#f1b6da"
            ],
            [
             0.4,
             "#fde0ef"
            ],
            [
             0.5,
             "#f7f7f7"
            ],
            [
             0.6,
             "#e6f5d0"
            ],
            [
             0.7,
             "#b8e186"
            ],
            [
             0.8,
             "#7fbc41"
            ],
            [
             0.9,
             "#4d9221"
            ],
            [
             1,
             "#276419"
            ]
           ],
           "sequential": [
            [
             0,
             "#0d0887"
            ],
            [
             0.1111111111111111,
             "#46039f"
            ],
            [
             0.2222222222222222,
             "#7201a8"
            ],
            [
             0.3333333333333333,
             "#9c179e"
            ],
            [
             0.4444444444444444,
             "#bd3786"
            ],
            [
             0.5555555555555556,
             "#d8576b"
            ],
            [
             0.6666666666666666,
             "#ed7953"
            ],
            [
             0.7777777777777778,
             "#fb9f3a"
            ],
            [
             0.8888888888888888,
             "#fdca26"
            ],
            [
             1,
             "#f0f921"
            ]
           ],
           "sequentialminus": [
            [
             0,
             "#0d0887"
            ],
            [
             0.1111111111111111,
             "#46039f"
            ],
            [
             0.2222222222222222,
             "#7201a8"
            ],
            [
             0.3333333333333333,
             "#9c179e"
            ],
            [
             0.4444444444444444,
             "#bd3786"
            ],
            [
             0.5555555555555556,
             "#d8576b"
            ],
            [
             0.6666666666666666,
             "#ed7953"
            ],
            [
             0.7777777777777778,
             "#fb9f3a"
            ],
            [
             0.8888888888888888,
             "#fdca26"
            ],
            [
             1,
             "#f0f921"
            ]
           ]
          },
          "colorway": [
           "#636efa",
           "#EF553B",
           "#00cc96",
           "#ab63fa",
           "#FFA15A",
           "#19d3f3",
           "#FF6692",
           "#B6E880",
           "#FF97FF",
           "#FECB52"
          ],
          "font": {
           "color": "#2a3f5f"
          },
          "geo": {
           "bgcolor": "white",
           "lakecolor": "white",
           "landcolor": "#E5ECF6",
           "showlakes": true,
           "showland": true,
           "subunitcolor": "white"
          },
          "hoverlabel": {
           "align": "left"
          },
          "hovermode": "closest",
          "mapbox": {
           "style": "light"
          },
          "paper_bgcolor": "white",
          "plot_bgcolor": "#E5ECF6",
          "polar": {
           "angularaxis": {
            "gridcolor": "white",
            "linecolor": "white",
            "ticks": ""
           },
           "bgcolor": "#E5ECF6",
           "radialaxis": {
            "gridcolor": "white",
            "linecolor": "white",
            "ticks": ""
           }
          },
          "scene": {
           "xaxis": {
            "backgroundcolor": "#E5ECF6",
            "gridcolor": "white",
            "gridwidth": 2,
            "linecolor": "white",
            "showbackground": true,
            "ticks": "",
            "zerolinecolor": "white"
           },
           "yaxis": {
            "backgroundcolor": "#E5ECF6",
            "gridcolor": "white",
            "gridwidth": 2,
            "linecolor": "white",
            "showbackground": true,
            "ticks": "",
            "zerolinecolor": "white"
           },
           "zaxis": {
            "backgroundcolor": "#E5ECF6",
            "gridcolor": "white",
            "gridwidth": 2,
            "linecolor": "white",
            "showbackground": true,
            "ticks": "",
            "zerolinecolor": "white"
           }
          },
          "shapedefaults": {
           "line": {
            "color": "#2a3f5f"
           }
          },
          "ternary": {
           "aaxis": {
            "gridcolor": "white",
            "linecolor": "white",
            "ticks": ""
           },
           "baxis": {
            "gridcolor": "white",
            "linecolor": "white",
            "ticks": ""
           },
           "bgcolor": "#E5ECF6",
           "caxis": {
            "gridcolor": "white",
            "linecolor": "white",
            "ticks": ""
           }
          },
          "title": {
           "x": 0.05
          },
          "xaxis": {
           "automargin": true,
           "gridcolor": "white",
           "linecolor": "white",
           "ticks": "",
           "title": {
            "standoff": 15
           },
           "zerolinecolor": "white",
           "zerolinewidth": 2
          },
          "yaxis": {
           "automargin": true,
           "gridcolor": "white",
           "linecolor": "white",
           "ticks": "",
           "title": {
            "standoff": 15
           },
           "zerolinecolor": "white",
           "zerolinewidth": 2
          }
         }
        },
        "title": {
         "text": "Stacked Bar Chart of Counts by Tier"
        },
        "xaxis": {
         "title": {
          "text": "res_num"
         }
        },
        "yaxis": {
         "title": {
          "text": "Count"
         }
        }
       }
      }
     },
     "metadata": {},
     "output_type": "display_data"
    },
    {
     "data": {
      "application/vnd.plotly.v1+json": {
       "config": {
        "plotlyServerURL": "https://plot.ly"
       },
       "data": [
        {
         "marker": {
          "color": "blue"
         },
         "name": "Network Score",
         "type": "bar",
         "x": [
          96,
          97,
          98,
          99,
          100,
          101,
          102,
          103,
          104,
          105,
          106,
          107,
          108,
          109,
          110,
          111,
          112,
          113,
          114,
          115,
          116,
          117,
          118,
          119,
          120,
          121,
          122,
          123,
          124,
          125,
          126,
          127,
          128,
          129,
          130,
          131,
          132,
          133,
          134,
          135,
          136,
          137,
          138,
          139,
          140,
          141,
          142,
          143,
          144,
          145,
          146,
          147,
          148,
          149,
          150,
          151,
          152,
          153,
          154,
          155,
          156,
          157,
          158,
          159,
          160,
          161,
          162,
          163,
          164,
          165,
          166,
          167,
          168,
          169,
          170,
          171,
          172,
          173,
          174,
          175,
          176,
          177,
          178,
          179,
          180,
          181,
          182,
          183,
          184,
          185,
          186,
          187,
          188,
          189,
          190,
          191,
          192,
          193,
          194,
          195,
          196,
          197,
          198,
          199,
          200,
          201,
          202,
          203,
          204,
          205,
          206,
          207,
          208,
          209,
          210,
          211,
          212,
          213,
          214,
          215,
          216,
          217,
          218,
          219,
          220,
          221,
          222,
          223,
          224,
          225,
          226,
          227,
          228,
          229,
          230,
          231,
          232,
          233,
          234,
          235,
          236,
          237,
          238,
          239,
          240,
          241,
          242,
          243,
          244,
          245,
          246,
          247,
          248,
          249,
          250,
          251,
          252,
          253,
          254,
          255,
          256,
          257,
          258,
          259,
          260,
          261,
          262,
          263,
          264,
          265,
          266,
          267,
          268,
          269,
          270,
          271,
          272,
          273,
          274,
          275,
          276,
          277,
          278,
          279,
          280,
          281,
          282,
          283,
          284,
          285,
          286,
          287,
          288
         ],
         "y": [
          -1.34730577,
          -0.097841288,
          1.164874796,
          -0.935168768,
          -0.505012065,
          -1.477807809,
          -0.54914381,
          0.454734386,
          0.708145443,
          1.420618654,
          0.402559467,
          2.226567359,
          3.559829378,
          2.686271162,
          4.269212727,
          2.567299272,
          2.864007315,
          2.492982978,
          0.378461531,
          0.409083574,
          -0.036317907,
          1.165713242,
          7.252624231,
          0.321229427,
          0.163817704,
          -0.672422728,
          0.961473502,
          0.279181099,
          3.445934521,
          4.910550387,
          1.453572047,
          1.008857268,
          1.531200811,
          0.094030435,
          0.602720536,
          0.235070051,
          1.666669531,
          5.583715641,
          1.812727089,
          1.83541275,
          1.313475363,
          3.005258214,
          0.038130929,
          0.125564385,
          0.56235756,
          4.225691506,
          1.158877754,
          3.273000116,
          1.944419523,
          3.114455896,
          2.151470708,
          2.281155536,
          3.269325204,
          1.285081401,
          1.637620376,
          4.500447668,
          4.377722239,
          0.119064481,
          1.714873556,
          3.751088877,
          6.457315893,
          6.315856844,
          5.826886864,
          2.552334451,
          1.270948829,
          1.858176034,
          1.04863249,
          1.395159469,
          -0.164711884,
          -0.750869684,
          -1.835973616,
          -1.718440365,
          -0.522359786,
          -0.633777346,
          -0.891252514,
          -0.167963162,
          0.603618285,
          3.958625726,
          0.501566023,
          6.860515292,
          8.669806639,
          1.482665213,
          6.328025767,
          3.978461768,
          0.878104206,
          0.482662937,
          0.997401549,
          0.074062207,
          2.044691935,
          0.450779183,
          0.867771637,
          0.216839545,
          0.90077271,
          1.584707425,
          1.740408685,
          1.365117514,
          0.671363638,
          2.420475295,
          3.573872318,
          1.92815138,
          2.454933268,
          3.748072037,
          0.53177145,
          1.67115873,
          1.691533927,
          -0.301170838,
          1.019359731,
          3.377704546,
          5.255840786,
          2.522844317,
          0.689347354,
          0.666649153,
          -0.688029122,
          -0.814671455,
          -1.290259817,
          0.001769889,
          -0.643163696,
          1.036373124,
          1.955801428,
          1.931270189,
          3.471164526,
          12.87026337,
          3.916236744,
          1.307478776,
          2.922488258,
          0.47029285,
          0.668827724,
          1.422734762,
          0.067809406,
          -0.070892376,
          0.108025979,
          0.600386207,
          1.059067729,
          1.177199888,
          1.140263586,
          0.731953551,
          2.530358794,
          -0.113064982,
          2.767598853,
          0.402096163,
          5.10696004,
          2.185655277,
          6.780504822,
          1.563227426,
          0.968372322,
          -0.047911026,
          1.667417074,
          -0.369646616,
          0.72026936,
          1.135970896,
          4.086568945,
          -0.600533502,
          -0.871480794,
          3.528925906,
          0.752252695,
          1.386263251,
          1.034925868,
          3.148790726,
          1.019606701,
          1.67994996,
          1.358708245,
          2.4486295,
          3.801646627,
          3.502387308,
          0.793157802,
          -0.099763752,
          0.467872277,
          0.03677339,
          0.148851022,
          8.598708609,
          1.626153522,
          -0.154399102,
          0.437193754,
          -0.318275558,
          3.341086821,
          1.2168137,
          2.303308104,
          0.612486422,
          9.894428097,
          1.43863196,
          4.605568669,
          0.435258115,
          6.256880784,
          1.364451371,
          0.247285705,
          0.269900332,
          6.26297022,
          3.941992269,
          0.051012604,
          0.74404121,
          0.527652684,
          0.348896864,
          0.257212047
         ]
        }
       ],
       "layout": {
        "template": {
         "data": {
          "bar": [
           {
            "error_x": {
             "color": "#2a3f5f"
            },
            "error_y": {
             "color": "#2a3f5f"
            },
            "marker": {
             "line": {
              "color": "#E5ECF6",
              "width": 0.5
             },
             "pattern": {
              "fillmode": "overlay",
              "size": 10,
              "solidity": 0.2
             }
            },
            "type": "bar"
           }
          ],
          "barpolar": [
           {
            "marker": {
             "line": {
              "color": "#E5ECF6",
              "width": 0.5
             },
             "pattern": {
              "fillmode": "overlay",
              "size": 10,
              "solidity": 0.2
             }
            },
            "type": "barpolar"
           }
          ],
          "carpet": [
           {
            "aaxis": {
             "endlinecolor": "#2a3f5f",
             "gridcolor": "white",
             "linecolor": "white",
             "minorgridcolor": "white",
             "startlinecolor": "#2a3f5f"
            },
            "baxis": {
             "endlinecolor": "#2a3f5f",
             "gridcolor": "white",
             "linecolor": "white",
             "minorgridcolor": "white",
             "startlinecolor": "#2a3f5f"
            },
            "type": "carpet"
           }
          ],
          "choropleth": [
           {
            "colorbar": {
             "outlinewidth": 0,
             "ticks": ""
            },
            "type": "choropleth"
           }
          ],
          "contour": [
           {
            "colorbar": {
             "outlinewidth": 0,
             "ticks": ""
            },
            "colorscale": [
             [
              0,
              "#0d0887"
             ],
             [
              0.1111111111111111,
              "#46039f"
             ],
             [
              0.2222222222222222,
              "#7201a8"
             ],
             [
              0.3333333333333333,
              "#9c179e"
             ],
             [
              0.4444444444444444,
              "#bd3786"
             ],
             [
              0.5555555555555556,
              "#d8576b"
             ],
             [
              0.6666666666666666,
              "#ed7953"
             ],
             [
              0.7777777777777778,
              "#fb9f3a"
             ],
             [
              0.8888888888888888,
              "#fdca26"
             ],
             [
              1,
              "#f0f921"
             ]
            ],
            "type": "contour"
           }
          ],
          "contourcarpet": [
           {
            "colorbar": {
             "outlinewidth": 0,
             "ticks": ""
            },
            "type": "contourcarpet"
           }
          ],
          "heatmap": [
           {
            "colorbar": {
             "outlinewidth": 0,
             "ticks": ""
            },
            "colorscale": [
             [
              0,
              "#0d0887"
             ],
             [
              0.1111111111111111,
              "#46039f"
             ],
             [
              0.2222222222222222,
              "#7201a8"
             ],
             [
              0.3333333333333333,
              "#9c179e"
             ],
             [
              0.4444444444444444,
              "#bd3786"
             ],
             [
              0.5555555555555556,
              "#d8576b"
             ],
             [
              0.6666666666666666,
              "#ed7953"
             ],
             [
              0.7777777777777778,
              "#fb9f3a"
             ],
             [
              0.8888888888888888,
              "#fdca26"
             ],
             [
              1,
              "#f0f921"
             ]
            ],
            "type": "heatmap"
           }
          ],
          "heatmapgl": [
           {
            "colorbar": {
             "outlinewidth": 0,
             "ticks": ""
            },
            "colorscale": [
             [
              0,
              "#0d0887"
             ],
             [
              0.1111111111111111,
              "#46039f"
             ],
             [
              0.2222222222222222,
              "#7201a8"
             ],
             [
              0.3333333333333333,
              "#9c179e"
             ],
             [
              0.4444444444444444,
              "#bd3786"
             ],
             [
              0.5555555555555556,
              "#d8576b"
             ],
             [
              0.6666666666666666,
              "#ed7953"
             ],
             [
              0.7777777777777778,
              "#fb9f3a"
             ],
             [
              0.8888888888888888,
              "#fdca26"
             ],
             [
              1,
              "#f0f921"
             ]
            ],
            "type": "heatmapgl"
           }
          ],
          "histogram": [
           {
            "marker": {
             "pattern": {
              "fillmode": "overlay",
              "size": 10,
              "solidity": 0.2
             }
            },
            "type": "histogram"
           }
          ],
          "histogram2d": [
           {
            "colorbar": {
             "outlinewidth": 0,
             "ticks": ""
            },
            "colorscale": [
             [
              0,
              "#0d0887"
             ],
             [
              0.1111111111111111,
              "#46039f"
             ],
             [
              0.2222222222222222,
              "#7201a8"
             ],
             [
              0.3333333333333333,
              "#9c179e"
             ],
             [
              0.4444444444444444,
              "#bd3786"
             ],
             [
              0.5555555555555556,
              "#d8576b"
             ],
             [
              0.6666666666666666,
              "#ed7953"
             ],
             [
              0.7777777777777778,
              "#fb9f3a"
             ],
             [
              0.8888888888888888,
              "#fdca26"
             ],
             [
              1,
              "#f0f921"
             ]
            ],
            "type": "histogram2d"
           }
          ],
          "histogram2dcontour": [
           {
            "colorbar": {
             "outlinewidth": 0,
             "ticks": ""
            },
            "colorscale": [
             [
              0,
              "#0d0887"
             ],
             [
              0.1111111111111111,
              "#46039f"
             ],
             [
              0.2222222222222222,
              "#7201a8"
             ],
             [
              0.3333333333333333,
              "#9c179e"
             ],
             [
              0.4444444444444444,
              "#bd3786"
             ],
             [
              0.5555555555555556,
              "#d8576b"
             ],
             [
              0.6666666666666666,
              "#ed7953"
             ],
             [
              0.7777777777777778,
              "#fb9f3a"
             ],
             [
              0.8888888888888888,
              "#fdca26"
             ],
             [
              1,
              "#f0f921"
             ]
            ],
            "type": "histogram2dcontour"
           }
          ],
          "mesh3d": [
           {
            "colorbar": {
             "outlinewidth": 0,
             "ticks": ""
            },
            "type": "mesh3d"
           }
          ],
          "parcoords": [
           {
            "line": {
             "colorbar": {
              "outlinewidth": 0,
              "ticks": ""
             }
            },
            "type": "parcoords"
           }
          ],
          "pie": [
           {
            "automargin": true,
            "type": "pie"
           }
          ],
          "scatter": [
           {
            "fillpattern": {
             "fillmode": "overlay",
             "size": 10,
             "solidity": 0.2
            },
            "type": "scatter"
           }
          ],
          "scatter3d": [
           {
            "line": {
             "colorbar": {
              "outlinewidth": 0,
              "ticks": ""
             }
            },
            "marker": {
             "colorbar": {
              "outlinewidth": 0,
              "ticks": ""
             }
            },
            "type": "scatter3d"
           }
          ],
          "scattercarpet": [
           {
            "marker": {
             "colorbar": {
              "outlinewidth": 0,
              "ticks": ""
             }
            },
            "type": "scattercarpet"
           }
          ],
          "scattergeo": [
           {
            "marker": {
             "colorbar": {
              "outlinewidth": 0,
              "ticks": ""
             }
            },
            "type": "scattergeo"
           }
          ],
          "scattergl": [
           {
            "marker": {
             "colorbar": {
              "outlinewidth": 0,
              "ticks": ""
             }
            },
            "type": "scattergl"
           }
          ],
          "scattermapbox": [
           {
            "marker": {
             "colorbar": {
              "outlinewidth": 0,
              "ticks": ""
             }
            },
            "type": "scattermapbox"
           }
          ],
          "scatterpolar": [
           {
            "marker": {
             "colorbar": {
              "outlinewidth": 0,
              "ticks": ""
             }
            },
            "type": "scatterpolar"
           }
          ],
          "scatterpolargl": [
           {
            "marker": {
             "colorbar": {
              "outlinewidth": 0,
              "ticks": ""
             }
            },
            "type": "scatterpolargl"
           }
          ],
          "scatterternary": [
           {
            "marker": {
             "colorbar": {
              "outlinewidth": 0,
              "ticks": ""
             }
            },
            "type": "scatterternary"
           }
          ],
          "surface": [
           {
            "colorbar": {
             "outlinewidth": 0,
             "ticks": ""
            },
            "colorscale": [
             [
              0,
              "#0d0887"
             ],
             [
              0.1111111111111111,
              "#46039f"
             ],
             [
              0.2222222222222222,
              "#7201a8"
             ],
             [
              0.3333333333333333,
              "#9c179e"
             ],
             [
              0.4444444444444444,
              "#bd3786"
             ],
             [
              0.5555555555555556,
              "#d8576b"
             ],
             [
              0.6666666666666666,
              "#ed7953"
             ],
             [
              0.7777777777777778,
              "#fb9f3a"
             ],
             [
              0.8888888888888888,
              "#fdca26"
             ],
             [
              1,
              "#f0f921"
             ]
            ],
            "type": "surface"
           }
          ],
          "table": [
           {
            "cells": {
             "fill": {
              "color": "#EBF0F8"
             },
             "line": {
              "color": "white"
             }
            },
            "header": {
             "fill": {
              "color": "#C8D4E3"
             },
             "line": {
              "color": "white"
             }
            },
            "type": "table"
           }
          ]
         },
         "layout": {
          "annotationdefaults": {
           "arrowcolor": "#2a3f5f",
           "arrowhead": 0,
           "arrowwidth": 1
          },
          "autotypenumbers": "strict",
          "coloraxis": {
           "colorbar": {
            "outlinewidth": 0,
            "ticks": ""
           }
          },
          "colorscale": {
           "diverging": [
            [
             0,
             "#8e0152"
            ],
            [
             0.1,
             "#c51b7d"
            ],
            [
             0.2,
             "#de77ae"
            ],
            [
             0.3,
             "#f1b6da"
            ],
            [
             0.4,
             "#fde0ef"
            ],
            [
             0.5,
             "#f7f7f7"
            ],
            [
             0.6,
             "#e6f5d0"
            ],
            [
             0.7,
             "#b8e186"
            ],
            [
             0.8,
             "#7fbc41"
            ],
            [
             0.9,
             "#4d9221"
            ],
            [
             1,
             "#276419"
            ]
           ],
           "sequential": [
            [
             0,
             "#0d0887"
            ],
            [
             0.1111111111111111,
             "#46039f"
            ],
            [
             0.2222222222222222,
             "#7201a8"
            ],
            [
             0.3333333333333333,
             "#9c179e"
            ],
            [
             0.4444444444444444,
             "#bd3786"
            ],
            [
             0.5555555555555556,
             "#d8576b"
            ],
            [
             0.6666666666666666,
             "#ed7953"
            ],
            [
             0.7777777777777778,
             "#fb9f3a"
            ],
            [
             0.8888888888888888,
             "#fdca26"
            ],
            [
             1,
             "#f0f921"
            ]
           ],
           "sequentialminus": [
            [
             0,
             "#0d0887"
            ],
            [
             0.1111111111111111,
             "#46039f"
            ],
            [
             0.2222222222222222,
             "#7201a8"
            ],
            [
             0.3333333333333333,
             "#9c179e"
            ],
            [
             0.4444444444444444,
             "#bd3786"
            ],
            [
             0.5555555555555556,
             "#d8576b"
            ],
            [
             0.6666666666666666,
             "#ed7953"
            ],
            [
             0.7777777777777778,
             "#fb9f3a"
            ],
            [
             0.8888888888888888,
             "#fdca26"
            ],
            [
             1,
             "#f0f921"
            ]
           ]
          },
          "colorway": [
           "#636efa",
           "#EF553B",
           "#00cc96",
           "#ab63fa",
           "#FFA15A",
           "#19d3f3",
           "#FF6692",
           "#B6E880",
           "#FF97FF",
           "#FECB52"
          ],
          "font": {
           "color": "#2a3f5f"
          },
          "geo": {
           "bgcolor": "white",
           "lakecolor": "white",
           "landcolor": "#E5ECF6",
           "showlakes": true,
           "showland": true,
           "subunitcolor": "white"
          },
          "hoverlabel": {
           "align": "left"
          },
          "hovermode": "closest",
          "mapbox": {
           "style": "light"
          },
          "paper_bgcolor": "white",
          "plot_bgcolor": "#E5ECF6",
          "polar": {
           "angularaxis": {
            "gridcolor": "white",
            "linecolor": "white",
            "ticks": ""
           },
           "bgcolor": "#E5ECF6",
           "radialaxis": {
            "gridcolor": "white",
            "linecolor": "white",
            "ticks": ""
           }
          },
          "scene": {
           "xaxis": {
            "backgroundcolor": "#E5ECF6",
            "gridcolor": "white",
            "gridwidth": 2,
            "linecolor": "white",
            "showbackground": true,
            "ticks": "",
            "zerolinecolor": "white"
           },
           "yaxis": {
            "backgroundcolor": "#E5ECF6",
            "gridcolor": "white",
            "gridwidth": 2,
            "linecolor": "white",
            "showbackground": true,
            "ticks": "",
            "zerolinecolor": "white"
           },
           "zaxis": {
            "backgroundcolor": "#E5ECF6",
            "gridcolor": "white",
            "gridwidth": 2,
            "linecolor": "white",
            "showbackground": true,
            "ticks": "",
            "zerolinecolor": "white"
           }
          },
          "shapedefaults": {
           "line": {
            "color": "#2a3f5f"
           }
          },
          "ternary": {
           "aaxis": {
            "gridcolor": "white",
            "linecolor": "white",
            "ticks": ""
           },
           "baxis": {
            "gridcolor": "white",
            "linecolor": "white",
            "ticks": ""
           },
           "bgcolor": "#E5ECF6",
           "caxis": {
            "gridcolor": "white",
            "linecolor": "white",
            "ticks": ""
           }
          },
          "title": {
           "x": 0.05
          },
          "xaxis": {
           "automargin": true,
           "gridcolor": "white",
           "linecolor": "white",
           "ticks": "",
           "title": {
            "standoff": 15
           },
           "zerolinecolor": "white",
           "zerolinewidth": 2
          },
          "yaxis": {
           "automargin": true,
           "gridcolor": "white",
           "linecolor": "white",
           "ticks": "",
           "title": {
            "standoff": 15
           },
           "zerolinecolor": "white",
           "zerolinewidth": 2
          }
         }
        }
       }
      }
     },
     "metadata": {},
     "output_type": "display_data"
    }
   ],
   "source": [
    "df = tmp2[tmp2['pdb_id']=='4IBQ'].sort_values(by='res_num')\n",
    "\n",
    "# Create stacked bar chart\n",
    "fig = go.Figure()\n",
    "\n",
    "# Stacked bar chart\n",
    "fig.add_trace(go.Bar(x=df['res_num'], y=df['tier1_count'], name='Tier 1', marker_color='red'))\n",
    "fig.add_trace(go.Bar(x=df['res_num'], y=df['tier2_count'], name='Tier 2', marker_color='orange'))\n",
    "fig.add_trace(go.Bar(x=df['res_num'], y=df['tier3_count'], name='Tier 3', marker_color='yellow'))\n",
    "fig.add_trace(go.Bar(x=df['res_num'], y=df['tierOther_count'], name='Tier Other', marker_color='grey'))\n",
    "\n",
    "# Update layout\n",
    "fig.update_layout(barmode='stack', xaxis_title='res_num', yaxis_title='Count',\n",
    "                  title='Stacked Bar Chart of Counts by Tier')\n",
    "\n",
    "# Bar plot of network score\n",
    "# fig.add_trace(go.Bar(x=df['res_num'], y=df['network_score'], name='Network Score', marker_color='blue'))\n",
    "\n",
    "# Update layout\n",
    "# fig.update_layout(xaxis2_title='res_num', yaxis2_title='Network Score',\n",
    "#                   title2='Bar Plot of Network Score', yaxis2=dict(anchor='x2'))\n",
    "\n",
    "fig.show()\n",
    "\n",
    "# Create stacked bar chart\n",
    "fig = go.Figure()\n",
    "\n",
    "# Bar plot of network score\n",
    "fig.add_trace(go.Bar(x=df['res_num'], y=df['network_score'], name='Network Score', marker_color='blue'))\n",
    "\n",
    "# Update layout\n",
    "fig.show()"
   ]
  },
  {
   "cell_type": "code",
   "execution_count": null,
   "metadata": {},
   "outputs": [],
   "source": []
  },
  {
   "cell_type": "code",
   "execution_count": null,
   "metadata": {},
   "outputs": [],
   "source": []
  },
  {
   "cell_type": "code",
   "execution_count": null,
   "metadata": {},
   "outputs": [],
   "source": []
  }
 ],
 "metadata": {
  "kernelspec": {
   "display_name": "sbna",
   "language": "python",
   "name": "python3"
  },
  "language_info": {
   "codemirror_mode": {
    "name": "ipython",
    "version": 3
   },
   "file_extension": ".py",
   "mimetype": "text/x-python",
   "name": "python",
   "nbconvert_exporter": "python",
   "pygments_lexer": "ipython3",
   "version": "3.12.2"
  }
 },
 "nbformat": 4,
 "nbformat_minor": 2
}
