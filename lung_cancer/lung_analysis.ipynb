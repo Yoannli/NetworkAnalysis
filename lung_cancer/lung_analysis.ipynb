{
 "cells": [
  {
   "cell_type": "code",
   "execution_count": 1,
   "metadata": {},
   "outputs": [
    {
     "name": "stderr",
     "output_type": "stream",
     "text": [
      "c:\\Users\\liyoa\\anaconda3\\envs\\sbna\\Lib\\site-packages\\paramiko\\transport.py:219: CryptographyDeprecationWarning: Blowfish has been deprecated and will be removed in a future release\n",
      "  \"class\": algorithms.Blowfish,\n"
     ]
    }
   ],
   "source": [
    "import pandas as pd\n",
    "import os\n",
    "\n",
    "# import from ../utils.py\n",
    "import sys\n",
    "sys.path.insert(1, os.path.join(sys.path[0], '..'))\n",
    "from utils import read_finalsum, read_finalsum_decomp, align_finalsum_with_uniprot, get_dbref_data\n",
    "\n",
    "import seaborn as sns\n",
    "from matplotlib import pyplot as plt\n",
    "sns.set_style(\"darkgrid\")\n",
    "\n",
    "import plotly.express as px"
   ]
  },
  {
   "cell_type": "code",
   "execution_count": 12,
   "metadata": {},
   "outputs": [
    {
     "data": {
      "text/html": [
       "<div>\n",
       "<style scoped>\n",
       "    .dataframe tbody tr th:only-of-type {\n",
       "        vertical-align: middle;\n",
       "    }\n",
       "\n",
       "    .dataframe tbody tr th {\n",
       "        vertical-align: top;\n",
       "    }\n",
       "\n",
       "    .dataframe thead th {\n",
       "        text-align: right;\n",
       "    }\n",
       "</style>\n",
       "<table border=\"1\" class=\"dataframe\">\n",
       "  <thead>\n",
       "    <tr style=\"text-align: right;\">\n",
       "      <th></th>\n",
       "      <th>network_score_A</th>\n",
       "      <th>network_score_B</th>\n",
       "      <th>network_score_C</th>\n",
       "    </tr>\n",
       "  </thead>\n",
       "  <tbody>\n",
       "    <tr>\n",
       "      <th>network_score_A</th>\n",
       "      <td>1.000000</td>\n",
       "      <td>0.967444</td>\n",
       "      <td>0.970902</td>\n",
       "    </tr>\n",
       "    <tr>\n",
       "      <th>network_score_B</th>\n",
       "      <td>0.967444</td>\n",
       "      <td>1.000000</td>\n",
       "      <td>0.978630</td>\n",
       "    </tr>\n",
       "    <tr>\n",
       "      <th>network_score_C</th>\n",
       "      <td>0.970902</td>\n",
       "      <td>0.978630</td>\n",
       "      <td>1.000000</td>\n",
       "    </tr>\n",
       "  </tbody>\n",
       "</table>\n",
       "</div>"
      ],
      "text/plain": [
       "                 network_score_A  network_score_B  network_score_C\n",
       "network_score_A         1.000000         0.967444         0.970902\n",
       "network_score_B         0.967444         1.000000         0.978630\n",
       "network_score_C         0.970902         0.978630         1.000000"
      ]
     },
     "execution_count": 12,
     "metadata": {},
     "output_type": "execute_result"
    }
   ],
   "source": [
    "chainA = read_finalsum(\"1TSR\", \"A\")\n",
    "chainB = read_finalsum(\"1TSR\", \"B\")\n",
    "chainC = read_finalsum(\"1TSR\", \"C\")\n",
    "\n",
    "# inner join on num\n",
    "merged = pd.merge(chainA, chainB, on=\"num\", suffixes=('_A', '_B'))\n",
    "merged = pd.merge(merged, chainC, on=\"num\")\n",
    "merged.columns = [\"res_A\", \"res_code_A\", \"num\", \"network_score_A\", \"res_B\", \"res_code_B\", \"network_score_B\", \"res_C\", \"res_code_C\", \"network_score_C\"]\n",
    "merged\n",
    "\n",
    "# calculate correlation between network scores\n",
    "correlation = merged[[\"network_score_A\", \"network_score_B\", \"network_score_C\"]].corr()\n",
    "correlation"
   ]
  },
  {
   "cell_type": "code",
   "execution_count": null,
   "metadata": {},
   "outputs": [],
   "source": []
  },
  {
   "cell_type": "code",
   "execution_count": 6,
   "metadata": {},
   "outputs": [
    {
     "data": {
      "text/html": [
       "<div>\n",
       "<style scoped>\n",
       "    .dataframe tbody tr th:only-of-type {\n",
       "        vertical-align: middle;\n",
       "    }\n",
       "\n",
       "    .dataframe tbody tr th {\n",
       "        vertical-align: top;\n",
       "    }\n",
       "\n",
       "    .dataframe thead th {\n",
       "        text-align: right;\n",
       "    }\n",
       "</style>\n",
       "<table border=\"1\" class=\"dataframe\">\n",
       "  <thead>\n",
       "    <tr style=\"text-align: right;\">\n",
       "      <th></th>\n",
       "      <th>Gene Symbol</th>\n",
       "      <th>Name</th>\n",
       "      <th>Entrez GeneId</th>\n",
       "      <th>Genome Location</th>\n",
       "      <th>Tier</th>\n",
       "      <th>Hallmark</th>\n",
       "      <th>Chr Band</th>\n",
       "      <th>Somatic</th>\n",
       "      <th>Germline</th>\n",
       "      <th>Tumour Types(Somatic)</th>\n",
       "      <th>...</th>\n",
       "      <th>Tissue Type</th>\n",
       "      <th>Molecular Genetics</th>\n",
       "      <th>Role in Cancer</th>\n",
       "      <th>Mutation Types</th>\n",
       "      <th>Translocation Partner</th>\n",
       "      <th>Other Germline Mut</th>\n",
       "      <th>Other Syndrome</th>\n",
       "      <th>Synonyms</th>\n",
       "      <th>PDB Structures</th>\n",
       "      <th>n_structures</th>\n",
       "    </tr>\n",
       "  </thead>\n",
       "  <tbody>\n",
       "    <tr>\n",
       "      <th>0</th>\n",
       "      <td>A1CF</td>\n",
       "      <td>APOBEC1 complementation factor</td>\n",
       "      <td>29974.0</td>\n",
       "      <td>10:50799421-50885675</td>\n",
       "      <td>2</td>\n",
       "      <td>NaN</td>\n",
       "      <td>10q11.23</td>\n",
       "      <td>yes</td>\n",
       "      <td>NaN</td>\n",
       "      <td>melanoma</td>\n",
       "      <td>...</td>\n",
       "      <td>E</td>\n",
       "      <td>NaN</td>\n",
       "      <td>oncogene</td>\n",
       "      <td>Mis</td>\n",
       "      <td>NaN</td>\n",
       "      <td>NaN</td>\n",
       "      <td>NaN</td>\n",
       "      <td>ACF,ACF64,ACF65,APOBEC1CF,ASP,CCDS73133.1,ENSG...</td>\n",
       "      <td>['2CPD']</td>\n",
       "      <td>1</td>\n",
       "    </tr>\n",
       "    <tr>\n",
       "      <th>1</th>\n",
       "      <td>ABI1</td>\n",
       "      <td>abl-interactor 1</td>\n",
       "      <td>10006.0</td>\n",
       "      <td>10:26746593-26860935</td>\n",
       "      <td>1</td>\n",
       "      <td>Yes</td>\n",
       "      <td>10p12.1</td>\n",
       "      <td>yes</td>\n",
       "      <td>NaN</td>\n",
       "      <td>AML</td>\n",
       "      <td>...</td>\n",
       "      <td>L</td>\n",
       "      <td>Dom</td>\n",
       "      <td>TSG, fusion</td>\n",
       "      <td>T</td>\n",
       "      <td>KMT2A</td>\n",
       "      <td>NaN</td>\n",
       "      <td>NaN</td>\n",
       "      <td>ABI-1,CCDS7150.1,E3B1,ENSG00000136754.17,NM_00...</td>\n",
       "      <td>['7LXE']</td>\n",
       "      <td>1</td>\n",
       "    </tr>\n",
       "  </tbody>\n",
       "</table>\n",
       "<p>2 rows × 22 columns</p>\n",
       "</div>"
      ],
      "text/plain": [
       "  Gene Symbol                            Name  Entrez GeneId  \\\n",
       "0        A1CF  APOBEC1 complementation factor        29974.0   \n",
       "1        ABI1                abl-interactor 1        10006.0   \n",
       "\n",
       "        Genome Location  Tier Hallmark  Chr Band Somatic Germline  \\\n",
       "0  10:50799421-50885675     2      NaN  10q11.23     yes      NaN   \n",
       "1  10:26746593-26860935     1      Yes   10p12.1     yes      NaN   \n",
       "\n",
       "  Tumour Types(Somatic)  ... Tissue Type Molecular Genetics Role in Cancer  \\\n",
       "0              melanoma  ...           E                NaN       oncogene   \n",
       "1                   AML  ...           L                Dom    TSG, fusion   \n",
       "\n",
       "  Mutation Types Translocation Partner Other Germline Mut Other Syndrome  \\\n",
       "0            Mis                   NaN                NaN            NaN   \n",
       "1              T                 KMT2A                NaN            NaN   \n",
       "\n",
       "                                            Synonyms PDB Structures  \\\n",
       "0  ACF,ACF64,ACF65,APOBEC1CF,ASP,CCDS73133.1,ENSG...       ['2CPD']   \n",
       "1  ABI-1,CCDS7150.1,E3B1,ENSG00000136754.17,NM_00...       ['7LXE']   \n",
       "\n",
       "  n_structures  \n",
       "0            1  \n",
       "1            1  \n",
       "\n",
       "[2 rows x 22 columns]"
      ]
     },
     "execution_count": 6,
     "metadata": {},
     "output_type": "execute_result"
    }
   ],
   "source": [
    "cgc_data = pd.read_csv('../data_prep/Census_all_with_pdb.csv')\n",
    "cgc_data.head(2)"
   ]
  },
  {
   "cell_type": "code",
   "execution_count": 4,
   "metadata": {},
   "outputs": [
    {
     "data": {
      "text/html": [
       "<div>\n",
       "<style scoped>\n",
       "    .dataframe tbody tr th:only-of-type {\n",
       "        vertical-align: middle;\n",
       "    }\n",
       "\n",
       "    .dataframe tbody tr th {\n",
       "        vertical-align: top;\n",
       "    }\n",
       "\n",
       "    .dataframe thead th {\n",
       "        text-align: right;\n",
       "    }\n",
       "</style>\n",
       "<table border=\"1\" class=\"dataframe\">\n",
       "  <thead>\n",
       "    <tr style=\"text-align: right;\">\n",
       "      <th></th>\n",
       "      <th>Gene</th>\n",
       "      <th>Name</th>\n",
       "      <th>PDB</th>\n",
       "      <th>Resolution</th>\n",
       "      <th>Chain</th>\n",
       "      <th>Start</th>\n",
       "      <th>End</th>\n",
       "      <th>Uniprot</th>\n",
       "      <th>assoc_gene</th>\n",
       "      <th>length</th>\n",
       "      <th>Notes</th>\n",
       "    </tr>\n",
       "  </thead>\n",
       "  <tbody>\n",
       "    <tr>\n",
       "      <th>0</th>\n",
       "      <td>CD74</td>\n",
       "      <td>CD74 molecule, major histocompatibility comple...</td>\n",
       "      <td>1ICF</td>\n",
       "      <td>2.00</td>\n",
       "      <td>I</td>\n",
       "      <td>194</td>\n",
       "      <td>258</td>\n",
       "      <td>P04233</td>\n",
       "      <td>CD74</td>\n",
       "      <td>65</td>\n",
       "      <td>NaN</td>\n",
       "    </tr>\n",
       "    <tr>\n",
       "      <th>1</th>\n",
       "      <td>KIF5B</td>\n",
       "      <td>kinesin family member 5B</td>\n",
       "      <td>1MKJ</td>\n",
       "      <td>2.70</td>\n",
       "      <td>A</td>\n",
       "      <td>1</td>\n",
       "      <td>349</td>\n",
       "      <td>P33176</td>\n",
       "      <td>KIF5B</td>\n",
       "      <td>349</td>\n",
       "      <td>NaN</td>\n",
       "    </tr>\n",
       "    <tr>\n",
       "      <th>2</th>\n",
       "      <td>MAP2K2</td>\n",
       "      <td>mitogen-activated protein kinase kinase 2</td>\n",
       "      <td>1S9I</td>\n",
       "      <td>3.20</td>\n",
       "      <td>A</td>\n",
       "      <td>55</td>\n",
       "      <td>400</td>\n",
       "      <td>P36507</td>\n",
       "      <td>MAP2K2</td>\n",
       "      <td>346</td>\n",
       "      <td>there's no better resolutions that properly re...</td>\n",
       "    </tr>\n",
       "    <tr>\n",
       "      <th>3</th>\n",
       "      <td>TP53</td>\n",
       "      <td>tumor protein p53</td>\n",
       "      <td>1TSR</td>\n",
       "      <td>2.20</td>\n",
       "      <td>A</td>\n",
       "      <td>94</td>\n",
       "      <td>312</td>\n",
       "      <td>P04637</td>\n",
       "      <td>TP53</td>\n",
       "      <td>219</td>\n",
       "      <td>NaN</td>\n",
       "    </tr>\n",
       "    <tr>\n",
       "      <th>4</th>\n",
       "      <td>TP53</td>\n",
       "      <td>tumor protein p53</td>\n",
       "      <td>1TSR</td>\n",
       "      <td>2.20</td>\n",
       "      <td>B</td>\n",
       "      <td>94</td>\n",
       "      <td>312</td>\n",
       "      <td>P04637</td>\n",
       "      <td>TP53</td>\n",
       "      <td>219</td>\n",
       "      <td>NaN</td>\n",
       "    </tr>\n",
       "    <tr>\n",
       "      <th>...</th>\n",
       "      <td>...</td>\n",
       "      <td>...</td>\n",
       "      <td>...</td>\n",
       "      <td>...</td>\n",
       "      <td>...</td>\n",
       "      <td>...</td>\n",
       "      <td>...</td>\n",
       "      <td>...</td>\n",
       "      <td>...</td>\n",
       "      <td>...</td>\n",
       "      <td>...</td>\n",
       "    </tr>\n",
       "    <tr>\n",
       "      <th>63</th>\n",
       "      <td>SDC4</td>\n",
       "      <td>syndecan 4</td>\n",
       "      <td>8BLV</td>\n",
       "      <td>1.50</td>\n",
       "      <td>C</td>\n",
       "      <td>191</td>\n",
       "      <td>198</td>\n",
       "      <td>P31431</td>\n",
       "      <td>SDC4</td>\n",
       "      <td>8</td>\n",
       "      <td>as two. Is small compared to other structure</td>\n",
       "    </tr>\n",
       "    <tr>\n",
       "      <th>64</th>\n",
       "      <td>SDC4</td>\n",
       "      <td>syndecan 4</td>\n",
       "      <td>8BLV</td>\n",
       "      <td>1.50</td>\n",
       "      <td>D</td>\n",
       "      <td>191</td>\n",
       "      <td>198</td>\n",
       "      <td>P31431</td>\n",
       "      <td>SDC4</td>\n",
       "      <td>8</td>\n",
       "      <td>NaN</td>\n",
       "    </tr>\n",
       "    <tr>\n",
       "      <th>65</th>\n",
       "      <td>BIRC6</td>\n",
       "      <td>baculoviral IAP repeat containing 6</td>\n",
       "      <td>8E2F</td>\n",
       "      <td>2.47</td>\n",
       "      <td>A</td>\n",
       "      <td>1</td>\n",
       "      <td>4857</td>\n",
       "      <td>Q9NR09</td>\n",
       "      <td>BIRC6</td>\n",
       "      <td>4857</td>\n",
       "      <td>NaN</td>\n",
       "    </tr>\n",
       "    <tr>\n",
       "      <th>66</th>\n",
       "      <td>BAP1</td>\n",
       "      <td>BRCA1 associated protein-1 (ubiquitin carboxy-...</td>\n",
       "      <td>8H1T</td>\n",
       "      <td>3.00</td>\n",
       "      <td>L</td>\n",
       "      <td>1</td>\n",
       "      <td>729</td>\n",
       "      <td>Q92560</td>\n",
       "      <td>BAP1</td>\n",
       "      <td>729</td>\n",
       "      <td>NaN</td>\n",
       "    </tr>\n",
       "    <tr>\n",
       "      <th>67</th>\n",
       "      <td>KEAP1</td>\n",
       "      <td>kelch like ECH associated protein 1</td>\n",
       "      <td>8PKW</td>\n",
       "      <td>1.54</td>\n",
       "      <td>A</td>\n",
       "      <td>312</td>\n",
       "      <td>623</td>\n",
       "      <td>Q14145</td>\n",
       "      <td>KEAP1</td>\n",
       "      <td>312</td>\n",
       "      <td>NaN</td>\n",
       "    </tr>\n",
       "  </tbody>\n",
       "</table>\n",
       "<p>68 rows × 11 columns</p>\n",
       "</div>"
      ],
      "text/plain": [
       "      Gene                                               Name   PDB  \\\n",
       "0     CD74  CD74 molecule, major histocompatibility comple...  1ICF   \n",
       "1    KIF5B                           kinesin family member 5B  1MKJ   \n",
       "2   MAP2K2          mitogen-activated protein kinase kinase 2  1S9I   \n",
       "3     TP53                                  tumor protein p53  1TSR   \n",
       "4     TP53                                  tumor protein p53  1TSR   \n",
       "..     ...                                                ...   ...   \n",
       "63    SDC4                                         syndecan 4  8BLV   \n",
       "64    SDC4                                         syndecan 4  8BLV   \n",
       "65   BIRC6                baculoviral IAP repeat containing 6  8E2F   \n",
       "66    BAP1  BRCA1 associated protein-1 (ubiquitin carboxy-...  8H1T   \n",
       "67   KEAP1                kelch like ECH associated protein 1  8PKW   \n",
       "\n",
       "    Resolution Chain  Start   End Uniprot assoc_gene  length  \\\n",
       "0         2.00     I    194   258  P04233       CD74      65   \n",
       "1         2.70     A      1   349  P33176      KIF5B     349   \n",
       "2         3.20     A     55   400  P36507     MAP2K2     346   \n",
       "3         2.20     A     94   312  P04637       TP53     219   \n",
       "4         2.20     B     94   312  P04637       TP53     219   \n",
       "..         ...   ...    ...   ...     ...        ...     ...   \n",
       "63        1.50     C    191   198  P31431       SDC4       8   \n",
       "64        1.50     D    191   198  P31431       SDC4       8   \n",
       "65        2.47     A      1  4857  Q9NR09      BIRC6    4857   \n",
       "66        3.00     L      1   729  Q92560       BAP1     729   \n",
       "67        1.54     A    312   623  Q14145      KEAP1     312   \n",
       "\n",
       "                                                Notes  \n",
       "0                                                 NaN  \n",
       "1                                                 NaN  \n",
       "2   there's no better resolutions that properly re...  \n",
       "3                                                 NaN  \n",
       "4                                                 NaN  \n",
       "..                                                ...  \n",
       "63       as two. Is small compared to other structure  \n",
       "64                                                NaN  \n",
       "65                                                NaN  \n",
       "66                                                NaN  \n",
       "67                                                NaN  \n",
       "\n",
       "[68 rows x 11 columns]"
      ]
     },
     "execution_count": 4,
     "metadata": {},
     "output_type": "execute_result"
    }
   ],
   "source": [
    "lung_genes = pd.read_excel('lung_genes.xlsx', sheet_name=\"final\")\n",
    "lung_genes"
   ]
  },
  {
   "cell_type": "code",
   "execution_count": 4,
   "metadata": {},
   "outputs": [
    {
     "name": "stdout",
     "output_type": "stream",
     "text": [
      "1\n"
     ]
    }
   ],
   "source": [
    "print(\"1\") if 1 else None"
   ]
  },
  {
   "cell_type": "markdown",
   "metadata": {},
   "source": [
    "# Comparing NS for wild type vs mutant "
   ]
  },
  {
   "cell_type": "code",
   "execution_count": 2,
   "metadata": {},
   "outputs": [
    {
     "name": "stdout",
     "output_type": "stream",
     "text": [
      "['4LMN', '4U7Z', '3E8N', '3DY7', '3V04', '4U81', '4U80', '3PP1', '7SI5', '7SI4', '3JPX', '3JZG', '3K26', '3K27', '5U5H', '5H13', '5U5K', '1Y6A', '1Y6B', '3VHK', '3VHE', '3VID']\n"
     ]
    }
   ],
   "source": [
    "print(\"\"\"4LMN\n",
    "4U7Z\n",
    "3E8N\n",
    "3DY7\n",
    "3V04\n",
    "4U81\n",
    "4U80\n",
    "3PP1\n",
    "7SI5\n",
    "7SI4\n",
    "3JPX\n",
    "3JZG\n",
    "3K26\n",
    "3K27\n",
    "5U5H\n",
    "5H13\n",
    "5U5K\n",
    "1Y6A\n",
    "1Y6B\n",
    "3VHK\n",
    "3VHE\n",
    "3VID\"\"\".split(\"\\n\"))"
   ]
  },
  {
   "cell_type": "code",
   "execution_count": 9,
   "metadata": {},
   "outputs": [],
   "source": [
    "# EGFR pdbs\n",
    "pdbs = ['7SI1', \"7UKV\", \"3POZ\", \"8F1X\", \"4LQM\", \"2ITZ\", \"6JWL\", \"5X27\"]\n",
    "\n",
    "# KRAS \n",
    "pdbs = [\"6GOD\", \"5UK9\", \"6MBU\", \"4LDJ\", \"4L8G\", \"8AFB\", \"8AZX\", \"6GOF\", \"7RPZ\", \"8TXG\", \"6GJ7\", \"6GOE\", \"8AZZ\", \"7C40\", \"4EPT\", \"6MBQ\", \"4EPR\"]\n",
    "\n",
    "# BRAF\n",
    "pdbs = [\"3II5\", \"3Q4C\", \"3PRF\", \"3PPK\", \"3D4Q\", \"5FD2\", \"8F7P\", \"4FC0\", \"4E26\", \"5C9C\", \"3IDP\", \"4MNF\", \"4G9R\"]\n",
    "\n",
    "pdbs = ['4LMN', '4U7Z', '3E8N', '3DY7', '3V04', '4U81', '4U80', '3PP1', '7SI5', '7SI4', '3JPX', '3JZG', '3K26', '3K27', '5U5H', '5H13', '5U5K', '1Y6A', '1Y6B', '3VHK', '3VHE', '3VID']"
   ]
  },
  {
   "cell_type": "code",
   "execution_count": 7,
   "metadata": {},
   "outputs": [
    {
     "data": {
      "text/html": [
       "<div>\n",
       "<style scoped>\n",
       "    .dataframe tbody tr th:only-of-type {\n",
       "        vertical-align: middle;\n",
       "    }\n",
       "\n",
       "    .dataframe tbody tr th {\n",
       "        vertical-align: top;\n",
       "    }\n",
       "\n",
       "    .dataframe thead th {\n",
       "        text-align: right;\n",
       "    }\n",
       "</style>\n",
       "<table border=\"1\" class=\"dataframe\">\n",
       "  <thead>\n",
       "    <tr style=\"text-align: right;\">\n",
       "      <th></th>\n",
       "      <th>res</th>\n",
       "      <th>num</th>\n",
       "      <th>network_score</th>\n",
       "      <th>Acid</th>\n",
       "      <th>SecondOrderIntermodularDegree_AVERAGE</th>\n",
       "      <th>NodeEdgeBetweennessSTRIDE_sidechain_MAX</th>\n",
       "      <th>LigandMULTIMERCENTROIDSC_MIN</th>\n",
       "      <th>res_code</th>\n",
       "      <th>uniprot_num</th>\n",
       "      <th>uniprot_res</th>\n",
       "      <th>pdb_id</th>\n",
       "      <th>chain</th>\n",
       "    </tr>\n",
       "  </thead>\n",
       "  <tbody>\n",
       "    <tr>\n",
       "      <th>0</th>\n",
       "      <td>GLU</td>\n",
       "      <td>600</td>\n",
       "      <td>-0.765052</td>\n",
       "      <td>GLU600</td>\n",
       "      <td>-0.965339</td>\n",
       "      <td>-0.469700</td>\n",
       "      <td>-0.669987</td>\n",
       "      <td>E</td>\n",
       "      <td>600</td>\n",
       "      <td>V</td>\n",
       "      <td>4G9R</td>\n",
       "      <td>B</td>\n",
       "    </tr>\n",
       "    <tr>\n",
       "      <th>0</th>\n",
       "      <td>GLU</td>\n",
       "      <td>600</td>\n",
       "      <td>-0.506577</td>\n",
       "      <td>GLU600</td>\n",
       "      <td>-0.774697</td>\n",
       "      <td>0.480358</td>\n",
       "      <td>0.212239</td>\n",
       "      <td>E</td>\n",
       "      <td>600</td>\n",
       "      <td>V</td>\n",
       "      <td>4MNF</td>\n",
       "      <td>B</td>\n",
       "    </tr>\n",
       "    <tr>\n",
       "      <th>0</th>\n",
       "      <td>GLU</td>\n",
       "      <td>600</td>\n",
       "      <td>-0.506577</td>\n",
       "      <td>GLU600</td>\n",
       "      <td>-0.774697</td>\n",
       "      <td>0.480358</td>\n",
       "      <td>0.212239</td>\n",
       "      <td>E</td>\n",
       "      <td>600</td>\n",
       "      <td>V</td>\n",
       "      <td>4MNF</td>\n",
       "      <td>A</td>\n",
       "    </tr>\n",
       "    <tr>\n",
       "      <th>0</th>\n",
       "      <td>GLU</td>\n",
       "      <td>600</td>\n",
       "      <td>-0.682910</td>\n",
       "      <td>GLU600</td>\n",
       "      <td>-0.965339</td>\n",
       "      <td>-0.387558</td>\n",
       "      <td>-0.669987</td>\n",
       "      <td>E</td>\n",
       "      <td>600</td>\n",
       "      <td>V</td>\n",
       "      <td>4G9R</td>\n",
       "      <td>A</td>\n",
       "    </tr>\n",
       "    <tr>\n",
       "      <th>0</th>\n",
       "      <td>VAL</td>\n",
       "      <td>600</td>\n",
       "      <td>-0.693710</td>\n",
       "      <td>VAL600</td>\n",
       "      <td>-0.210208</td>\n",
       "      <td>-0.095823</td>\n",
       "      <td>0.387679</td>\n",
       "      <td>V</td>\n",
       "      <td>600</td>\n",
       "      <td>V</td>\n",
       "      <td>4E26</td>\n",
       "      <td>B</td>\n",
       "    </tr>\n",
       "    <tr>\n",
       "      <th>0</th>\n",
       "      <td>VAL</td>\n",
       "      <td>600</td>\n",
       "      <td>-0.797714</td>\n",
       "      <td>VAL600</td>\n",
       "      <td>-0.210208</td>\n",
       "      <td>-0.199827</td>\n",
       "      <td>0.387679</td>\n",
       "      <td>V</td>\n",
       "      <td>600</td>\n",
       "      <td>V</td>\n",
       "      <td>4E26</td>\n",
       "      <td>A</td>\n",
       "    </tr>\n",
       "    <tr>\n",
       "      <th>0</th>\n",
       "      <td>VAL</td>\n",
       "      <td>599</td>\n",
       "      <td>0.639018</td>\n",
       "      <td>VAL599</td>\n",
       "      <td>-0.134591</td>\n",
       "      <td>-0.014932</td>\n",
       "      <td>-0.788541</td>\n",
       "      <td>V</td>\n",
       "      <td>600</td>\n",
       "      <td>V</td>\n",
       "      <td>4FC0</td>\n",
       "      <td>B</td>\n",
       "    </tr>\n",
       "    <tr>\n",
       "      <th>0</th>\n",
       "      <td>VAL</td>\n",
       "      <td>599</td>\n",
       "      <td>0.482846</td>\n",
       "      <td>VAL599</td>\n",
       "      <td>-0.134591</td>\n",
       "      <td>-0.171104</td>\n",
       "      <td>-0.788541</td>\n",
       "      <td>V</td>\n",
       "      <td>600</td>\n",
       "      <td>V</td>\n",
       "      <td>4FC0</td>\n",
       "      <td>A</td>\n",
       "    </tr>\n",
       "    <tr>\n",
       "      <th>0</th>\n",
       "      <td>VAL</td>\n",
       "      <td>600</td>\n",
       "      <td>0.586764</td>\n",
       "      <td>VAL600</td>\n",
       "      <td>-0.810437</td>\n",
       "      <td>0.649224</td>\n",
       "      <td>-0.747977</td>\n",
       "      <td>V</td>\n",
       "      <td>600</td>\n",
       "      <td>V</td>\n",
       "      <td>8F7P</td>\n",
       "      <td>B</td>\n",
       "    </tr>\n",
       "    <tr>\n",
       "      <th>0</th>\n",
       "      <td>VAL</td>\n",
       "      <td>600</td>\n",
       "      <td>0.022660</td>\n",
       "      <td>VAL600</td>\n",
       "      <td>-0.810437</td>\n",
       "      <td>0.085120</td>\n",
       "      <td>-0.747977</td>\n",
       "      <td>V</td>\n",
       "      <td>600</td>\n",
       "      <td>V</td>\n",
       "      <td>8F7P</td>\n",
       "      <td>A</td>\n",
       "    </tr>\n",
       "    <tr>\n",
       "      <th>0</th>\n",
       "      <td>VAL</td>\n",
       "      <td>600</td>\n",
       "      <td>-0.067518</td>\n",
       "      <td>VAL600</td>\n",
       "      <td>-0.307937</td>\n",
       "      <td>-0.391371</td>\n",
       "      <td>-0.631791</td>\n",
       "      <td>V</td>\n",
       "      <td>600</td>\n",
       "      <td>V</td>\n",
       "      <td>5FD2</td>\n",
       "      <td>B</td>\n",
       "    </tr>\n",
       "    <tr>\n",
       "      <th>0</th>\n",
       "      <td>VAL</td>\n",
       "      <td>599</td>\n",
       "      <td>-0.674129</td>\n",
       "      <td>VAL599</td>\n",
       "      <td>-0.919778</td>\n",
       "      <td>-0.263872</td>\n",
       "      <td>-0.509521</td>\n",
       "      <td>V</td>\n",
       "      <td>600</td>\n",
       "      <td>V</td>\n",
       "      <td>3II5</td>\n",
       "      <td>A</td>\n",
       "    </tr>\n",
       "    <tr>\n",
       "      <th>0</th>\n",
       "      <td>VAL</td>\n",
       "      <td>600</td>\n",
       "      <td>-0.827096</td>\n",
       "      <td>VAL600</td>\n",
       "      <td>-0.272454</td>\n",
       "      <td>-0.340732</td>\n",
       "      <td>0.213910</td>\n",
       "      <td>V</td>\n",
       "      <td>600</td>\n",
       "      <td>V</td>\n",
       "      <td>3D4Q</td>\n",
       "      <td>A</td>\n",
       "    </tr>\n",
       "    <tr>\n",
       "      <th>0</th>\n",
       "      <td>VAL</td>\n",
       "      <td>600</td>\n",
       "      <td>-1.008052</td>\n",
       "      <td>VAL600</td>\n",
       "      <td>-0.520721</td>\n",
       "      <td>-0.310517</td>\n",
       "      <td>0.176814</td>\n",
       "      <td>V</td>\n",
       "      <td>600</td>\n",
       "      <td>V</td>\n",
       "      <td>3PPK</td>\n",
       "      <td>B</td>\n",
       "    </tr>\n",
       "    <tr>\n",
       "      <th>0</th>\n",
       "      <td>VAL</td>\n",
       "      <td>600</td>\n",
       "      <td>-1.008052</td>\n",
       "      <td>VAL600</td>\n",
       "      <td>-0.520721</td>\n",
       "      <td>-0.310517</td>\n",
       "      <td>0.176814</td>\n",
       "      <td>V</td>\n",
       "      <td>600</td>\n",
       "      <td>V</td>\n",
       "      <td>3PPK</td>\n",
       "      <td>A</td>\n",
       "    </tr>\n",
       "    <tr>\n",
       "      <th>0</th>\n",
       "      <td>VAL</td>\n",
       "      <td>600</td>\n",
       "      <td>-2.217355</td>\n",
       "      <td>VAL600</td>\n",
       "      <td>-0.954351</td>\n",
       "      <td>-0.490050</td>\n",
       "      <td>0.772954</td>\n",
       "      <td>V</td>\n",
       "      <td>600</td>\n",
       "      <td>V</td>\n",
       "      <td>3PRF</td>\n",
       "      <td>B</td>\n",
       "    </tr>\n",
       "    <tr>\n",
       "      <th>0</th>\n",
       "      <td>VAL</td>\n",
       "      <td>600</td>\n",
       "      <td>-2.170742</td>\n",
       "      <td>VAL600</td>\n",
       "      <td>-0.954351</td>\n",
       "      <td>-0.443437</td>\n",
       "      <td>0.772954</td>\n",
       "      <td>V</td>\n",
       "      <td>600</td>\n",
       "      <td>V</td>\n",
       "      <td>3PRF</td>\n",
       "      <td>A</td>\n",
       "    </tr>\n",
       "    <tr>\n",
       "      <th>0</th>\n",
       "      <td>VAL</td>\n",
       "      <td>599</td>\n",
       "      <td>-0.181308</td>\n",
       "      <td>VAL599</td>\n",
       "      <td>-0.543177</td>\n",
       "      <td>0.129072</td>\n",
       "      <td>-0.232797</td>\n",
       "      <td>V</td>\n",
       "      <td>600</td>\n",
       "      <td>V</td>\n",
       "      <td>3Q4C</td>\n",
       "      <td>B</td>\n",
       "    </tr>\n",
       "    <tr>\n",
       "      <th>0</th>\n",
       "      <td>VAL</td>\n",
       "      <td>599</td>\n",
       "      <td>-0.181308</td>\n",
       "      <td>VAL599</td>\n",
       "      <td>-0.543177</td>\n",
       "      <td>0.129072</td>\n",
       "      <td>-0.232797</td>\n",
       "      <td>V</td>\n",
       "      <td>600</td>\n",
       "      <td>V</td>\n",
       "      <td>3Q4C</td>\n",
       "      <td>A</td>\n",
       "    </tr>\n",
       "    <tr>\n",
       "      <th>0</th>\n",
       "      <td>VAL</td>\n",
       "      <td>599</td>\n",
       "      <td>-0.674129</td>\n",
       "      <td>VAL599</td>\n",
       "      <td>-0.919778</td>\n",
       "      <td>-0.263872</td>\n",
       "      <td>-0.509521</td>\n",
       "      <td>V</td>\n",
       "      <td>600</td>\n",
       "      <td>V</td>\n",
       "      <td>3II5</td>\n",
       "      <td>B</td>\n",
       "    </tr>\n",
       "    <tr>\n",
       "      <th>0</th>\n",
       "      <td>VAL</td>\n",
       "      <td>600</td>\n",
       "      <td>-0.812420</td>\n",
       "      <td>VAL600</td>\n",
       "      <td>-0.272454</td>\n",
       "      <td>-0.326056</td>\n",
       "      <td>0.213910</td>\n",
       "      <td>V</td>\n",
       "      <td>600</td>\n",
       "      <td>V</td>\n",
       "      <td>3D4Q</td>\n",
       "      <td>B</td>\n",
       "    </tr>\n",
       "    <tr>\n",
       "      <th>0</th>\n",
       "      <td>VAL</td>\n",
       "      <td>600</td>\n",
       "      <td>-0.067518</td>\n",
       "      <td>VAL600</td>\n",
       "      <td>-0.307937</td>\n",
       "      <td>-0.391371</td>\n",
       "      <td>-0.631791</td>\n",
       "      <td>V</td>\n",
       "      <td>600</td>\n",
       "      <td>V</td>\n",
       "      <td>5FD2</td>\n",
       "      <td>A</td>\n",
       "    </tr>\n",
       "  </tbody>\n",
       "</table>\n",
       "</div>"
      ],
      "text/plain": [
       "   res  num  network_score    Acid  SecondOrderIntermodularDegree_AVERAGE  \\\n",
       "0  GLU  600      -0.765052  GLU600                              -0.965339   \n",
       "0  GLU  600      -0.506577  GLU600                              -0.774697   \n",
       "0  GLU  600      -0.506577  GLU600                              -0.774697   \n",
       "0  GLU  600      -0.682910  GLU600                              -0.965339   \n",
       "0  VAL  600      -0.693710  VAL600                              -0.210208   \n",
       "0  VAL  600      -0.797714  VAL600                              -0.210208   \n",
       "0  VAL  599       0.639018  VAL599                              -0.134591   \n",
       "0  VAL  599       0.482846  VAL599                              -0.134591   \n",
       "0  VAL  600       0.586764  VAL600                              -0.810437   \n",
       "0  VAL  600       0.022660  VAL600                              -0.810437   \n",
       "0  VAL  600      -0.067518  VAL600                              -0.307937   \n",
       "0  VAL  599      -0.674129  VAL599                              -0.919778   \n",
       "0  VAL  600      -0.827096  VAL600                              -0.272454   \n",
       "0  VAL  600      -1.008052  VAL600                              -0.520721   \n",
       "0  VAL  600      -1.008052  VAL600                              -0.520721   \n",
       "0  VAL  600      -2.217355  VAL600                              -0.954351   \n",
       "0  VAL  600      -2.170742  VAL600                              -0.954351   \n",
       "0  VAL  599      -0.181308  VAL599                              -0.543177   \n",
       "0  VAL  599      -0.181308  VAL599                              -0.543177   \n",
       "0  VAL  599      -0.674129  VAL599                              -0.919778   \n",
       "0  VAL  600      -0.812420  VAL600                              -0.272454   \n",
       "0  VAL  600      -0.067518  VAL600                              -0.307937   \n",
       "\n",
       "   NodeEdgeBetweennessSTRIDE_sidechain_MAX  LigandMULTIMERCENTROIDSC_MIN  \\\n",
       "0                                -0.469700                     -0.669987   \n",
       "0                                 0.480358                      0.212239   \n",
       "0                                 0.480358                      0.212239   \n",
       "0                                -0.387558                     -0.669987   \n",
       "0                                -0.095823                      0.387679   \n",
       "0                                -0.199827                      0.387679   \n",
       "0                                -0.014932                     -0.788541   \n",
       "0                                -0.171104                     -0.788541   \n",
       "0                                 0.649224                     -0.747977   \n",
       "0                                 0.085120                     -0.747977   \n",
       "0                                -0.391371                     -0.631791   \n",
       "0                                -0.263872                     -0.509521   \n",
       "0                                -0.340732                      0.213910   \n",
       "0                                -0.310517                      0.176814   \n",
       "0                                -0.310517                      0.176814   \n",
       "0                                -0.490050                      0.772954   \n",
       "0                                -0.443437                      0.772954   \n",
       "0                                 0.129072                     -0.232797   \n",
       "0                                 0.129072                     -0.232797   \n",
       "0                                -0.263872                     -0.509521   \n",
       "0                                -0.326056                      0.213910   \n",
       "0                                -0.391371                     -0.631791   \n",
       "\n",
       "  res_code uniprot_num uniprot_res pdb_id chain  \n",
       "0        E         600           V   4G9R     B  \n",
       "0        E         600           V   4MNF     B  \n",
       "0        E         600           V   4MNF     A  \n",
       "0        E         600           V   4G9R     A  \n",
       "0        V         600           V   4E26     B  \n",
       "0        V         600           V   4E26     A  \n",
       "0        V         600           V   4FC0     B  \n",
       "0        V         600           V   4FC0     A  \n",
       "0        V         600           V   8F7P     B  \n",
       "0        V         600           V   8F7P     A  \n",
       "0        V         600           V   5FD2     B  \n",
       "0        V         600           V   3II5     A  \n",
       "0        V         600           V   3D4Q     A  \n",
       "0        V         600           V   3PPK     B  \n",
       "0        V         600           V   3PPK     A  \n",
       "0        V         600           V   3PRF     B  \n",
       "0        V         600           V   3PRF     A  \n",
       "0        V         600           V   3Q4C     B  \n",
       "0        V         600           V   3Q4C     A  \n",
       "0        V         600           V   3II5     B  \n",
       "0        V         600           V   3D4Q     B  \n",
       "0        V         600           V   5FD2     A  "
      ]
     },
     "execution_count": 7,
     "metadata": {},
     "output_type": "execute_result"
    }
   ],
   "source": [
    "tmp2 = pd.DataFrame()\n",
    "for pdb_id in pdbs:\n",
    "    try:\n",
    "        data = get_dbref_data(pdb_id)\n",
    "        chains = [i['chain'] for i in data]\n",
    "        for chain in chains:\n",
    "            tmp = read_finalsum(pdb_id, chain).merge(read_finalsum_decomp(pdb_id, chain), on=['num', 'res'], how='inner').drop('res_code_x', axis=1)\n",
    "            tmp = tmp.rename(columns={\"res_code_y\": \"res_code\"})\n",
    "            tmp = align_finalsum_with_uniprot(tmp, pdb_id, chain)\n",
    "            tmp = tmp[tmp['uniprot_num']==600].reset_index(drop=True)\n",
    "            tmp['pdb_id'] = pdb_id\n",
    "            tmp['chain'] = chain\n",
    "            tmp2 = pd.concat([tmp2, tmp])\n",
    "        # tmp = read_finalsum(pdb_id, \"A\").merge(read_finalsum_decomp(pdb_id, \"A\"), on=['num', 'res'], how='inner').drop('res_code_x', axis=1)\n",
    "\n",
    "    except:\n",
    "        print(f\"Failed to process {pdb_id} with error:\")\n",
    "        continue\n",
    "    # rename columns\n",
    "    # tmp = tmp.rename(columns={\"res_code_y\": \"res_code\"})\n",
    "    # print(pdb_id)\n",
    "    # tmp = align_finalsum_with_uniprot(tmp, pdb_id, \"A\")\n",
    "    # tmp = tmp[tmp['uniprot_num']==600].reset_index(drop=True)\n",
    "    # tmp['pdb_id'] = pdb_id\n",
    "    # tmp2 = pd.concat([tmp2, tmp])\n",
    "tmp2.sort_values(by=\"res\")"
   ]
  },
  {
   "cell_type": "code",
   "execution_count": 8,
   "metadata": {},
   "outputs": [
    {
     "name": "stderr",
     "output_type": "stream",
     "text": [
      "c:\\Users\\liyoa\\anaconda3\\envs\\sbna\\Lib\\site-packages\\seaborn\\_oldcore.py:1119: FutureWarning: use_inf_as_na option is deprecated and will be removed in a future version. Convert inf values to NaN before operating instead.\n",
      "  with pd.option_context('mode.use_inf_as_na', True):\n",
      "c:\\Users\\liyoa\\anaconda3\\envs\\sbna\\Lib\\site-packages\\seaborn\\_oldcore.py:1119: FutureWarning: use_inf_as_na option is deprecated and will be removed in a future version. Convert inf values to NaN before operating instead.\n",
      "  with pd.option_context('mode.use_inf_as_na', True):\n"
     ]
    },
    {
     "data": {
      "image/png": "[encoded data removed]",
      "text/plain": [
       "<Figure size 640x480 with 1 Axes>"
      ]
     },
     "metadata": {},
     "output_type": "display_data"
    }
   ],
   "source": [
    "\n",
    "tmp2 = tmp2.sort_values(\"res\")\n",
    "\n",
    "\n",
    "sns.stripplot(\n",
    "    data=tmp2, x=\"res_code\", y=\"network_score\", hue=\"chain\",\n",
    "    dodge=True, legend=False,\n",
    ")\n",
    "# add legend\n",
    "plt.legend(title=\"Chain\", loc=\"upper right\", labels=[\"A\", \"B\"])\n",
    "plt.show()"
   ]
  },
  {
   "cell_type": "markdown",
   "metadata": {},
   "source": [
    "# analysis"
   ]
  },
  {
   "cell_type": "code",
   "execution_count": 32,
   "metadata": {},
   "outputs": [],
   "source": [
    "ns_data = pd.read_csv(\"wt_ns_aggregated.csv\")"
   ]
  },
  {
   "cell_type": "code",
   "execution_count": 33,
   "metadata": {},
   "outputs": [
    {
     "data": {
      "image/png": "[encoded data removed]",
      "text/plain": [
       "<Figure size 1000x1000 with 2 Axes>"
      ]
     },
     "metadata": {},
     "output_type": "display_data"
    }
   ],
   "source": [
    "# 2 subplots\n",
    "fig, axs = plt.subplots(2, 1, figsize=(10, 10))\n",
    "\n",
    "sns.scatterplot(data=ns_data, x=\"network_score\", y=\"tcga_num_cases\", hue=\"cancer_role\", alpha=0.5, ax=axs[0])\n",
    "sns.scatterplot(data=ns_data[ns_data['tcga_num_cases']<100], x=\"network_score\", y=\"tcga_num_cases\", hue=\"cancer_role\", alpha=0.5, ax=axs[1])\n",
    "\n",
    "# add title\n",
    "axs[0].set_title(\"All data\")\n",
    "axs[1].set_title(\"Number of cases < 100\")\n",
    "\n",
    "# set super title\n",
    "fig.suptitle(\"Network score of wild type structures vs number of cases in all GDC TCGA data\", fontsize=16)\n",
    "plt.tight_layout()\n",
    "plt.show()"
   ]
  },
  {
   "cell_type": "code",
   "execution_count": 34,
   "metadata": {},
   "outputs": [
    {
     "data": {
      "image/png": "[encoded data removed]",
      "text/plain": [
       "<Figure size 640x480 with 1 Axes>"
      ]
     },
     "metadata": {},
     "output_type": "display_data"
    }
   ],
   "source": [
    "# tmp = ns_data[ns_data['gene']==\"TP53\"]\n",
    "tmp = ns_data[(ns_data['cancer_role']==\"TSG\") & (ns_data['tcga_num_cases']>0)]\n",
    "tmp = ns_data[(ns_data['gene']==\"KRAS\") & (ns_data['tcga_num_cases']>0)]\n",
    "# plot network score vs number of cases\n",
    "sns.scatterplot(data=tmp, x=\"network_score\", y=\"tcga_num_cases\", hue=\"cancer_role\", alpha=0.7)\n",
    "plt.show()"
   ]
  },
  {
   "cell_type": "code",
   "execution_count": 35,
   "metadata": {},
   "outputs": [
    {
     "data": {
      "text/html": [
       "<div>\n",
       "<style scoped>\n",
       "    .dataframe tbody tr th:only-of-type {\n",
       "        vertical-align: middle;\n",
       "    }\n",
       "\n",
       "    .dataframe tbody tr th {\n",
       "        vertical-align: top;\n",
       "    }\n",
       "\n",
       "    .dataframe thead th {\n",
       "        text-align: right;\n",
       "    }\n",
       "</style>\n",
       "<table border=\"1\" class=\"dataframe\">\n",
       "  <thead>\n",
       "    <tr style=\"text-align: right;\">\n",
       "      <th></th>\n",
       "      <th>gene</th>\n",
       "      <th>cancer_role</th>\n",
       "      <th>cgc_tier</th>\n",
       "      <th>uniprot_num</th>\n",
       "      <th>wt_aa</th>\n",
       "      <th>mut_aa</th>\n",
       "      <th>wt_ns</th>\n",
       "      <th>mut_ns</th>\n",
       "      <th>diff_ns</th>\n",
       "      <th>wt_sd</th>\n",
       "      <th>mut_sd</th>\n",
       "      <th>wt_neb</th>\n",
       "      <th>mut_neb</th>\n",
       "      <th>wt_ld</th>\n",
       "      <th>mut_ld</th>\n",
       "      <th>num_ssm_affected_cases</th>\n",
       "      <th>num_cases_in_gene</th>\n",
       "      <th>ssm_affected_cases_percentage</th>\n",
       "      <th>num_gdc_ssm_affected_cases</th>\n",
       "      <th>num_gdc_ssm_cases</th>\n",
       "      <th>count_TCGA-LUAD</th>\n",
       "      <th>total_TCGA-LUAD</th>\n",
       "      <th>perc_TCGA-LUAD</th>\n",
       "      <th>count_TCGA-LUSC</th>\n",
       "      <th>total_TCGA-LUSC</th>\n",
       "      <th>perc_TCGA-LUSC</th>\n",
       "      <th>count_all_lung</th>\n",
       "      <th>total_all_lung</th>\n",
       "      <th>perc_all_lung</th>\n",
       "    </tr>\n",
       "  </thead>\n",
       "  <tbody>\n",
       "    <tr>\n",
       "      <th>0</th>\n",
       "      <td>RB1</td>\n",
       "      <td>TSG</td>\n",
       "      <td>1</td>\n",
       "      <td>780</td>\n",
       "      <td>S</td>\n",
       "      <td>A</td>\n",
       "      <td>-0.370530</td>\n",
       "      <td>5.803530</td>\n",
       "      <td>6.174060</td>\n",
       "      <td>-0.198296</td>\n",
       "      <td>0.247563</td>\n",
       "      <td>-0.172234</td>\n",
       "      <td>5.555966</td>\n",
       "      <td>0.000000</td>\n",
       "      <td>0.000000</td>\n",
       "      <td>0</td>\n",
       "      <td>0</td>\n",
       "      <td>0.00</td>\n",
       "      <td>0</td>\n",
       "      <td>0</td>\n",
       "      <td>0</td>\n",
       "      <td>0</td>\n",
       "      <td>0.0</td>\n",
       "      <td>0</td>\n",
       "      <td>0</td>\n",
       "      <td>0.0</td>\n",
       "      <td>0</td>\n",
       "      <td>0</td>\n",
       "      <td>0.0</td>\n",
       "    </tr>\n",
       "    <tr>\n",
       "      <th>1</th>\n",
       "      <td>FGFR2</td>\n",
       "      <td>oncogene</td>\n",
       "      <td>1</td>\n",
       "      <td>659</td>\n",
       "      <td>K</td>\n",
       "      <td>M</td>\n",
       "      <td>-1.209555</td>\n",
       "      <td>2.923126</td>\n",
       "      <td>4.132681</td>\n",
       "      <td>-1.022663</td>\n",
       "      <td>0.930025</td>\n",
       "      <td>-0.481753</td>\n",
       "      <td>0.398724</td>\n",
       "      <td>-0.294861</td>\n",
       "      <td>-1.594377</td>\n",
       "      <td>0</td>\n",
       "      <td>0</td>\n",
       "      <td>0.00</td>\n",
       "      <td>0</td>\n",
       "      <td>0</td>\n",
       "      <td>0</td>\n",
       "      <td>0</td>\n",
       "      <td>0.0</td>\n",
       "      <td>0</td>\n",
       "      <td>0</td>\n",
       "      <td>0.0</td>\n",
       "      <td>0</td>\n",
       "      <td>0</td>\n",
       "      <td>0.0</td>\n",
       "    </tr>\n",
       "    <tr>\n",
       "      <th>2</th>\n",
       "      <td>ALK</td>\n",
       "      <td>oncogene</td>\n",
       "      <td>1</td>\n",
       "      <td>1275</td>\n",
       "      <td>R</td>\n",
       "      <td>Q</td>\n",
       "      <td>0.656542</td>\n",
       "      <td>4.539066</td>\n",
       "      <td>3.882524</td>\n",
       "      <td>-0.407015</td>\n",
       "      <td>2.126575</td>\n",
       "      <td>0.619538</td>\n",
       "      <td>2.000970</td>\n",
       "      <td>-0.444019</td>\n",
       "      <td>-0.411522</td>\n",
       "      <td>7</td>\n",
       "      <td>3038</td>\n",
       "      <td>0.23</td>\n",
       "      <td>7</td>\n",
       "      <td>16477</td>\n",
       "      <td>0</td>\n",
       "      <td>0</td>\n",
       "      <td>0.0</td>\n",
       "      <td>0</td>\n",
       "      <td>0</td>\n",
       "      <td>0.0</td>\n",
       "      <td>0</td>\n",
       "      <td>0</td>\n",
       "      <td>0.0</td>\n",
       "    </tr>\n",
       "    <tr>\n",
       "      <th>3</th>\n",
       "      <td>FGFR2</td>\n",
       "      <td>oncogene</td>\n",
       "      <td>1</td>\n",
       "      <td>659</td>\n",
       "      <td>K</td>\n",
       "      <td>Q</td>\n",
       "      <td>-1.209555</td>\n",
       "      <td>2.541842</td>\n",
       "      <td>3.751397</td>\n",
       "      <td>-1.022663</td>\n",
       "      <td>0.597328</td>\n",
       "      <td>-0.481753</td>\n",
       "      <td>0.325219</td>\n",
       "      <td>-0.294861</td>\n",
       "      <td>-1.619295</td>\n",
       "      <td>0</td>\n",
       "      <td>0</td>\n",
       "      <td>0.00</td>\n",
       "      <td>0</td>\n",
       "      <td>0</td>\n",
       "      <td>0</td>\n",
       "      <td>0</td>\n",
       "      <td>0.0</td>\n",
       "      <td>0</td>\n",
       "      <td>0</td>\n",
       "      <td>0.0</td>\n",
       "      <td>0</td>\n",
       "      <td>0</td>\n",
       "      <td>0.0</td>\n",
       "    </tr>\n",
       "    <tr>\n",
       "      <th>4</th>\n",
       "      <td>KIF5B</td>\n",
       "      <td>fusion</td>\n",
       "      <td>1</td>\n",
       "      <td>168</td>\n",
       "      <td>C</td>\n",
       "      <td>A</td>\n",
       "      <td>0.857446</td>\n",
       "      <td>2.653526</td>\n",
       "      <td>1.796080</td>\n",
       "      <td>0.823687</td>\n",
       "      <td>0.971592</td>\n",
       "      <td>-0.239222</td>\n",
       "      <td>0.132023</td>\n",
       "      <td>-0.272981</td>\n",
       "      <td>-1.549911</td>\n",
       "      <td>0</td>\n",
       "      <td>0</td>\n",
       "      <td>0.00</td>\n",
       "      <td>0</td>\n",
       "      <td>0</td>\n",
       "      <td>0</td>\n",
       "      <td>0</td>\n",
       "      <td>0.0</td>\n",
       "      <td>0</td>\n",
       "      <td>0</td>\n",
       "      <td>0.0</td>\n",
       "      <td>0</td>\n",
       "      <td>0</td>\n",
       "      <td>0.0</td>\n",
       "    </tr>\n",
       "  </tbody>\n",
       "</table>\n",
       "</div>"
      ],
      "text/plain": [
       "    gene cancer_role  cgc_tier  uniprot_num wt_aa mut_aa     wt_ns    mut_ns  \\\n",
       "0    RB1         TSG         1          780     S      A -0.370530  5.803530   \n",
       "1  FGFR2    oncogene         1          659     K      M -1.209555  2.923126   \n",
       "2    ALK    oncogene         1         1275     R      Q  0.656542  4.539066   \n",
       "3  FGFR2    oncogene         1          659     K      Q -1.209555  2.541842   \n",
       "4  KIF5B      fusion         1          168     C      A  0.857446  2.653526   \n",
       "\n",
       "    diff_ns     wt_sd    mut_sd    wt_neb   mut_neb     wt_ld    mut_ld  \\\n",
       "0  6.174060 -0.198296  0.247563 -0.172234  5.555966  0.000000  0.000000   \n",
       "1  4.132681 -1.022663  0.930025 -0.481753  0.398724 -0.294861 -1.594377   \n",
       "2  3.882524 -0.407015  2.126575  0.619538  2.000970 -0.444019 -0.411522   \n",
       "3  3.751397 -1.022663  0.597328 -0.481753  0.325219 -0.294861 -1.619295   \n",
       "4  1.796080  0.823687  0.971592 -0.239222  0.132023 -0.272981 -1.549911   \n",
       "\n",
       "   num_ssm_affected_cases  num_cases_in_gene  ssm_affected_cases_percentage  \\\n",
       "0                       0                  0                           0.00   \n",
       "1                       0                  0                           0.00   \n",
       "2                       7               3038                           0.23   \n",
       "3                       0                  0                           0.00   \n",
       "4                       0                  0                           0.00   \n",
       "\n",
       "   num_gdc_ssm_affected_cases  num_gdc_ssm_cases  count_TCGA-LUAD  \\\n",
       "0                           0                  0                0   \n",
       "1                           0                  0                0   \n",
       "2                           7              16477                0   \n",
       "3                           0                  0                0   \n",
       "4                           0                  0                0   \n",
       "\n",
       "   total_TCGA-LUAD  perc_TCGA-LUAD  count_TCGA-LUSC  total_TCGA-LUSC  \\\n",
       "0                0             0.0                0                0   \n",
       "1                0             0.0                0                0   \n",
       "2                0             0.0                0                0   \n",
       "3                0             0.0                0                0   \n",
       "4                0             0.0                0                0   \n",
       "\n",
       "   perc_TCGA-LUSC  count_all_lung  total_all_lung  perc_all_lung  \n",
       "0             0.0               0               0            0.0  \n",
       "1             0.0               0               0            0.0  \n",
       "2             0.0               0               0            0.0  \n",
       "3             0.0               0               0            0.0  \n",
       "4             0.0               0               0            0.0  "
      ]
     },
     "execution_count": 35,
     "metadata": {},
     "output_type": "execute_result"
    }
   ],
   "source": [
    "# no max cols\n",
    "pd.set_option('display.max_columns', None)\n",
    "\n",
    "diff_aas = pd.read_csv(\"diff_aas_as_rows.csv\")\n",
    "diff_aas['diff_ns'] = diff_aas['mut_ns'] - diff_aas['wt_ns']\n",
    "diff_aas.head()\n"
   ]
  },
  {
   "cell_type": "code",
   "execution_count": 38,
   "metadata": {},
   "outputs": [
    {
     "data": {
      "image/png": "[encoded data removed]",
      "text/plain": [
       "<Figure size 640x480 with 1 Axes>"
      ]
     },
     "metadata": {},
     "output_type": "display_data"
    }
   ],
   "source": [
    "# plot diff_ns vs num_ssm_affected_cases\n",
    "col = \"num_ssm_affected_cases\"\n",
    "# sns.scatterplot(data=diff_aas[diff_aas[col]!=0], x=\"diff_ns\", y=col, hue=\"cancer_role\")\n",
    "sns.scatterplot(data=diff_aas, x=\"diff_ns\", y=col, hue=\"cancer_role\")\n",
    "plt.title(\"Difference in network score vs count of ALL CANCER TYPES cases affected\")\n",
    "plt.show()"
   ]
  },
  {
   "cell_type": "markdown",
   "metadata": {},
   "source": [
    "# test for ns vs mut freq - binning data and statistical test"
   ]
  },
  {
   "cell_type": "code",
   "execution_count": 16,
   "metadata": {},
   "outputs": [
    {
     "name": "stderr",
     "output_type": "stream",
     "text": [
      "C:\\Users\\liyoa\\AppData\\Local\\Temp\\ipykernel_33780\\2912491998.py:13: FutureWarning: The default of observed=False is deprecated and will be changed to True in a future version of pandas. Pass observed=False to retain current behavior or observed=True to adopt the future default and silence this warning.\n",
      "  ns_data.groupby([ 'cancer_role', 'ns_bin'])['tcga_num_cases'].sum().unstack().fillna(0)\n"
     ]
    },
    {
     "ename": "KeyError",
     "evalue": "'Column not found: tcga_num_cases'",
     "output_type": "error",
     "traceback": [
      "\u001b[1;31m---------------------------------------------------------------------------\u001b[0m",
      "\u001b[1;31mKeyError\u001b[0m                                  Traceback (most recent call last)",
      "Cell \u001b[1;32mIn[16], line 13\u001b[0m\n\u001b[0;32m     10\u001b[0m ns_data[\u001b[38;5;124m'\u001b[39m\u001b[38;5;124mns_bin\u001b[39m\u001b[38;5;124m'\u001b[39m] \u001b[38;5;241m=\u001b[39m pd\u001b[38;5;241m.\u001b[39mcut(ns_data[\u001b[38;5;124m'\u001b[39m\u001b[38;5;124mnetwork_score\u001b[39m\u001b[38;5;124m'\u001b[39m], bins\u001b[38;5;241m=\u001b[39mbins, labels\u001b[38;5;241m=\u001b[39mlabels)\n\u001b[0;32m     12\u001b[0m \u001b[38;5;66;03m# create table of sum of tcga_num_cases by ns_bin vs cancer_role\u001b[39;00m\n\u001b[1;32m---> 13\u001b[0m ns_data\u001b[38;5;241m.\u001b[39mgroupby([ \u001b[38;5;124m'\u001b[39m\u001b[38;5;124mcancer_role\u001b[39m\u001b[38;5;124m'\u001b[39m, \u001b[38;5;124m'\u001b[39m\u001b[38;5;124mns_bin\u001b[39m\u001b[38;5;124m'\u001b[39m])[\u001b[38;5;124m'\u001b[39m\u001b[38;5;124mtcga_num_cases\u001b[39m\u001b[38;5;124m'\u001b[39m]\u001b[38;5;241m.\u001b[39msum()\u001b[38;5;241m.\u001b[39munstack()\u001b[38;5;241m.\u001b[39mfillna(\u001b[38;5;241m0\u001b[39m)\n",
      "File \u001b[1;32mc:\\Users\\liyoa\\anaconda3\\envs\\sbna\\Lib\\site-packages\\pandas\\core\\groupby\\generic.py:1964\u001b[0m, in \u001b[0;36mDataFrameGroupBy.__getitem__\u001b[1;34m(self, key)\u001b[0m\n\u001b[0;32m   1957\u001b[0m \u001b[38;5;28;01mif\u001b[39;00m \u001b[38;5;28misinstance\u001b[39m(key, \u001b[38;5;28mtuple\u001b[39m) \u001b[38;5;129;01mand\u001b[39;00m \u001b[38;5;28mlen\u001b[39m(key) \u001b[38;5;241m>\u001b[39m \u001b[38;5;241m1\u001b[39m:\n\u001b[0;32m   1958\u001b[0m     \u001b[38;5;66;03m# if len == 1, then it becomes a SeriesGroupBy and this is actually\u001b[39;00m\n\u001b[0;32m   1959\u001b[0m     \u001b[38;5;66;03m# valid syntax, so don't raise\u001b[39;00m\n\u001b[0;32m   1960\u001b[0m     \u001b[38;5;28;01mraise\u001b[39;00m \u001b[38;5;167;01mValueError\u001b[39;00m(\n\u001b[0;32m   1961\u001b[0m         \u001b[38;5;124m\"\u001b[39m\u001b[38;5;124mCannot subset columns with a tuple with more than one element. \u001b[39m\u001b[38;5;124m\"\u001b[39m\n\u001b[0;32m   1962\u001b[0m         \u001b[38;5;124m\"\u001b[39m\u001b[38;5;124mUse a list instead.\u001b[39m\u001b[38;5;124m\"\u001b[39m\n\u001b[0;32m   1963\u001b[0m     )\n\u001b[1;32m-> 1964\u001b[0m \u001b[38;5;28;01mreturn\u001b[39;00m \u001b[38;5;28msuper\u001b[39m()\u001b[38;5;241m.\u001b[39m\u001b[38;5;21m__getitem__\u001b[39m(key)\n",
      "File \u001b[1;32mc:\\Users\\liyoa\\anaconda3\\envs\\sbna\\Lib\\site-packages\\pandas\\core\\base.py:244\u001b[0m, in \u001b[0;36mSelectionMixin.__getitem__\u001b[1;34m(self, key)\u001b[0m\n\u001b[0;32m    242\u001b[0m \u001b[38;5;28;01melse\u001b[39;00m:\n\u001b[0;32m    243\u001b[0m     \u001b[38;5;28;01mif\u001b[39;00m key \u001b[38;5;129;01mnot\u001b[39;00m \u001b[38;5;129;01min\u001b[39;00m \u001b[38;5;28mself\u001b[39m\u001b[38;5;241m.\u001b[39mobj:\n\u001b[1;32m--> 244\u001b[0m         \u001b[38;5;28;01mraise\u001b[39;00m \u001b[38;5;167;01mKeyError\u001b[39;00m(\u001b[38;5;124mf\u001b[39m\u001b[38;5;124m\"\u001b[39m\u001b[38;5;124mColumn not found: \u001b[39m\u001b[38;5;132;01m{\u001b[39;00mkey\u001b[38;5;132;01m}\u001b[39;00m\u001b[38;5;124m\"\u001b[39m)\n\u001b[0;32m    245\u001b[0m     ndim \u001b[38;5;241m=\u001b[39m \u001b[38;5;28mself\u001b[39m\u001b[38;5;241m.\u001b[39mobj[key]\u001b[38;5;241m.\u001b[39mndim\n\u001b[0;32m    246\u001b[0m     \u001b[38;5;28;01mreturn\u001b[39;00m \u001b[38;5;28mself\u001b[39m\u001b[38;5;241m.\u001b[39m_gotitem(key, ndim\u001b[38;5;241m=\u001b[39mndim)\n",
      "\u001b[1;31mKeyError\u001b[0m: 'Column not found: tcga_num_cases'"
     ]
    }
   ],
   "source": [
    "ns_data = pd.read_csv(\"wt_ns_aggregated.csv\")\n",
    "\n",
    "# if cancer_role is unknown or fusion, set new_cancer_role to other, and if TSG or oncogene, set new_cancer_role to \"TSG/Oncogene\"\n",
    "ns_data.loc[ns_data['cancer_role'].isin([\"Unknown\", \"fusion\"]), 'cancer_role'] = \"unknown/fusion\"\n",
    "ns_data.loc[ns_data['cancer_role'].isin([\"TSG\", \"oncogene\"]), 'cancer_role'] = \"TSG/oncogene\"\n",
    "\n",
    "# bin data by network score with -inf to -2.5, -2.5 to 2.5 and 2.5 to inf\n",
    "bins = [-float(\"inf\"), -2.5, 2.5, float(\"inf\")]\n",
    "labels = [\"lower\", \"medium\", \"higher\"] \n",
    "ns_data['ns_bin'] = pd.cut(ns_data['network_score'], bins=bins, labels=labels)\n",
    "\n",
    "# create table of sum of tcga_num_cases by ns_bin vs cancer_role\n",
    "ns_data.groupby([ 'cancer_role', 'ns_bin'])['tcga_num_cases'].sum().unstack().fillna(0)\n"
   ]
  },
  {
   "cell_type": "markdown",
   "metadata": {},
   "source": [
    "# plot by residue number on x axis and network score on y\n",
    "goal is to plot the mutational hotspot locations too"
   ]
  },
  {
   "cell_type": "code",
   "execution_count": 59,
   "metadata": {},
   "outputs": [
    {
     "data": {
      "text/plain": [
       "count    194.000000\n",
       "mean      16.835052\n",
       "std       38.421761\n",
       "min        0.000000\n",
       "25%        0.000000\n",
       "50%        4.000000\n",
       "75%       16.000000\n",
       "max      314.000000\n",
       "Name: tcga_num_cases, dtype: float64"
      ]
     },
     "execution_count": 59,
     "metadata": {},
     "output_type": "execute_result"
    }
   ],
   "source": [
    "# calculate summary statistics\n",
    "tp53['tcga_num_cases'].describe()\n"
   ]
  },
  {
   "cell_type": "code",
   "execution_count": 22,
   "metadata": {},
   "outputs": [
    {
     "data": {
      "text/html": [
       "<div>\n",
       "<style scoped>\n",
       "    .dataframe tbody tr th:only-of-type {\n",
       "        vertical-align: middle;\n",
       "    }\n",
       "\n",
       "    .dataframe tbody tr th {\n",
       "        vertical-align: top;\n",
       "    }\n",
       "\n",
       "    .dataframe thead th {\n",
       "        text-align: right;\n",
       "    }\n",
       "</style>\n",
       "<table border=\"1\" class=\"dataframe\">\n",
       "  <thead>\n",
       "    <tr style=\"text-align: right;\">\n",
       "      <th></th>\n",
       "      <th>gene</th>\n",
       "      <th>pdb_id</th>\n",
       "      <th>chain</th>\n",
       "      <th>sbna_aa3</th>\n",
       "      <th>sbna_num</th>\n",
       "      <th>sbna_aa1</th>\n",
       "      <th>uniprot_num</th>\n",
       "      <th>uniprot_aa</th>\n",
       "      <th>network_score</th>\n",
       "      <th>SecondOrderIntermodularDegree_AVERAGE</th>\n",
       "      <th>NodeEdgeBetweennessSTRIDE_sidechain_MAX</th>\n",
       "      <th>LigandMULTIMERCENTROIDSC_MIN</th>\n",
       "      <th>mutant</th>\n",
       "      <th>mutations</th>\n",
       "      <th>cgc_tier</th>\n",
       "      <th>cancer_role</th>\n",
       "    </tr>\n",
       "  </thead>\n",
       "  <tbody>\n",
       "    <tr>\n",
       "      <th>0</th>\n",
       "      <td>AKT1</td>\n",
       "      <td>2UVM</td>\n",
       "      <td>A</td>\n",
       "      <td>MET</td>\n",
       "      <td>1</td>\n",
       "      <td>M</td>\n",
       "      <td>1</td>\n",
       "      <td>M</td>\n",
       "      <td>-3.289764</td>\n",
       "      <td>-0.887739</td>\n",
       "      <td>-0.599135</td>\n",
       "      <td>1.802890</td>\n",
       "      <td>N</td>\n",
       "      <td>NaN</td>\n",
       "      <td>1</td>\n",
       "      <td>oncogene</td>\n",
       "    </tr>\n",
       "    <tr>\n",
       "      <th>1</th>\n",
       "      <td>AKT1</td>\n",
       "      <td>2UVM</td>\n",
       "      <td>A</td>\n",
       "      <td>SER</td>\n",
       "      <td>2</td>\n",
       "      <td>S</td>\n",
       "      <td>2</td>\n",
       "      <td>S</td>\n",
       "      <td>-3.211822</td>\n",
       "      <td>-0.780412</td>\n",
       "      <td>-0.514186</td>\n",
       "      <td>1.917224</td>\n",
       "      <td>N</td>\n",
       "      <td>NaN</td>\n",
       "      <td>1</td>\n",
       "      <td>oncogene</td>\n",
       "    </tr>\n",
       "    <tr>\n",
       "      <th>2</th>\n",
       "      <td>AKT1</td>\n",
       "      <td>2UVM</td>\n",
       "      <td>A</td>\n",
       "      <td>ASP</td>\n",
       "      <td>3</td>\n",
       "      <td>D</td>\n",
       "      <td>3</td>\n",
       "      <td>D</td>\n",
       "      <td>-2.323640</td>\n",
       "      <td>-0.348912</td>\n",
       "      <td>-0.599135</td>\n",
       "      <td>1.375593</td>\n",
       "      <td>N</td>\n",
       "      <td>NaN</td>\n",
       "      <td>1</td>\n",
       "      <td>oncogene</td>\n",
       "    </tr>\n",
       "    <tr>\n",
       "      <th>3</th>\n",
       "      <td>AKT1</td>\n",
       "      <td>2UVM</td>\n",
       "      <td>A</td>\n",
       "      <td>VAL</td>\n",
       "      <td>4</td>\n",
       "      <td>V</td>\n",
       "      <td>4</td>\n",
       "      <td>V</td>\n",
       "      <td>-1.720478</td>\n",
       "      <td>-0.423430</td>\n",
       "      <td>-0.430810</td>\n",
       "      <td>0.866237</td>\n",
       "      <td>N</td>\n",
       "      <td>NaN</td>\n",
       "      <td>1</td>\n",
       "      <td>oncogene</td>\n",
       "    </tr>\n",
       "    <tr>\n",
       "      <th>4</th>\n",
       "      <td>AKT1</td>\n",
       "      <td>2UVM</td>\n",
       "      <td>A</td>\n",
       "      <td>ALA</td>\n",
       "      <td>5</td>\n",
       "      <td>A</td>\n",
       "      <td>5</td>\n",
       "      <td>A</td>\n",
       "      <td>-0.735485</td>\n",
       "      <td>-0.359177</td>\n",
       "      <td>0.880892</td>\n",
       "      <td>1.257200</td>\n",
       "      <td>N</td>\n",
       "      <td>NaN</td>\n",
       "      <td>1</td>\n",
       "      <td>oncogene</td>\n",
       "    </tr>\n",
       "  </tbody>\n",
       "</table>\n",
       "</div>"
      ],
      "text/plain": [
       "   gene pdb_id chain sbna_aa3  sbna_num sbna_aa1  uniprot_num uniprot_aa  \\\n",
       "0  AKT1   2UVM     A      MET         1        M            1          M   \n",
       "1  AKT1   2UVM     A      SER         2        S            2          S   \n",
       "2  AKT1   2UVM     A      ASP         3        D            3          D   \n",
       "3  AKT1   2UVM     A      VAL         4        V            4          V   \n",
       "4  AKT1   2UVM     A      ALA         5        A            5          A   \n",
       "\n",
       "   network_score  SecondOrderIntermodularDegree_AVERAGE  \\\n",
       "0      -3.289764                              -0.887739   \n",
       "1      -3.211822                              -0.780412   \n",
       "2      -2.323640                              -0.348912   \n",
       "3      -1.720478                              -0.423430   \n",
       "4      -0.735485                              -0.359177   \n",
       "\n",
       "   NodeEdgeBetweennessSTRIDE_sidechain_MAX  LigandMULTIMERCENTROIDSC_MIN  \\\n",
       "0                                -0.599135                      1.802890   \n",
       "1                                -0.514186                      1.917224   \n",
       "2                                -0.599135                      1.375593   \n",
       "3                                -0.430810                      0.866237   \n",
       "4                                 0.880892                      1.257200   \n",
       "\n",
       "  mutant mutations  cgc_tier cancer_role  \n",
       "0      N       NaN         1    oncogene  \n",
       "1      N       NaN         1    oncogene  \n",
       "2      N       NaN         1    oncogene  \n",
       "3      N       NaN         1    oncogene  \n",
       "4      N       NaN         1    oncogene  "
      ]
     },
     "execution_count": 22,
     "metadata": {},
     "output_type": "execute_result"
    }
   ],
   "source": [
    "\n",
    "dat = pd.read_csv(\"lung_genes_sbna.csv\")\n",
    "dat = dat[dat['uniprot_num']!=\"?\"]\n",
    "dat['uniprot_num'] = dat['uniprot_num'].astype(int)\n",
    "# dat['gene'].unique()\n",
    "dat.head()"
   ]
  },
  {
   "cell_type": "code",
   "execution_count": 28,
   "metadata": {},
   "outputs": [
    {
     "name": "stderr",
     "output_type": "stream",
     "text": [
      "C:\\Users\\liyoa\\AppData\\Local\\Temp\\ipykernel_33780\\1838643514.py:4: SettingWithCopyWarning:\n",
      "\n",
      "\n",
      "A value is trying to be set on a copy of a slice from a DataFrame\n",
      "\n",
      "See the caveats in the documentation: https://pandas.pydata.org/pandas-docs/stable/user_guide/indexing.html#returning-a-view-versus-a-copy\n",
      "\n"
     ]
    },
    {
     "data": {
      "application/vnd.plotly.v1+json": {
       "config": {
        "plotlyServerURL": "https://plot.ly"
       },
       "data": [
        {
         "customdata": [
          [
           "4IBQ"
          ],
          [
           "4IBQ"
          ],
          [
           "4IBQ"
          ],
          [
           "4IBQ"
          ],
          [
           "4IBQ"
          ],
          [
           "4IBQ"
          ],
          [
           "4IBQ"
          ],
          [
           "4IBQ"
          ],
          [
           "4IBQ"
          ],
          [
           "4IBQ"
          ],
          [
           "4IBQ"
          ],
          [
           "4IBQ"
          ],
          [
           "4IBQ"
          ],
          [
           "4IBQ"
          ],
          [
           "4IBQ"
          ],
          [
           "4IBQ"
          ],
          [
           "4IBQ"
          ],
          [
           "4IBQ"
          ],
          [
           "4IBQ"
          ],
          [
           "4IBQ"
          ],
          [
           "4IBQ"
          ],
          [
           "4IBQ"
          ],
          [
           "4IBQ"
          ],
          [
           "4IBQ"
          ],
          [
           "4IBQ"
          ],
          [
           "4IBQ"
          ],
          [
           "4IBQ"
          ],
          [
           "4IBQ"
          ],
          [
           "4IBQ"
          ],
          [
           "4IBQ"
          ],
          [
           "4IBQ"
          ],
          [
           "4IBQ"
          ],
          [
           "4IBQ"
          ],
          [
           "4IBQ"
          ],
          [
           "4IBQ"
          ],
          [
           "4IBQ"
          ],
          [
           "4IBQ"
          ],
          [
           "4IBQ"
          ],
          [
           "4IBQ"
          ],
          [
           "4IBQ"
          ],
          [
           "4IBQ"
          ],
          [
           "4IBQ"
          ],
          [
           "4IBQ"
          ],
          [
           "4IBQ"
          ],
          [
           "4IBQ"
          ],
          [
           "4IBQ"
          ],
          [
           "4IBQ"
          ],
          [
           "4IBQ"
          ],
          [
           "4IBQ"
          ],
          [
           "4IBQ"
          ],
          [
           "4IBQ"
          ],
          [
           "4IBQ"
          ],
          [
           "4IBQ"
          ],
          [
           "4IBQ"
          ],
          [
           "4IBQ"
          ],
          [
           "4IBQ"
          ],
          [
           "4IBQ"
          ],
          [
           "4IBQ"
          ],
          [
           "4IBQ"
          ],
          [
           "4IBQ"
          ],
          [
           "4IBQ"
          ],
          [
           "4IBQ"
          ],
          [
           "4IBQ"
          ],
          [
           "4IBQ"
          ],
          [
           "4IBQ"
          ],
          [
           "4IBQ"
          ],
          [
           "4IBQ"
          ],
          [
           "4IBQ"
          ],
          [
           "4IBQ"
          ],
          [
           "4IBQ"
          ],
          [
           "4IBQ"
          ],
          [
           "4IBQ"
          ],
          [
           "4IBQ"
          ],
          [
           "4IBQ"
          ],
          [
           "4IBQ"
          ],
          [
           "4IBQ"
          ],
          [
           "4IBQ"
          ],
          [
           "4IBQ"
          ],
          [
           "4IBQ"
          ],
          [
           "4IBQ"
          ],
          [
           "4IBQ"
          ],
          [
           "4IBQ"
          ],
          [
           "4IBQ"
          ],
          [
           "4IBQ"
          ],
          [
           "4IBQ"
          ],
          [
           "4IBQ"
          ],
          [
           "4IBQ"
          ],
          [
           "4IBQ"
          ],
          [
           "4IBQ"
          ],
          [
           "4IBQ"
          ],
          [
           "4IBQ"
          ],
          [
           "4IBQ"
          ],
          [
           "4IBQ"
          ],
          [
           "4IBQ"
          ],
          [
           "4IBQ"
          ],
          [
           "4IBQ"
          ],
          [
           "4IBQ"
          ],
          [
           "4IBQ"
          ],
          [
           "4IBQ"
          ],
          [
           "4IBQ"
          ],
          [
           "4IBQ"
          ],
          [
           "4IBQ"
          ],
          [
           "4IBQ"
          ],
          [
           "4IBQ"
          ],
          [
           "4IBQ"
          ],
          [
           "4IBQ"
          ],
          [
           "4IBQ"
          ],
          [
           "4IBQ"
          ],
          [
           "4IBQ"
          ],
          [
           "4IBQ"
          ],
          [
           "4IBQ"
          ],
          [
           "4IBQ"
          ],
          [
           "4IBQ"
          ],
          [
           "4IBQ"
          ],
          [
           "4IBQ"
          ],
          [
           "4IBQ"
          ],
          [
           "4IBQ"
          ],
          [
           "4IBQ"
          ],
          [
           "4IBQ"
          ],
          [
           "4IBQ"
          ],
          [
           "4IBQ"
          ],
          [
           "4IBQ"
          ],
          [
           "4IBQ"
          ],
          [
           "4IBQ"
          ],
          [
           "4IBQ"
          ],
          [
           "4IBQ"
          ],
          [
           "4IBQ"
          ],
          [
           "4IBQ"
          ],
          [
           "4IBQ"
          ],
          [
           "4IBQ"
          ],
          [
           "4IBQ"
          ],
          [
           "4IBQ"
          ],
          [
           "4IBQ"
          ],
          [
           "4IBQ"
          ],
          [
           "4IBQ"
          ],
          [
           "4IBQ"
          ],
          [
           "4IBQ"
          ],
          [
           "4IBQ"
          ],
          [
           "4IBQ"
          ],
          [
           "4IBQ"
          ],
          [
           "4IBQ"
          ],
          [
           "4IBQ"
          ],
          [
           "4IBQ"
          ],
          [
           "4IBQ"
          ],
          [
           "4IBQ"
          ],
          [
           "4IBQ"
          ],
          [
           "4IBQ"
          ],
          [
           "4IBQ"
          ],
          [
           "4IBQ"
          ],
          [
           "4IBQ"
          ],
          [
           "4IBQ"
          ],
          [
           "4IBQ"
          ],
          [
           "4IBQ"
          ],
          [
           "4IBQ"
          ],
          [
           "4IBQ"
          ],
          [
           "4IBQ"
          ],
          [
           "4IBQ"
          ],
          [
           "4IBQ"
          ],
          [
           "4IBQ"
          ],
          [
           "4IBQ"
          ],
          [
           "4IBQ"
          ],
          [
           "4IBQ"
          ],
          [
           "4IBQ"
          ],
          [
           "4IBQ"
          ],
          [
           "4IBQ"
          ],
          [
           "4IBQ"
          ],
          [
           "4IBQ"
          ],
          [
           "4IBQ"
          ],
          [
           "4IBQ"
          ],
          [
           "4IBQ"
          ],
          [
           "4IBQ"
          ],
          [
           "4IBQ"
          ],
          [
           "4IBQ"
          ],
          [
           "4IBQ"
          ],
          [
           "4IBQ"
          ],
          [
           "4IBQ"
          ],
          [
           "4IBQ"
          ],
          [
           "4IBQ"
          ],
          [
           "4IBQ"
          ],
          [
           "4IBQ"
          ],
          [
           "4IBQ"
          ],
          [
           "4IBQ"
          ],
          [
           "4IBQ"
          ],
          [
           "4IBQ"
          ],
          [
           "4IBQ"
          ],
          [
           "4IBQ"
          ],
          [
           "4IBQ"
          ],
          [
           "4IBQ"
          ],
          [
           "4IBQ"
          ],
          [
           "4IBQ"
          ],
          [
           "4IBQ"
          ],
          [
           "4IBQ"
          ],
          [
           "4IBQ"
          ],
          [
           "4IBQ"
          ],
          [
           "4IBQ"
          ],
          [
           "4IBQ"
          ],
          [
           "4IBQ"
          ],
          [
           "4IBQ"
          ],
          [
           "4IBQ"
          ],
          [
           "4IBQ"
          ],
          [
           "4IBQ"
          ],
          [
           "4IBQ"
          ],
          [
           "4IBQ"
          ],
          [
           "4IBQ"
          ],
          [
           "4IBQ"
          ],
          [
           "4IBQ"
          ],
          [
           "4IBQ"
          ],
          [
           "4IBQ"
          ],
          [
           "4IBQ"
          ],
          [
           "4IBQ"
          ],
          [
           "4IBQ"
          ],
          [
           "4IBQ"
          ],
          [
           "4IBQ"
          ],
          [
           "4IBQ"
          ],
          [
           "4IBQ"
          ],
          [
           "4IBQ"
          ],
          [
           "4IBQ"
          ],
          [
           "4IBQ"
          ],
          [
           "4IBQ"
          ],
          [
           "4IBQ"
          ],
          [
           "4IBQ"
          ],
          [
           "4IBQ"
          ],
          [
           "4IBQ"
          ],
          [
           "4IBQ"
          ],
          [
           "4IBQ"
          ],
          [
           "4IBQ"
          ],
          [
           "4IBQ"
          ],
          [
           "4IBQ"
          ],
          [
           "4IBQ"
          ],
          [
           "4IBQ"
          ],
          [
           "4IBQ"
          ],
          [
           "4IBQ"
          ],
          [
           "4IBQ"
          ],
          [
           "4IBQ"
          ],
          [
           "4IBQ"
          ],
          [
           "4IBQ"
          ],
          [
           "4IBQ"
          ],
          [
           "4IBQ"
          ],
          [
           "4IBQ"
          ],
          [
           "4IBQ"
          ],
          [
           "4IBQ"
          ],
          [
           "4IBQ"
          ],
          [
           "4IBQ"
          ],
          [
           "4IBQ"
          ],
          [
           "4IBQ"
          ],
          [
           "4IBQ"
          ],
          [
           "4IBQ"
          ],
          [
           "4IBQ"
          ],
          [
           "4IBQ"
          ],
          [
           "4IBQ"
          ],
          [
           "4IBQ"
          ],
          [
           "4IBQ"
          ],
          [
           "4IBQ"
          ],
          [
           "4IBQ"
          ],
          [
           "4IBQ"
          ],
          [
           "4IBQ"
          ],
          [
           "4IBQ"
          ],
          [
           "4IBQ"
          ],
          [
           "4IBQ"
          ],
          [
           "4IBQ"
          ],
          [
           "4IBQ"
          ],
          [
           "4IBQ"
          ],
          [
           "4IBQ"
          ],
          [
           "4IBQ"
          ],
          [
           "4IBQ"
          ],
          [
           "4IBQ"
          ],
          [
           "4IBQ"
          ],
          [
           "4IBQ"
          ],
          [
           "4IBQ"
          ],
          [
           "4IBQ"
          ],
          [
           "4IBQ"
          ],
          [
           "4IBQ"
          ],
          [
           "4IBQ"
          ],
          [
           "4IBQ"
          ],
          [
           "4IBQ"
          ],
          [
           "4IBQ"
          ],
          [
           "4IBQ"
          ],
          [
           "4IBQ"
          ],
          [
           "4IBQ"
          ],
          [
           "4IBQ"
          ],
          [
           "4IBQ"
          ],
          [
           "4IBQ"
          ],
          [
           "4IBQ"
          ],
          [
           "4IBQ"
          ],
          [
           "4IBQ"
          ],
          [
           "4IBQ"
          ],
          [
           "4IBQ"
          ],
          [
           "4IBQ"
          ],
          [
           "4IBQ"
          ],
          [
           "4IBQ"
          ],
          [
           "4IBQ"
          ],
          [
           "4IBQ"
          ],
          [
           "4IBQ"
          ],
          [
           "4IBQ"
          ],
          [
           "4IBQ"
          ],
          [
           "4IBQ"
          ],
          [
           "4IBQ"
          ],
          [
           "4IBQ"
          ],
          [
           "4IBQ"
          ],
          [
           "4IBQ"
          ],
          [
           "4IBQ"
          ],
          [
           "4IBQ"
          ],
          [
           "4IBQ"
          ],
          [
           "4IBQ"
          ],
          [
           "4IBQ"
          ],
          [
           "4IBQ"
          ],
          [
           "4IBQ"
          ],
          [
           "4IBQ"
          ],
          [
           "4IBQ"
          ],
          [
           "4IBQ"
          ],
          [
           "4IBQ"
          ],
          [
           "4IBQ"
          ],
          [
           "4IBQ"
          ],
          [
           "4IBQ"
          ],
          [
           "4IBQ"
          ],
          [
           "4IBQ"
          ],
          [
           "4IBQ"
          ],
          [
           "4IBQ"
          ],
          [
           "4IBQ"
          ],
          [
           "4IBQ"
          ],
          [
           "4IBQ"
          ],
          [
           "4IBQ"
          ],
          [
           "4IBQ"
          ],
          [
           "4IBQ"
          ],
          [
           "4IBQ"
          ],
          [
           "4IBQ"
          ],
          [
           "4IBQ"
          ],
          [
           "4IBQ"
          ],
          [
           "4IBQ"
          ],
          [
           "4IBQ"
          ],
          [
           "4IBQ"
          ],
          [
           "4IBQ"
          ],
          [
           "4IBQ"
          ],
          [
           "4IBQ"
          ],
          [
           "4IBQ"
          ],
          [
           "4IBQ"
          ],
          [
           "4IBQ"
          ],
          [
           "4IBQ"
          ],
          [
           "4IBQ"
          ],
          [
           "4IBQ"
          ],
          [
           "4IBQ"
          ],
          [
           "4IBQ"
          ],
          [
           "4IBQ"
          ],
          [
           "4IBQ"
          ],
          [
           "4IBQ"
          ],
          [
           "4IBQ"
          ],
          [
           "4IBQ"
          ],
          [
           "4IBQ"
          ],
          [
           "4IBQ"
          ],
          [
           "4IBQ"
          ],
          [
           "4IBQ"
          ],
          [
           "4IBQ"
          ],
          [
           "4IBQ"
          ],
          [
           "4IBQ"
          ],
          [
           "4IBQ"
          ],
          [
           "4IBQ"
          ],
          [
           "4IBQ"
          ],
          [
           "4IBQ"
          ],
          [
           "4IBQ"
          ],
          [
           "4IBQ"
          ],
          [
           "4IBQ"
          ],
          [
           "4IBQ"
          ],
          [
           "4IBQ"
          ],
          [
           "4IBQ"
          ],
          [
           "4IBQ"
          ],
          [
           "4IBQ"
          ],
          [
           "4IBQ"
          ],
          [
           "4IBQ"
          ],
          [
           "4IBQ"
          ],
          [
           "4IBQ"
          ],
          [
           "4IBQ"
          ],
          [
           "4IBQ"
          ],
          [
           "4IBQ"
          ],
          [
           "4IBQ"
          ],
          [
           "4IBQ"
          ],
          [
           "4IBQ"
          ],
          [
           "4IBQ"
          ],
          [
           "4IBQ"
          ],
          [
           "4IBQ"
          ],
          [
           "4IBQ"
          ],
          [
           "4IBQ"
          ],
          [
           "4IBQ"
          ],
          [
           "4IBQ"
          ],
          [
           "4IBQ"
          ],
          [
           "4IBQ"
          ],
          [
           "4IBQ"
          ],
          [
           "4IBQ"
          ],
          [
           "4IBQ"
          ],
          [
           "4IBQ"
          ],
          [
           "4IBQ"
          ],
          [
           "4IBQ"
          ],
          [
           "4IBQ"
          ],
          [
           "4IBQ"
          ],
          [
           "4IBQ"
          ],
          [
           "4IBQ"
          ],
          [
           "4IBQ"
          ],
          [
           "4IBQ"
          ],
          [
           "4IBQ"
          ],
          [
           "4IBQ"
          ],
          [
           "4IBQ"
          ],
          [
           "4IBQ"
          ],
          [
           "4IBQ"
          ],
          [
           "4IBQ"
          ],
          [
           "4IBQ"
          ],
          [
           "4IBQ"
          ],
          [
           "4IBQ"
          ],
          [
           "4IBQ"
          ],
          [
           "4IBQ"
          ],
          [
           "4IBQ"
          ],
          [
           "4IBQ"
          ],
          [
           "4IBQ"
          ],
          [
           "4IBQ"
          ],
          [
           "4IBQ"
          ],
          [
           "4IBQ"
          ],
          [
           "4IBQ"
          ],
          [
           "4IBQ"
          ],
          [
           "4IBQ"
          ],
          [
           "4IBQ"
          ],
          [
           "4IBQ"
          ],
          [
           "4IBQ"
          ],
          [
           "4IBQ"
          ],
          [
           "4IBQ"
          ],
          [
           "4IBQ"
          ],
          [
           "4IBQ"
          ],
          [
           "4IBQ"
          ],
          [
           "4IBQ"
          ],
          [
           "4IBQ"
          ],
          [
           "4IBQ"
          ],
          [
           "4IBQ"
          ],
          [
           "4IBQ"
          ],
          [
           "4IBQ"
          ],
          [
           "4IBQ"
          ],
          [
           "4IBQ"
          ],
          [
           "4IBQ"
          ],
          [
           "4IBQ"
          ],
          [
           "4IBQ"
          ],
          [
           "4IBQ"
          ],
          [
           "4IBQ"
          ],
          [
           "4IBQ"
          ],
          [
           "4IBQ"
          ],
          [
           "4IBQ"
          ],
          [
           "4IBQ"
          ],
          [
           "4IBQ"
          ],
          [
           "4IBQ"
          ],
          [
           "4IBQ"
          ],
          [
           "4IBQ"
          ],
          [
           "4IBQ"
          ],
          [
           "4IBQ"
          ],
          [
           "4IBQ"
          ],
          [
           "4IBQ"
          ],
          [
           "4IBQ"
          ],
          [
           "4IBQ"
          ],
          [
           "4IBQ"
          ],
          [
           "4IBQ"
          ],
          [
           "4IBQ"
          ],
          [
           "4IBQ"
          ],
          [
           "4IBQ"
          ],
          [
           "4IBQ"
          ],
          [
           "4IBQ"
          ],
          [
           "4IBQ"
          ],
          [
           "4IBQ"
          ],
          [
           "4IBQ"
          ],
          [
           "4IBQ"
          ],
          [
           "4IBQ"
          ],
          [
           "4IBQ"
          ],
          [
           "4IBQ"
          ],
          [
           "4IBQ"
          ],
          [
           "4IBQ"
          ],
          [
           "4IBQ"
          ],
          [
           "4IBQ"
          ],
          [
           "4IBQ"
          ],
          [
           "4IBQ"
          ],
          [
           "4IBQ"
          ],
          [
           "4IBQ"
          ],
          [
           "4IBQ"
          ],
          [
           "4IBQ"
          ],
          [
           "4IBQ"
          ],
          [
           "4IBQ"
          ],
          [
           "4IBQ"
          ],
          [
           "4IBQ"
          ],
          [
           "4IBQ"
          ],
          [
           "4IBQ"
          ],
          [
           "4IBQ"
          ],
          [
           "4IBQ"
          ],
          [
           "4IBQ"
          ],
          [
           "4IBQ"
          ],
          [
           "4IBQ"
          ],
          [
           "4IBQ"
          ],
          [
           "4IBQ"
          ],
          [
           "4IBQ"
          ],
          [
           "4IBQ"
          ],
          [
           "4IBQ"
          ],
          [
           "4IBQ"
          ],
          [
           "4IBQ"
          ],
          [
           "4IBQ"
          ],
          [
           "4IBQ"
          ],
          [
           "4IBQ"
          ],
          [
           "4IBQ"
          ],
          [
           "4IBQ"
          ],
          [
           "4IBQ"
          ],
          [
           "4IBQ"
          ],
          [
           "4IBQ"
          ],
          [
           "4IBQ"
          ],
          [
           "4IBQ"
          ],
          [
           "4IBQ"
          ],
          [
           "4IBQ"
          ],
          [
           "4IBQ"
          ],
          [
           "4IBQ"
          ],
          [
           "4IBQ"
          ],
          [
           "4IBQ"
          ],
          [
           "4IBQ"
          ],
          [
           "4IBQ"
          ],
          [
           "4IBQ"
          ],
          [
           "4IBQ"
          ],
          [
           "4IBQ"
          ],
          [
           "4IBQ"
          ],
          [
           "4IBQ"
          ],
          [
           "4IBQ"
          ],
          [
           "4IBQ"
          ],
          [
           "4IBQ"
          ],
          [
           "4IBQ"
          ],
          [
           "4IBQ"
          ],
          [
           "4IBQ"
          ],
          [
           "4IBQ"
          ],
          [
           "4IBQ"
          ],
          [
           "4IBQ"
          ],
          [
           "4IBQ"
          ],
          [
           "4IBQ"
          ],
          [
           "4IBQ"
          ],
          [
           "4IBQ"
          ],
          [
           "4IBQ"
          ],
          [
           "4IBQ"
          ],
          [
           "4IBQ"
          ],
          [
           "4IBQ"
          ],
          [
           "4IBQ"
          ],
          [
           "4IBQ"
          ],
          [
           "4IBQ"
          ],
          [
           "4IBQ"
          ],
          [
           "4IBQ"
          ],
          [
           "4IBQ"
          ],
          [
           "4IBQ"
          ],
          [
           "4IBQ"
          ],
          [
           "4IBQ"
          ],
          [
           "4IBQ"
          ],
          [
           "4IBQ"
          ],
          [
           "4IBQ"
          ],
          [
           "4IBQ"
          ],
          [
           "4IBQ"
          ],
          [
           "4IBQ"
          ],
          [
           "4IBQ"
          ],
          [
           "4IBQ"
          ],
          [
           "4IBQ"
          ],
          [
           "4IBQ"
          ],
          [
           "4IBQ"
          ],
          [
           "4IBQ"
          ],
          [
           "4IBQ"
          ],
          [
           "4IBQ"
          ],
          [
           "4IBQ"
          ],
          [
           "4IBQ"
          ],
          [
           "4IBQ"
          ],
          [
           "4IBQ"
          ],
          [
           "4IBQ"
          ],
          [
           "4IBQ"
          ],
          [
           "4IBQ"
          ],
          [
           "4IBQ"
          ],
          [
           "4IBQ"
          ],
          [
           "4IBQ"
          ],
          [
           "4IBQ"
          ],
          [
           "4IBQ"
          ],
          [
           "4IBQ"
          ],
          [
           "4IBQ"
          ],
          [
           "4IBQ"
          ],
          [
           "4IBQ"
          ],
          [
           "4IBQ"
          ],
          [
           "4IBQ"
          ],
          [
           "4IBQ"
          ],
          [
           "4IBQ"
          ],
          [
           "4IBQ"
          ],
          [
           "4IBQ"
          ],
          [
           "4IBQ"
          ],
          [
           "4IBQ"
          ],
          [
           "4IBQ"
          ],
          [
           "4IBQ"
          ],
          [
           "4IBQ"
          ],
          [
           "4IBQ"
          ],
          [
           "4IBQ"
          ],
          [
           "4IBQ"
          ],
          [
           "4IBQ"
          ],
          [
           "4IBQ"
          ],
          [
           "4IBQ"
          ],
          [
           "4IBQ"
          ],
          [
           "4IBQ"
          ],
          [
           "4IBQ"
          ],
          [
           "4IBQ"
          ],
          [
           "4IBQ"
          ],
          [
           "4IBQ"
          ],
          [
           "4IBQ"
          ],
          [
           "4IBQ"
          ],
          [
           "4IBQ"
          ],
          [
           "4IBQ"
          ],
          [
           "4IBQ"
          ],
          [
           "4IBQ"
          ],
          [
           "4IBQ"
          ],
          [
           "4IBQ"
          ],
          [
           "4IBQ"
          ],
          [
           "4IBQ"
          ],
          [
           "4IBQ"
          ],
          [
           "4IBQ"
          ],
          [
           "4IBQ"
          ],
          [
           "4IBQ"
          ],
          [
           "4IBQ"
          ],
          [
           "4IBQ"
          ],
          [
           "4IBQ"
          ],
          [
           "4IBQ"
          ],
          [
           "4IBQ"
          ],
          [
           "4IBQ"
          ],
          [
           "4IBQ"
          ],
          [
           "4IBQ"
          ],
          [
           "4IBQ"
          ],
          [
           "4IBQ"
          ],
          [
           "4IBQ"
          ],
          [
           "4IBQ"
          ],
          [
           "4IBQ"
          ],
          [
           "4IBQ"
          ],
          [
           "4IBQ"
          ],
          [
           "4IBQ"
          ],
          [
           "4IBQ"
          ],
          [
           "4IBQ"
          ],
          [
           "4IBQ"
          ],
          [
           "4IBQ"
          ],
          [
           "4IBQ"
          ],
          [
           "4IBQ"
          ],
          [
           "4IBQ"
          ],
          [
           "4IBQ"
          ],
          [
           "4IBQ"
          ],
          [
           "4IBQ"
          ],
          [
           "4IBQ"
          ],
          [
           "4IBQ"
          ],
          [
           "4IBQ"
          ],
          [
           "4IBQ"
          ],
          [
           "4IBQ"
          ],
          [
           "4IBQ"
          ],
          [
           "4IBQ"
          ],
          [
           "4IBQ"
          ],
          [
           "4IBQ"
          ],
          [
           "4IBQ"
          ],
          [
           "4IBQ"
          ],
          [
           "4IBQ"
          ],
          [
           "4IBQ"
          ],
          [
           "4IBQ"
          ],
          [
           "4IBQ"
          ],
          [
           "4IBQ"
          ],
          [
           "4IBQ"
          ],
          [
           "4IBQ"
          ],
          [
           "4IBQ"
          ],
          [
           "4IBQ"
          ],
          [
           "4IBQ"
          ],
          [
           "4IBQ"
          ],
          [
           "4IBQ"
          ],
          [
           "4IBQ"
          ],
          [
           "4IBQ"
          ],
          [
           "4IBQ"
          ],
          [
           "4IBQ"
          ],
          [
           "4IBQ"
          ],
          [
           "4IBQ"
          ],
          [
           "4IBQ"
          ],
          [
           "4IBQ"
          ],
          [
           "4IBQ"
          ],
          [
           "4IBQ"
          ],
          [
           "4IBQ"
          ],
          [
           "4IBQ"
          ],
          [
           "4IBQ"
          ],
          [
           "4IBQ"
          ],
          [
           "4IBQ"
          ],
          [
           "4IBQ"
          ],
          [
           "4IBQ"
          ],
          [
           "4IBQ"
          ],
          [
           "4IBQ"
          ],
          [
           "4IBQ"
          ],
          [
           "4IBQ"
          ],
          [
           "4IBQ"
          ],
          [
           "4IBQ"
          ],
          [
           "4IBQ"
          ],
          [
           "4IBQ"
          ],
          [
           "4IBQ"
          ],
          [
           "4IBQ"
          ],
          [
           "4IBQ"
          ],
          [
           "4IBQ"
          ],
          [
           "4IBQ"
          ],
          [
           "4IBQ"
          ],
          [
           "4IBQ"
          ],
          [
           "4IBQ"
          ],
          [
           "4IBQ"
          ],
          [
           "4IBQ"
          ],
          [
           "4IBQ"
          ],
          [
           "4IBQ"
          ],
          [
           "4IBQ"
          ],
          [
           "4IBQ"
          ],
          [
           "4IBQ"
          ],
          [
           "4IBQ"
          ],
          [
           "4IBQ"
          ],
          [
           "4IBQ"
          ],
          [
           "4IBQ"
          ],
          [
           "4IBQ"
          ],
          [
           "4IBQ"
          ],
          [
           "4IBQ"
          ],
          [
           "4IBQ"
          ],
          [
           "4IBQ"
          ],
          [
           "4IBQ"
          ],
          [
           "4IBQ"
          ],
          [
           "4IBQ"
          ],
          [
           "4IBQ"
          ],
          [
           "4IBQ"
          ],
          [
           "4IBQ"
          ],
          [
           "4IBQ"
          ],
          [
           "4IBQ"
          ],
          [
           "4IBQ"
          ],
          [
           "4IBQ"
          ],
          [
           "4IBQ"
          ],
          [
           "4IBQ"
          ],
          [
           "4IBQ"
          ],
          [
           "4IBQ"
          ],
          [
           "4IBQ"
          ],
          [
           "4IBQ"
          ],
          [
           "4IBQ"
          ],
          [
           "4IBQ"
          ],
          [
           "4IBQ"
          ],
          [
           "4IBQ"
          ],
          [
           "4IBQ"
          ],
          [
           "4IBQ"
          ],
          [
           "4IBQ"
          ],
          [
           "4IBQ"
          ],
          [
           "4IBQ"
          ],
          [
           "4IBQ"
          ],
          [
           "4IBQ"
          ],
          [
           "4IBQ"
          ],
          [
           "4IBQ"
          ],
          [
           "4IBQ"
          ],
          [
           "4IBQ"
          ],
          [
           "4IBQ"
          ],
          [
           "4IBQ"
          ],
          [
           "4IBQ"
          ],
          [
           "4IBQ"
          ],
          [
           "4IBQ"
          ],
          [
           "4IBQ"
          ],
          [
           "4IBQ"
          ],
          [
           "4IBQ"
          ],
          [
           "4IBQ"
          ],
          [
           "4IBQ"
          ],
          [
           "4IBQ"
          ],
          [
           "4IBQ"
          ],
          [
           "4IBQ"
          ],
          [
           "4IBQ"
          ],
          [
           "4IBQ"
          ],
          [
           "4IBQ"
          ],
          [
           "4IBQ"
          ],
          [
           "4IBQ"
          ],
          [
           "4IBQ"
          ],
          [
           "4IBQ"
          ],
          [
           "4IBQ"
          ],
          [
           "4IBQ"
          ],
          [
           "4IBQ"
          ],
          [
           "4IBQ"
          ],
          [
           "4IBQ"
          ],
          [
           "4IBQ"
          ],
          [
           "4IBQ"
          ],
          [
           "4IBQ"
          ],
          [
           "4IBQ"
          ],
          [
           "4IBQ"
          ],
          [
           "4IBQ"
          ],
          [
           "4IBQ"
          ],
          [
           "4IBQ"
          ]
         ],
         "hovertemplate": "pdb_id=%{customdata[0]}<br>UniProt Number=%{x}<br>Network Score=%{y}<extra></extra>",
         "legendgroup": "4IBQ",
         "line": {
          "color": "#636efa",
          "dash": "solid"
         },
         "marker": {
          "symbol": "circle"
         },
         "mode": "lines",
         "name": "4IBQ (R273C)",
         "showlegend": true,
         "type": "scattergl",
         "x": [
          94,
          94,
          94,
          94,
          97,
          97,
          97,
          97,
          98,
          98,
          98,
          98,
          99,
          99,
          99,
          99,
          100,
          100,
          100,
          100,
          101,
          101,
          101,
          101,
          102,
          102,
          102,
          102,
          103,
          103,
          103,
          103,
          104,
          104,
          104,
          104,
          105,
          105,
          105,
          105,
          106,
          106,
          106,
          106,
          107,
          107,
          107,
          107,
          108,
          108,
          108,
          108,
          109,
          109,
          109,
          109,
          110,
          110,
          110,
          110,
          111,
          111,
          111,
          111,
          112,
          112,
          112,
          112,
          113,
          113,
          113,
          113,
          114,
          114,
          114,
          114,
          115,
          115,
          115,
          115,
          116,
          116,
          116,
          116,
          117,
          117,
          117,
          117,
          118,
          118,
          118,
          118,
          119,
          119,
          119,
          119,
          120,
          120,
          120,
          120,
          121,
          121,
          121,
          121,
          122,
          122,
          122,
          122,
          123,
          123,
          123,
          123,
          124,
          124,
          124,
          124,
          125,
          125,
          125,
          125,
          126,
          126,
          126,
          126,
          127,
          127,
          127,
          127,
          128,
          128,
          128,
          128,
          129,
          129,
          129,
          129,
          130,
          130,
          130,
          130,
          131,
          131,
          131,
          131,
          132,
          132,
          132,
          132,
          133,
          133,
          133,
          133,
          134,
          134,
          134,
          134,
          135,
          135,
          135,
          135,
          136,
          136,
          136,
          136,
          137,
          137,
          137,
          137,
          138,
          138,
          138,
          138,
          139,
          139,
          139,
          139,
          140,
          140,
          140,
          140,
          141,
          141,
          141,
          141,
          142,
          142,
          142,
          142,
          143,
          143,
          143,
          143,
          144,
          144,
          144,
          144,
          145,
          145,
          145,
          145,
          146,
          146,
          146,
          146,
          147,
          147,
          147,
          147,
          148,
          148,
          148,
          148,
          149,
          149,
          149,
          149,
          150,
          150,
          150,
          150,
          151,
          151,
          151,
          151,
          152,
          152,
          152,
          152,
          153,
          153,
          153,
          153,
          154,
          154,
          154,
          154,
          155,
          155,
          155,
          155,
          156,
          156,
          156,
          156,
          157,
          157,
          157,
          157,
          158,
          158,
          158,
          158,
          159,
          159,
          159,
          159,
          160,
          160,
          160,
          160,
          161,
          161,
          161,
          161,
          162,
          162,
          162,
          162,
          163,
          163,
          163,
          163,
          164,
          164,
          164,
          164,
          165,
          165,
          165,
          165,
          166,
          166,
          166,
          166,
          167,
          167,
          167,
          167,
          168,
          168,
          168,
          168,
          169,
          169,
          169,
          169,
          170,
          170,
          170,
          170,
          171,
          171,
          171,
          171,
          172,
          172,
          172,
          172,
          173,
          173,
          173,
          173,
          174,
          174,
          174,
          174,
          175,
          175,
          175,
          175,
          176,
          176,
          176,
          176,
          177,
          177,
          177,
          177,
          178,
          178,
          178,
          178,
          179,
          179,
          179,
          179,
          180,
          180,
          180,
          180,
          181,
          181,
          181,
          181,
          182,
          182,
          182,
          182,
          183,
          183,
          183,
          183,
          184,
          184,
          184,
          184,
          185,
          185,
          185,
          185,
          186,
          186,
          186,
          186,
          187,
          187,
          187,
          187,
          188,
          188,
          188,
          188,
          189,
          189,
          189,
          189,
          190,
          190,
          190,
          190,
          191,
          191,
          191,
          191,
          192,
          192,
          192,
          192,
          193,
          193,
          193,
          193,
          194,
          194,
          194,
          194,
          195,
          195,
          195,
          195,
          196,
          196,
          196,
          196,
          197,
          197,
          197,
          197,
          198,
          198,
          198,
          198,
          199,
          199,
          199,
          199,
          200,
          200,
          200,
          200,
          201,
          201,
          201,
          201,
          202,
          202,
          202,
          202,
          203,
          203,
          203,
          203,
          204,
          204,
          204,
          204,
          205,
          205,
          205,
          205,
          206,
          206,
          206,
          206,
          207,
          207,
          207,
          207,
          208,
          208,
          208,
          208,
          209,
          209,
          209,
          209,
          210,
          210,
          210,
          210,
          211,
          211,
          211,
          211,
          212,
          212,
          212,
          212,
          213,
          213,
          213,
          213,
          214,
          214,
          214,
          214,
          215,
          215,
          215,
          215,
          216,
          216,
          216,
          216,
          217,
          217,
          217,
          217,
          218,
          218,
          218,
          218,
          219,
          219,
          219,
          219,
          220,
          220,
          220,
          220,
          221,
          221,
          221,
          221,
          222,
          222,
          222,
          222,
          223,
          223,
          223,
          223,
          224,
          224,
          224,
          224,
          225,
          225,
          225,
          225,
          226,
          226,
          226,
          226,
          227,
          227,
          227,
          227,
          228,
          228,
          228,
          228,
          229,
          229,
          229,
          229,
          230,
          230,
          230,
          230,
          231,
          231,
          231,
          231,
          232,
          232,
          232,
          232,
          233,
          233,
          233,
          233,
          234,
          234,
          234,
          234,
          235,
          235,
          235,
          235,
          236,
          236,
          236,
          236,
          237,
          237,
          237,
          237,
          238,
          238,
          238,
          238,
          239,
          239,
          239,
          239,
          240,
          240,
          240,
          240,
          241,
          241,
          241,
          241,
          242,
          242,
          242,
          242,
          243,
          243,
          243,
          243,
          244,
          244,
          244,
          244,
          245,
          245,
          245,
          245,
          246,
          246,
          246,
          246,
          247,
          247,
          247,
          247,
          248,
          248,
          248,
          248,
          249,
          249,
          249,
          249,
          250,
          250,
          250,
          250,
          251,
          251,
          251,
          251,
          252,
          252,
          252,
          252,
          253,
          253,
          253,
          253,
          254,
          254,
          254,
          254,
          255,
          255,
          255,
          255,
          256,
          256,
          256,
          256,
          257,
          257,
          257,
          257,
          258,
          258,
          258,
          258,
          259,
          259,
          259,
          259,
          260,
          260,
          260,
          260,
          261,
          261,
          261,
          261,
          262,
          262,
          262,
          262,
          263,
          263,
          263,
          263,
          264,
          264,
          264,
          264,
          265,
          265,
          265,
          265,
          266,
          266,
          266,
          266,
          267,
          267,
          267,
          267,
          268,
          268,
          268,
          268,
          269,
          269,
          269,
          269,
          270,
          270,
          270,
          270,
          271,
          271,
          271,
          271,
          272,
          272,
          272,
          272,
          273,
          273,
          273,
          273,
          274,
          274,
          274,
          274,
          275,
          275,
          275,
          275,
          276,
          276,
          276,
          276,
          277,
          277,
          277,
          277,
          278,
          278,
          278,
          278,
          279,
          279,
          279,
          279,
          280,
          280,
          280,
          280,
          281,
          281,
          281,
          281,
          282,
          282,
          282,
          282,
          283,
          283,
          283,
          283,
          284,
          284,
          284,
          284,
          285,
          285,
          285,
          285,
          286,
          286,
          286,
          286,
          287,
          287,
          287,
          287,
          288,
          288,
          288,
          288
         ],
         "xaxis": "x",
         "y": [
          -1.34730577,
          -1.34730577,
          -1.34730577,
          -1.34730577,
          -0.190041397,
          -0.097841288,
          -0.306127969,
          0.349839601,
          0.943905899,
          1.958458777,
          1.164874796,
          3.163524604,
          -0.935168768,
          -0.935168768,
          -0.935168768,
          -0.935168768,
          -0.505012065,
          -0.505012065,
          -0.505012065,
          -0.505012065,
          -1.477807809,
          -1.477807809,
          -1.477807809,
          -1.477807809,
          -0.54914381,
          -0.54914381,
          -0.54914381,
          -0.54914381,
          0.454734386,
          0.454734386,
          0.454734386,
          0.454734386,
          0.708145443,
          0.708145443,
          0.708145443,
          0.708145443,
          1.420618654,
          1.420618654,
          1.420618654,
          1.420618654,
          0.402559467,
          0.402559467,
          0.402559467,
          0.402559467,
          2.226567359,
          2.226567359,
          2.226567359,
          2.226567359,
          3.559829378,
          3.559829378,
          3.559829378,
          3.559829378,
          2.686271162,
          2.686271162,
          2.686271162,
          2.686271162,
          4.269212727,
          4.269212727,
          4.269212727,
          4.269212727,
          2.820348369,
          2.767374272,
          3.179859419,
          2.567299272,
          4.213759149,
          2.864007315,
          3.661639144,
          2.971439417,
          4.054475583,
          3.576304456,
          2.492982978,
          3.519854621,
          0.378461531,
          0.378461531,
          0.378461531,
          0.378461531,
          0.409083574,
          0.409083574,
          0.409083574,
          0.409083574,
          -0.036317907,
          -0.036317907,
          -0.036317907,
          -0.036317907,
          1.165713242,
          1.165713242,
          1.165713242,
          1.165713242,
          7.252624231,
          7.252624231,
          7.252624231,
          7.252624231,
          0.321229427,
          0.321229427,
          0.321229427,
          0.321229427,
          0.163817704,
          0.163817704,
          0.163817704,
          0.163817704,
          -0.672422728,
          -0.672422728,
          -0.672422728,
          -0.672422728,
          1.04889812,
          0.961473502,
          0.961473502,
          0.961473502,
          0.307020191,
          0.279181099,
          0.279181099,
          0.279181099,
          3.445934521,
          3.445934521,
          3.445934521,
          3.445934521,
          4.910550387,
          4.910550387,
          4.910550387,
          4.910550387,
          1.453572047,
          1.972322712,
          1.453572047,
          1.453572047,
          1.008857268,
          1.008857268,
          1.008857268,
          1.008857268,
          1.531200811,
          1.531200811,
          1.531200811,
          1.531200811,
          0.094030435,
          0.094030435,
          0.094030435,
          0.094030435,
          0.602720536,
          0.602720536,
          0.602720536,
          0.602720536,
          0.343858288,
          0.235070051,
          0.281782445,
          0.235070051,
          1.666669531,
          1.223513785,
          1.223513785,
          2.023454765,
          3.80680581,
          6.532028472,
          3.80680581,
          5.583715641,
          1.812727089,
          1.812727089,
          1.812727089,
          1.812727089,
          1.83541275,
          1.83541275,
          1.83541275,
          1.83541275,
          1.313475363,
          1.313475363,
          1.313475363,
          1.313475363,
          3.005258214,
          3.418666154,
          4.344274158,
          3.005258214,
          0.038130929,
          0.038130929,
          0.038130929,
          0.038130929,
          0.125564385,
          0.125564385,
          0.125564385,
          0.125564385,
          0.56235756,
          0.56235756,
          0.56235756,
          0.56235756,
          4.225691506,
          4.225691506,
          4.225691506,
          4.225691506,
          1.158877754,
          1.158877754,
          1.158877754,
          1.158877754,
          3.273000116,
          4.58545696,
          3.273000116,
          3.273000116,
          1.944419523,
          2.030850967,
          1.944419523,
          1.944419523,
          3.114455896,
          3.114455896,
          3.114455896,
          3.114455896,
          2.151470708,
          2.151470708,
          2.151470708,
          2.835056842,
          2.281155536,
          2.281155536,
          3.262917616,
          2.281155536,
          3.269325204,
          3.269325204,
          3.269325204,
          3.269325204,
          1.285081401,
          1.285081401,
          1.285081401,
          1.285081401,
          1.637620376,
          1.637620376,
          1.776708648,
          1.637620376,
          4.500447668,
          4.500447668,
          4.500447668,
          4.500447668,
          4.377722239,
          4.377722239,
          4.377722239,
          4.377722239,
          0.119064481,
          0.119064481,
          0.119064481,
          0.119064481,
          1.714873556,
          1.714873556,
          1.714873556,
          1.714873556,
          3.15060288,
          3.454062153,
          2.782284342,
          3.751088877,
          6.457315893,
          6.457315893,
          6.457315893,
          6.457315893,
          6.315856844,
          6.315856844,
          6.315856844,
          6.315856844,
          5.826886864,
          5.826886864,
          5.826886864,
          5.826886864,
          2.793472471,
          2.552334451,
          2.552334451,
          2.552334451,
          1.270948829,
          1.270948829,
          1.270948829,
          1.270948829,
          1.858176034,
          1.858176034,
          1.858176034,
          2.044975723,
          2.948278919,
          1.940394922,
          1.04863249,
          1.56004599,
          1.563939062,
          1.675295634,
          1.13989614,
          1.395159469,
          -0.164711884,
          -0.164711884,
          -0.164711884,
          -0.164711884,
          -0.750869684,
          -0.750869684,
          -0.750869684,
          -0.750869684,
          -1.835973616,
          -1.835973616,
          -1.835973616,
          -1.835973616,
          -1.718440365,
          -1.718440365,
          -1.718440365,
          -1.718440365,
          -0.637847773,
          -0.678710405,
          -0.522359786,
          -0.678710405,
          -0.705379087,
          -0.633777346,
          -0.705379087,
          -0.705379087,
          -0.891252514,
          -0.891252514,
          -0.891252514,
          -0.891252514,
          -0.167963162,
          -0.137748192,
          -0.167963162,
          -0.167963162,
          0.603618285,
          0.603618285,
          0.603618285,
          1.42844466,
          5.120587036,
          5.187686264,
          5.540694225,
          3.958625726,
          0.41392762,
          0.41392762,
          0.41392762,
          0.501566023,
          6.860515292,
          6.860515292,
          6.860515292,
          6.860515292,
          8.669806639,
          8.669806639,
          8.669806639,
          8.669806639,
          1.010316066,
          1.482665213,
          1.068705562,
          1.010316066,
          6.328025767,
          6.328025767,
          6.328025767,
          6.328025767,
          3.978461768,
          3.978461768,
          3.978461768,
          3.978461768,
          0.878104206,
          0.878104206,
          0.878104206,
          0.878104206,
          0.482662937,
          0.482662937,
          0.482662937,
          0.482662937,
          0.997401549,
          0.997401549,
          0.997401549,
          0.997401549,
          0.074062207,
          0.074062207,
          0.074062207,
          0.074062207,
          2.044691935,
          2.044691935,
          2.044691935,
          2.044691935,
          0.450779183,
          0.450779183,
          0.450779183,
          0.450779183,
          0.941851018,
          0.755197637,
          0.867771637,
          0.755197637,
          0.216839545,
          0.216839545,
          0.216839545,
          0.216839545,
          0.90077271,
          0.90077271,
          0.90077271,
          0.90077271,
          2.477362799,
          1.584707425,
          1.533750247,
          1.981435507,
          1.740408685,
          1.740408685,
          1.740408685,
          1.740408685,
          1.365117514,
          1.365117514,
          1.365117514,
          1.365117514,
          0.671363638,
          0.671363638,
          0.671363638,
          0.671363638,
          2.8539661,
          2.346608668,
          2.420475295,
          2.236432302,
          3.573872318,
          3.573872318,
          3.573872318,
          3.573872318,
          1.92815138,
          1.757076437,
          1.787518923,
          2.044762737,
          2.454933268,
          3.008243816,
          2.454933268,
          2.454933268,
          4.531093547,
          3.748072037,
          3.748072037,
          3.748072037,
          0.53177145,
          0.53177145,
          0.53177145,
          0.53177145,
          1.67115873,
          1.67115873,
          1.67115873,
          1.67115873,
          1.691533927,
          1.691533927,
          1.691533927,
          1.691533927,
          -0.301170838,
          -0.301170838,
          -0.301170838,
          -0.301170838,
          1.019359731,
          1.063974318,
          0.772036893,
          1.095836794,
          3.116278673,
          3.116278673,
          3.116278673,
          3.377704546,
          5.255840786,
          5.255840786,
          5.255840786,
          5.255840786,
          2.522844317,
          3.633549204,
          2.878020605,
          3.027585621,
          0.689347354,
          0.689347354,
          0.689347354,
          0.689347354,
          0.666649153,
          0.666649153,
          0.666649153,
          0.666649153,
          -0.688029122,
          -0.688029122,
          -0.688029122,
          -0.688029122,
          -0.814671455,
          -0.814671455,
          -0.814671455,
          -0.814671455,
          -1.290259817,
          -1.290259817,
          -1.290259817,
          -1.290259817,
          0.001769889,
          -0.009551915,
          -0.019427436,
          -0.085765601,
          -0.643163696,
          -0.643163696,
          -0.643163696,
          -0.643163696,
          1.455731624,
          1.285683642,
          1.036373124,
          1.153713973,
          1.955801428,
          1.247362078,
          1.049485825,
          0.994798299,
          1.931270189,
          1.931270189,
          1.931270189,
          1.931270189,
          3.346447761,
          3.346447761,
          3.471164526,
          3.88718701,
          12.87026337,
          12.87026337,
          12.87026337,
          12.87026337,
          3.916236744,
          3.249354956,
          3.249354956,
          3.249354956,
          1.222580837,
          1.301026975,
          1.222580837,
          1.307478776,
          2.922488258,
          2.922488258,
          2.922488258,
          2.922488258,
          0.555983527,
          0.47029285,
          0.47029285,
          0.47029285,
          0.668827724,
          0.668827724,
          0.668827724,
          0.668827724,
          1.803089564,
          1.441403769,
          1.422734762,
          1.433165967,
          0.067809406,
          0.067809406,
          0.067809406,
          0.067809406,
          -0.070892376,
          -0.070892376,
          -0.070892376,
          -0.070892376,
          0.108025979,
          0.240671362,
          0.253501194,
          0.108025979,
          0.600386207,
          0.615494933,
          0.600386207,
          1.091449887,
          0.894630714,
          1.266212517,
          0.909501138,
          1.059067729,
          1.314492304,
          1.605963905,
          1.177199888,
          1.54911834,
          1.140263586,
          1.140263586,
          1.140263586,
          1.140263586,
          0.731953551,
          0.731953551,
          0.731953551,
          0.731953551,
          2.659505492,
          2.530358794,
          2.530358794,
          2.756037575,
          -0.113064982,
          -0.113064982,
          -0.113064982,
          -0.113064982,
          3.091685855,
          2.767598853,
          2.745941303,
          2.745941303,
          0.402096163,
          0.402096163,
          0.402096163,
          0.402096163,
          3.512444343,
          3.659417157,
          4.337950948,
          5.10696004,
          2.185655277,
          2.185655277,
          2.358994766,
          2.185655277,
          5.065591527,
          7.507053039,
          6.780504822,
          5.143868368,
          1.563227426,
          1.563227426,
          1.563227426,
          1.828657544,
          0.968372322,
          0.968372322,
          0.968372322,
          1.154879417,
          -0.047911026,
          -0.047911026,
          -0.047911026,
          -0.047911026,
          1.667417074,
          1.667417074,
          1.667417074,
          1.667417074,
          -0.369646616,
          -0.369646616,
          -0.369646616,
          -0.369646616,
          0.72026936,
          0.72026936,
          0.72026936,
          0.72026936,
          1.135970896,
          1.135970896,
          1.135970896,
          1.193615508,
          3.60998356,
          4.086568945,
          4.357538524,
          4.712150738,
          -0.600533502,
          -0.600533502,
          -0.600533502,
          -0.600533502,
          -0.871480794,
          -0.871480794,
          -0.871480794,
          -0.871480794,
          3.528925906,
          4.547937746,
          2.788154618,
          4.299041584,
          0.752252695,
          0.752252695,
          1.321154291,
          0.971009206,
          1.479581807,
          1.41403838,
          1.386263251,
          1.386263251,
          1.034925868,
          1.411902886,
          1.034925868,
          1.461110612,
          2.374913186,
          2.374913186,
          2.722742038,
          3.148790726,
          1.644604929,
          1.019606701,
          0.90365574,
          0.90365574,
          1.67994996,
          2.131383886,
          1.645856037,
          2.154812527,
          1.358708245,
          3.220913776,
          1.385864334,
          2.855253994,
          3.056256704,
          2.4486295,
          2.327200752,
          2.183109956,
          3.801646627,
          3.801646627,
          3.801646627,
          3.801646627,
          3.502387308,
          3.502387308,
          3.502387308,
          3.502387308,
          0.793157802,
          0.793157802,
          0.793157802,
          0.793157802,
          -0.099763752,
          -0.099763752,
          -0.099763752,
          -0.099763752,
          0.467872277,
          0.467872277,
          0.467872277,
          0.467872277,
          0.03677339,
          0.03677339,
          0.03677339,
          0.03677339,
          0.148851022,
          0.148851022,
          0.148851022,
          0.148851022,
          8.598708609,
          8.598708609,
          8.598708609,
          8.598708609,
          1.626153522,
          1.626153522,
          4.280948168,
          2.501621918,
          -0.088143097,
          -0.027579549,
          -0.282843461,
          -0.154399102,
          0.601883768,
          0.909089952,
          0.437193754,
          0.437193754,
          -0.318275558,
          -0.318275558,
          -0.318275558,
          -0.318275558,
          2.690201095,
          3.341086821,
          2.690201095,
          3.174263883,
          1.00680975,
          1.259642897,
          1.00680975,
          1.2168137,
          2.303308104,
          2.303308104,
          4.282549866,
          2.703591064,
          0.612486422,
          0.612486422,
          0.612486422,
          0.673782808,
          9.894428097,
          8.776893655,
          7.054810115,
          6.79079092,
          1.43863196,
          1.372182134,
          1.372182134,
          1.372182134,
          4.605568669,
          4.605568669,
          4.605568669,
          4.605568669,
          0.577772332,
          0.435258115,
          0.435258115,
          0.525284701,
          6.256880784,
          6.256880784,
          6.256880784,
          6.256880784,
          1.364451371,
          1.364451371,
          1.364451371,
          1.364451371,
          0.247285705,
          0.247285705,
          0.247285705,
          0.247285705,
          0.269900332,
          0.269900332,
          0.269900332,
          0.269900332,
          6.26297022,
          6.26297022,
          6.26297022,
          6.26297022,
          3.941992269,
          3.941992269,
          3.941992269,
          3.941992269,
          0.051012604,
          0.051012604,
          0.051012604,
          0.051012604,
          0.523495601,
          0.523495601,
          0.523495601,
          0.74404121,
          0.527652684,
          0.527652684,
          0.527652684,
          0.527652684,
          0.348896864,
          0.348896864,
          0.348896864,
          0.348896864,
          0.124781123,
          0.124781123,
          0.124781123,
          0.257212047
         ],
         "yaxis": "y"
        },
        {
         "customdata": [
          [
           "4IBS"
          ],
          [
           "4IBS"
          ],
          [
           "4IBS"
          ],
          [
           "4IBS"
          ],
          [
           "4IBS"
          ],
          [
           "4IBS"
          ],
          [
           "4IBS"
          ],
          [
           "4IBS"
          ],
          [
           "4IBS"
          ],
          [
           "4IBS"
          ],
          [
           "4IBS"
          ],
          [
           "4IBS"
          ],
          [
           "4IBS"
          ],
          [
           "4IBS"
          ],
          [
           "4IBS"
          ],
          [
           "4IBS"
          ],
          [
           "4IBS"
          ],
          [
           "4IBS"
          ],
          [
           "4IBS"
          ],
          [
           "4IBS"
          ],
          [
           "4IBS"
          ],
          [
           "4IBS"
          ],
          [
           "4IBS"
          ],
          [
           "4IBS"
          ],
          [
           "4IBS"
          ],
          [
           "4IBS"
          ],
          [
           "4IBS"
          ],
          [
           "4IBS"
          ],
          [
           "4IBS"
          ],
          [
           "4IBS"
          ],
          [
           "4IBS"
          ],
          [
           "4IBS"
          ],
          [
           "4IBS"
          ],
          [
           "4IBS"
          ],
          [
           "4IBS"
          ],
          [
           "4IBS"
          ],
          [
           "4IBS"
          ],
          [
           "4IBS"
          ],
          [
           "4IBS"
          ],
          [
           "4IBS"
          ],
          [
           "4IBS"
          ],
          [
           "4IBS"
          ],
          [
           "4IBS"
          ],
          [
           "4IBS"
          ],
          [
           "4IBS"
          ],
          [
           "4IBS"
          ],
          [
           "4IBS"
          ],
          [
           "4IBS"
          ],
          [
           "4IBS"
          ],
          [
           "4IBS"
          ],
          [
           "4IBS"
          ],
          [
           "4IBS"
          ],
          [
           "4IBS"
          ],
          [
           "4IBS"
          ],
          [
           "4IBS"
          ],
          [
           "4IBS"
          ],
          [
           "4IBS"
          ],
          [
           "4IBS"
          ],
          [
           "4IBS"
          ],
          [
           "4IBS"
          ],
          [
           "4IBS"
          ],
          [
           "4IBS"
          ],
          [
           "4IBS"
          ],
          [
           "4IBS"
          ],
          [
           "4IBS"
          ],
          [
           "4IBS"
          ],
          [
           "4IBS"
          ],
          [
           "4IBS"
          ],
          [
           "4IBS"
          ],
          [
           "4IBS"
          ],
          [
           "4IBS"
          ],
          [
           "4IBS"
          ],
          [
           "4IBS"
          ],
          [
           "4IBS"
          ],
          [
           "4IBS"
          ],
          [
           "4IBS"
          ],
          [
           "4IBS"
          ],
          [
           "4IBS"
          ],
          [
           "4IBS"
          ],
          [
           "4IBS"
          ],
          [
           "4IBS"
          ],
          [
           "4IBS"
          ],
          [
           "4IBS"
          ],
          [
           "4IBS"
          ],
          [
           "4IBS"
          ],
          [
           "4IBS"
          ],
          [
           "4IBS"
          ],
          [
           "4IBS"
          ],
          [
           "4IBS"
          ],
          [
           "4IBS"
          ],
          [
           "4IBS"
          ],
          [
           "4IBS"
          ],
          [
           "4IBS"
          ],
          [
           "4IBS"
          ],
          [
           "4IBS"
          ],
          [
           "4IBS"
          ],
          [
           "4IBS"
          ],
          [
           "4IBS"
          ],
          [
           "4IBS"
          ],
          [
           "4IBS"
          ],
          [
           "4IBS"
          ],
          [
           "4IBS"
          ],
          [
           "4IBS"
          ],
          [
           "4IBS"
          ],
          [
           "4IBS"
          ],
          [
           "4IBS"
          ],
          [
           "4IBS"
          ],
          [
           "4IBS"
          ],
          [
           "4IBS"
          ],
          [
           "4IBS"
          ],
          [
           "4IBS"
          ],
          [
           "4IBS"
          ],
          [
           "4IBS"
          ],
          [
           "4IBS"
          ],
          [
           "4IBS"
          ],
          [
           "4IBS"
          ],
          [
           "4IBS"
          ],
          [
           "4IBS"
          ],
          [
           "4IBS"
          ],
          [
           "4IBS"
          ],
          [
           "4IBS"
          ],
          [
           "4IBS"
          ],
          [
           "4IBS"
          ],
          [
           "4IBS"
          ],
          [
           "4IBS"
          ],
          [
           "4IBS"
          ],
          [
           "4IBS"
          ],
          [
           "4IBS"
          ],
          [
           "4IBS"
          ],
          [
           "4IBS"
          ],
          [
           "4IBS"
          ],
          [
           "4IBS"
          ],
          [
           "4IBS"
          ],
          [
           "4IBS"
          ],
          [
           "4IBS"
          ],
          [
           "4IBS"
          ],
          [
           "4IBS"
          ],
          [
           "4IBS"
          ],
          [
           "4IBS"
          ],
          [
           "4IBS"
          ],
          [
           "4IBS"
          ],
          [
           "4IBS"
          ],
          [
           "4IBS"
          ],
          [
           "4IBS"
          ],
          [
           "4IBS"
          ],
          [
           "4IBS"
          ],
          [
           "4IBS"
          ],
          [
           "4IBS"
          ],
          [
           "4IBS"
          ],
          [
           "4IBS"
          ],
          [
           "4IBS"
          ],
          [
           "4IBS"
          ],
          [
           "4IBS"
          ],
          [
           "4IBS"
          ],
          [
           "4IBS"
          ],
          [
           "4IBS"
          ],
          [
           "4IBS"
          ],
          [
           "4IBS"
          ],
          [
           "4IBS"
          ],
          [
           "4IBS"
          ],
          [
           "4IBS"
          ],
          [
           "4IBS"
          ],
          [
           "4IBS"
          ],
          [
           "4IBS"
          ],
          [
           "4IBS"
          ],
          [
           "4IBS"
          ],
          [
           "4IBS"
          ],
          [
           "4IBS"
          ],
          [
           "4IBS"
          ],
          [
           "4IBS"
          ],
          [
           "4IBS"
          ],
          [
           "4IBS"
          ],
          [
           "4IBS"
          ],
          [
           "4IBS"
          ],
          [
           "4IBS"
          ],
          [
           "4IBS"
          ],
          [
           "4IBS"
          ],
          [
           "4IBS"
          ],
          [
           "4IBS"
          ],
          [
           "4IBS"
          ],
          [
           "4IBS"
          ],
          [
           "4IBS"
          ],
          [
           "4IBS"
          ],
          [
           "4IBS"
          ],
          [
           "4IBS"
          ],
          [
           "4IBS"
          ],
          [
           "4IBS"
          ],
          [
           "4IBS"
          ],
          [
           "4IBS"
          ],
          [
           "4IBS"
          ],
          [
           "4IBS"
          ],
          [
           "4IBS"
          ],
          [
           "4IBS"
          ],
          [
           "4IBS"
          ],
          [
           "4IBS"
          ],
          [
           "4IBS"
          ],
          [
           "4IBS"
          ],
          [
           "4IBS"
          ],
          [
           "4IBS"
          ],
          [
           "4IBS"
          ],
          [
           "4IBS"
          ],
          [
           "4IBS"
          ],
          [
           "4IBS"
          ],
          [
           "4IBS"
          ],
          [
           "4IBS"
          ],
          [
           "4IBS"
          ],
          [
           "4IBS"
          ],
          [
           "4IBS"
          ],
          [
           "4IBS"
          ],
          [
           "4IBS"
          ],
          [
           "4IBS"
          ],
          [
           "4IBS"
          ],
          [
           "4IBS"
          ],
          [
           "4IBS"
          ],
          [
           "4IBS"
          ],
          [
           "4IBS"
          ],
          [
           "4IBS"
          ],
          [
           "4IBS"
          ],
          [
           "4IBS"
          ],
          [
           "4IBS"
          ],
          [
           "4IBS"
          ],
          [
           "4IBS"
          ],
          [
           "4IBS"
          ],
          [
           "4IBS"
          ],
          [
           "4IBS"
          ],
          [
           "4IBS"
          ],
          [
           "4IBS"
          ],
          [
           "4IBS"
          ],
          [
           "4IBS"
          ],
          [
           "4IBS"
          ],
          [
           "4IBS"
          ],
          [
           "4IBS"
          ],
          [
           "4IBS"
          ],
          [
           "4IBS"
          ],
          [
           "4IBS"
          ],
          [
           "4IBS"
          ],
          [
           "4IBS"
          ],
          [
           "4IBS"
          ],
          [
           "4IBS"
          ],
          [
           "4IBS"
          ],
          [
           "4IBS"
          ],
          [
           "4IBS"
          ],
          [
           "4IBS"
          ],
          [
           "4IBS"
          ],
          [
           "4IBS"
          ],
          [
           "4IBS"
          ],
          [
           "4IBS"
          ],
          [
           "4IBS"
          ],
          [
           "4IBS"
          ],
          [
           "4IBS"
          ],
          [
           "4IBS"
          ],
          [
           "4IBS"
          ],
          [
           "4IBS"
          ],
          [
           "4IBS"
          ],
          [
           "4IBS"
          ],
          [
           "4IBS"
          ],
          [
           "4IBS"
          ],
          [
           "4IBS"
          ],
          [
           "4IBS"
          ],
          [
           "4IBS"
          ],
          [
           "4IBS"
          ],
          [
           "4IBS"
          ],
          [
           "4IBS"
          ],
          [
           "4IBS"
          ],
          [
           "4IBS"
          ],
          [
           "4IBS"
          ],
          [
           "4IBS"
          ],
          [
           "4IBS"
          ],
          [
           "4IBS"
          ],
          [
           "4IBS"
          ],
          [
           "4IBS"
          ],
          [
           "4IBS"
          ],
          [
           "4IBS"
          ],
          [
           "4IBS"
          ],
          [
           "4IBS"
          ],
          [
           "4IBS"
          ],
          [
           "4IBS"
          ],
          [
           "4IBS"
          ],
          [
           "4IBS"
          ],
          [
           "4IBS"
          ],
          [
           "4IBS"
          ],
          [
           "4IBS"
          ],
          [
           "4IBS"
          ],
          [
           "4IBS"
          ],
          [
           "4IBS"
          ],
          [
           "4IBS"
          ],
          [
           "4IBS"
          ],
          [
           "4IBS"
          ],
          [
           "4IBS"
          ],
          [
           "4IBS"
          ],
          [
           "4IBS"
          ],
          [
           "4IBS"
          ],
          [
           "4IBS"
          ],
          [
           "4IBS"
          ],
          [
           "4IBS"
          ],
          [
           "4IBS"
          ],
          [
           "4IBS"
          ],
          [
           "4IBS"
          ],
          [
           "4IBS"
          ],
          [
           "4IBS"
          ],
          [
           "4IBS"
          ],
          [
           "4IBS"
          ],
          [
           "4IBS"
          ],
          [
           "4IBS"
          ],
          [
           "4IBS"
          ],
          [
           "4IBS"
          ],
          [
           "4IBS"
          ],
          [
           "4IBS"
          ],
          [
           "4IBS"
          ],
          [
           "4IBS"
          ],
          [
           "4IBS"
          ],
          [
           "4IBS"
          ],
          [
           "4IBS"
          ],
          [
           "4IBS"
          ],
          [
           "4IBS"
          ],
          [
           "4IBS"
          ],
          [
           "4IBS"
          ],
          [
           "4IBS"
          ],
          [
           "4IBS"
          ],
          [
           "4IBS"
          ],
          [
           "4IBS"
          ],
          [
           "4IBS"
          ],
          [
           "4IBS"
          ],
          [
           "4IBS"
          ],
          [
           "4IBS"
          ],
          [
           "4IBS"
          ],
          [
           "4IBS"
          ],
          [
           "4IBS"
          ],
          [
           "4IBS"
          ],
          [
           "4IBS"
          ],
          [
           "4IBS"
          ],
          [
           "4IBS"
          ],
          [
           "4IBS"
          ],
          [
           "4IBS"
          ],
          [
           "4IBS"
          ],
          [
           "4IBS"
          ],
          [
           "4IBS"
          ],
          [
           "4IBS"
          ],
          [
           "4IBS"
          ],
          [
           "4IBS"
          ],
          [
           "4IBS"
          ],
          [
           "4IBS"
          ],
          [
           "4IBS"
          ],
          [
           "4IBS"
          ],
          [
           "4IBS"
          ],
          [
           "4IBS"
          ],
          [
           "4IBS"
          ],
          [
           "4IBS"
          ],
          [
           "4IBS"
          ],
          [
           "4IBS"
          ],
          [
           "4IBS"
          ],
          [
           "4IBS"
          ],
          [
           "4IBS"
          ],
          [
           "4IBS"
          ],
          [
           "4IBS"
          ],
          [
           "4IBS"
          ],
          [
           "4IBS"
          ],
          [
           "4IBS"
          ],
          [
           "4IBS"
          ],
          [
           "4IBS"
          ],
          [
           "4IBS"
          ],
          [
           "4IBS"
          ],
          [
           "4IBS"
          ],
          [
           "4IBS"
          ],
          [
           "4IBS"
          ],
          [
           "4IBS"
          ],
          [
           "4IBS"
          ],
          [
           "4IBS"
          ],
          [
           "4IBS"
          ],
          [
           "4IBS"
          ],
          [
           "4IBS"
          ],
          [
           "4IBS"
          ],
          [
           "4IBS"
          ],
          [
           "4IBS"
          ],
          [
           "4IBS"
          ],
          [
           "4IBS"
          ],
          [
           "4IBS"
          ],
          [
           "4IBS"
          ],
          [
           "4IBS"
          ],
          [
           "4IBS"
          ],
          [
           "4IBS"
          ],
          [
           "4IBS"
          ],
          [
           "4IBS"
          ],
          [
           "4IBS"
          ],
          [
           "4IBS"
          ],
          [
           "4IBS"
          ],
          [
           "4IBS"
          ],
          [
           "4IBS"
          ],
          [
           "4IBS"
          ],
          [
           "4IBS"
          ],
          [
           "4IBS"
          ],
          [
           "4IBS"
          ],
          [
           "4IBS"
          ],
          [
           "4IBS"
          ],
          [
           "4IBS"
          ],
          [
           "4IBS"
          ],
          [
           "4IBS"
          ],
          [
           "4IBS"
          ],
          [
           "4IBS"
          ],
          [
           "4IBS"
          ],
          [
           "4IBS"
          ],
          [
           "4IBS"
          ],
          [
           "4IBS"
          ],
          [
           "4IBS"
          ],
          [
           "4IBS"
          ],
          [
           "4IBS"
          ],
          [
           "4IBS"
          ],
          [
           "4IBS"
          ],
          [
           "4IBS"
          ],
          [
           "4IBS"
          ],
          [
           "4IBS"
          ],
          [
           "4IBS"
          ],
          [
           "4IBS"
          ],
          [
           "4IBS"
          ],
          [
           "4IBS"
          ],
          [
           "4IBS"
          ],
          [
           "4IBS"
          ],
          [
           "4IBS"
          ],
          [
           "4IBS"
          ],
          [
           "4IBS"
          ],
          [
           "4IBS"
          ],
          [
           "4IBS"
          ],
          [
           "4IBS"
          ],
          [
           "4IBS"
          ],
          [
           "4IBS"
          ],
          [
           "4IBS"
          ],
          [
           "4IBS"
          ],
          [
           "4IBS"
          ],
          [
           "4IBS"
          ],
          [
           "4IBS"
          ],
          [
           "4IBS"
          ],
          [
           "4IBS"
          ],
          [
           "4IBS"
          ],
          [
           "4IBS"
          ],
          [
           "4IBS"
          ],
          [
           "4IBS"
          ],
          [
           "4IBS"
          ],
          [
           "4IBS"
          ],
          [
           "4IBS"
          ],
          [
           "4IBS"
          ],
          [
           "4IBS"
          ],
          [
           "4IBS"
          ],
          [
           "4IBS"
          ],
          [
           "4IBS"
          ],
          [
           "4IBS"
          ],
          [
           "4IBS"
          ],
          [
           "4IBS"
          ],
          [
           "4IBS"
          ],
          [
           "4IBS"
          ],
          [
           "4IBS"
          ],
          [
           "4IBS"
          ],
          [
           "4IBS"
          ],
          [
           "4IBS"
          ],
          [
           "4IBS"
          ],
          [
           "4IBS"
          ],
          [
           "4IBS"
          ],
          [
           "4IBS"
          ],
          [
           "4IBS"
          ],
          [
           "4IBS"
          ],
          [
           "4IBS"
          ],
          [
           "4IBS"
          ],
          [
           "4IBS"
          ],
          [
           "4IBS"
          ],
          [
           "4IBS"
          ],
          [
           "4IBS"
          ],
          [
           "4IBS"
          ],
          [
           "4IBS"
          ],
          [
           "4IBS"
          ],
          [
           "4IBS"
          ],
          [
           "4IBS"
          ],
          [
           "4IBS"
          ],
          [
           "4IBS"
          ],
          [
           "4IBS"
          ],
          [
           "4IBS"
          ],
          [
           "4IBS"
          ],
          [
           "4IBS"
          ],
          [
           "4IBS"
          ],
          [
           "4IBS"
          ],
          [
           "4IBS"
          ],
          [
           "4IBS"
          ],
          [
           "4IBS"
          ],
          [
           "4IBS"
          ],
          [
           "4IBS"
          ],
          [
           "4IBS"
          ],
          [
           "4IBS"
          ],
          [
           "4IBS"
          ],
          [
           "4IBS"
          ],
          [
           "4IBS"
          ],
          [
           "4IBS"
          ],
          [
           "4IBS"
          ],
          [
           "4IBS"
          ],
          [
           "4IBS"
          ],
          [
           "4IBS"
          ],
          [
           "4IBS"
          ],
          [
           "4IBS"
          ],
          [
           "4IBS"
          ],
          [
           "4IBS"
          ],
          [
           "4IBS"
          ],
          [
           "4IBS"
          ],
          [
           "4IBS"
          ],
          [
           "4IBS"
          ],
          [
           "4IBS"
          ],
          [
           "4IBS"
          ],
          [
           "4IBS"
          ],
          [
           "4IBS"
          ],
          [
           "4IBS"
          ],
          [
           "4IBS"
          ],
          [
           "4IBS"
          ],
          [
           "4IBS"
          ],
          [
           "4IBS"
          ],
          [
           "4IBS"
          ],
          [
           "4IBS"
          ],
          [
           "4IBS"
          ],
          [
           "4IBS"
          ],
          [
           "4IBS"
          ],
          [
           "4IBS"
          ],
          [
           "4IBS"
          ],
          [
           "4IBS"
          ],
          [
           "4IBS"
          ],
          [
           "4IBS"
          ],
          [
           "4IBS"
          ],
          [
           "4IBS"
          ],
          [
           "4IBS"
          ],
          [
           "4IBS"
          ],
          [
           "4IBS"
          ],
          [
           "4IBS"
          ],
          [
           "4IBS"
          ],
          [
           "4IBS"
          ],
          [
           "4IBS"
          ],
          [
           "4IBS"
          ],
          [
           "4IBS"
          ],
          [
           "4IBS"
          ],
          [
           "4IBS"
          ],
          [
           "4IBS"
          ],
          [
           "4IBS"
          ],
          [
           "4IBS"
          ],
          [
           "4IBS"
          ],
          [
           "4IBS"
          ],
          [
           "4IBS"
          ],
          [
           "4IBS"
          ],
          [
           "4IBS"
          ],
          [
           "4IBS"
          ],
          [
           "4IBS"
          ],
          [
           "4IBS"
          ],
          [
           "4IBS"
          ],
          [
           "4IBS"
          ],
          [
           "4IBS"
          ],
          [
           "4IBS"
          ],
          [
           "4IBS"
          ],
          [
           "4IBS"
          ],
          [
           "4IBS"
          ],
          [
           "4IBS"
          ],
          [
           "4IBS"
          ],
          [
           "4IBS"
          ],
          [
           "4IBS"
          ],
          [
           "4IBS"
          ],
          [
           "4IBS"
          ],
          [
           "4IBS"
          ],
          [
           "4IBS"
          ],
          [
           "4IBS"
          ],
          [
           "4IBS"
          ],
          [
           "4IBS"
          ],
          [
           "4IBS"
          ],
          [
           "4IBS"
          ],
          [
           "4IBS"
          ],
          [
           "4IBS"
          ],
          [
           "4IBS"
          ],
          [
           "4IBS"
          ],
          [
           "4IBS"
          ],
          [
           "4IBS"
          ],
          [
           "4IBS"
          ],
          [
           "4IBS"
          ],
          [
           "4IBS"
          ],
          [
           "4IBS"
          ],
          [
           "4IBS"
          ],
          [
           "4IBS"
          ],
          [
           "4IBS"
          ],
          [
           "4IBS"
          ],
          [
           "4IBS"
          ],
          [
           "4IBS"
          ],
          [
           "4IBS"
          ],
          [
           "4IBS"
          ],
          [
           "4IBS"
          ],
          [
           "4IBS"
          ],
          [
           "4IBS"
          ],
          [
           "4IBS"
          ],
          [
           "4IBS"
          ],
          [
           "4IBS"
          ],
          [
           "4IBS"
          ],
          [
           "4IBS"
          ],
          [
           "4IBS"
          ],
          [
           "4IBS"
          ],
          [
           "4IBS"
          ],
          [
           "4IBS"
          ],
          [
           "4IBS"
          ],
          [
           "4IBS"
          ],
          [
           "4IBS"
          ],
          [
           "4IBS"
          ],
          [
           "4IBS"
          ],
          [
           "4IBS"
          ],
          [
           "4IBS"
          ],
          [
           "4IBS"
          ],
          [
           "4IBS"
          ],
          [
           "4IBS"
          ],
          [
           "4IBS"
          ],
          [
           "4IBS"
          ],
          [
           "4IBS"
          ],
          [
           "4IBS"
          ],
          [
           "4IBS"
          ],
          [
           "4IBS"
          ],
          [
           "4IBS"
          ],
          [
           "4IBS"
          ],
          [
           "4IBS"
          ],
          [
           "4IBS"
          ],
          [
           "4IBS"
          ],
          [
           "4IBS"
          ],
          [
           "4IBS"
          ],
          [
           "4IBS"
          ],
          [
           "4IBS"
          ],
          [
           "4IBS"
          ],
          [
           "4IBS"
          ],
          [
           "4IBS"
          ],
          [
           "4IBS"
          ],
          [
           "4IBS"
          ],
          [
           "4IBS"
          ],
          [
           "4IBS"
          ],
          [
           "4IBS"
          ],
          [
           "4IBS"
          ],
          [
           "4IBS"
          ],
          [
           "4IBS"
          ],
          [
           "4IBS"
          ],
          [
           "4IBS"
          ],
          [
           "4IBS"
          ],
          [
           "4IBS"
          ],
          [
           "4IBS"
          ],
          [
           "4IBS"
          ],
          [
           "4IBS"
          ],
          [
           "4IBS"
          ],
          [
           "4IBS"
          ],
          [
           "4IBS"
          ],
          [
           "4IBS"
          ],
          [
           "4IBS"
          ],
          [
           "4IBS"
          ],
          [
           "4IBS"
          ],
          [
           "4IBS"
          ],
          [
           "4IBS"
          ],
          [
           "4IBS"
          ],
          [
           "4IBS"
          ],
          [
           "4IBS"
          ],
          [
           "4IBS"
          ],
          [
           "4IBS"
          ],
          [
           "4IBS"
          ],
          [
           "4IBS"
          ],
          [
           "4IBS"
          ],
          [
           "4IBS"
          ],
          [
           "4IBS"
          ],
          [
           "4IBS"
          ],
          [
           "4IBS"
          ],
          [
           "4IBS"
          ],
          [
           "4IBS"
          ],
          [
           "4IBS"
          ],
          [
           "4IBS"
          ],
          [
           "4IBS"
          ],
          [
           "4IBS"
          ],
          [
           "4IBS"
          ],
          [
           "4IBS"
          ],
          [
           "4IBS"
          ],
          [
           "4IBS"
          ],
          [
           "4IBS"
          ],
          [
           "4IBS"
          ],
          [
           "4IBS"
          ],
          [
           "4IBS"
          ],
          [
           "4IBS"
          ],
          [
           "4IBS"
          ],
          [
           "4IBS"
          ],
          [
           "4IBS"
          ],
          [
           "4IBS"
          ],
          [
           "4IBS"
          ],
          [
           "4IBS"
          ],
          [
           "4IBS"
          ],
          [
           "4IBS"
          ],
          [
           "4IBS"
          ],
          [
           "4IBS"
          ],
          [
           "4IBS"
          ],
          [
           "4IBS"
          ],
          [
           "4IBS"
          ],
          [
           "4IBS"
          ],
          [
           "4IBS"
          ],
          [
           "4IBS"
          ],
          [
           "4IBS"
          ],
          [
           "4IBS"
          ],
          [
           "4IBS"
          ],
          [
           "4IBS"
          ],
          [
           "4IBS"
          ],
          [
           "4IBS"
          ],
          [
           "4IBS"
          ],
          [
           "4IBS"
          ],
          [
           "4IBS"
          ],
          [
           "4IBS"
          ],
          [
           "4IBS"
          ],
          [
           "4IBS"
          ],
          [
           "4IBS"
          ],
          [
           "4IBS"
          ],
          [
           "4IBS"
          ],
          [
           "4IBS"
          ],
          [
           "4IBS"
          ],
          [
           "4IBS"
          ],
          [
           "4IBS"
          ],
          [
           "4IBS"
          ],
          [
           "4IBS"
          ],
          [
           "4IBS"
          ],
          [
           "4IBS"
          ],
          [
           "4IBS"
          ],
          [
           "4IBS"
          ],
          [
           "4IBS"
          ],
          [
           "4IBS"
          ],
          [
           "4IBS"
          ],
          [
           "4IBS"
          ],
          [
           "4IBS"
          ],
          [
           "4IBS"
          ],
          [
           "4IBS"
          ],
          [
           "4IBS"
          ],
          [
           "4IBS"
          ],
          [
           "4IBS"
          ],
          [
           "4IBS"
          ],
          [
           "4IBS"
          ],
          [
           "4IBS"
          ],
          [
           "4IBS"
          ],
          [
           "4IBS"
          ],
          [
           "4IBS"
          ],
          [
           "4IBS"
          ],
          [
           "4IBS"
          ],
          [
           "4IBS"
          ],
          [
           "4IBS"
          ],
          [
           "4IBS"
          ],
          [
           "4IBS"
          ],
          [
           "4IBS"
          ],
          [
           "4IBS"
          ],
          [
           "4IBS"
          ],
          [
           "4IBS"
          ],
          [
           "4IBS"
          ],
          [
           "4IBS"
          ],
          [
           "4IBS"
          ],
          [
           "4IBS"
          ],
          [
           "4IBS"
          ],
          [
           "4IBS"
          ],
          [
           "4IBS"
          ],
          [
           "4IBS"
          ],
          [
           "4IBS"
          ],
          [
           "4IBS"
          ],
          [
           "4IBS"
          ],
          [
           "4IBS"
          ],
          [
           "4IBS"
          ],
          [
           "4IBS"
          ],
          [
           "4IBS"
          ],
          [
           "4IBS"
          ],
          [
           "4IBS"
          ],
          [
           "4IBS"
          ],
          [
           "4IBS"
          ],
          [
           "4IBS"
          ],
          [
           "4IBS"
          ],
          [
           "4IBS"
          ],
          [
           "4IBS"
          ],
          [
           "4IBS"
          ],
          [
           "4IBS"
          ],
          [
           "4IBS"
          ],
          [
           "4IBS"
          ],
          [
           "4IBS"
          ],
          [
           "4IBS"
          ],
          [
           "4IBS"
          ],
          [
           "4IBS"
          ],
          [
           "4IBS"
          ],
          [
           "4IBS"
          ],
          [
           "4IBS"
          ],
          [
           "4IBS"
          ],
          [
           "4IBS"
          ]
         ],
         "hovertemplate": "pdb_id=%{customdata[0]}<br>UniProt Number=%{x}<br>Network Score=%{y}<extra></extra>",
         "legendgroup": "4IBS",
         "line": {
          "color": "#EF553B",
          "dash": "solid"
         },
         "marker": {
          "symbol": "circle"
         },
         "mode": "lines",
         "name": "4IBS (R273H)",
         "showlegend": true,
         "type": "scattergl",
         "x": [
          94,
          94,
          94,
          94,
          97,
          97,
          97,
          97,
          98,
          98,
          98,
          98,
          99,
          99,
          99,
          99,
          100,
          100,
          100,
          100,
          101,
          101,
          101,
          101,
          102,
          102,
          102,
          102,
          103,
          103,
          103,
          103,
          104,
          104,
          104,
          104,
          105,
          105,
          105,
          105,
          106,
          106,
          106,
          106,
          107,
          107,
          107,
          107,
          108,
          108,
          108,
          108,
          109,
          109,
          109,
          109,
          110,
          110,
          110,
          110,
          111,
          111,
          111,
          111,
          112,
          112,
          112,
          112,
          113,
          113,
          113,
          113,
          114,
          114,
          114,
          114,
          115,
          115,
          115,
          115,
          116,
          116,
          116,
          116,
          117,
          117,
          117,
          117,
          118,
          118,
          118,
          118,
          119,
          119,
          119,
          119,
          120,
          120,
          120,
          120,
          121,
          121,
          121,
          121,
          122,
          122,
          122,
          122,
          123,
          123,
          123,
          123,
          124,
          124,
          124,
          124,
          125,
          125,
          125,
          125,
          126,
          126,
          126,
          126,
          127,
          127,
          127,
          127,
          128,
          128,
          128,
          128,
          129,
          129,
          129,
          129,
          130,
          130,
          130,
          130,
          131,
          131,
          131,
          131,
          132,
          132,
          132,
          132,
          133,
          133,
          133,
          133,
          134,
          134,
          134,
          134,
          135,
          135,
          135,
          135,
          136,
          136,
          136,
          136,
          137,
          137,
          137,
          137,
          138,
          138,
          138,
          138,
          139,
          139,
          139,
          139,
          140,
          140,
          140,
          140,
          141,
          141,
          141,
          141,
          142,
          142,
          142,
          142,
          143,
          143,
          143,
          143,
          144,
          144,
          144,
          144,
          145,
          145,
          145,
          145,
          146,
          146,
          146,
          146,
          147,
          147,
          147,
          147,
          148,
          148,
          148,
          148,
          149,
          149,
          149,
          149,
          150,
          150,
          150,
          150,
          151,
          151,
          151,
          151,
          152,
          152,
          152,
          152,
          153,
          153,
          153,
          153,
          154,
          154,
          154,
          154,
          155,
          155,
          155,
          155,
          156,
          156,
          156,
          156,
          157,
          157,
          157,
          157,
          158,
          158,
          158,
          158,
          159,
          159,
          159,
          159,
          160,
          160,
          160,
          160,
          161,
          161,
          161,
          161,
          162,
          162,
          162,
          162,
          163,
          163,
          163,
          163,
          164,
          164,
          164,
          164,
          165,
          165,
          165,
          165,
          166,
          166,
          166,
          166,
          167,
          167,
          167,
          167,
          168,
          168,
          168,
          168,
          169,
          169,
          169,
          169,
          170,
          170,
          170,
          170,
          171,
          171,
          171,
          171,
          172,
          172,
          172,
          172,
          173,
          173,
          173,
          173,
          174,
          174,
          174,
          174,
          175,
          175,
          175,
          175,
          176,
          176,
          176,
          176,
          177,
          177,
          177,
          177,
          178,
          178,
          178,
          178,
          179,
          179,
          179,
          179,
          180,
          180,
          180,
          180,
          181,
          181,
          181,
          181,
          182,
          182,
          182,
          182,
          183,
          183,
          183,
          183,
          184,
          184,
          184,
          184,
          185,
          185,
          185,
          185,
          186,
          186,
          186,
          186,
          187,
          187,
          187,
          187,
          188,
          188,
          188,
          188,
          189,
          189,
          189,
          189,
          190,
          190,
          190,
          190,
          191,
          191,
          191,
          191,
          192,
          192,
          192,
          192,
          193,
          193,
          193,
          193,
          194,
          194,
          194,
          194,
          195,
          195,
          195,
          195,
          196,
          196,
          196,
          196,
          197,
          197,
          197,
          197,
          198,
          198,
          198,
          198,
          199,
          199,
          199,
          199,
          200,
          200,
          200,
          200,
          201,
          201,
          201,
          201,
          202,
          202,
          202,
          202,
          203,
          203,
          203,
          203,
          204,
          204,
          204,
          204,
          205,
          205,
          205,
          205,
          206,
          206,
          206,
          206,
          207,
          207,
          207,
          207,
          208,
          208,
          208,
          208,
          209,
          209,
          209,
          209,
          210,
          210,
          210,
          210,
          211,
          211,
          211,
          211,
          212,
          212,
          212,
          212,
          213,
          213,
          213,
          213,
          214,
          214,
          214,
          214,
          215,
          215,
          215,
          215,
          216,
          216,
          216,
          216,
          217,
          217,
          217,
          217,
          218,
          218,
          218,
          218,
          219,
          219,
          219,
          219,
          220,
          220,
          220,
          220,
          221,
          221,
          221,
          221,
          222,
          222,
          222,
          222,
          223,
          223,
          223,
          223,
          224,
          224,
          224,
          224,
          225,
          225,
          225,
          225,
          226,
          226,
          226,
          226,
          227,
          227,
          227,
          227,
          228,
          228,
          228,
          228,
          229,
          229,
          229,
          229,
          230,
          230,
          230,
          230,
          231,
          231,
          231,
          231,
          232,
          232,
          232,
          232,
          233,
          233,
          233,
          233,
          234,
          234,
          234,
          234,
          235,
          235,
          235,
          235,
          236,
          236,
          236,
          236,
          237,
          237,
          237,
          237,
          238,
          238,
          238,
          238,
          239,
          239,
          239,
          239,
          240,
          240,
          240,
          240,
          241,
          241,
          241,
          241,
          242,
          242,
          242,
          242,
          243,
          243,
          243,
          243,
          244,
          244,
          244,
          244,
          245,
          245,
          245,
          245,
          246,
          246,
          246,
          246,
          247,
          247,
          247,
          247,
          248,
          248,
          248,
          248,
          249,
          249,
          249,
          249,
          250,
          250,
          250,
          250,
          251,
          251,
          251,
          251,
          252,
          252,
          252,
          252,
          253,
          253,
          253,
          253,
          254,
          254,
          254,
          254,
          255,
          255,
          255,
          255,
          256,
          256,
          256,
          256,
          257,
          257,
          257,
          257,
          258,
          258,
          258,
          258,
          259,
          259,
          259,
          259,
          260,
          260,
          260,
          260,
          261,
          261,
          261,
          261,
          262,
          262,
          262,
          262,
          263,
          263,
          263,
          263,
          264,
          264,
          264,
          264,
          265,
          265,
          265,
          265,
          266,
          266,
          266,
          266,
          267,
          267,
          267,
          267,
          268,
          268,
          268,
          268,
          269,
          269,
          269,
          269,
          270,
          270,
          270,
          270,
          271,
          271,
          271,
          271,
          272,
          272,
          272,
          272,
          273,
          273,
          273,
          273,
          274,
          274,
          274,
          274,
          275,
          275,
          275,
          275,
          276,
          276,
          276,
          276,
          277,
          277,
          277,
          277,
          278,
          278,
          278,
          278,
          279,
          279,
          279,
          279,
          280,
          280,
          280,
          280,
          281,
          281,
          281,
          281,
          282,
          282,
          282,
          282,
          283,
          283,
          283,
          283,
          284,
          284,
          284,
          284,
          285,
          285,
          285,
          285,
          286,
          286,
          286,
          286,
          287,
          287,
          287,
          287,
          288,
          288,
          288,
          288,
          289,
          289,
          289,
          289
         ],
         "xaxis": "x",
         "y": [
          -0.144476556,
          -0.144476556,
          -0.144476556,
          -0.144476556,
          0.594590585,
          0.594590585,
          0.673316746,
          0.594590585,
          1.55502899,
          1.677042464,
          1.69930412,
          2.770684165,
          0.735214717,
          0.735214717,
          0.735214717,
          0.735214717,
          1.177727322,
          1.177727322,
          1.177727322,
          1.794509531,
          0.363367176,
          0.363367176,
          0.363367176,
          0.363367176,
          1.241128156,
          1.241128156,
          1.241128156,
          1.241128156,
          0.998240169,
          0.998240169,
          1.020944533,
          0.998240169,
          1.704857911,
          1.704857911,
          1.704857911,
          1.704857911,
          2.319459315,
          2.319459315,
          2.319459315,
          2.319459315,
          1.308627709,
          1.308627709,
          1.308627709,
          1.308627709,
          1.466162339,
          1.466162339,
          1.466162339,
          1.466162339,
          4.244862491,
          4.244862491,
          4.244862491,
          4.244862491,
          3.419460769,
          3.022113588,
          2.795458569,
          2.795458569,
          3.386541048,
          3.386541048,
          3.976664418,
          3.386541048,
          4.104947594,
          3.984789261,
          5.93017278,
          3.984789261,
          5.409497033,
          4.867093382,
          7.307773071,
          4.867093382,
          5.003916936,
          6.159229514,
          4.721753908,
          4.031192654,
          1.251020686,
          1.251020686,
          1.251020686,
          1.251020686,
          1.019381352,
          1.019381352,
          1.019381352,
          1.019381352,
          2.960129124,
          2.960129124,
          2.960129124,
          2.960129124,
          4.16736926,
          4.16736926,
          4.16736926,
          4.16736926,
          8.893431229,
          8.893431229,
          8.893431229,
          8.893431229,
          0.518855731,
          0.518855731,
          0.518855731,
          0.518855731,
          -0.090388761,
          -0.090388761,
          -0.090388761,
          -0.090388761,
          -0.641723425,
          -0.641723425,
          -0.641723425,
          -0.641723425,
          5.286213701,
          5.286213701,
          5.286213701,
          5.286213701,
          0.63114516,
          0.63114516,
          0.63114516,
          0.744296866,
          3.745489087,
          3.745489087,
          3.745489087,
          3.745489087,
          9.369046741,
          9.369046741,
          9.369046741,
          9.369046741,
          2.568342913,
          2.568342913,
          2.582826811,
          2.568342913,
          1.328173191,
          1.328173191,
          1.45800625,
          1.328173191,
          2.138752836,
          2.015098809,
          1.804804487,
          1.804804487,
          0.706551963,
          0.706551963,
          0.706551963,
          0.706551963,
          1.217748473,
          1.204037185,
          1.204037185,
          1.204037185,
          2.712957109,
          2.712957109,
          2.712957109,
          2.712957109,
          1.649400428,
          2.043932378,
          1.436021988,
          1.904685191,
          3.914994256,
          6.923426042,
          3.914994256,
          3.914994256,
          2.325441035,
          2.325441035,
          2.325441035,
          2.325441035,
          2.222912216,
          2.222912216,
          2.222912216,
          2.222912216,
          3.296723441,
          3.296723441,
          3.296723441,
          3.495146208,
          3.443699631,
          2.43885283,
          2.381094382,
          2.409260938,
          0.24076321,
          0.24076321,
          0.24076321,
          0.24076321,
          0.918593257,
          0.918593257,
          0.918593257,
          0.918593257,
          2.057264116,
          2.057264116,
          2.057264116,
          2.057264116,
          2.554653681,
          1.824586751,
          1.824586751,
          2.476977605,
          1.632241609,
          1.632241609,
          1.632241609,
          1.632241609,
          2.564988684,
          2.564988684,
          2.736823591,
          2.794593778,
          2.643048846,
          3.238281437,
          2.948206076,
          3.025347191,
          3.111490352,
          3.552840797,
          3.111490352,
          3.111490352,
          2.376335651,
          1.988064061,
          1.988064061,
          1.988064061,
          2.600575705,
          2.600575705,
          2.600575705,
          2.600575705,
          2.62182896,
          2.62182896,
          2.62182896,
          2.62182896,
          2.856542735,
          2.856542735,
          2.856542735,
          2.856542735,
          0.443232712,
          0.443232712,
          0.443232712,
          0.443232712,
          4.857730761,
          4.857730761,
          4.857730761,
          4.857730761,
          1.435953208,
          1.435953208,
          1.557004463,
          1.465162078,
          -0.139301184,
          -0.139301184,
          -0.139301184,
          -0.139301184,
          1.080875925,
          1.082492837,
          1.126354334,
          1.126695067,
          2.772195448,
          3.011982731,
          2.792014663,
          2.865557155,
          4.796901577,
          4.796901577,
          4.796901577,
          4.796901577,
          6.162521374,
          6.162521374,
          6.162521374,
          6.162521374,
          4.26173058,
          4.26173058,
          4.26173058,
          4.487751744,
          2.072789392,
          2.072789392,
          2.072789392,
          2.072789392,
          0.826235841,
          0.826235841,
          0.826235841,
          0.826235841,
          2.579737637,
          3.334597139,
          2.392770162,
          2.392770162,
          2.324707206,
          3.540104259,
          2.324707206,
          5.01964958,
          2.067777883,
          2.504610606,
          2.61853029,
          1.882672391,
          1.579941214,
          2.623920701,
          1.579941214,
          1.623675706,
          0.47042645,
          0.47042645,
          0.47042645,
          0.47042645,
          -0.156613961,
          -0.156613961,
          -0.156613961,
          -0.156613961,
          -0.26336168,
          -0.26336168,
          -0.26336168,
          -0.26336168,
          0.301191947,
          0.301191947,
          0.301191947,
          0.301191947,
          1.283102666,
          1.283102666,
          1.283102666,
          2.010994871,
          -0.10052957,
          -0.10052957,
          -0.10052957,
          -0.10052957,
          0.132902646,
          0.132902646,
          0.132902646,
          0.132902646,
          1.011464148,
          0.525398428,
          0.999018348,
          0.628035243,
          4.013350924,
          5.845424999,
          5.716535073,
          7.067417306,
          0.652061587,
          0.637328,
          0.637328,
          0.637328,
          8.06426595,
          8.06426595,
          8.06426595,
          8.06426595,
          8.723710646,
          8.723710646,
          8.723710646,
          8.723710646,
          -0.159995807,
          -0.159995807,
          -0.159995807,
          -0.057225891,
          6.073916708,
          6.073916708,
          6.073916708,
          6.073916708,
          4.162926658,
          4.162926658,
          4.162926658,
          4.162926658,
          -0.208405295,
          -0.208405295,
          -0.208405295,
          -0.208405295,
          -0.62947133,
          -0.62947133,
          -0.62947133,
          -0.62947133,
          1.279650326,
          0.837382669,
          0.837382669,
          0.837382669,
          -0.921210153,
          -0.921210153,
          -0.921210153,
          -0.921210153,
          1.002948441,
          1.002948441,
          1.002948441,
          1.067061598,
          -0.363375596,
          -0.363375596,
          -0.363375596,
          -0.363375596,
          0.427608459,
          0.427608459,
          0.439601714,
          0.454639781,
          -0.252204925,
          -0.252204925,
          -0.252204925,
          -0.252204925,
          0.466670815,
          0.466670815,
          0.466670815,
          0.466670815,
          2.26232899,
          1.556645225,
          1.593285126,
          1.679319956,
          1.608999744,
          1.063289829,
          1.256136546,
          1.063289829,
          0.660867125,
          0.660867125,
          0.660867125,
          0.660867125,
          0.058072205,
          0.058072205,
          0.058072205,
          0.597681579,
          3.947558876,
          3.947558876,
          3.947558876,
          3.947558876,
          2.687903315,
          2.756976112,
          2.687903315,
          2.687903315,
          2.458289756,
          2.383295437,
          2.383295437,
          3.879626078,
          3.204817949,
          2.391249464,
          2.628363453,
          2.428484163,
          4.728283078,
          4.386306954,
          4.386306954,
          4.386306954,
          1.798306264,
          1.798306264,
          1.798306264,
          1.798306264,
          0.248035686,
          0.018461578,
          0.018461578,
          0.018461578,
          0.559867486,
          0.521477706,
          0.521477706,
          0.521477706,
          -0.604802732,
          -0.604802732,
          -0.604802732,
          -0.604802732,
          0.16928307,
          0.16928307,
          0.16928307,
          0.16928307,
          3.55457185,
          3.540066072,
          3.461235186,
          3.12577741,
          5.12992163,
          5.12992163,
          5.12992163,
          5.12992163,
          2.970330346,
          3.058223568,
          2.846076933,
          3.623886362,
          3.861794083,
          3.861794083,
          3.861794083,
          3.861794083,
          0.718649118,
          0.718649118,
          0.718649118,
          0.718649118,
          -0.199952927,
          -0.199952927,
          -0.199952927,
          -0.199952927,
          -0.335113235,
          -0.335113235,
          -0.335113235,
          -0.335113235,
          -0.676678781,
          -0.676678781,
          -0.676678781,
          -0.676678781,
          0.6005202,
          0.810490332,
          0.67044427,
          0.587344342,
          -0.621829225,
          -0.621829225,
          -0.621829225,
          -0.621829225,
          2.192625337,
          1.771340836,
          1.607698033,
          1.936791199,
          2.091763019,
          2.465086811,
          2.091763019,
          2.091763019,
          1.19010072,
          1.19010072,
          1.19010072,
          1.19010072,
          6.050553184,
          3.387151045,
          3.387151045,
          3.387151045,
          8.378642062,
          8.378642062,
          8.378642062,
          8.378642062,
          3.281033198,
          3.524742888,
          3.521677,
          3.977668063,
          0.843579048,
          0.843579048,
          0.843579048,
          0.843579048,
          2.985008655,
          2.985008655,
          2.985008655,
          2.985008655,
          0.100420102,
          0.100420102,
          0.100420102,
          0.100420102,
          -0.196157475,
          -0.196157475,
          -0.196157475,
          -0.196157475,
          1.035323586,
          1.029977978,
          0.857293204,
          1.170881013,
          -0.13341161,
          -0.13341161,
          -0.13341161,
          -0.13341161,
          -0.719557688,
          -0.719557688,
          -0.719557688,
          -0.719557688,
          -0.311914182,
          -0.311914182,
          -0.183896401,
          -0.311914182,
          0.630665673,
          1.171004916,
          0.75098996,
          0.980229135,
          0.130958076,
          0.130958076,
          0.130958076,
          0.130958076,
          2.498210694,
          2.978735972,
          2.926420628,
          2.996722192,
          1.170586519,
          1.170586519,
          1.170586519,
          1.232369931,
          0.668067922,
          0.668067922,
          0.668067922,
          0.668067922,
          2.377511661,
          3.110863826,
          2.377511661,
          2.377511661,
          0.307196571,
          0.307196571,
          0.307196571,
          0.307196571,
          3.26473678,
          2.311197653,
          2.311197653,
          2.311197653,
          1.352070166,
          1.352070166,
          1.910960552,
          1.352070166,
          3.632047037,
          2.775536745,
          3.672343312,
          2.747344394,
          2.348626972,
          3.022573704,
          2.348626972,
          2.348626972,
          4.069225867,
          3.907979915,
          3.907979915,
          3.907979915,
          1.896078278,
          1.896078278,
          1.896078278,
          1.896078278,
          2.00408477,
          1.550371208,
          1.546380629,
          1.764012891,
          0.280208843,
          0.280208843,
          0.280208843,
          0.280208843,
          1.287141735,
          1.287141735,
          1.287141735,
          1.287141735,
          -0.155919008,
          -0.155919008,
          -0.155919008,
          -0.155919008,
          -0.318199362,
          -0.318199362,
          -0.318199362,
          -0.318199362,
          2.362194766,
          2.362194766,
          2.362194766,
          2.362194766,
          2.548766693,
          2.808787078,
          2.605476845,
          2.779956859,
          -0.25948029,
          -0.25948029,
          -0.25948029,
          -0.25948029,
          -0.104653469,
          -0.104653469,
          -0.104653469,
          -0.104653469,
          4.86983891,
          4.303675627,
          3.250663144,
          3.480625279,
          2.205482096,
          2.464952163,
          1.602522133,
          2.305409875,
          3.026660526,
          2.099499393,
          2.099499393,
          2.099499393,
          4.173483277,
          4.173483277,
          4.173483277,
          8.204366934,
          2.432938995,
          2.432938995,
          3.025327313,
          3.343383878,
          1.856367256,
          4.020400265,
          1.856367256,
          1.856367256,
          2.701060837,
          2.701060837,
          4.487658242,
          2.828229477,
          6.411667801,
          6.411667801,
          6.411667801,
          6.411667801,
          2.860219181,
          2.899399858,
          2.860219181,
          3.493231093,
          3.390966548,
          3.390966548,
          3.390966548,
          3.390966548,
          4.201352408,
          4.201352408,
          4.201352408,
          4.201352408,
          0.456613071,
          0.456613071,
          0.456613071,
          0.456613071,
          -0.138538053,
          -0.138538053,
          -0.138538053,
          -0.138538053,
          0.827006956,
          1.743553185,
          0.827006956,
          0.827006956,
          0.38676168,
          0.38676168,
          0.38676168,
          0.38676168,
          2.627166879,
          2.627166879,
          2.627166879,
          2.627166879,
          8.481972652,
          8.481972652,
          8.481972652,
          8.481972652,
          1.882137142,
          2.423833824,
          1.882137142,
          2.644316533,
          1.186291487,
          1.186291487,
          1.342748288,
          1.186291487,
          2.994526389,
          4.539278472,
          2.994526389,
          2.994526389,
          1.797415346,
          1.797415346,
          1.797415346,
          1.797415346,
          3.4157828,
          5.547676109,
          4.56147424,
          3.608525079,
          2.339978029,
          2.027232864,
          2.527328713,
          2.670815025,
          2.797434999,
          2.797434999,
          3.710058199,
          4.593669361,
          2.182679072,
          2.119421416,
          2.181208802,
          2.119421416,
          7.143282269,
          7.143282269,
          7.143282269,
          7.574871524,
          1.93899746,
          1.93899746,
          1.93899746,
          1.93899746,
          2.923280384,
          2.923280384,
          2.923280384,
          2.923280384,
          1.258318874,
          1.258318874,
          1.258318874,
          1.258318874,
          7.084551566,
          7.084551566,
          7.084551566,
          7.084551566,
          1.78152513,
          1.78152513,
          1.78152513,
          1.78152513,
          -0.031372301,
          -0.031372301,
          -0.031372301,
          -0.031372301,
          1.750066847,
          1.750066847,
          1.750066847,
          1.750066847,
          7.902092283,
          7.902092283,
          7.902092283,
          7.902092283,
          3.696438855,
          3.696438855,
          3.696438855,
          3.696438855,
          -0.437508213,
          -0.437508213,
          -0.437508213,
          -0.437508213,
          0.837886518,
          0.837886518,
          0.837886518,
          0.837886518,
          0.933850622,
          0.933850622,
          0.933850622,
          0.933850622,
          -0.238421762,
          -0.238421762,
          -0.238421762,
          -0.238421762,
          -0.316845402,
          -0.316845402,
          -0.316845402,
          -0.316845402,
          0.671923268,
          0.671923268,
          0.671923268,
          0.671923268
         ],
         "yaxis": "y"
        },
        {
         "customdata": [
          [
           "2OCJ"
          ],
          [
           "2OCJ"
          ],
          [
           "2OCJ"
          ],
          [
           "2OCJ"
          ],
          [
           "2OCJ"
          ],
          [
           "2OCJ"
          ],
          [
           "2OCJ"
          ],
          [
           "2OCJ"
          ],
          [
           "2OCJ"
          ],
          [
           "2OCJ"
          ],
          [
           "2OCJ"
          ],
          [
           "2OCJ"
          ],
          [
           "2OCJ"
          ],
          [
           "2OCJ"
          ],
          [
           "2OCJ"
          ],
          [
           "2OCJ"
          ],
          [
           "2OCJ"
          ],
          [
           "2OCJ"
          ],
          [
           "2OCJ"
          ],
          [
           "2OCJ"
          ],
          [
           "2OCJ"
          ],
          [
           "2OCJ"
          ],
          [
           "2OCJ"
          ],
          [
           "2OCJ"
          ],
          [
           "2OCJ"
          ],
          [
           "2OCJ"
          ],
          [
           "2OCJ"
          ],
          [
           "2OCJ"
          ],
          [
           "2OCJ"
          ],
          [
           "2OCJ"
          ],
          [
           "2OCJ"
          ],
          [
           "2OCJ"
          ],
          [
           "2OCJ"
          ],
          [
           "2OCJ"
          ],
          [
           "2OCJ"
          ],
          [
           "2OCJ"
          ],
          [
           "2OCJ"
          ],
          [
           "2OCJ"
          ],
          [
           "2OCJ"
          ],
          [
           "2OCJ"
          ],
          [
           "2OCJ"
          ],
          [
           "2OCJ"
          ],
          [
           "2OCJ"
          ],
          [
           "2OCJ"
          ],
          [
           "2OCJ"
          ],
          [
           "2OCJ"
          ],
          [
           "2OCJ"
          ],
          [
           "2OCJ"
          ],
          [
           "2OCJ"
          ],
          [
           "2OCJ"
          ],
          [
           "2OCJ"
          ],
          [
           "2OCJ"
          ],
          [
           "2OCJ"
          ],
          [
           "2OCJ"
          ],
          [
           "2OCJ"
          ],
          [
           "2OCJ"
          ],
          [
           "2OCJ"
          ],
          [
           "2OCJ"
          ],
          [
           "2OCJ"
          ],
          [
           "2OCJ"
          ],
          [
           "2OCJ"
          ],
          [
           "2OCJ"
          ],
          [
           "2OCJ"
          ],
          [
           "2OCJ"
          ],
          [
           "2OCJ"
          ],
          [
           "2OCJ"
          ],
          [
           "2OCJ"
          ],
          [
           "2OCJ"
          ],
          [
           "2OCJ"
          ],
          [
           "2OCJ"
          ],
          [
           "2OCJ"
          ],
          [
           "2OCJ"
          ],
          [
           "2OCJ"
          ],
          [
           "2OCJ"
          ],
          [
           "2OCJ"
          ],
          [
           "2OCJ"
          ],
          [
           "2OCJ"
          ],
          [
           "2OCJ"
          ],
          [
           "2OCJ"
          ],
          [
           "2OCJ"
          ],
          [
           "2OCJ"
          ],
          [
           "2OCJ"
          ],
          [
           "2OCJ"
          ],
          [
           "2OCJ"
          ],
          [
           "2OCJ"
          ],
          [
           "2OCJ"
          ],
          [
           "2OCJ"
          ],
          [
           "2OCJ"
          ],
          [
           "2OCJ"
          ],
          [
           "2OCJ"
          ],
          [
           "2OCJ"
          ],
          [
           "2OCJ"
          ],
          [
           "2OCJ"
          ],
          [
           "2OCJ"
          ],
          [
           "2OCJ"
          ],
          [
           "2OCJ"
          ],
          [
           "2OCJ"
          ],
          [
           "2OCJ"
          ],
          [
           "2OCJ"
          ],
          [
           "2OCJ"
          ],
          [
           "2OCJ"
          ],
          [
           "2OCJ"
          ],
          [
           "2OCJ"
          ],
          [
           "2OCJ"
          ],
          [
           "2OCJ"
          ],
          [
           "2OCJ"
          ],
          [
           "2OCJ"
          ],
          [
           "2OCJ"
          ],
          [
           "2OCJ"
          ],
          [
           "2OCJ"
          ],
          [
           "2OCJ"
          ],
          [
           "2OCJ"
          ],
          [
           "2OCJ"
          ],
          [
           "2OCJ"
          ],
          [
           "2OCJ"
          ],
          [
           "2OCJ"
          ],
          [
           "2OCJ"
          ],
          [
           "2OCJ"
          ],
          [
           "2OCJ"
          ],
          [
           "2OCJ"
          ],
          [
           "2OCJ"
          ],
          [
           "2OCJ"
          ],
          [
           "2OCJ"
          ],
          [
           "2OCJ"
          ],
          [
           "2OCJ"
          ],
          [
           "2OCJ"
          ],
          [
           "2OCJ"
          ],
          [
           "2OCJ"
          ],
          [
           "2OCJ"
          ],
          [
           "2OCJ"
          ],
          [
           "2OCJ"
          ],
          [
           "2OCJ"
          ],
          [
           "2OCJ"
          ],
          [
           "2OCJ"
          ],
          [
           "2OCJ"
          ],
          [
           "2OCJ"
          ],
          [
           "2OCJ"
          ],
          [
           "2OCJ"
          ],
          [
           "2OCJ"
          ],
          [
           "2OCJ"
          ],
          [
           "2OCJ"
          ],
          [
           "2OCJ"
          ],
          [
           "2OCJ"
          ],
          [
           "2OCJ"
          ],
          [
           "2OCJ"
          ],
          [
           "2OCJ"
          ],
          [
           "2OCJ"
          ],
          [
           "2OCJ"
          ],
          [
           "2OCJ"
          ],
          [
           "2OCJ"
          ],
          [
           "2OCJ"
          ],
          [
           "2OCJ"
          ],
          [
           "2OCJ"
          ],
          [
           "2OCJ"
          ],
          [
           "2OCJ"
          ],
          [
           "2OCJ"
          ],
          [
           "2OCJ"
          ],
          [
           "2OCJ"
          ],
          [
           "2OCJ"
          ],
          [
           "2OCJ"
          ],
          [
           "2OCJ"
          ],
          [
           "2OCJ"
          ],
          [
           "2OCJ"
          ],
          [
           "2OCJ"
          ],
          [
           "2OCJ"
          ],
          [
           "2OCJ"
          ],
          [
           "2OCJ"
          ],
          [
           "2OCJ"
          ],
          [
           "2OCJ"
          ],
          [
           "2OCJ"
          ],
          [
           "2OCJ"
          ],
          [
           "2OCJ"
          ],
          [
           "2OCJ"
          ],
          [
           "2OCJ"
          ],
          [
           "2OCJ"
          ],
          [
           "2OCJ"
          ],
          [
           "2OCJ"
          ],
          [
           "2OCJ"
          ],
          [
           "2OCJ"
          ],
          [
           "2OCJ"
          ],
          [
           "2OCJ"
          ],
          [
           "2OCJ"
          ],
          [
           "2OCJ"
          ],
          [
           "2OCJ"
          ],
          [
           "2OCJ"
          ],
          [
           "2OCJ"
          ],
          [
           "2OCJ"
          ],
          [
           "2OCJ"
          ],
          [
           "2OCJ"
          ],
          [
           "2OCJ"
          ],
          [
           "2OCJ"
          ],
          [
           "2OCJ"
          ],
          [
           "2OCJ"
          ],
          [
           "2OCJ"
          ],
          [
           "2OCJ"
          ],
          [
           "2OCJ"
          ],
          [
           "2OCJ"
          ],
          [
           "2OCJ"
          ],
          [
           "2OCJ"
          ],
          [
           "2OCJ"
          ],
          [
           "2OCJ"
          ],
          [
           "2OCJ"
          ],
          [
           "2OCJ"
          ],
          [
           "2OCJ"
          ],
          [
           "2OCJ"
          ],
          [
           "2OCJ"
          ],
          [
           "2OCJ"
          ],
          [
           "2OCJ"
          ],
          [
           "2OCJ"
          ],
          [
           "2OCJ"
          ],
          [
           "2OCJ"
          ],
          [
           "2OCJ"
          ],
          [
           "2OCJ"
          ],
          [
           "2OCJ"
          ],
          [
           "2OCJ"
          ],
          [
           "2OCJ"
          ],
          [
           "2OCJ"
          ],
          [
           "2OCJ"
          ],
          [
           "2OCJ"
          ],
          [
           "2OCJ"
          ],
          [
           "2OCJ"
          ],
          [
           "2OCJ"
          ],
          [
           "2OCJ"
          ],
          [
           "2OCJ"
          ],
          [
           "2OCJ"
          ],
          [
           "2OCJ"
          ],
          [
           "2OCJ"
          ],
          [
           "2OCJ"
          ],
          [
           "2OCJ"
          ],
          [
           "2OCJ"
          ],
          [
           "2OCJ"
          ],
          [
           "2OCJ"
          ],
          [
           "2OCJ"
          ],
          [
           "2OCJ"
          ],
          [
           "2OCJ"
          ],
          [
           "2OCJ"
          ],
          [
           "2OCJ"
          ],
          [
           "2OCJ"
          ],
          [
           "2OCJ"
          ],
          [
           "2OCJ"
          ],
          [
           "2OCJ"
          ],
          [
           "2OCJ"
          ],
          [
           "2OCJ"
          ],
          [
           "2OCJ"
          ],
          [
           "2OCJ"
          ],
          [
           "2OCJ"
          ],
          [
           "2OCJ"
          ],
          [
           "2OCJ"
          ],
          [
           "2OCJ"
          ],
          [
           "2OCJ"
          ],
          [
           "2OCJ"
          ],
          [
           "2OCJ"
          ],
          [
           "2OCJ"
          ],
          [
           "2OCJ"
          ],
          [
           "2OCJ"
          ],
          [
           "2OCJ"
          ],
          [
           "2OCJ"
          ],
          [
           "2OCJ"
          ],
          [
           "2OCJ"
          ],
          [
           "2OCJ"
          ],
          [
           "2OCJ"
          ],
          [
           "2OCJ"
          ],
          [
           "2OCJ"
          ],
          [
           "2OCJ"
          ],
          [
           "2OCJ"
          ],
          [
           "2OCJ"
          ],
          [
           "2OCJ"
          ],
          [
           "2OCJ"
          ],
          [
           "2OCJ"
          ],
          [
           "2OCJ"
          ],
          [
           "2OCJ"
          ],
          [
           "2OCJ"
          ],
          [
           "2OCJ"
          ],
          [
           "2OCJ"
          ],
          [
           "2OCJ"
          ],
          [
           "2OCJ"
          ],
          [
           "2OCJ"
          ],
          [
           "2OCJ"
          ],
          [
           "2OCJ"
          ],
          [
           "2OCJ"
          ],
          [
           "2OCJ"
          ],
          [
           "2OCJ"
          ],
          [
           "2OCJ"
          ],
          [
           "2OCJ"
          ],
          [
           "2OCJ"
          ],
          [
           "2OCJ"
          ],
          [
           "2OCJ"
          ],
          [
           "2OCJ"
          ],
          [
           "2OCJ"
          ],
          [
           "2OCJ"
          ],
          [
           "2OCJ"
          ],
          [
           "2OCJ"
          ],
          [
           "2OCJ"
          ],
          [
           "2OCJ"
          ],
          [
           "2OCJ"
          ],
          [
           "2OCJ"
          ],
          [
           "2OCJ"
          ],
          [
           "2OCJ"
          ],
          [
           "2OCJ"
          ],
          [
           "2OCJ"
          ],
          [
           "2OCJ"
          ],
          [
           "2OCJ"
          ],
          [
           "2OCJ"
          ],
          [
           "2OCJ"
          ],
          [
           "2OCJ"
          ],
          [
           "2OCJ"
          ],
          [
           "2OCJ"
          ],
          [
           "2OCJ"
          ],
          [
           "2OCJ"
          ],
          [
           "2OCJ"
          ],
          [
           "2OCJ"
          ],
          [
           "2OCJ"
          ],
          [
           "2OCJ"
          ],
          [
           "2OCJ"
          ],
          [
           "2OCJ"
          ],
          [
           "2OCJ"
          ],
          [
           "2OCJ"
          ],
          [
           "2OCJ"
          ],
          [
           "2OCJ"
          ],
          [
           "2OCJ"
          ],
          [
           "2OCJ"
          ],
          [
           "2OCJ"
          ],
          [
           "2OCJ"
          ],
          [
           "2OCJ"
          ],
          [
           "2OCJ"
          ],
          [
           "2OCJ"
          ],
          [
           "2OCJ"
          ],
          [
           "2OCJ"
          ],
          [
           "2OCJ"
          ],
          [
           "2OCJ"
          ],
          [
           "2OCJ"
          ],
          [
           "2OCJ"
          ],
          [
           "2OCJ"
          ],
          [
           "2OCJ"
          ],
          [
           "2OCJ"
          ],
          [
           "2OCJ"
          ],
          [
           "2OCJ"
          ],
          [
           "2OCJ"
          ],
          [
           "2OCJ"
          ],
          [
           "2OCJ"
          ],
          [
           "2OCJ"
          ],
          [
           "2OCJ"
          ],
          [
           "2OCJ"
          ],
          [
           "2OCJ"
          ],
          [
           "2OCJ"
          ],
          [
           "2OCJ"
          ],
          [
           "2OCJ"
          ],
          [
           "2OCJ"
          ],
          [
           "2OCJ"
          ],
          [
           "2OCJ"
          ],
          [
           "2OCJ"
          ],
          [
           "2OCJ"
          ],
          [
           "2OCJ"
          ],
          [
           "2OCJ"
          ],
          [
           "2OCJ"
          ],
          [
           "2OCJ"
          ],
          [
           "2OCJ"
          ],
          [
           "2OCJ"
          ],
          [
           "2OCJ"
          ],
          [
           "2OCJ"
          ],
          [
           "2OCJ"
          ],
          [
           "2OCJ"
          ],
          [
           "2OCJ"
          ],
          [
           "2OCJ"
          ],
          [
           "2OCJ"
          ],
          [
           "2OCJ"
          ],
          [
           "2OCJ"
          ],
          [
           "2OCJ"
          ],
          [
           "2OCJ"
          ],
          [
           "2OCJ"
          ],
          [
           "2OCJ"
          ],
          [
           "2OCJ"
          ],
          [
           "2OCJ"
          ],
          [
           "2OCJ"
          ],
          [
           "2OCJ"
          ],
          [
           "2OCJ"
          ],
          [
           "2OCJ"
          ],
          [
           "2OCJ"
          ],
          [
           "2OCJ"
          ],
          [
           "2OCJ"
          ],
          [
           "2OCJ"
          ],
          [
           "2OCJ"
          ],
          [
           "2OCJ"
          ],
          [
           "2OCJ"
          ],
          [
           "2OCJ"
          ],
          [
           "2OCJ"
          ],
          [
           "2OCJ"
          ],
          [
           "2OCJ"
          ],
          [
           "2OCJ"
          ],
          [
           "2OCJ"
          ],
          [
           "2OCJ"
          ],
          [
           "2OCJ"
          ],
          [
           "2OCJ"
          ],
          [
           "2OCJ"
          ],
          [
           "2OCJ"
          ],
          [
           "2OCJ"
          ],
          [
           "2OCJ"
          ],
          [
           "2OCJ"
          ],
          [
           "2OCJ"
          ],
          [
           "2OCJ"
          ],
          [
           "2OCJ"
          ],
          [
           "2OCJ"
          ],
          [
           "2OCJ"
          ],
          [
           "2OCJ"
          ],
          [
           "2OCJ"
          ],
          [
           "2OCJ"
          ],
          [
           "2OCJ"
          ],
          [
           "2OCJ"
          ],
          [
           "2OCJ"
          ],
          [
           "2OCJ"
          ],
          [
           "2OCJ"
          ],
          [
           "2OCJ"
          ],
          [
           "2OCJ"
          ],
          [
           "2OCJ"
          ],
          [
           "2OCJ"
          ],
          [
           "2OCJ"
          ],
          [
           "2OCJ"
          ],
          [
           "2OCJ"
          ],
          [
           "2OCJ"
          ],
          [
           "2OCJ"
          ],
          [
           "2OCJ"
          ],
          [
           "2OCJ"
          ],
          [
           "2OCJ"
          ],
          [
           "2OCJ"
          ],
          [
           "2OCJ"
          ],
          [
           "2OCJ"
          ],
          [
           "2OCJ"
          ],
          [
           "2OCJ"
          ],
          [
           "2OCJ"
          ],
          [
           "2OCJ"
          ],
          [
           "2OCJ"
          ],
          [
           "2OCJ"
          ],
          [
           "2OCJ"
          ],
          [
           "2OCJ"
          ],
          [
           "2OCJ"
          ],
          [
           "2OCJ"
          ],
          [
           "2OCJ"
          ],
          [
           "2OCJ"
          ],
          [
           "2OCJ"
          ],
          [
           "2OCJ"
          ],
          [
           "2OCJ"
          ],
          [
           "2OCJ"
          ],
          [
           "2OCJ"
          ],
          [
           "2OCJ"
          ],
          [
           "2OCJ"
          ],
          [
           "2OCJ"
          ],
          [
           "2OCJ"
          ],
          [
           "2OCJ"
          ],
          [
           "2OCJ"
          ],
          [
           "2OCJ"
          ],
          [
           "2OCJ"
          ],
          [
           "2OCJ"
          ],
          [
           "2OCJ"
          ],
          [
           "2OCJ"
          ],
          [
           "2OCJ"
          ],
          [
           "2OCJ"
          ],
          [
           "2OCJ"
          ],
          [
           "2OCJ"
          ],
          [
           "2OCJ"
          ],
          [
           "2OCJ"
          ],
          [
           "2OCJ"
          ],
          [
           "2OCJ"
          ],
          [
           "2OCJ"
          ],
          [
           "2OCJ"
          ],
          [
           "2OCJ"
          ],
          [
           "2OCJ"
          ],
          [
           "2OCJ"
          ],
          [
           "2OCJ"
          ],
          [
           "2OCJ"
          ],
          [
           "2OCJ"
          ],
          [
           "2OCJ"
          ],
          [
           "2OCJ"
          ],
          [
           "2OCJ"
          ],
          [
           "2OCJ"
          ],
          [
           "2OCJ"
          ],
          [
           "2OCJ"
          ],
          [
           "2OCJ"
          ],
          [
           "2OCJ"
          ],
          [
           "2OCJ"
          ],
          [
           "2OCJ"
          ],
          [
           "2OCJ"
          ],
          [
           "2OCJ"
          ],
          [
           "2OCJ"
          ],
          [
           "2OCJ"
          ],
          [
           "2OCJ"
          ],
          [
           "2OCJ"
          ],
          [
           "2OCJ"
          ],
          [
           "2OCJ"
          ],
          [
           "2OCJ"
          ],
          [
           "2OCJ"
          ],
          [
           "2OCJ"
          ],
          [
           "2OCJ"
          ],
          [
           "2OCJ"
          ],
          [
           "2OCJ"
          ],
          [
           "2OCJ"
          ],
          [
           "2OCJ"
          ],
          [
           "2OCJ"
          ],
          [
           "2OCJ"
          ],
          [
           "2OCJ"
          ],
          [
           "2OCJ"
          ],
          [
           "2OCJ"
          ],
          [
           "2OCJ"
          ],
          [
           "2OCJ"
          ],
          [
           "2OCJ"
          ],
          [
           "2OCJ"
          ],
          [
           "2OCJ"
          ],
          [
           "2OCJ"
          ],
          [
           "2OCJ"
          ],
          [
           "2OCJ"
          ],
          [
           "2OCJ"
          ],
          [
           "2OCJ"
          ],
          [
           "2OCJ"
          ],
          [
           "2OCJ"
          ],
          [
           "2OCJ"
          ],
          [
           "2OCJ"
          ],
          [
           "2OCJ"
          ],
          [
           "2OCJ"
          ],
          [
           "2OCJ"
          ],
          [
           "2OCJ"
          ],
          [
           "2OCJ"
          ],
          [
           "2OCJ"
          ],
          [
           "2OCJ"
          ],
          [
           "2OCJ"
          ],
          [
           "2OCJ"
          ],
          [
           "2OCJ"
          ],
          [
           "2OCJ"
          ],
          [
           "2OCJ"
          ],
          [
           "2OCJ"
          ],
          [
           "2OCJ"
          ],
          [
           "2OCJ"
          ],
          [
           "2OCJ"
          ],
          [
           "2OCJ"
          ],
          [
           "2OCJ"
          ],
          [
           "2OCJ"
          ],
          [
           "2OCJ"
          ],
          [
           "2OCJ"
          ],
          [
           "2OCJ"
          ],
          [
           "2OCJ"
          ],
          [
           "2OCJ"
          ],
          [
           "2OCJ"
          ],
          [
           "2OCJ"
          ],
          [
           "2OCJ"
          ],
          [
           "2OCJ"
          ],
          [
           "2OCJ"
          ],
          [
           "2OCJ"
          ],
          [
           "2OCJ"
          ],
          [
           "2OCJ"
          ],
          [
           "2OCJ"
          ],
          [
           "2OCJ"
          ],
          [
           "2OCJ"
          ],
          [
           "2OCJ"
          ],
          [
           "2OCJ"
          ],
          [
           "2OCJ"
          ],
          [
           "2OCJ"
          ],
          [
           "2OCJ"
          ],
          [
           "2OCJ"
          ],
          [
           "2OCJ"
          ],
          [
           "2OCJ"
          ],
          [
           "2OCJ"
          ],
          [
           "2OCJ"
          ],
          [
           "2OCJ"
          ],
          [
           "2OCJ"
          ],
          [
           "2OCJ"
          ],
          [
           "2OCJ"
          ],
          [
           "2OCJ"
          ],
          [
           "2OCJ"
          ],
          [
           "2OCJ"
          ],
          [
           "2OCJ"
          ],
          [
           "2OCJ"
          ],
          [
           "2OCJ"
          ],
          [
           "2OCJ"
          ],
          [
           "2OCJ"
          ],
          [
           "2OCJ"
          ],
          [
           "2OCJ"
          ],
          [
           "2OCJ"
          ],
          [
           "2OCJ"
          ],
          [
           "2OCJ"
          ],
          [
           "2OCJ"
          ],
          [
           "2OCJ"
          ],
          [
           "2OCJ"
          ],
          [
           "2OCJ"
          ],
          [
           "2OCJ"
          ],
          [
           "2OCJ"
          ],
          [
           "2OCJ"
          ],
          [
           "2OCJ"
          ],
          [
           "2OCJ"
          ],
          [
           "2OCJ"
          ],
          [
           "2OCJ"
          ],
          [
           "2OCJ"
          ],
          [
           "2OCJ"
          ],
          [
           "2OCJ"
          ],
          [
           "2OCJ"
          ],
          [
           "2OCJ"
          ],
          [
           "2OCJ"
          ],
          [
           "2OCJ"
          ],
          [
           "2OCJ"
          ],
          [
           "2OCJ"
          ],
          [
           "2OCJ"
          ],
          [
           "2OCJ"
          ],
          [
           "2OCJ"
          ],
          [
           "2OCJ"
          ],
          [
           "2OCJ"
          ],
          [
           "2OCJ"
          ],
          [
           "2OCJ"
          ],
          [
           "2OCJ"
          ],
          [
           "2OCJ"
          ],
          [
           "2OCJ"
          ],
          [
           "2OCJ"
          ],
          [
           "2OCJ"
          ],
          [
           "2OCJ"
          ],
          [
           "2OCJ"
          ],
          [
           "2OCJ"
          ],
          [
           "2OCJ"
          ],
          [
           "2OCJ"
          ],
          [
           "2OCJ"
          ],
          [
           "2OCJ"
          ],
          [
           "2OCJ"
          ],
          [
           "2OCJ"
          ],
          [
           "2OCJ"
          ],
          [
           "2OCJ"
          ],
          [
           "2OCJ"
          ],
          [
           "2OCJ"
          ],
          [
           "2OCJ"
          ],
          [
           "2OCJ"
          ],
          [
           "2OCJ"
          ],
          [
           "2OCJ"
          ],
          [
           "2OCJ"
          ],
          [
           "2OCJ"
          ],
          [
           "2OCJ"
          ],
          [
           "2OCJ"
          ],
          [
           "2OCJ"
          ],
          [
           "2OCJ"
          ],
          [
           "2OCJ"
          ],
          [
           "2OCJ"
          ],
          [
           "2OCJ"
          ],
          [
           "2OCJ"
          ],
          [
           "2OCJ"
          ],
          [
           "2OCJ"
          ],
          [
           "2OCJ"
          ],
          [
           "2OCJ"
          ],
          [
           "2OCJ"
          ],
          [
           "2OCJ"
          ],
          [
           "2OCJ"
          ],
          [
           "2OCJ"
          ],
          [
           "2OCJ"
          ],
          [
           "2OCJ"
          ],
          [
           "2OCJ"
          ],
          [
           "2OCJ"
          ],
          [
           "2OCJ"
          ],
          [
           "2OCJ"
          ],
          [
           "2OCJ"
          ],
          [
           "2OCJ"
          ],
          [
           "2OCJ"
          ],
          [
           "2OCJ"
          ],
          [
           "2OCJ"
          ],
          [
           "2OCJ"
          ],
          [
           "2OCJ"
          ],
          [
           "2OCJ"
          ],
          [
           "2OCJ"
          ],
          [
           "2OCJ"
          ],
          [
           "2OCJ"
          ],
          [
           "2OCJ"
          ],
          [
           "2OCJ"
          ],
          [
           "2OCJ"
          ],
          [
           "2OCJ"
          ],
          [
           "2OCJ"
          ],
          [
           "2OCJ"
          ],
          [
           "2OCJ"
          ],
          [
           "2OCJ"
          ],
          [
           "2OCJ"
          ],
          [
           "2OCJ"
          ],
          [
           "2OCJ"
          ],
          [
           "2OCJ"
          ],
          [
           "2OCJ"
          ],
          [
           "2OCJ"
          ],
          [
           "2OCJ"
          ],
          [
           "2OCJ"
          ],
          [
           "2OCJ"
          ],
          [
           "2OCJ"
          ],
          [
           "2OCJ"
          ],
          [
           "2OCJ"
          ],
          [
           "2OCJ"
          ],
          [
           "2OCJ"
          ],
          [
           "2OCJ"
          ],
          [
           "2OCJ"
          ],
          [
           "2OCJ"
          ],
          [
           "2OCJ"
          ],
          [
           "2OCJ"
          ],
          [
           "2OCJ"
          ],
          [
           "2OCJ"
          ],
          [
           "2OCJ"
          ],
          [
           "2OCJ"
          ],
          [
           "2OCJ"
          ],
          [
           "2OCJ"
          ],
          [
           "2OCJ"
          ],
          [
           "2OCJ"
          ],
          [
           "2OCJ"
          ],
          [
           "2OCJ"
          ],
          [
           "2OCJ"
          ],
          [
           "2OCJ"
          ],
          [
           "2OCJ"
          ],
          [
           "2OCJ"
          ],
          [
           "2OCJ"
          ],
          [
           "2OCJ"
          ],
          [
           "2OCJ"
          ],
          [
           "2OCJ"
          ],
          [
           "2OCJ"
          ],
          [
           "2OCJ"
          ],
          [
           "2OCJ"
          ],
          [
           "2OCJ"
          ],
          [
           "2OCJ"
          ],
          [
           "2OCJ"
          ],
          [
           "2OCJ"
          ],
          [
           "2OCJ"
          ],
          [
           "2OCJ"
          ],
          [
           "2OCJ"
          ],
          [
           "2OCJ"
          ],
          [
           "2OCJ"
          ],
          [
           "2OCJ"
          ],
          [
           "2OCJ"
          ],
          [
           "2OCJ"
          ],
          [
           "2OCJ"
          ],
          [
           "2OCJ"
          ],
          [
           "2OCJ"
          ],
          [
           "2OCJ"
          ],
          [
           "2OCJ"
          ],
          [
           "2OCJ"
          ],
          [
           "2OCJ"
          ],
          [
           "2OCJ"
          ],
          [
           "2OCJ"
          ],
          [
           "2OCJ"
          ],
          [
           "2OCJ"
          ],
          [
           "2OCJ"
          ],
          [
           "2OCJ"
          ],
          [
           "2OCJ"
          ],
          [
           "2OCJ"
          ],
          [
           "2OCJ"
          ],
          [
           "2OCJ"
          ],
          [
           "2OCJ"
          ],
          [
           "2OCJ"
          ],
          [
           "2OCJ"
          ],
          [
           "2OCJ"
          ],
          [
           "2OCJ"
          ],
          [
           "2OCJ"
          ],
          [
           "2OCJ"
          ],
          [
           "2OCJ"
          ],
          [
           "2OCJ"
          ],
          [
           "2OCJ"
          ],
          [
           "2OCJ"
          ],
          [
           "2OCJ"
          ],
          [
           "2OCJ"
          ],
          [
           "2OCJ"
          ],
          [
           "2OCJ"
          ],
          [
           "2OCJ"
          ],
          [
           "2OCJ"
          ],
          [
           "2OCJ"
          ],
          [
           "2OCJ"
          ],
          [
           "2OCJ"
          ],
          [
           "2OCJ"
          ],
          [
           "2OCJ"
          ],
          [
           "2OCJ"
          ],
          [
           "2OCJ"
          ],
          [
           "2OCJ"
          ],
          [
           "2OCJ"
          ],
          [
           "2OCJ"
          ],
          [
           "2OCJ"
          ],
          [
           "2OCJ"
          ],
          [
           "2OCJ"
          ],
          [
           "2OCJ"
          ],
          [
           "2OCJ"
          ],
          [
           "2OCJ"
          ],
          [
           "2OCJ"
          ],
          [
           "2OCJ"
          ],
          [
           "2OCJ"
          ],
          [
           "2OCJ"
          ],
          [
           "2OCJ"
          ]
         ],
         "hovertemplate": "pdb_id=%{customdata[0]}<br>UniProt Number=%{x}<br>Network Score=%{y}<extra></extra>",
         "legendgroup": "2OCJ",
         "line": {
          "color": "#00cc96",
          "dash": "solid"
         },
         "marker": {
          "symbol": "circle"
         },
         "mode": "lines",
         "name": "2OCJ (wild type)",
         "showlegend": true,
         "type": "scattergl",
         "x": [
          94,
          94,
          94,
          94,
          97,
          97,
          97,
          97,
          98,
          98,
          98,
          98,
          99,
          99,
          99,
          99,
          100,
          100,
          100,
          100,
          101,
          101,
          101,
          101,
          102,
          102,
          102,
          102,
          103,
          103,
          103,
          103,
          104,
          104,
          104,
          104,
          105,
          105,
          105,
          105,
          106,
          106,
          106,
          106,
          107,
          107,
          107,
          107,
          108,
          108,
          108,
          108,
          109,
          109,
          109,
          109,
          110,
          110,
          110,
          110,
          111,
          111,
          111,
          111,
          112,
          112,
          112,
          112,
          113,
          113,
          113,
          113,
          114,
          114,
          114,
          114,
          115,
          115,
          115,
          115,
          116,
          116,
          116,
          116,
          117,
          117,
          117,
          117,
          118,
          118,
          118,
          118,
          119,
          119,
          119,
          119,
          120,
          120,
          120,
          120,
          121,
          121,
          121,
          121,
          122,
          122,
          122,
          122,
          123,
          123,
          123,
          123,
          124,
          124,
          124,
          124,
          125,
          125,
          125,
          125,
          126,
          126,
          126,
          126,
          127,
          127,
          127,
          127,
          128,
          128,
          128,
          128,
          129,
          129,
          129,
          129,
          130,
          130,
          130,
          130,
          131,
          131,
          131,
          131,
          132,
          132,
          132,
          132,
          133,
          133,
          133,
          133,
          134,
          134,
          134,
          134,
          135,
          135,
          135,
          135,
          136,
          136,
          136,
          136,
          137,
          137,
          137,
          137,
          138,
          138,
          138,
          138,
          139,
          139,
          139,
          139,
          140,
          140,
          140,
          140,
          141,
          141,
          141,
          141,
          142,
          142,
          142,
          142,
          143,
          143,
          143,
          143,
          144,
          144,
          144,
          144,
          145,
          145,
          145,
          145,
          146,
          146,
          146,
          146,
          147,
          147,
          147,
          147,
          148,
          148,
          148,
          148,
          149,
          149,
          149,
          149,
          150,
          150,
          150,
          150,
          151,
          151,
          151,
          151,
          152,
          152,
          152,
          152,
          153,
          153,
          153,
          153,
          154,
          154,
          154,
          154,
          155,
          155,
          155,
          155,
          156,
          156,
          156,
          156,
          157,
          157,
          157,
          157,
          158,
          158,
          158,
          158,
          159,
          159,
          159,
          159,
          160,
          160,
          160,
          160,
          161,
          161,
          161,
          161,
          162,
          162,
          162,
          162,
          163,
          163,
          163,
          163,
          164,
          164,
          164,
          164,
          165,
          165,
          165,
          165,
          166,
          166,
          166,
          166,
          167,
          167,
          167,
          167,
          168,
          168,
          168,
          168,
          169,
          169,
          169,
          169,
          170,
          170,
          170,
          170,
          171,
          171,
          171,
          171,
          172,
          172,
          172,
          172,
          173,
          173,
          173,
          173,
          174,
          174,
          174,
          174,
          175,
          175,
          175,
          175,
          176,
          176,
          176,
          176,
          177,
          177,
          177,
          177,
          178,
          178,
          178,
          178,
          179,
          179,
          179,
          179,
          180,
          180,
          180,
          180,
          181,
          181,
          181,
          181,
          182,
          182,
          182,
          182,
          183,
          183,
          183,
          183,
          184,
          184,
          184,
          184,
          185,
          185,
          185,
          185,
          186,
          186,
          186,
          186,
          187,
          187,
          187,
          187,
          188,
          188,
          188,
          188,
          189,
          189,
          189,
          189,
          190,
          190,
          190,
          190,
          191,
          191,
          191,
          191,
          192,
          192,
          192,
          192,
          193,
          193,
          193,
          193,
          194,
          194,
          194,
          194,
          195,
          195,
          195,
          195,
          196,
          196,
          196,
          196,
          197,
          197,
          197,
          197,
          198,
          198,
          198,
          198,
          199,
          199,
          199,
          199,
          200,
          200,
          200,
          200,
          201,
          201,
          201,
          201,
          202,
          202,
          202,
          202,
          203,
          203,
          203,
          203,
          204,
          204,
          204,
          204,
          205,
          205,
          205,
          205,
          206,
          206,
          206,
          206,
          207,
          207,
          207,
          207,
          208,
          208,
          208,
          208,
          209,
          209,
          209,
          209,
          210,
          210,
          210,
          210,
          211,
          211,
          211,
          211,
          212,
          212,
          212,
          212,
          213,
          213,
          213,
          213,
          214,
          214,
          214,
          214,
          215,
          215,
          215,
          215,
          216,
          216,
          216,
          216,
          217,
          217,
          217,
          217,
          218,
          218,
          218,
          218,
          219,
          219,
          219,
          219,
          220,
          220,
          220,
          220,
          221,
          221,
          221,
          221,
          222,
          222,
          222,
          222,
          223,
          223,
          223,
          223,
          224,
          224,
          224,
          224,
          225,
          225,
          225,
          225,
          226,
          226,
          226,
          226,
          227,
          227,
          227,
          227,
          228,
          228,
          228,
          228,
          229,
          229,
          229,
          229,
          230,
          230,
          230,
          230,
          231,
          231,
          231,
          231,
          232,
          232,
          232,
          232,
          233,
          233,
          233,
          233,
          234,
          234,
          234,
          234,
          235,
          235,
          235,
          235,
          236,
          236,
          236,
          236,
          237,
          237,
          237,
          237,
          238,
          238,
          238,
          238,
          239,
          239,
          239,
          239,
          240,
          240,
          240,
          240,
          241,
          241,
          241,
          241,
          242,
          242,
          242,
          242,
          243,
          243,
          243,
          243,
          244,
          244,
          244,
          244,
          245,
          245,
          245,
          245,
          246,
          246,
          246,
          246,
          247,
          247,
          247,
          247,
          248,
          248,
          248,
          248,
          249,
          249,
          249,
          249,
          250,
          250,
          250,
          250,
          251,
          251,
          251,
          251,
          252,
          252,
          252,
          252,
          253,
          253,
          253,
          253,
          254,
          254,
          254,
          254,
          255,
          255,
          255,
          255,
          256,
          256,
          256,
          256,
          257,
          257,
          257,
          257,
          258,
          258,
          258,
          258,
          259,
          259,
          259,
          259,
          260,
          260,
          260,
          260,
          261,
          261,
          261,
          261,
          262,
          262,
          262,
          262,
          263,
          263,
          263,
          263,
          264,
          264,
          264,
          264,
          265,
          265,
          265,
          265,
          266,
          266,
          266,
          266,
          267,
          267,
          267,
          267,
          268,
          268,
          268,
          268,
          269,
          269,
          269,
          269,
          270,
          270,
          270,
          270,
          271,
          271,
          271,
          271,
          272,
          272,
          272,
          272,
          273,
          273,
          273,
          273,
          274,
          274,
          274,
          274,
          275,
          275,
          275,
          275,
          276,
          276,
          276,
          276,
          277,
          277,
          277,
          277,
          278,
          278,
          278,
          278,
          279,
          279,
          279,
          279,
          280,
          280,
          280,
          280,
          281,
          281,
          281,
          281,
          282,
          282,
          282,
          282,
          283,
          283,
          283,
          283,
          284,
          284,
          284,
          284,
          285,
          285,
          285,
          285,
          286,
          286,
          286,
          286,
          287,
          287,
          287,
          287,
          288,
          288,
          288,
          288,
          289,
          289,
          289,
          289
         ],
         "xaxis": "x",
         "y": [
          -1.192719778,
          -1.192719778,
          -1.192719778,
          -1.192719778,
          -0.636392943,
          -0.636392943,
          -0.428416182,
          -0.4135893,
          -0.00236617,
          -0.192614577,
          0.720859396,
          -0.192614577,
          -0.952674208,
          -0.952674208,
          -0.952674208,
          -0.952674208,
          -0.175387084,
          -0.175387084,
          0.323323156,
          -0.175387084,
          -1.465952886,
          -1.465952886,
          -1.465952886,
          -1.465952886,
          -0.965661252,
          -0.965661252,
          -0.965661252,
          -0.965661252,
          -0.949928165,
          -0.949928165,
          -0.949928165,
          -0.949928165,
          -0.618631124,
          -0.618631124,
          -0.618631124,
          -0.618631124,
          1.906475892,
          1.906475892,
          1.906475892,
          1.906475892,
          0.515648466,
          0.515648466,
          0.515648466,
          0.515648466,
          1.760797544,
          1.760797544,
          1.760797544,
          1.760797544,
          1.651153984,
          1.651153984,
          1.651153984,
          1.651153984,
          2.631249341,
          2.631249341,
          2.631249341,
          2.631249341,
          -0.728795959,
          -0.728795959,
          -0.728795959,
          -0.728795959,
          2.910922124,
          2.910922124,
          2.910922124,
          3.531737818,
          1.426280056,
          1.766960487,
          2.300662351,
          1.426280056,
          1.771333128,
          2.494796256,
          1.869744557,
          2.426681752,
          -0.756399782,
          -0.756399782,
          -0.756399782,
          -0.756399782,
          -1.289057589,
          -1.289057589,
          -1.289057589,
          -1.289057589,
          -1.084581619,
          -1.084581619,
          -1.084581619,
          -1.084581619,
          -0.586702933,
          -0.586702933,
          -0.586702933,
          -0.586702933,
          1.60290637,
          1.536198836,
          1.28439121,
          1.28439121,
          -1.114842619,
          -1.114842619,
          -1.114842619,
          -1.114842619,
          -1.476500344,
          -1.476500344,
          -1.476500344,
          -1.476500344,
          -1.527698911,
          -1.527698911,
          -1.527698911,
          -1.527698911,
          -0.489534899,
          -0.489534899,
          -0.489534899,
          -0.415146857,
          -0.258431289,
          -0.258431289,
          -0.258431289,
          -0.232216407,
          0.246287622,
          0.234184919,
          0.227214468,
          0.393493598,
          1.036917142,
          1.036917142,
          1.301165722,
          1.715096863,
          1.221806679,
          1.473674617,
          1.180345796,
          1.600413542,
          -0.580562294,
          -0.510656228,
          -0.580562294,
          -0.580562294,
          0.116940996,
          0.148308149,
          0.007731702,
          0.08001848,
          -1.422564354,
          -1.422564354,
          -1.422564354,
          -1.422564354,
          -0.412594707,
          -0.2004561,
          -0.412594707,
          -0.412594707,
          2.411269142,
          1.396475765,
          2.675923628,
          1.64784198,
          0.465776182,
          0.464384085,
          0.567552699,
          0.53035499,
          1.292938586,
          1.277730375,
          1.14694635,
          1.048688228,
          0.248475256,
          0.605196847,
          0.145374312,
          0.4788158,
          1.592571852,
          1.673029983,
          1.592571852,
          1.592571852,
          0.881314305,
          0.805646865,
          0.805646865,
          0.805646865,
          2.402155544,
          1.687290036,
          1.687290036,
          1.687290036,
          -0.96090246,
          -0.96090246,
          -0.96090246,
          -0.96090246,
          -0.901487974,
          -0.901487974,
          -0.901487974,
          -0.901487974,
          -0.888293048,
          -0.888293048,
          -0.888293048,
          -0.888293048,
          0.701606911,
          0.701606911,
          0.701606911,
          0.701606911,
          -0.629691088,
          -0.629691088,
          -0.629691088,
          -0.629691088,
          1.682713016,
          1.195171706,
          1.408611428,
          1.128251178,
          0.500759203,
          0.742182873,
          1.111197457,
          0.856694042,
          1.375353233,
          1.959267365,
          1.472259216,
          1.565910509,
          0.643176304,
          0.643176304,
          0.643176304,
          0.643176304,
          2.532154825,
          2.532154825,
          2.532154825,
          2.532154825,
          -0.629755415,
          -0.629755415,
          -0.629755415,
          -0.629755415,
          1.810099538,
          1.810099538,
          1.810099538,
          1.810099538,
          -0.440375605,
          -0.440375605,
          -0.440375605,
          -0.440375605,
          5.860067231,
          5.860067231,
          5.860067231,
          5.860067231,
          0.475391113,
          0.193931756,
          0.244422344,
          0.096143954,
          -1.488393735,
          -1.488393735,
          -1.488393735,
          -1.488393735,
          -0.224917895,
          -0.223886754,
          -0.225846396,
          -0.207653779,
          1.976309546,
          1.976309546,
          1.976309546,
          2.091231994,
          0.204836039,
          0.277238842,
          0.204836039,
          0.204836039,
          5.868120211,
          5.868120211,
          5.868120211,
          5.868120211,
          3.568909292,
          3.568909292,
          3.568909292,
          3.568909292,
          0.910060944,
          0.910060944,
          0.910060944,
          0.910060944,
          1.077497563,
          1.077497563,
          1.077497563,
          1.077497563,
          0.952633261,
          0.947481075,
          0.533128863,
          0.857993849,
          1.703288956,
          1.371268101,
          0.867228164,
          1.448122319,
          1.084998092,
          1.084998092,
          1.084998092,
          1.191764379,
          0.009218879,
          -0.586072157,
          -0.586072157,
          -0.586072157,
          -0.849047945,
          -0.849047945,
          -0.849047945,
          -0.849047945,
          -1.63731144,
          -1.63731144,
          -1.63731144,
          -1.63731144,
          -1.446289564,
          -1.446289564,
          -1.446289564,
          -1.446289564,
          -0.942728658,
          -0.942728658,
          -0.942728658,
          -0.942728658,
          -0.769203547,
          -0.122602362,
          -0.769203547,
          -0.769203547,
          -1.350123927,
          -1.350123927,
          -1.350123927,
          -1.350123927,
          -0.940350568,
          -0.940350568,
          -0.940350568,
          -0.940350568,
          0.057678169,
          -0.391890367,
          0.623289908,
          0.012321042,
          4.013354447,
          4.897315449,
          4.918805124,
          4.055339899,
          -0.564958019,
          -0.661431427,
          -0.595096253,
          -0.661431427,
          7.52990126,
          7.52990126,
          7.52990126,
          7.52990126,
          5.583984833,
          5.583984833,
          5.583984833,
          5.583984833,
          -0.663712979,
          -0.873442971,
          -0.873442971,
          -0.873442971,
          4.913280221,
          4.913280221,
          4.913280221,
          4.913280221,
          2.62290358,
          2.62290358,
          2.62290358,
          2.62290358,
          -1.216439271,
          -1.216439271,
          -1.216439271,
          -1.216439271,
          -1.534228598,
          -1.534228598,
          -1.534228598,
          -1.534228598,
          -0.93979585,
          -0.93979585,
          -0.93979585,
          -0.93979585,
          -1.597495081,
          -1.597495081,
          -1.597495081,
          -1.597495081,
          0.027228313,
          -0.102948058,
          -0.102948058,
          -0.102948058,
          -0.981516592,
          -0.981516592,
          -0.981516592,
          -0.981516592,
          -0.100755256,
          0.009351771,
          -0.125800288,
          -0.282013148,
          -1.104852791,
          -1.104852791,
          -1.104852791,
          -1.104852791,
          -0.626209838,
          -0.626209838,
          -0.626209838,
          -0.626209838,
          0.881997986,
          0.319863904,
          0.620546526,
          0.613475047,
          1.546781942,
          1.546781942,
          1.546781942,
          1.546781942,
          -0.053091101,
          -0.053091101,
          -0.053091101,
          -0.053091101,
          -1.061456475,
          -1.061456475,
          -1.061456475,
          -1.061456475,
          1.022384858,
          1.022384858,
          1.141279743,
          1.022384858,
          1.591940368,
          1.591940368,
          1.591940368,
          1.591940368,
          1.146403699,
          0.843895033,
          0.89039445,
          0.990647741,
          1.656506474,
          1.826940504,
          1.656506474,
          2.268334702,
          3.041653982,
          2.314464051,
          2.685907262,
          2.73357514,
          -0.711489579,
          -0.671216409,
          -0.711489579,
          -0.711489579,
          -1.311837128,
          -1.311837128,
          -1.311837128,
          -1.311837128,
          -0.65914699,
          -0.651453071,
          -0.65914699,
          -0.65914699,
          -1.58422467,
          -1.58422467,
          -1.58422467,
          -1.58422467,
          -1.324408695,
          -1.324408695,
          -1.324408695,
          -1.309903993,
          2.988320539,
          2.988320539,
          2.988320539,
          2.988320539,
          -0.790720243,
          -0.790720243,
          -0.790720243,
          -0.790720243,
          3.130182491,
          3.228111916,
          3.130182491,
          3.130182491,
          -0.73514473,
          -0.73514473,
          -0.73514473,
          -0.73514473,
          -0.80601498,
          -0.80601498,
          -0.80601498,
          -0.80601498,
          -1.447113473,
          -1.447113473,
          -1.447113473,
          -1.447113473,
          -1.662010063,
          -1.662010063,
          -1.662010063,
          -1.662010063,
          -1.662010063,
          -1.662010063,
          -1.662010063,
          -1.662010063,
          -0.494525732,
          -0.458195578,
          -0.48295047,
          -0.490075674,
          -1.59571492,
          -1.59571492,
          -1.59571492,
          -1.59571492,
          1.895596107,
          1.318079418,
          0.778805224,
          1.271248054,
          0.058774004,
          0.041302766,
          0.331129095,
          0.101931174,
          1.282516776,
          1.282516776,
          1.282516776,
          1.282516776,
          2.057592816,
          1.871136398,
          1.871136398,
          2.484539087,
          1.989915917,
          1.989915917,
          1.989915917,
          1.989915917,
          2.180678451,
          2.055962155,
          2.266515089,
          1.969889656,
          -0.975158521,
          -0.975158521,
          -0.975158521,
          -0.975158521,
          2.585127911,
          2.585127911,
          2.585127911,
          2.585127911,
          -1.237461954,
          -1.237461954,
          -1.237461954,
          -1.237461954,
          -1.122388705,
          -1.122388705,
          -1.122388705,
          -1.122388705,
          -0.087071802,
          0.04472639,
          0.026207134,
          -0.087071802,
          -1.529673998,
          -1.529673998,
          -1.529673998,
          -1.529673998,
          -1.619030745,
          -1.619030745,
          -1.619030745,
          -1.619030745,
          -1.104389445,
          -1.084262794,
          -1.105106749,
          -1.218828424,
          -0.313505792,
          0.048834485,
          0.086611237,
          -0.209427631,
          -0.760046776,
          -0.760046776,
          -0.482649593,
          -0.760046776,
          1.336060592,
          0.696779001,
          1.382465367,
          1.50926529,
          -0.062642039,
          -0.062642039,
          -0.062642039,
          -0.062642039,
          -0.6433293,
          -0.6433293,
          -0.6433293,
          -0.6433293,
          0.797686448,
          0.797686448,
          0.797686448,
          0.797686448,
          -0.915808988,
          -0.915808988,
          -0.915808988,
          -0.915808988,
          1.571999432,
          1.244388813,
          1.148872202,
          1.542780906,
          -0.483522648,
          -0.530025871,
          -0.427428194,
          -0.530025871,
          3.134336312,
          3.134336312,
          3.134336312,
          3.134336312,
          1.39786086,
          1.39786086,
          1.685200469,
          1.39786086,
          3.600328066,
          3.913260608,
          3.600328066,
          3.600328066,
          3.753531801,
          3.753531801,
          3.753531801,
          3.753531801,
          0.63687835,
          0.63687835,
          1.472124979,
          1.15946485,
          -0.524613373,
          -0.524613373,
          -0.524613373,
          -0.524613373,
          0.418537933,
          0.418537933,
          0.418537933,
          0.418537933,
          -0.776035203,
          -0.776035203,
          -0.776035203,
          -0.776035203,
          -0.834948698,
          -0.834948698,
          -0.834948698,
          -0.834948698,
          2.797135552,
          2.797135552,
          2.797135552,
          2.797135552,
          1.355303939,
          2.512957531,
          2.33395543,
          1.355303939,
          -1.44040926,
          -1.44040926,
          -1.44040926,
          -1.44040926,
          -1.536923302,
          -1.536923302,
          -1.536923302,
          -1.536923302,
          3.75226494,
          2.918576971,
          3.058965798,
          3.332363713,
          0.555427568,
          1.149108154,
          0.555427568,
          1.039832297,
          0.401480705,
          0.401480705,
          0.401480705,
          0.401480705,
          2.316757012,
          1.071906812,
          1.071906812,
          1.071906812,
          3.15756162,
          3.15756162,
          3.15756162,
          3.15756162,
          0.870589778,
          0.973499589,
          0.870589778,
          1.452643753,
          1.626774496,
          2.315442134,
          2.097829575,
          2.643910496,
          1.846333623,
          1.846333623,
          1.846333623,
          1.846333623,
          3.341084915,
          3.341084915,
          3.341084915,
          3.341084915,
          2.33210414,
          2.33210414,
          2.33210414,
          2.33210414,
          3.642747009,
          3.642747009,
          3.642747009,
          3.642747009,
          -1.189771604,
          -1.189771604,
          -1.189771604,
          -1.189771604,
          -1.396517224,
          -1.396517224,
          -1.396517224,
          -1.396517224,
          -0.569363114,
          -0.569363114,
          -0.569363114,
          -0.43570361,
          -0.666904575,
          -0.666904575,
          -0.666904575,
          -0.666904575,
          -0.561224723,
          -0.561224723,
          -0.561224723,
          -0.421071855,
          8.357699357,
          8.357699357,
          8.357699357,
          8.357699357,
          1.42755207,
          1.42755207,
          1.42755207,
          1.42755207,
          0.283783301,
          0.283783301,
          0.283783301,
          0.283783301,
          0.156341907,
          -0.03358738,
          -0.06029006,
          0.329451956,
          -0.756273163,
          -0.756273163,
          -0.756273163,
          -0.756273163,
          2.886580393,
          3.597298864,
          2.838350454,
          3.100208334,
          0.527465651,
          0.314916284,
          0.08197294,
          0.439810005,
          0.858813336,
          0.858813336,
          0.903826022,
          0.858813336,
          1.213012689,
          1.213012689,
          1.213012689,
          1.213012689,
          9.133482152,
          9.133482152,
          9.133482152,
          9.133482152,
          2.416988242,
          1.931593993,
          1.931593993,
          1.931593993,
          3.639726416,
          3.639726416,
          3.639726416,
          3.639726416,
          -0.779711461,
          -0.779711461,
          -0.779711461,
          -0.779711461,
          3.073495897,
          3.073495897,
          3.073495897,
          3.073495897,
          0.685419116,
          0.685419116,
          0.685419116,
          0.685419116,
          -1.023634246,
          -1.023634246,
          -1.023634246,
          -1.023634246,
          0.084363912,
          0.084363912,
          0.084363912,
          0.084363912,
          3.076309222,
          3.038957347,
          2.635849076,
          2.419390621,
          -1.259539022,
          -1.259539022,
          -1.259539022,
          -1.259539022,
          -1.633816191,
          -1.633816191,
          -1.633816191,
          -1.633816191,
          0.023636432,
          0.065258578,
          0.179520401,
          0.023636432,
          -1.102147488,
          -1.102147488,
          -1.102147488,
          -1.102147488,
          -1.665591613,
          -1.665591613,
          -1.665591613,
          -1.665591613,
          -1.482229684,
          -1.482229684,
          -1.482229684,
          -1.482229684,
          -1.299321769,
          -1.299321769,
          -1.299321769,
          -1.299321769
         ],
         "yaxis": "y"
        }
       ],
       "layout": {
        "legend": {
         "title": {
          "text": "pdb_id"
         },
         "tracegroupgap": 0
        },
        "template": {
         "data": {
          "bar": [
           {
            "error_x": {
             "color": "#2a3f5f"
            },
            "error_y": {
             "color": "#2a3f5f"
            },
            "marker": {
             "line": {
              "color": "#E5ECF6",
              "width": 0.5
             },
             "pattern": {
              "fillmode": "overlay",
              "size": 10,
              "solidity": 0.2
             }
            },
            "type": "bar"
           }
          ],
          "barpolar": [
           {
            "marker": {
             "line": {
              "color": "#E5ECF6",
              "width": 0.5
             },
             "pattern": {
              "fillmode": "overlay",
              "size": 10,
              "solidity": 0.2
             }
            },
            "type": "barpolar"
           }
          ],
          "carpet": [
           {
            "aaxis": {
             "endlinecolor": "#2a3f5f",
             "gridcolor": "white",
             "linecolor": "white",
             "minorgridcolor": "white",
             "startlinecolor": "#2a3f5f"
            },
            "baxis": {
             "endlinecolor": "#2a3f5f",
             "gridcolor": "white",
             "linecolor": "white",
             "minorgridcolor": "white",
             "startlinecolor": "#2a3f5f"
            },
            "type": "carpet"
           }
          ],
          "choropleth": [
           {
            "colorbar": {
             "outlinewidth": 0,
             "ticks": ""
            },
            "type": "choropleth"
           }
          ],
          "contour": [
           {
            "colorbar": {
             "outlinewidth": 0,
             "ticks": ""
            },
            "colorscale": [
             [
              0,
              "#0d0887"
             ],
             [
              0.1111111111111111,
              "#46039f"
             ],
             [
              0.2222222222222222,
              "#7201a8"
             ],
             [
              0.3333333333333333,
              "#9c179e"
             ],
             [
              0.4444444444444444,
              "#bd3786"
             ],
             [
              0.5555555555555556,
              "#d8576b"
             ],
             [
              0.6666666666666666,
              "#ed7953"
             ],
             [
              0.7777777777777778,
              "#fb9f3a"
             ],
             [
              0.8888888888888888,
              "#fdca26"
             ],
             [
              1,
              "#f0f921"
             ]
            ],
            "type": "contour"
           }
          ],
          "contourcarpet": [
           {
            "colorbar": {
             "outlinewidth": 0,
             "ticks": ""
            },
            "type": "contourcarpet"
           }
          ],
          "heatmap": [
           {
            "colorbar": {
             "outlinewidth": 0,
             "ticks": ""
            },
            "colorscale": [
             [
              0,
              "#0d0887"
             ],
             [
              0.1111111111111111,
              "#46039f"
             ],
             [
              0.2222222222222222,
              "#7201a8"
             ],
             [
              0.3333333333333333,
              "#9c179e"
             ],
             [
              0.4444444444444444,
              "#bd3786"
             ],
             [
              0.5555555555555556,
              "#d8576b"
             ],
             [
              0.6666666666666666,
              "#ed7953"
             ],
             [
              0.7777777777777778,
              "#fb9f3a"
             ],
             [
              0.8888888888888888,
              "#fdca26"
             ],
             [
              1,
              "#f0f921"
             ]
            ],
            "type": "heatmap"
           }
          ],
          "heatmapgl": [
           {
            "colorbar": {
             "outlinewidth": 0,
             "ticks": ""
            },
            "colorscale": [
             [
              0,
              "#0d0887"
             ],
             [
              0.1111111111111111,
              "#46039f"
             ],
             [
              0.2222222222222222,
              "#7201a8"
             ],
             [
              0.3333333333333333,
              "#9c179e"
             ],
             [
              0.4444444444444444,
              "#bd3786"
             ],
             [
              0.5555555555555556,
              "#d8576b"
             ],
             [
              0.6666666666666666,
              "#ed7953"
             ],
             [
              0.7777777777777778,
              "#fb9f3a"
             ],
             [
              0.8888888888888888,
              "#fdca26"
             ],
             [
              1,
              "#f0f921"
             ]
            ],
            "type": "heatmapgl"
           }
          ],
          "histogram": [
           {
            "marker": {
             "pattern": {
              "fillmode": "overlay",
              "size": 10,
              "solidity": 0.2
             }
            },
            "type": "histogram"
           }
          ],
          "histogram2d": [
           {
            "colorbar": {
             "outlinewidth": 0,
             "ticks": ""
            },
            "colorscale": [
             [
              0,
              "#0d0887"
             ],
             [
              0.1111111111111111,
              "#46039f"
             ],
             [
              0.2222222222222222,
              "#7201a8"
             ],
             [
              0.3333333333333333,
              "#9c179e"
             ],
             [
              0.4444444444444444,
              "#bd3786"
             ],
             [
              0.5555555555555556,
              "#d8576b"
             ],
             [
              0.6666666666666666,
              "#ed7953"
             ],
             [
              0.7777777777777778,
              "#fb9f3a"
             ],
             [
              0.8888888888888888,
              "#fdca26"
             ],
             [
              1,
              "#f0f921"
             ]
            ],
            "type": "histogram2d"
           }
          ],
          "histogram2dcontour": [
           {
            "colorbar": {
             "outlinewidth": 0,
             "ticks": ""
            },
            "colorscale": [
             [
              0,
              "#0d0887"
             ],
             [
              0.1111111111111111,
              "#46039f"
             ],
             [
              0.2222222222222222,
              "#7201a8"
             ],
             [
              0.3333333333333333,
              "#9c179e"
             ],
             [
              0.4444444444444444,
              "#bd3786"
             ],
             [
              0.5555555555555556,
              "#d8576b"
             ],
             [
              0.6666666666666666,
              "#ed7953"
             ],
             [
              0.7777777777777778,
              "#fb9f3a"
             ],
             [
              0.8888888888888888,
              "#fdca26"
             ],
             [
              1,
              "#f0f921"
             ]
            ],
            "type": "histogram2dcontour"
           }
          ],
          "mesh3d": [
           {
            "colorbar": {
             "outlinewidth": 0,
             "ticks": ""
            },
            "type": "mesh3d"
           }
          ],
          "parcoords": [
           {
            "line": {
             "colorbar": {
              "outlinewidth": 0,
              "ticks": ""
             }
            },
            "type": "parcoords"
           }
          ],
          "pie": [
           {
            "automargin": true,
            "type": "pie"
           }
          ],
          "scatter": [
           {
            "fillpattern": {
             "fillmode": "overlay",
             "size": 10,
             "solidity": 0.2
            },
            "type": "scatter"
           }
          ],
          "scatter3d": [
           {
            "line": {
             "colorbar": {
              "outlinewidth": 0,
              "ticks": ""
             }
            },
            "marker": {
             "colorbar": {
              "outlinewidth": 0,
              "ticks": ""
             }
            },
            "type": "scatter3d"
           }
          ],
          "scattercarpet": [
           {
            "marker": {
             "colorbar": {
              "outlinewidth": 0,
              "ticks": ""
             }
            },
            "type": "scattercarpet"
           }
          ],
          "scattergeo": [
           {
            "marker": {
             "colorbar": {
              "outlinewidth": 0,
              "ticks": ""
             }
            },
            "type": "scattergeo"
           }
          ],
          "scattergl": [
           {
            "marker": {
             "colorbar": {
              "outlinewidth": 0,
              "ticks": ""
             }
            },
            "type": "scattergl"
           }
          ],
          "scattermapbox": [
           {
            "marker": {
             "colorbar": {
              "outlinewidth": 0,
              "ticks": ""
             }
            },
            "type": "scattermapbox"
           }
          ],
          "scatterpolar": [
           {
            "marker": {
             "colorbar": {
              "outlinewidth": 0,
              "ticks": ""
             }
            },
            "type": "scatterpolar"
           }
          ],
          "scatterpolargl": [
           {
            "marker": {
             "colorbar": {
              "outlinewidth": 0,
              "ticks": ""
             }
            },
            "type": "scatterpolargl"
           }
          ],
          "scatterternary": [
           {
            "marker": {
             "colorbar": {
              "outlinewidth": 0,
              "ticks": ""
             }
            },
            "type": "scatterternary"
           }
          ],
          "surface": [
           {
            "colorbar": {
             "outlinewidth": 0,
             "ticks": ""
            },
            "colorscale": [
             [
              0,
              "#0d0887"
             ],
             [
              0.1111111111111111,
              "#46039f"
             ],
             [
              0.2222222222222222,
              "#7201a8"
             ],
             [
              0.3333333333333333,
              "#9c179e"
             ],
             [
              0.4444444444444444,
              "#bd3786"
             ],
             [
              0.5555555555555556,
              "#d8576b"
             ],
             [
              0.6666666666666666,
              "#ed7953"
             ],
             [
              0.7777777777777778,
              "#fb9f3a"
             ],
             [
              0.8888888888888888,
              "#fdca26"
             ],
             [
              1,
              "#f0f921"
             ]
            ],
            "type": "surface"
           }
          ],
          "table": [
           {
            "cells": {
             "fill": {
              "color": "#EBF0F8"
             },
             "line": {
              "color": "white"
             }
            },
            "header": {
             "fill": {
              "color": "#C8D4E3"
             },
             "line": {
              "color": "white"
             }
            },
            "type": "table"
           }
          ]
         },
         "layout": {
          "annotationdefaults": {
           "arrowcolor": "#2a3f5f",
           "arrowhead": 0,
           "arrowwidth": 1
          },
          "autotypenumbers": "strict",
          "coloraxis": {
           "colorbar": {
            "outlinewidth": 0,
            "ticks": ""
           }
          },
          "colorscale": {
           "diverging": [
            [
             0,
             "#8e0152"
            ],
            [
             0.1,
             "#c51b7d"
            ],
            [
             0.2,
             "#de77ae"
            ],
            [
             0.3,
             "#f1b6da"
            ],
            [
             0.4,
             "#fde0ef"
            ],
            [
             0.5,
             "#f7f7f7"
            ],
            [
             0.6,
             "#e6f5d0"
            ],
            [
             0.7,
             "#b8e186"
            ],
            [
             0.8,
             "#7fbc41"
            ],
            [
             0.9,
             "#4d9221"
            ],
            [
             1,
             "#276419"
            ]
           ],
           "sequential": [
            [
             0,
             "#0d0887"
            ],
            [
             0.1111111111111111,
             "#46039f"
            ],
            [
             0.2222222222222222,
             "#7201a8"
            ],
            [
             0.3333333333333333,
             "#9c179e"
            ],
            [
             0.4444444444444444,
             "#bd3786"
            ],
            [
             0.5555555555555556,
             "#d8576b"
            ],
            [
             0.6666666666666666,
             "#ed7953"
            ],
            [
             0.7777777777777778,
             "#fb9f3a"
            ],
            [
             0.8888888888888888,
             "#fdca26"
            ],
            [
             1,
             "#f0f921"
            ]
           ],
           "sequentialminus": [
            [
             0,
             "#0d0887"
            ],
            [
             0.1111111111111111,
             "#46039f"
            ],
            [
             0.2222222222222222,
             "#7201a8"
            ],
            [
             0.3333333333333333,
             "#9c179e"
            ],
            [
             0.4444444444444444,
             "#bd3786"
            ],
            [
             0.5555555555555556,
             "#d8576b"
            ],
            [
             0.6666666666666666,
             "#ed7953"
            ],
            [
             0.7777777777777778,
             "#fb9f3a"
            ],
            [
             0.8888888888888888,
             "#fdca26"
            ],
            [
             1,
             "#f0f921"
            ]
           ]
          },
          "colorway": [
           "#636efa",
           "#EF553B",
           "#00cc96",
           "#ab63fa",
           "#FFA15A",
           "#19d3f3",
           "#FF6692",
           "#B6E880",
           "#FF97FF",
           "#FECB52"
          ],
          "font": {
           "color": "#2a3f5f"
          },
          "geo": {
           "bgcolor": "white",
           "lakecolor": "white",
           "landcolor": "#E5ECF6",
           "showlakes": true,
           "showland": true,
           "subunitcolor": "white"
          },
          "hoverlabel": {
           "align": "left"
          },
          "hovermode": "closest",
          "mapbox": {
           "style": "light"
          },
          "paper_bgcolor": "white",
          "plot_bgcolor": "#E5ECF6",
          "polar": {
           "angularaxis": {
            "gridcolor": "white",
            "linecolor": "white",
            "ticks": ""
           },
           "bgcolor": "#E5ECF6",
           "radialaxis": {
            "gridcolor": "white",
            "linecolor": "white",
            "ticks": ""
           }
          },
          "scene": {
           "xaxis": {
            "backgroundcolor": "#E5ECF6",
            "gridcolor": "white",
            "gridwidth": 2,
            "linecolor": "white",
            "showbackground": true,
            "ticks": "",
            "zerolinecolor": "white"
           },
           "yaxis": {
            "backgroundcolor": "#E5ECF6",
            "gridcolor": "white",
            "gridwidth": 2,
            "linecolor": "white",
            "showbackground": true,
            "ticks": "",
            "zerolinecolor": "white"
           },
           "zaxis": {
            "backgroundcolor": "#E5ECF6",
            "gridcolor": "white",
            "gridwidth": 2,
            "linecolor": "white",
            "showbackground": true,
            "ticks": "",
            "zerolinecolor": "white"
           }
          },
          "shapedefaults": {
           "line": {
            "color": "#2a3f5f"
           }
          },
          "ternary": {
           "aaxis": {
            "gridcolor": "white",
            "linecolor": "white",
            "ticks": ""
           },
           "baxis": {
            "gridcolor": "white",
            "linecolor": "white",
            "ticks": ""
           },
           "bgcolor": "#E5ECF6",
           "caxis": {
            "gridcolor": "white",
            "linecolor": "white",
            "ticks": ""
           }
          },
          "title": {
           "x": 0.05
          },
          "xaxis": {
           "automargin": true,
           "gridcolor": "white",
           "linecolor": "white",
           "ticks": "",
           "title": {
            "standoff": 15
           },
           "zerolinecolor": "white",
           "zerolinewidth": 2
          },
          "yaxis": {
           "automargin": true,
           "gridcolor": "white",
           "linecolor": "white",
           "ticks": "",
           "title": {
            "standoff": 15
           },
           "zerolinecolor": "white",
           "zerolinewidth": 2
          }
         }
        },
        "title": {
         "text": "Network Score vs UniProt Num for Gene TP53"
        },
        "xaxis": {
         "anchor": "y",
         "domain": [
          0,
          1
         ],
         "title": {
          "text": "UniProt Number"
         }
        },
        "yaxis": {
         "anchor": "x",
         "domain": [
          0,
          1
         ],
         "title": {
          "text": "Network Score"
         }
        }
       }
      }
     },
     "metadata": {},
     "output_type": "display_data"
    }
   ],
   "source": [
    "gene = \"TP53\"\n",
    "tmp = dat[dat['gene']==gene]\n",
    "# in plotly plot network score (y) vs uniprot_num (x) as line\n",
    "tmp.sort_values(\"uniprot_num\", inplace=True)\n",
    "\n",
    "# Filter data for the specified PDB IDs\n",
    "pdb_ids = ['2OCJ', '4IBQ', '4IBS']\n",
    "tmp = tmp[tmp['pdb_id'].isin(pdb_ids)].reset_index(drop=True)\n",
    "\n",
    "# Define legend labels\n",
    "legend_labels = {\n",
    "    '2OCJ': '2OCJ (wild type)',\n",
    "    '4IBQ': '4IBQ (R273C)',\n",
    "    '4IBS': '4IBS (R273H)',\n",
    "}\n",
    "\n",
    "# Plot\n",
    "fig = px.line(tmp, x='uniprot_num', y='network_score', color='pdb_id',\n",
    "              title='Network Score vs UniProt Num for Gene {}'.format(gene),\n",
    "              labels={'network_score': 'Network Score', 'uniprot_num': 'UniProt Number'},\n",
    "              hover_data=['pdb_id'])\n",
    "\n",
    "# Rename legend entries\n",
    "for i, pdb_id in enumerate(pdb_ids):\n",
    "    fig.for_each_trace(lambda trace: trace.update(name=legend_labels[pdb_id]) if trace.name == pdb_id else ())\n",
    "    \n",
    "fig.show()\n"
   ]
  },
  {
   "cell_type": "code",
   "execution_count": 19,
   "metadata": {},
   "outputs": [
    {
     "data": {
      "application/vnd.plotly.v1+json": {
       "config": {
        "plotlyServerURL": "https://plot.ly"
       },
       "data": [
        {
         "customdata": [
          [
           "6GOF"
          ],
          [
           "6GOF"
          ],
          [
           "6GOF"
          ],
          [
           "6GOF"
          ],
          [
           "6GOF"
          ],
          [
           "6GOF"
          ],
          [
           "6GOF"
          ],
          [
           "6GOF"
          ],
          [
           "6GOF"
          ],
          [
           "6GOF"
          ],
          [
           "6GOF"
          ],
          [
           "6GOF"
          ],
          [
           "6GOF"
          ],
          [
           "6GOF"
          ],
          [
           "6GOF"
          ],
          [
           "6GOF"
          ],
          [
           "6GOF"
          ],
          [
           "6GOF"
          ],
          [
           "6GOF"
          ],
          [
           "6GOF"
          ],
          [
           "6GOF"
          ],
          [
           "6GOF"
          ],
          [
           "6GOF"
          ],
          [
           "6GOF"
          ],
          [
           "6GOF"
          ],
          [
           "6GOF"
          ],
          [
           "6GOF"
          ],
          [
           "6GOF"
          ],
          [
           "6GOF"
          ],
          [
           "6GOF"
          ],
          [
           "6GOF"
          ],
          [
           "6GOF"
          ],
          [
           "6GOF"
          ],
          [
           "6GOF"
          ],
          [
           "6GOF"
          ],
          [
           "6GOF"
          ],
          [
           "6GOF"
          ],
          [
           "6GOF"
          ],
          [
           "6GOF"
          ],
          [
           "6GOF"
          ],
          [
           "6GOF"
          ],
          [
           "6GOF"
          ],
          [
           "6GOF"
          ],
          [
           "6GOF"
          ],
          [
           "6GOF"
          ],
          [
           "6GOF"
          ],
          [
           "6GOF"
          ],
          [
           "6GOF"
          ],
          [
           "6GOF"
          ],
          [
           "6GOF"
          ],
          [
           "6GOF"
          ],
          [
           "6GOF"
          ],
          [
           "6GOF"
          ],
          [
           "6GOF"
          ],
          [
           "6GOF"
          ],
          [
           "6GOF"
          ],
          [
           "6GOF"
          ],
          [
           "6GOF"
          ],
          [
           "6GOF"
          ],
          [
           "6GOF"
          ],
          [
           "6GOF"
          ],
          [
           "6GOF"
          ],
          [
           "6GOF"
          ],
          [
           "6GOF"
          ],
          [
           "6GOF"
          ],
          [
           "6GOF"
          ],
          [
           "6GOF"
          ],
          [
           "6GOF"
          ],
          [
           "6GOF"
          ],
          [
           "6GOF"
          ],
          [
           "6GOF"
          ],
          [
           "6GOF"
          ],
          [
           "6GOF"
          ],
          [
           "6GOF"
          ],
          [
           "6GOF"
          ],
          [
           "6GOF"
          ],
          [
           "6GOF"
          ],
          [
           "6GOF"
          ],
          [
           "6GOF"
          ],
          [
           "6GOF"
          ],
          [
           "6GOF"
          ],
          [
           "6GOF"
          ],
          [
           "6GOF"
          ],
          [
           "6GOF"
          ],
          [
           "6GOF"
          ],
          [
           "6GOF"
          ],
          [
           "6GOF"
          ],
          [
           "6GOF"
          ],
          [
           "6GOF"
          ],
          [
           "6GOF"
          ],
          [
           "6GOF"
          ],
          [
           "6GOF"
          ],
          [
           "6GOF"
          ],
          [
           "6GOF"
          ],
          [
           "6GOF"
          ],
          [
           "6GOF"
          ],
          [
           "6GOF"
          ],
          [
           "6GOF"
          ],
          [
           "6GOF"
          ],
          [
           "6GOF"
          ],
          [
           "6GOF"
          ],
          [
           "6GOF"
          ],
          [
           "6GOF"
          ],
          [
           "6GOF"
          ],
          [
           "6GOF"
          ],
          [
           "6GOF"
          ],
          [
           "6GOF"
          ],
          [
           "6GOF"
          ],
          [
           "6GOF"
          ],
          [
           "6GOF"
          ],
          [
           "6GOF"
          ],
          [
           "6GOF"
          ],
          [
           "6GOF"
          ],
          [
           "6GOF"
          ],
          [
           "6GOF"
          ],
          [
           "6GOF"
          ],
          [
           "6GOF"
          ],
          [
           "6GOF"
          ],
          [
           "6GOF"
          ],
          [
           "6GOF"
          ],
          [
           "6GOF"
          ],
          [
           "6GOF"
          ],
          [
           "6GOF"
          ],
          [
           "6GOF"
          ],
          [
           "6GOF"
          ],
          [
           "6GOF"
          ],
          [
           "6GOF"
          ],
          [
           "6GOF"
          ],
          [
           "6GOF"
          ],
          [
           "6GOF"
          ],
          [
           "6GOF"
          ],
          [
           "6GOF"
          ],
          [
           "6GOF"
          ],
          [
           "6GOF"
          ],
          [
           "6GOF"
          ],
          [
           "6GOF"
          ],
          [
           "6GOF"
          ],
          [
           "6GOF"
          ],
          [
           "6GOF"
          ],
          [
           "6GOF"
          ],
          [
           "6GOF"
          ],
          [
           "6GOF"
          ],
          [
           "6GOF"
          ],
          [
           "6GOF"
          ],
          [
           "6GOF"
          ],
          [
           "6GOF"
          ],
          [
           "6GOF"
          ],
          [
           "6GOF"
          ],
          [
           "6GOF"
          ],
          [
           "6GOF"
          ],
          [
           "6GOF"
          ],
          [
           "6GOF"
          ],
          [
           "6GOF"
          ],
          [
           "6GOF"
          ],
          [
           "6GOF"
          ],
          [
           "6GOF"
          ],
          [
           "6GOF"
          ],
          [
           "6GOF"
          ],
          [
           "6GOF"
          ],
          [
           "6GOF"
          ],
          [
           "6GOF"
          ],
          [
           "6GOF"
          ],
          [
           "6GOF"
          ],
          [
           "6GOF"
          ],
          [
           "6GOF"
          ],
          [
           "6GOF"
          ],
          [
           "6GOF"
          ],
          [
           "6GOF"
          ],
          [
           "6GOF"
          ],
          [
           "6GOF"
          ],
          [
           "6GOF"
          ]
         ],
         "hovertemplate": "pdb_id=%{customdata[0]}<br>UniProt Number=%{x}<br>Network Score=%{y}<extra></extra>",
         "legendgroup": "6GOF",
         "line": {
          "color": "#636efa",
          "dash": "solid"
         },
         "marker": {
          "symbol": "circle"
         },
         "mode": "lines",
         "name": "6GOD (wild type)",
         "orientation": "v",
         "showlegend": true,
         "type": "scatter",
         "x": [
          2,
          3,
          4,
          5,
          6,
          7,
          8,
          9,
          10,
          11,
          12,
          13,
          14,
          15,
          16,
          17,
          18,
          19,
          20,
          21,
          22,
          23,
          24,
          25,
          26,
          27,
          28,
          29,
          30,
          31,
          32,
          33,
          34,
          35,
          36,
          37,
          38,
          39,
          40,
          41,
          42,
          43,
          44,
          45,
          46,
          47,
          48,
          49,
          50,
          51,
          52,
          53,
          54,
          55,
          56,
          57,
          58,
          59,
          60,
          61,
          62,
          63,
          64,
          65,
          66,
          67,
          68,
          69,
          70,
          71,
          72,
          73,
          74,
          75,
          76,
          77,
          78,
          79,
          80,
          81,
          82,
          83,
          84,
          85,
          86,
          87,
          88,
          89,
          90,
          91,
          92,
          93,
          94,
          95,
          96,
          97,
          98,
          99,
          100,
          101,
          102,
          103,
          104,
          105,
          106,
          107,
          108,
          109,
          110,
          111,
          112,
          113,
          114,
          115,
          116,
          117,
          118,
          119,
          120,
          121,
          122,
          123,
          124,
          125,
          126,
          127,
          128,
          129,
          130,
          131,
          132,
          133,
          134,
          135,
          136,
          137,
          138,
          139,
          140,
          141,
          142,
          143,
          144,
          145,
          146,
          147,
          148,
          149,
          150,
          151,
          152,
          153,
          154,
          155,
          156,
          157,
          158,
          159,
          160,
          161,
          162,
          163,
          164,
          165,
          166,
          167,
          168,
          169,
          170,
          171,
          172
         ],
         "xaxis": "x",
         "y": [
          -1.752515584,
          -2.229415541,
          0.302637933,
          -1.775437609,
          1.305097956,
          2.720603111,
          4.718205164,
          2.102234061,
          4.120286381,
          2.59283836,
          0.337722216,
          3.978239458,
          6.70886152,
          5.879552193,
          4.794787024,
          1.080210856,
          1.813988776,
          6.370459828,
          1.63073141,
          0.267829489,
          3.183703646,
          1.906522004,
          0.803398197,
          -0.95992524,
          -0.894778535,
          0.334276676,
          0.439780755,
          0.812996636,
          -0.410570375,
          -0.531296978,
          0.662716228,
          -0.330694709,
          -0.435101973,
          0.844888903,
          -1.159612627,
          1.106255097,
          -0.166597096,
          -1.251644097,
          0.142517678,
          -1.675825621,
          -0.610092134,
          -2.579128292,
          -1.265278696,
          -2.364526916,
          -0.938277643,
          -2.194200882,
          -2.68580479,
          -1.774483724,
          -2.710499626,
          -1.084153341,
          -1.75799721,
          -0.481509715,
          -1.501083995,
          0.562065769,
          0.221049251,
          1.041232217,
          5.02835476,
          0.876577182,
          2.47875571,
          -1.170450533,
          -0.689961562,
          -1.921253291,
          -2.515959544,
          -2.398927003,
          -2.739356819,
          -1.180661053,
          -0.684770346,
          -1.993448217,
          -2.565617099,
          0.556741768,
          1.441526802,
          -2.571148032,
          -2.030758916,
          0.14271044,
          -1.060700878,
          2.231719219,
          3.00933767,
          3.759105787,
          0.510345656,
          4.541899441,
          2.660918479,
          2.216511403,
          2.513123606,
          0.147602562,
          0.38817508,
          -1.048268265,
          -1.297166814,
          1.46663575,
          1.121551262,
          -1.749157118,
          -0.576211357,
          0.295829184,
          -1.954110183,
          -2.087529452,
          1.61416909,
          1.078136458,
          -2.656999609,
          -1.258615196,
          1.204199799,
          -2.455975217,
          -2.726098507,
          -0.160193172,
          -1.196196627,
          -3.794246599,
          -3.122038815,
          -3.179581628,
          -3.118779382,
          0.085032548,
          -0.212658614,
          2.138573258,
          2.15481823,
          1.782071499,
          2.886242693,
          2.71907491,
          6.204312574,
          2.150356219,
          4.640479902,
          0.319554241,
          0.756218894,
          -1.208004405,
          -0.835350727,
          0.47188459,
          -0.91659018,
          2.310112886,
          -1.796445969,
          -0.535907413,
          -2.729080944,
          -0.980617204,
          0.138720482,
          -2.185287449,
          -2.685123573,
          0.280464882,
          -0.845432275,
          -2.767417772,
          -2.712821858,
          -0.099089661,
          -1.482356241,
          -0.653052766,
          -0.044010128,
          -0.293164695,
          0.662499363,
          0.625341768,
          5.819300212,
          0.966419323,
          4.203798348,
          -0.325598868,
          -0.620237734,
          0.721124638,
          -0.848365679,
          1.20807155,
          2.783684649,
          -0.457474245,
          -1.285135145,
          0.914645602,
          1.845197539,
          -1.342941014,
          -0.787309875,
          6.071625451,
          -0.115566033,
          -2.210463093,
          -1.807573916,
          -0.710752052,
          -0.957929469,
          -3.036068779,
          -2.551664984,
          -2.488106996,
          -3.889189594,
          -3.45254603,
          -3.733605852,
          -4.244320506,
          -4.580891325
         ],
         "yaxis": "y"
        },
        {
         "customdata": [
          [
           "6GOE"
          ],
          [
           "6GOE"
          ],
          [
           "6GOE"
          ],
          [
           "6GOE"
          ],
          [
           "6GOE"
          ],
          [
           "6GOE"
          ],
          [
           "6GOE"
          ],
          [
           "6GOE"
          ],
          [
           "6GOE"
          ],
          [
           "6GOE"
          ],
          [
           "6GOE"
          ],
          [
           "6GOE"
          ],
          [
           "6GOE"
          ],
          [
           "6GOE"
          ],
          [
           "6GOE"
          ],
          [
           "6GOE"
          ],
          [
           "6GOE"
          ],
          [
           "6GOE"
          ],
          [
           "6GOE"
          ],
          [
           "6GOE"
          ],
          [
           "6GOE"
          ],
          [
           "6GOE"
          ],
          [
           "6GOE"
          ],
          [
           "6GOE"
          ],
          [
           "6GOE"
          ],
          [
           "6GOE"
          ],
          [
           "6GOE"
          ],
          [
           "6GOE"
          ],
          [
           "6GOE"
          ],
          [
           "6GOE"
          ],
          [
           "6GOE"
          ],
          [
           "6GOE"
          ],
          [
           "6GOE"
          ],
          [
           "6GOE"
          ],
          [
           "6GOE"
          ],
          [
           "6GOE"
          ],
          [
           "6GOE"
          ],
          [
           "6GOE"
          ],
          [
           "6GOE"
          ],
          [
           "6GOE"
          ],
          [
           "6GOE"
          ],
          [
           "6GOE"
          ],
          [
           "6GOE"
          ],
          [
           "6GOE"
          ],
          [
           "6GOE"
          ],
          [
           "6GOE"
          ],
          [
           "6GOE"
          ],
          [
           "6GOE"
          ],
          [
           "6GOE"
          ],
          [
           "6GOE"
          ],
          [
           "6GOE"
          ],
          [
           "6GOE"
          ],
          [
           "6GOE"
          ],
          [
           "6GOE"
          ],
          [
           "6GOE"
          ],
          [
           "6GOE"
          ],
          [
           "6GOE"
          ],
          [
           "6GOE"
          ],
          [
           "6GOE"
          ],
          [
           "6GOE"
          ],
          [
           "6GOE"
          ],
          [
           "6GOE"
          ],
          [
           "6GOE"
          ],
          [
           "6GOE"
          ],
          [
           "6GOE"
          ],
          [
           "6GOE"
          ],
          [
           "6GOE"
          ],
          [
           "6GOE"
          ],
          [
           "6GOE"
          ],
          [
           "6GOE"
          ],
          [
           "6GOE"
          ],
          [
           "6GOE"
          ],
          [
           "6GOE"
          ],
          [
           "6GOE"
          ],
          [
           "6GOE"
          ],
          [
           "6GOE"
          ],
          [
           "6GOE"
          ],
          [
           "6GOE"
          ],
          [
           "6GOE"
          ],
          [
           "6GOE"
          ],
          [
           "6GOE"
          ],
          [
           "6GOE"
          ],
          [
           "6GOE"
          ],
          [
           "6GOE"
          ],
          [
           "6GOE"
          ],
          [
           "6GOE"
          ],
          [
           "6GOE"
          ],
          [
           "6GOE"
          ],
          [
           "6GOE"
          ],
          [
           "6GOE"
          ],
          [
           "6GOE"
          ],
          [
           "6GOE"
          ],
          [
           "6GOE"
          ],
          [
           "6GOE"
          ],
          [
           "6GOE"
          ],
          [
           "6GOE"
          ],
          [
           "6GOE"
          ],
          [
           "6GOE"
          ],
          [
           "6GOE"
          ],
          [
           "6GOE"
          ],
          [
           "6GOE"
          ],
          [
           "6GOE"
          ],
          [
           "6GOE"
          ],
          [
           "6GOE"
          ],
          [
           "6GOE"
          ],
          [
           "6GOE"
          ],
          [
           "6GOE"
          ],
          [
           "6GOE"
          ],
          [
           "6GOE"
          ],
          [
           "6GOE"
          ],
          [
           "6GOE"
          ],
          [
           "6GOE"
          ],
          [
           "6GOE"
          ],
          [
           "6GOE"
          ],
          [
           "6GOE"
          ],
          [
           "6GOE"
          ],
          [
           "6GOE"
          ],
          [
           "6GOE"
          ],
          [
           "6GOE"
          ],
          [
           "6GOE"
          ],
          [
           "6GOE"
          ],
          [
           "6GOE"
          ],
          [
           "6GOE"
          ],
          [
           "6GOE"
          ],
          [
           "6GOE"
          ],
          [
           "6GOE"
          ],
          [
           "6GOE"
          ],
          [
           "6GOE"
          ],
          [
           "6GOE"
          ],
          [
           "6GOE"
          ],
          [
           "6GOE"
          ],
          [
           "6GOE"
          ],
          [
           "6GOE"
          ],
          [
           "6GOE"
          ],
          [
           "6GOE"
          ],
          [
           "6GOE"
          ],
          [
           "6GOE"
          ],
          [
           "6GOE"
          ],
          [
           "6GOE"
          ],
          [
           "6GOE"
          ],
          [
           "6GOE"
          ],
          [
           "6GOE"
          ],
          [
           "6GOE"
          ],
          [
           "6GOE"
          ],
          [
           "6GOE"
          ],
          [
           "6GOE"
          ],
          [
           "6GOE"
          ],
          [
           "6GOE"
          ],
          [
           "6GOE"
          ],
          [
           "6GOE"
          ],
          [
           "6GOE"
          ],
          [
           "6GOE"
          ],
          [
           "6GOE"
          ],
          [
           "6GOE"
          ],
          [
           "6GOE"
          ],
          [
           "6GOE"
          ],
          [
           "6GOE"
          ],
          [
           "6GOE"
          ],
          [
           "6GOE"
          ],
          [
           "6GOE"
          ],
          [
           "6GOE"
          ],
          [
           "6GOE"
          ],
          [
           "6GOE"
          ]
         ],
         "hovertemplate": "pdb_id=%{customdata[0]}<br>UniProt Number=%{x}<br>Network Score=%{y}<extra></extra>",
         "legendgroup": "6GOE",
         "line": {
          "color": "#EF553B",
          "dash": "solid"
         },
         "marker": {
          "symbol": "circle"
         },
         "mode": "lines",
         "name": "6GOE (G12V)",
         "orientation": "v",
         "showlegend": true,
         "type": "scatter",
         "x": [
          2,
          3,
          4,
          5,
          6,
          7,
          8,
          9,
          10,
          11,
          12,
          13,
          14,
          15,
          16,
          17,
          18,
          19,
          20,
          21,
          22,
          23,
          24,
          25,
          26,
          27,
          28,
          29,
          30,
          31,
          32,
          33,
          34,
          35,
          36,
          37,
          38,
          39,
          40,
          41,
          42,
          43,
          44,
          45,
          46,
          47,
          48,
          49,
          50,
          51,
          52,
          53,
          54,
          55,
          56,
          57,
          58,
          59,
          60,
          61,
          67,
          68,
          69,
          70,
          71,
          72,
          73,
          74,
          75,
          76,
          77,
          78,
          79,
          80,
          81,
          82,
          83,
          84,
          85,
          86,
          87,
          88,
          89,
          90,
          91,
          92,
          93,
          94,
          95,
          96,
          97,
          98,
          99,
          100,
          101,
          102,
          103,
          104,
          105,
          106,
          107,
          108,
          109,
          110,
          111,
          112,
          113,
          114,
          115,
          116,
          117,
          118,
          119,
          120,
          121,
          122,
          123,
          124,
          125,
          126,
          127,
          128,
          129,
          130,
          131,
          132,
          133,
          134,
          135,
          136,
          137,
          138,
          139,
          140,
          141,
          142,
          143,
          144,
          145,
          146,
          147,
          148,
          149,
          150,
          151,
          152,
          153,
          154,
          155,
          156,
          157,
          158,
          159,
          160,
          161,
          162,
          163,
          164,
          165,
          166,
          167,
          168,
          169
         ],
         "xaxis": "x",
         "y": [
          -2.113796657,
          -2.446751787,
          0.129488311,
          -2.062175947,
          1.380178125,
          2.218779366,
          4.977658672,
          1.93044222,
          4.785699853,
          3.006768709,
          1.252451787,
          4.060156313,
          7.190198059,
          6.988370503,
          4.840001212,
          1.111597294,
          1.290163757,
          5.627897914,
          1.794689576,
          -0.349127932,
          4.177052051,
          1.313237163,
          1.032901905,
          -0.705582142,
          -0.304619609,
          -0.372277032,
          0.909865656,
          -0.276318546,
          -0.27904279,
          -0.610101217,
          0.728615345,
          -0.503449549,
          -0.508908155,
          0.680018768,
          -1.278153276,
          -1.398491788,
          -0.569909015,
          -1.410753639,
          0.234653524,
          -1.91528391,
          0.005797466,
          -2.74851153,
          -0.942806367,
          -2.238327961,
          -0.265373905,
          -2.449438676,
          -2.300064999,
          -1.868724222,
          -2.697986416,
          -1.028758296,
          -1.906184057,
          -0.57162954,
          -1.674397376,
          0.335426619,
          -0.108904236,
          1.299322772,
          3.034797771,
          -0.144555195,
          1.931035095,
          -1.241643071,
          -1.726408247,
          -0.108077841,
          -2.318827323,
          -2.532524795,
          -0.118449527,
          0.547435254,
          -2.462277863,
          -2.004921203,
          0.4262856,
          -0.743496809,
          4.375595775,
          1.717215936,
          3.541831115,
          0.895156338,
          3.654667895,
          2.514520703,
          2.577632956,
          1.372950898,
          0.16421846,
          0.728655029,
          -1.014090743,
          -1.183310647,
          2.113405633,
          1.130491659,
          -1.731615327,
          -0.308388917,
          0.27305406,
          -1.92906441,
          -2.05838504,
          1.188761363,
          1.370761901,
          -2.529078478,
          -0.902661104,
          -0.231755952,
          -2.298237748,
          -2.848927931,
          -0.69655101,
          -1.173297879,
          -3.73613898,
          -2.952307575,
          -3.176007043,
          -3.242068982,
          -0.154473332,
          0.200394411,
          2.79216613,
          1.38202674,
          0.794164382,
          2.683177573,
          2.677284006,
          3.730492889,
          2.853220925,
          2.089063148,
          0.550233144,
          1.081297408,
          -0.538349965,
          -1.491671751,
          0.638901467,
          -0.936018603,
          2.234340277,
          -1.762219685,
          -0.340996921,
          -2.731809775,
          -0.870041124,
          0.199693609,
          -2.182373986,
          -2.686236651,
          -0.31422312,
          -1.03528086,
          -2.82866696,
          -2.765609431,
          0.085903387,
          -1.723158982,
          0.598731343,
          -0.706469325,
          -0.121405504,
          1.487130932,
          0.553988192,
          4.182093171,
          0.307964664,
          3.918401256,
          -0.251770766,
          -0.397626063,
          1.033205451,
          -0.941168845,
          1.84936951,
          2.624845052,
          -0.284121763,
          -1.330063632,
          1.770222043,
          1.579086993,
          -1.153675662,
          -0.278268576,
          6.644613034,
          0.717239841,
          -2.032943555,
          -1.960174159,
          -1.069709144,
          -1.535502124,
          -3.060317081,
          -2.441635626,
          -2.782966296,
          -3.98394801,
          -3.771454715
         ],
         "yaxis": "y"
        },
        {
         "customdata": [
          [
           "6GOD"
          ],
          [
           "6GOD"
          ],
          [
           "6GOD"
          ],
          [
           "6GOD"
          ],
          [
           "6GOD"
          ],
          [
           "6GOD"
          ],
          [
           "6GOD"
          ],
          [
           "6GOD"
          ],
          [
           "6GOD"
          ],
          [
           "6GOD"
          ],
          [
           "6GOD"
          ],
          [
           "6GOD"
          ],
          [
           "6GOD"
          ],
          [
           "6GOD"
          ],
          [
           "6GOD"
          ],
          [
           "6GOD"
          ],
          [
           "6GOD"
          ],
          [
           "6GOD"
          ],
          [
           "6GOD"
          ],
          [
           "6GOD"
          ],
          [
           "6GOD"
          ],
          [
           "6GOD"
          ],
          [
           "6GOD"
          ],
          [
           "6GOD"
          ],
          [
           "6GOD"
          ],
          [
           "6GOD"
          ],
          [
           "6GOD"
          ],
          [
           "6GOD"
          ],
          [
           "6GOD"
          ],
          [
           "6GOD"
          ],
          [
           "6GOD"
          ],
          [
           "6GOD"
          ],
          [
           "6GOD"
          ],
          [
           "6GOD"
          ],
          [
           "6GOD"
          ],
          [
           "6GOD"
          ],
          [
           "6GOD"
          ],
          [
           "6GOD"
          ],
          [
           "6GOD"
          ],
          [
           "6GOD"
          ],
          [
           "6GOD"
          ],
          [
           "6GOD"
          ],
          [
           "6GOD"
          ],
          [
           "6GOD"
          ],
          [
           "6GOD"
          ],
          [
           "6GOD"
          ],
          [
           "6GOD"
          ],
          [
           "6GOD"
          ],
          [
           "6GOD"
          ],
          [
           "6GOD"
          ],
          [
           "6GOD"
          ],
          [
           "6GOD"
          ],
          [
           "6GOD"
          ],
          [
           "6GOD"
          ],
          [
           "6GOD"
          ],
          [
           "6GOD"
          ],
          [
           "6GOD"
          ],
          [
           "6GOD"
          ],
          [
           "6GOD"
          ],
          [
           "6GOD"
          ],
          [
           "6GOD"
          ],
          [
           "6GOD"
          ],
          [
           "6GOD"
          ],
          [
           "6GOD"
          ],
          [
           "6GOD"
          ],
          [
           "6GOD"
          ],
          [
           "6GOD"
          ],
          [
           "6GOD"
          ],
          [
           "6GOD"
          ],
          [
           "6GOD"
          ],
          [
           "6GOD"
          ],
          [
           "6GOD"
          ],
          [
           "6GOD"
          ],
          [
           "6GOD"
          ],
          [
           "6GOD"
          ],
          [
           "6GOD"
          ],
          [
           "6GOD"
          ],
          [
           "6GOD"
          ],
          [
           "6GOD"
          ],
          [
           "6GOD"
          ],
          [
           "6GOD"
          ],
          [
           "6GOD"
          ],
          [
           "6GOD"
          ],
          [
           "6GOD"
          ],
          [
           "6GOD"
          ],
          [
           "6GOD"
          ],
          [
           "6GOD"
          ],
          [
           "6GOD"
          ],
          [
           "6GOD"
          ],
          [
           "6GOD"
          ],
          [
           "6GOD"
          ],
          [
           "6GOD"
          ],
          [
           "6GOD"
          ],
          [
           "6GOD"
          ],
          [
           "6GOD"
          ],
          [
           "6GOD"
          ],
          [
           "6GOD"
          ],
          [
           "6GOD"
          ],
          [
           "6GOD"
          ],
          [
           "6GOD"
          ],
          [
           "6GOD"
          ],
          [
           "6GOD"
          ],
          [
           "6GOD"
          ],
          [
           "6GOD"
          ],
          [
           "6GOD"
          ],
          [
           "6GOD"
          ],
          [
           "6GOD"
          ],
          [
           "6GOD"
          ],
          [
           "6GOD"
          ],
          [
           "6GOD"
          ],
          [
           "6GOD"
          ],
          [
           "6GOD"
          ],
          [
           "6GOD"
          ],
          [
           "6GOD"
          ],
          [
           "6GOD"
          ],
          [
           "6GOD"
          ],
          [
           "6GOD"
          ],
          [
           "6GOD"
          ],
          [
           "6GOD"
          ],
          [
           "6GOD"
          ],
          [
           "6GOD"
          ],
          [
           "6GOD"
          ],
          [
           "6GOD"
          ],
          [
           "6GOD"
          ],
          [
           "6GOD"
          ],
          [
           "6GOD"
          ],
          [
           "6GOD"
          ],
          [
           "6GOD"
          ],
          [
           "6GOD"
          ],
          [
           "6GOD"
          ],
          [
           "6GOD"
          ],
          [
           "6GOD"
          ],
          [
           "6GOD"
          ],
          [
           "6GOD"
          ],
          [
           "6GOD"
          ],
          [
           "6GOD"
          ],
          [
           "6GOD"
          ],
          [
           "6GOD"
          ],
          [
           "6GOD"
          ],
          [
           "6GOD"
          ],
          [
           "6GOD"
          ],
          [
           "6GOD"
          ],
          [
           "6GOD"
          ],
          [
           "6GOD"
          ],
          [
           "6GOD"
          ],
          [
           "6GOD"
          ],
          [
           "6GOD"
          ],
          [
           "6GOD"
          ],
          [
           "6GOD"
          ],
          [
           "6GOD"
          ],
          [
           "6GOD"
          ],
          [
           "6GOD"
          ],
          [
           "6GOD"
          ],
          [
           "6GOD"
          ],
          [
           "6GOD"
          ],
          [
           "6GOD"
          ],
          [
           "6GOD"
          ],
          [
           "6GOD"
          ],
          [
           "6GOD"
          ],
          [
           "6GOD"
          ],
          [
           "6GOD"
          ],
          [
           "6GOD"
          ],
          [
           "6GOD"
          ],
          [
           "6GOD"
          ],
          [
           "6GOD"
          ],
          [
           "6GOD"
          ],
          [
           "6GOD"
          ],
          [
           "6GOD"
          ],
          [
           "6GOD"
          ],
          [
           "6GOD"
          ],
          [
           "6GOD"
          ]
         ],
         "hovertemplate": "pdb_id=%{customdata[0]}<br>UniProt Number=%{x}<br>Network Score=%{y}<extra></extra>",
         "legendgroup": "6GOD",
         "line": {
          "color": "#00cc96",
          "dash": "solid"
         },
         "marker": {
          "symbol": "circle"
         },
         "mode": "lines",
         "name": "6GOF (G12D)",
         "orientation": "v",
         "showlegend": true,
         "type": "scatter",
         "x": [
          2,
          3,
          4,
          5,
          6,
          7,
          8,
          9,
          10,
          11,
          12,
          13,
          14,
          15,
          16,
          17,
          18,
          19,
          20,
          21,
          22,
          23,
          24,
          25,
          26,
          27,
          28,
          29,
          30,
          31,
          32,
          33,
          34,
          35,
          36,
          37,
          38,
          39,
          40,
          41,
          42,
          43,
          44,
          45,
          46,
          47,
          48,
          49,
          50,
          51,
          52,
          53,
          54,
          55,
          56,
          57,
          58,
          59,
          60,
          61,
          62,
          63,
          64,
          65,
          66,
          67,
          68,
          69,
          70,
          71,
          72,
          73,
          74,
          75,
          76,
          77,
          78,
          79,
          80,
          81,
          82,
          83,
          84,
          85,
          86,
          87,
          88,
          89,
          90,
          91,
          92,
          93,
          94,
          95,
          96,
          97,
          98,
          99,
          100,
          101,
          102,
          103,
          104,
          105,
          106,
          107,
          108,
          109,
          110,
          111,
          112,
          113,
          114,
          115,
          116,
          117,
          118,
          119,
          120,
          121,
          122,
          123,
          124,
          125,
          126,
          127,
          128,
          129,
          130,
          131,
          132,
          133,
          134,
          135,
          136,
          137,
          138,
          139,
          140,
          141,
          142,
          143,
          144,
          145,
          146,
          147,
          148,
          149,
          150,
          151,
          152,
          153,
          154,
          155,
          156,
          157,
          158,
          159,
          160,
          161,
          162,
          163,
          164,
          165,
          166,
          167,
          168,
          169,
          170,
          171,
          172
         ],
         "xaxis": "x",
         "y": [
          -1.333685599,
          -3.047914753,
          -1.233835654,
          -2.289943664,
          0.536867934,
          3.026336286,
          5.560685291,
          2.330444836,
          4.981548924,
          3.863310705,
          0.78545945,
          3.85026683,
          7.206314808,
          5.249406048,
          3.909671939,
          0.60754072,
          1.18239717,
          6.118159291,
          0.761584534,
          0.806654687,
          3.241185572,
          0.922532359,
          0.31208795,
          -1.236028645,
          -1.316942797,
          0.405682068,
          0.058833317,
          0.438802502,
          -0.657275731,
          -0.826188975,
          0.381414725,
          -0.846242851,
          -0.668266189,
          0.245985365,
          -1.620477736,
          -1.007234517,
          -0.708757831,
          -1.778427398,
          -0.071315018,
          -2.421272801,
          -0.855440643,
          -3.180328862,
          -1.432931986,
          -2.7983643,
          -1.448083859,
          -3.020854723,
          -3.346891905,
          -2.205795857,
          -3.20665726,
          -2.29454976,
          -2.185540554,
          -0.872707468,
          -2.284114192,
          0.7159305,
          1.643788167,
          0.588032315,
          3.792714974,
          0.523530148,
          1.226057999,
          -0.621248891,
          -0.578502606,
          -1.558449214,
          -1.671203115,
          -0.798844677,
          -1.469155979,
          -1.043093588,
          0.279018234,
          -0.156346604,
          -1.779784535,
          1.456767022,
          2.941038435,
          -1.316218196,
          -1.316845726,
          0.813106397,
          -0.805566911,
          1.85347904,
          3.15636921,
          4.06208384,
          0.828805619,
          3.598688891,
          2.20945637,
          2.755600041,
          2.630223733,
          0.038016386,
          0.438081114,
          -0.990261497,
          -0.396581301,
          1.80710844,
          0.963769261,
          -0.975095488,
          0.750653457,
          1.066227445,
          -0.408344345,
          -0.203809833,
          2.543300108,
          1.182968176,
          -0.894521034,
          1.217205529,
          0.545608278,
          -0.885520766,
          -0.934968055,
          0.181581452,
          -0.304721267,
          -2.306736437,
          -2.018133169,
          -1.840039088,
          -2.462771564,
          0.621697093,
          0.670982694,
          1.69623447,
          1.287013027,
          1.578923614,
          3.523385567,
          1.658258993,
          5.088547289,
          2.619391029,
          4.307178161,
          0.518972189,
          0.839478903,
          -1.638982689,
          -1.100884348,
          1.303167583,
          -0.551028925,
          1.566687726,
          -2.337638651,
          -0.837490796,
          -2.979309398,
          -1.069711649,
          -0.602063044,
          -2.734806309,
          -2.596509821,
          0.08129496,
          -0.583022828,
          -2.738849705,
          -2.049219891,
          0.664274088,
          -0.856497689,
          0.196327562,
          -0.795672491,
          -0.914286045,
          -0.222304735,
          0.44600549,
          5.350481089,
          0.398440507,
          3.605591132,
          -0.652826334,
          -0.891115973,
          0.271082907,
          -1.304027282,
          1.431951143,
          1.400826106,
          -1.201486232,
          -1.767994273,
          0.638345819,
          1.490035359,
          -1.897167834,
          -0.579500595,
          5.034377721,
          -0.995758098,
          -2.168057656,
          -2.16729648,
          -1.477976682,
          -2.334104258,
          -3.201325649,
          -2.073458048,
          -2.815182838,
          -4.154045074,
          -3.418506648,
          -3.121478609,
          -4.061981958,
          -4.32886542
         ],
         "yaxis": "y"
        }
       ],
       "layout": {
        "legend": {
         "title": {
          "text": "pdb_id"
         },
         "tracegroupgap": 0
        },
        "template": {
         "data": {
          "bar": [
           {
            "error_x": {
             "color": "#2a3f5f"
            },
            "error_y": {
             "color": "#2a3f5f"
            },
            "marker": {
             "line": {
              "color": "#E5ECF6",
              "width": 0.5
             },
             "pattern": {
              "fillmode": "overlay",
              "size": 10,
              "solidity": 0.2
             }
            },
            "type": "bar"
           }
          ],
          "barpolar": [
           {
            "marker": {
             "line": {
              "color": "#E5ECF6",
              "width": 0.5
             },
             "pattern": {
              "fillmode": "overlay",
              "size": 10,
              "solidity": 0.2
             }
            },
            "type": "barpolar"
           }
          ],
          "carpet": [
           {
            "aaxis": {
             "endlinecolor": "#2a3f5f",
             "gridcolor": "white",
             "linecolor": "white",
             "minorgridcolor": "white",
             "startlinecolor": "#2a3f5f"
            },
            "baxis": {
             "endlinecolor": "#2a3f5f",
             "gridcolor": "white",
             "linecolor": "white",
             "minorgridcolor": "white",
             "startlinecolor": "#2a3f5f"
            },
            "type": "carpet"
           }
          ],
          "choropleth": [
           {
            "colorbar": {
             "outlinewidth": 0,
             "ticks": ""
            },
            "type": "choropleth"
           }
          ],
          "contour": [
           {
            "colorbar": {
             "outlinewidth": 0,
             "ticks": ""
            },
            "colorscale": [
             [
              0,
              "#0d0887"
             ],
             [
              0.1111111111111111,
              "#46039f"
             ],
             [
              0.2222222222222222,
              "#7201a8"
             ],
             [
              0.3333333333333333,
              "#9c179e"
             ],
             [
              0.4444444444444444,
              "#bd3786"
             ],
             [
              0.5555555555555556,
              "#d8576b"
             ],
             [
              0.6666666666666666,
              "#ed7953"
             ],
             [
              0.7777777777777778,
              "#fb9f3a"
             ],
             [
              0.8888888888888888,
              "#fdca26"
             ],
             [
              1,
              "#f0f921"
             ]
            ],
            "type": "contour"
           }
          ],
          "contourcarpet": [
           {
            "colorbar": {
             "outlinewidth": 0,
             "ticks": ""
            },
            "type": "contourcarpet"
           }
          ],
          "heatmap": [
           {
            "colorbar": {
             "outlinewidth": 0,
             "ticks": ""
            },
            "colorscale": [
             [
              0,
              "#0d0887"
             ],
             [
              0.1111111111111111,
              "#46039f"
             ],
             [
              0.2222222222222222,
              "#7201a8"
             ],
             [
              0.3333333333333333,
              "#9c179e"
             ],
             [
              0.4444444444444444,
              "#bd3786"
             ],
             [
              0.5555555555555556,
              "#d8576b"
             ],
             [
              0.6666666666666666,
              "#ed7953"
             ],
             [
              0.7777777777777778,
              "#fb9f3a"
             ],
             [
              0.8888888888888888,
              "#fdca26"
             ],
             [
              1,
              "#f0f921"
             ]
            ],
            "type": "heatmap"
           }
          ],
          "heatmapgl": [
           {
            "colorbar": {
             "outlinewidth": 0,
             "ticks": ""
            },
            "colorscale": [
             [
              0,
              "#0d0887"
             ],
             [
              0.1111111111111111,
              "#46039f"
             ],
             [
              0.2222222222222222,
              "#7201a8"
             ],
             [
              0.3333333333333333,
              "#9c179e"
             ],
             [
              0.4444444444444444,
              "#bd3786"
             ],
             [
              0.5555555555555556,
              "#d8576b"
             ],
             [
              0.6666666666666666,
              "#ed7953"
             ],
             [
              0.7777777777777778,
              "#fb9f3a"
             ],
             [
              0.8888888888888888,
              "#fdca26"
             ],
             [
              1,
              "#f0f921"
             ]
            ],
            "type": "heatmapgl"
           }
          ],
          "histogram": [
           {
            "marker": {
             "pattern": {
              "fillmode": "overlay",
              "size": 10,
              "solidity": 0.2
             }
            },
            "type": "histogram"
           }
          ],
          "histogram2d": [
           {
            "colorbar": {
             "outlinewidth": 0,
             "ticks": ""
            },
            "colorscale": [
             [
              0,
              "#0d0887"
             ],
             [
              0.1111111111111111,
              "#46039f"
             ],
             [
              0.2222222222222222,
              "#7201a8"
             ],
             [
              0.3333333333333333,
              "#9c179e"
             ],
             [
              0.4444444444444444,
              "#bd3786"
             ],
             [
              0.5555555555555556,
              "#d8576b"
             ],
             [
              0.6666666666666666,
              "#ed7953"
             ],
             [
              0.7777777777777778,
              "#fb9f3a"
             ],
             [
              0.8888888888888888,
              "#fdca26"
             ],
             [
              1,
              "#f0f921"
             ]
            ],
            "type": "histogram2d"
           }
          ],
          "histogram2dcontour": [
           {
            "colorbar": {
             "outlinewidth": 0,
             "ticks": ""
            },
            "colorscale": [
             [
              0,
              "#0d0887"
             ],
             [
              0.1111111111111111,
              "#46039f"
             ],
             [
              0.2222222222222222,
              "#7201a8"
             ],
             [
              0.3333333333333333,
              "#9c179e"
             ],
             [
              0.4444444444444444,
              "#bd3786"
             ],
             [
              0.5555555555555556,
              "#d8576b"
             ],
             [
              0.6666666666666666,
              "#ed7953"
             ],
             [
              0.7777777777777778,
              "#fb9f3a"
             ],
             [
              0.8888888888888888,
              "#fdca26"
             ],
             [
              1,
              "#f0f921"
             ]
            ],
            "type": "histogram2dcontour"
           }
          ],
          "mesh3d": [
           {
            "colorbar": {
             "outlinewidth": 0,
             "ticks": ""
            },
            "type": "mesh3d"
           }
          ],
          "parcoords": [
           {
            "line": {
             "colorbar": {
              "outlinewidth": 0,
              "ticks": ""
             }
            },
            "type": "parcoords"
           }
          ],
          "pie": [
           {
            "automargin": true,
            "type": "pie"
           }
          ],
          "scatter": [
           {
            "fillpattern": {
             "fillmode": "overlay",
             "size": 10,
             "solidity": 0.2
            },
            "type": "scatter"
           }
          ],
          "scatter3d": [
           {
            "line": {
             "colorbar": {
              "outlinewidth": 0,
              "ticks": ""
             }
            },
            "marker": {
             "colorbar": {
              "outlinewidth": 0,
              "ticks": ""
             }
            },
            "type": "scatter3d"
           }
          ],
          "scattercarpet": [
           {
            "marker": {
             "colorbar": {
              "outlinewidth": 0,
              "ticks": ""
             }
            },
            "type": "scattercarpet"
           }
          ],
          "scattergeo": [
           {
            "marker": {
             "colorbar": {
              "outlinewidth": 0,
              "ticks": ""
             }
            },
            "type": "scattergeo"
           }
          ],
          "scattergl": [
           {
            "marker": {
             "colorbar": {
              "outlinewidth": 0,
              "ticks": ""
             }
            },
            "type": "scattergl"
           }
          ],
          "scattermapbox": [
           {
            "marker": {
             "colorbar": {
              "outlinewidth": 0,
              "ticks": ""
             }
            },
            "type": "scattermapbox"
           }
          ],
          "scatterpolar": [
           {
            "marker": {
             "colorbar": {
              "outlinewidth": 0,
              "ticks": ""
             }
            },
            "type": "scatterpolar"
           }
          ],
          "scatterpolargl": [
           {
            "marker": {
             "colorbar": {
              "outlinewidth": 0,
              "ticks": ""
             }
            },
            "type": "scatterpolargl"
           }
          ],
          "scatterternary": [
           {
            "marker": {
             "colorbar": {
              "outlinewidth": 0,
              "ticks": ""
             }
            },
            "type": "scatterternary"
           }
          ],
          "surface": [
           {
            "colorbar": {
             "outlinewidth": 0,
             "ticks": ""
            },
            "colorscale": [
             [
              0,
              "#0d0887"
             ],
             [
              0.1111111111111111,
              "#46039f"
             ],
             [
              0.2222222222222222,
              "#7201a8"
             ],
             [
              0.3333333333333333,
              "#9c179e"
             ],
             [
              0.4444444444444444,
              "#bd3786"
             ],
             [
              0.5555555555555556,
              "#d8576b"
             ],
             [
              0.6666666666666666,
              "#ed7953"
             ],
             [
              0.7777777777777778,
              "#fb9f3a"
             ],
             [
              0.8888888888888888,
              "#fdca26"
             ],
             [
              1,
              "#f0f921"
             ]
            ],
            "type": "surface"
           }
          ],
          "table": [
           {
            "cells": {
             "fill": {
              "color": "#EBF0F8"
             },
             "line": {
              "color": "white"
             }
            },
            "header": {
             "fill": {
              "color": "#C8D4E3"
             },
             "line": {
              "color": "white"
             }
            },
            "type": "table"
           }
          ]
         },
         "layout": {
          "annotationdefaults": {
           "arrowcolor": "#2a3f5f",
           "arrowhead": 0,
           "arrowwidth": 1
          },
          "autotypenumbers": "strict",
          "coloraxis": {
           "colorbar": {
            "outlinewidth": 0,
            "ticks": ""
           }
          },
          "colorscale": {
           "diverging": [
            [
             0,
             "#8e0152"
            ],
            [
             0.1,
             "#c51b7d"
            ],
            [
             0.2,
             "#de77ae"
            ],
            [
             0.3,
             "#f1b6da"
            ],
            [
             0.4,
             "#fde0ef"
            ],
            [
             0.5,
             "#f7f7f7"
            ],
            [
             0.6,
             "#e6f5d0"
            ],
            [
             0.7,
             "#b8e186"
            ],
            [
             0.8,
             "#7fbc41"
            ],
            [
             0.9,
             "#4d9221"
            ],
            [
             1,
             "#276419"
            ]
           ],
           "sequential": [
            [
             0,
             "#0d0887"
            ],
            [
             0.1111111111111111,
             "#46039f"
            ],
            [
             0.2222222222222222,
             "#7201a8"
            ],
            [
             0.3333333333333333,
             "#9c179e"
            ],
            [
             0.4444444444444444,
             "#bd3786"
            ],
            [
             0.5555555555555556,
             "#d8576b"
            ],
            [
             0.6666666666666666,
             "#ed7953"
            ],
            [
             0.7777777777777778,
             "#fb9f3a"
            ],
            [
             0.8888888888888888,
             "#fdca26"
            ],
            [
             1,
             "#f0f921"
            ]
           ],
           "sequentialminus": [
            [
             0,
             "#0d0887"
            ],
            [
             0.1111111111111111,
             "#46039f"
            ],
            [
             0.2222222222222222,
             "#7201a8"
            ],
            [
             0.3333333333333333,
             "#9c179e"
            ],
            [
             0.4444444444444444,
             "#bd3786"
            ],
            [
             0.5555555555555556,
             "#d8576b"
            ],
            [
             0.6666666666666666,
             "#ed7953"
            ],
            [
             0.7777777777777778,
             "#fb9f3a"
            ],
            [
             0.8888888888888888,
             "#fdca26"
            ],
            [
             1,
             "#f0f921"
            ]
           ]
          },
          "colorway": [
           "#636efa",
           "#EF553B",
           "#00cc96",
           "#ab63fa",
           "#FFA15A",
           "#19d3f3",
           "#FF6692",
           "#B6E880",
           "#FF97FF",
           "#FECB52"
          ],
          "font": {
           "color": "#2a3f5f"
          },
          "geo": {
           "bgcolor": "white",
           "lakecolor": "white",
           "landcolor": "#E5ECF6",
           "showlakes": true,
           "showland": true,
           "subunitcolor": "white"
          },
          "hoverlabel": {
           "align": "left"
          },
          "hovermode": "closest",
          "mapbox": {
           "style": "light"
          },
          "paper_bgcolor": "white",
          "plot_bgcolor": "#E5ECF6",
          "polar": {
           "angularaxis": {
            "gridcolor": "white",
            "linecolor": "white",
            "ticks": ""
           },
           "bgcolor": "#E5ECF6",
           "radialaxis": {
            "gridcolor": "white",
            "linecolor": "white",
            "ticks": ""
           }
          },
          "scene": {
           "xaxis": {
            "backgroundcolor": "#E5ECF6",
            "gridcolor": "white",
            "gridwidth": 2,
            "linecolor": "white",
            "showbackground": true,
            "ticks": "",
            "zerolinecolor": "white"
           },
           "yaxis": {
            "backgroundcolor": "#E5ECF6",
            "gridcolor": "white",
            "gridwidth": 2,
            "linecolor": "white",
            "showbackground": true,
            "ticks": "",
            "zerolinecolor": "white"
           },
           "zaxis": {
            "backgroundcolor": "#E5ECF6",
            "gridcolor": "white",
            "gridwidth": 2,
            "linecolor": "white",
            "showbackground": true,
            "ticks": "",
            "zerolinecolor": "white"
           }
          },
          "shapedefaults": {
           "line": {
            "color": "#2a3f5f"
           }
          },
          "ternary": {
           "aaxis": {
            "gridcolor": "white",
            "linecolor": "white",
            "ticks": ""
           },
           "baxis": {
            "gridcolor": "white",
            "linecolor": "white",
            "ticks": ""
           },
           "bgcolor": "#E5ECF6",
           "caxis": {
            "gridcolor": "white",
            "linecolor": "white",
            "ticks": ""
           }
          },
          "title": {
           "x": 0.05
          },
          "xaxis": {
           "automargin": true,
           "gridcolor": "white",
           "linecolor": "white",
           "ticks": "",
           "title": {
            "standoff": 15
           },
           "zerolinecolor": "white",
           "zerolinewidth": 2
          },
          "yaxis": {
           "automargin": true,
           "gridcolor": "white",
           "linecolor": "white",
           "ticks": "",
           "title": {
            "standoff": 15
           },
           "zerolinecolor": "white",
           "zerolinewidth": 2
          }
         }
        },
        "title": {
         "text": "Network Score vs UniProt Num for Gene KRAS"
        },
        "xaxis": {
         "anchor": "y",
         "domain": [
          0,
          1
         ],
         "title": {
          "text": "UniProt Number"
         }
        },
        "yaxis": {
         "anchor": "x",
         "domain": [
          0,
          1
         ],
         "title": {
          "text": "Network Score"
         }
        }
       }
      }
     },
     "metadata": {},
     "output_type": "display_data"
    }
   ],
   "source": [
    "import plotly.express as px\n",
    "\n",
    "# Sample data (replace with your actual data)\n",
    "gene = \"KRAS\"\n",
    "tmp = dat[dat['gene'] == gene].reset_index(drop=True)\n",
    "tmp.sort_values(\"uniprot_num\", inplace=True)\n",
    "\n",
    "# Filter data for the specified PDB IDs\n",
    "pdb_ids = ['6GOD', '6GOE', '6GOF']\n",
    "tmp = tmp[tmp['pdb_id'].isin(pdb_ids)].reset_index(drop=True)\n",
    "\n",
    "# Define legend labels\n",
    "legend_labels = {\n",
    "    '6GOD': '6GOD (wild type)',\n",
    "    '6GOE': '6GOE (G12V)',\n",
    "    '6GOF': '6GOF (G12D)'\n",
    "}\n",
    "\n",
    "# Plot\n",
    "fig = px.line(tmp, x='uniprot_num', y='network_score', color='pdb_id',\n",
    "              title='Network Score vs UniProt Num for Gene {}'.format(gene),\n",
    "              labels={'network_score': 'Network Score', 'uniprot_num': 'UniProt Number'},\n",
    "              hover_data=['pdb_id'])\n",
    "\n",
    "# Rename legend entries\n",
    "for i, pdb_id in enumerate(pdb_ids):\n",
    "    fig.data[i].name = legend_labels[pdb_id]\n",
    "\n",
    "fig.show()\n"
   ]
  },
  {
   "cell_type": "markdown",
   "metadata": {},
   "source": [
    "# tp53 analysis mutants vs wild type"
   ]
  },
  {
   "cell_type": "code",
   "execution_count": 12,
   "metadata": {},
   "outputs": [
    {
     "data": {
      "text/html": [
       "<div>\n",
       "<style scoped>\n",
       "    .dataframe tbody tr th:only-of-type {\n",
       "        vertical-align: middle;\n",
       "    }\n",
       "\n",
       "    .dataframe tbody tr th {\n",
       "        vertical-align: top;\n",
       "    }\n",
       "\n",
       "    .dataframe thead th {\n",
       "        text-align: right;\n",
       "    }\n",
       "</style>\n",
       "<table border=\"1\" class=\"dataframe\">\n",
       "  <thead>\n",
       "    <tr style=\"text-align: right;\">\n",
       "      <th></th>\n",
       "      <th>gene</th>\n",
       "      <th>pdb_id</th>\n",
       "      <th>chain</th>\n",
       "      <th>sbna_aa3</th>\n",
       "      <th>sbna_num</th>\n",
       "      <th>sbna_aa1</th>\n",
       "      <th>uniprot_num</th>\n",
       "      <th>uniprot_aa</th>\n",
       "      <th>network_score</th>\n",
       "      <th>SecondOrderIntermodularDegree_AVERAGE</th>\n",
       "      <th>NodeEdgeBetweennessSTRIDE_sidechain_MAX</th>\n",
       "      <th>LigandMULTIMERCENTROIDSC_MIN</th>\n",
       "      <th>mutant</th>\n",
       "      <th>mutations</th>\n",
       "      <th>cgc_tier</th>\n",
       "      <th>cancer_role</th>\n",
       "    </tr>\n",
       "  </thead>\n",
       "  <tbody>\n",
       "    <tr>\n",
       "      <th>50172</th>\n",
       "      <td>TP53</td>\n",
       "      <td>2OCJ</td>\n",
       "      <td>A</td>\n",
       "      <td>PHE</td>\n",
       "      <td>270</td>\n",
       "      <td>F</td>\n",
       "      <td>270</td>\n",
       "      <td>F</td>\n",
       "      <td>3.597299</td>\n",
       "      <td>1.067343</td>\n",
       "      <td>2.529955</td>\n",
       "      <td>0.000000</td>\n",
       "      <td>N</td>\n",
       "      <td>NaN</td>\n",
       "      <td>1</td>\n",
       "      <td>TSG</td>\n",
       "    </tr>\n",
       "    <tr>\n",
       "      <th>50173</th>\n",
       "      <td>TP53</td>\n",
       "      <td>2OCJ</td>\n",
       "      <td>A</td>\n",
       "      <td>GLU</td>\n",
       "      <td>271</td>\n",
       "      <td>E</td>\n",
       "      <td>271</td>\n",
       "      <td>E</td>\n",
       "      <td>0.527466</td>\n",
       "      <td>0.027699</td>\n",
       "      <td>0.499767</td>\n",
       "      <td>0.000000</td>\n",
       "      <td>N</td>\n",
       "      <td>NaN</td>\n",
       "      <td>1</td>\n",
       "      <td>TSG</td>\n",
       "    </tr>\n",
       "    <tr>\n",
       "      <th>50174</th>\n",
       "      <td>TP53</td>\n",
       "      <td>2OCJ</td>\n",
       "      <td>A</td>\n",
       "      <td>VAL</td>\n",
       "      <td>272</td>\n",
       "      <td>V</td>\n",
       "      <td>272</td>\n",
       "      <td>V</td>\n",
       "      <td>0.858813</td>\n",
       "      <td>1.130576</td>\n",
       "      <td>-0.271763</td>\n",
       "      <td>0.000000</td>\n",
       "      <td>N</td>\n",
       "      <td>NaN</td>\n",
       "      <td>1</td>\n",
       "      <td>TSG</td>\n",
       "    </tr>\n",
       "    <tr>\n",
       "      <th>50175</th>\n",
       "      <td>TP53</td>\n",
       "      <td>2OCJ</td>\n",
       "      <td>A</td>\n",
       "      <td>ARG</td>\n",
       "      <td>273</td>\n",
       "      <td>R</td>\n",
       "      <td>273</td>\n",
       "      <td>R</td>\n",
       "      <td>1.213013</td>\n",
       "      <td>0.363675</td>\n",
       "      <td>0.849337</td>\n",
       "      <td>0.000000</td>\n",
       "      <td>N</td>\n",
       "      <td>NaN</td>\n",
       "      <td>1</td>\n",
       "      <td>TSG</td>\n",
       "    </tr>\n",
       "    <tr>\n",
       "      <th>50176</th>\n",
       "      <td>TP53</td>\n",
       "      <td>2OCJ</td>\n",
       "      <td>A</td>\n",
       "      <td>VAL</td>\n",
       "      <td>274</td>\n",
       "      <td>V</td>\n",
       "      <td>274</td>\n",
       "      <td>V</td>\n",
       "      <td>9.133482</td>\n",
       "      <td>1.837869</td>\n",
       "      <td>7.295613</td>\n",
       "      <td>0.000000</td>\n",
       "      <td>N</td>\n",
       "      <td>NaN</td>\n",
       "      <td>1</td>\n",
       "      <td>TSG</td>\n",
       "    </tr>\n",
       "    <tr>\n",
       "      <th>50366</th>\n",
       "      <td>TP53</td>\n",
       "      <td>2OCJ</td>\n",
       "      <td>B</td>\n",
       "      <td>PHE</td>\n",
       "      <td>270</td>\n",
       "      <td>F</td>\n",
       "      <td>270</td>\n",
       "      <td>F</td>\n",
       "      <td>3.100208</td>\n",
       "      <td>1.067343</td>\n",
       "      <td>2.032865</td>\n",
       "      <td>0.000000</td>\n",
       "      <td>N</td>\n",
       "      <td>NaN</td>\n",
       "      <td>1</td>\n",
       "      <td>TSG</td>\n",
       "    </tr>\n",
       "    <tr>\n",
       "      <th>50367</th>\n",
       "      <td>TP53</td>\n",
       "      <td>2OCJ</td>\n",
       "      <td>B</td>\n",
       "      <td>GLU</td>\n",
       "      <td>271</td>\n",
       "      <td>E</td>\n",
       "      <td>271</td>\n",
       "      <td>E</td>\n",
       "      <td>0.081973</td>\n",
       "      <td>0.027699</td>\n",
       "      <td>0.054274</td>\n",
       "      <td>0.000000</td>\n",
       "      <td>N</td>\n",
       "      <td>NaN</td>\n",
       "      <td>1</td>\n",
       "      <td>TSG</td>\n",
       "    </tr>\n",
       "    <tr>\n",
       "      <th>50368</th>\n",
       "      <td>TP53</td>\n",
       "      <td>2OCJ</td>\n",
       "      <td>B</td>\n",
       "      <td>VAL</td>\n",
       "      <td>272</td>\n",
       "      <td>V</td>\n",
       "      <td>272</td>\n",
       "      <td>V</td>\n",
       "      <td>0.858813</td>\n",
       "      <td>1.130576</td>\n",
       "      <td>-0.271763</td>\n",
       "      <td>0.000000</td>\n",
       "      <td>N</td>\n",
       "      <td>NaN</td>\n",
       "      <td>1</td>\n",
       "      <td>TSG</td>\n",
       "    </tr>\n",
       "    <tr>\n",
       "      <th>50369</th>\n",
       "      <td>TP53</td>\n",
       "      <td>2OCJ</td>\n",
       "      <td>B</td>\n",
       "      <td>ARG</td>\n",
       "      <td>273</td>\n",
       "      <td>R</td>\n",
       "      <td>273</td>\n",
       "      <td>R</td>\n",
       "      <td>1.213013</td>\n",
       "      <td>0.363675</td>\n",
       "      <td>0.849337</td>\n",
       "      <td>0.000000</td>\n",
       "      <td>N</td>\n",
       "      <td>NaN</td>\n",
       "      <td>1</td>\n",
       "      <td>TSG</td>\n",
       "    </tr>\n",
       "    <tr>\n",
       "      <th>50370</th>\n",
       "      <td>TP53</td>\n",
       "      <td>2OCJ</td>\n",
       "      <td>B</td>\n",
       "      <td>VAL</td>\n",
       "      <td>274</td>\n",
       "      <td>V</td>\n",
       "      <td>274</td>\n",
       "      <td>V</td>\n",
       "      <td>9.133482</td>\n",
       "      <td>1.837869</td>\n",
       "      <td>7.295613</td>\n",
       "      <td>0.000000</td>\n",
       "      <td>N</td>\n",
       "      <td>NaN</td>\n",
       "      <td>1</td>\n",
       "      <td>TSG</td>\n",
       "    </tr>\n",
       "    <tr>\n",
       "      <th>50560</th>\n",
       "      <td>TP53</td>\n",
       "      <td>2OCJ</td>\n",
       "      <td>C</td>\n",
       "      <td>PHE</td>\n",
       "      <td>270</td>\n",
       "      <td>F</td>\n",
       "      <td>270</td>\n",
       "      <td>F</td>\n",
       "      <td>2.886580</td>\n",
       "      <td>1.067343</td>\n",
       "      <td>1.819237</td>\n",
       "      <td>0.000000</td>\n",
       "      <td>N</td>\n",
       "      <td>NaN</td>\n",
       "      <td>1</td>\n",
       "      <td>TSG</td>\n",
       "    </tr>\n",
       "    <tr>\n",
       "      <th>50561</th>\n",
       "      <td>TP53</td>\n",
       "      <td>2OCJ</td>\n",
       "      <td>C</td>\n",
       "      <td>GLU</td>\n",
       "      <td>271</td>\n",
       "      <td>E</td>\n",
       "      <td>271</td>\n",
       "      <td>E</td>\n",
       "      <td>0.439810</td>\n",
       "      <td>0.027699</td>\n",
       "      <td>0.412111</td>\n",
       "      <td>0.000000</td>\n",
       "      <td>N</td>\n",
       "      <td>NaN</td>\n",
       "      <td>1</td>\n",
       "      <td>TSG</td>\n",
       "    </tr>\n",
       "    <tr>\n",
       "      <th>50562</th>\n",
       "      <td>TP53</td>\n",
       "      <td>2OCJ</td>\n",
       "      <td>C</td>\n",
       "      <td>VAL</td>\n",
       "      <td>272</td>\n",
       "      <td>V</td>\n",
       "      <td>272</td>\n",
       "      <td>V</td>\n",
       "      <td>0.858813</td>\n",
       "      <td>1.130576</td>\n",
       "      <td>-0.271763</td>\n",
       "      <td>0.000000</td>\n",
       "      <td>N</td>\n",
       "      <td>NaN</td>\n",
       "      <td>1</td>\n",
       "      <td>TSG</td>\n",
       "    </tr>\n",
       "    <tr>\n",
       "      <th>50563</th>\n",
       "      <td>TP53</td>\n",
       "      <td>2OCJ</td>\n",
       "      <td>C</td>\n",
       "      <td>ARG</td>\n",
       "      <td>273</td>\n",
       "      <td>R</td>\n",
       "      <td>273</td>\n",
       "      <td>R</td>\n",
       "      <td>1.213013</td>\n",
       "      <td>0.363675</td>\n",
       "      <td>0.849337</td>\n",
       "      <td>0.000000</td>\n",
       "      <td>N</td>\n",
       "      <td>NaN</td>\n",
       "      <td>1</td>\n",
       "      <td>TSG</td>\n",
       "    </tr>\n",
       "    <tr>\n",
       "      <th>50564</th>\n",
       "      <td>TP53</td>\n",
       "      <td>2OCJ</td>\n",
       "      <td>C</td>\n",
       "      <td>VAL</td>\n",
       "      <td>274</td>\n",
       "      <td>V</td>\n",
       "      <td>274</td>\n",
       "      <td>V</td>\n",
       "      <td>9.133482</td>\n",
       "      <td>1.837869</td>\n",
       "      <td>7.295613</td>\n",
       "      <td>0.000000</td>\n",
       "      <td>N</td>\n",
       "      <td>NaN</td>\n",
       "      <td>1</td>\n",
       "      <td>TSG</td>\n",
       "    </tr>\n",
       "    <tr>\n",
       "      <th>50754</th>\n",
       "      <td>TP53</td>\n",
       "      <td>2OCJ</td>\n",
       "      <td>D</td>\n",
       "      <td>PHE</td>\n",
       "      <td>270</td>\n",
       "      <td>F</td>\n",
       "      <td>270</td>\n",
       "      <td>F</td>\n",
       "      <td>2.838350</td>\n",
       "      <td>1.067343</td>\n",
       "      <td>1.771007</td>\n",
       "      <td>0.000000</td>\n",
       "      <td>N</td>\n",
       "      <td>NaN</td>\n",
       "      <td>1</td>\n",
       "      <td>TSG</td>\n",
       "    </tr>\n",
       "    <tr>\n",
       "      <th>50755</th>\n",
       "      <td>TP53</td>\n",
       "      <td>2OCJ</td>\n",
       "      <td>D</td>\n",
       "      <td>GLU</td>\n",
       "      <td>271</td>\n",
       "      <td>E</td>\n",
       "      <td>271</td>\n",
       "      <td>E</td>\n",
       "      <td>0.314916</td>\n",
       "      <td>0.027699</td>\n",
       "      <td>0.287217</td>\n",
       "      <td>0.000000</td>\n",
       "      <td>N</td>\n",
       "      <td>NaN</td>\n",
       "      <td>1</td>\n",
       "      <td>TSG</td>\n",
       "    </tr>\n",
       "    <tr>\n",
       "      <th>50756</th>\n",
       "      <td>TP53</td>\n",
       "      <td>2OCJ</td>\n",
       "      <td>D</td>\n",
       "      <td>VAL</td>\n",
       "      <td>272</td>\n",
       "      <td>V</td>\n",
       "      <td>272</td>\n",
       "      <td>V</td>\n",
       "      <td>0.903826</td>\n",
       "      <td>1.130576</td>\n",
       "      <td>-0.226750</td>\n",
       "      <td>0.000000</td>\n",
       "      <td>N</td>\n",
       "      <td>NaN</td>\n",
       "      <td>1</td>\n",
       "      <td>TSG</td>\n",
       "    </tr>\n",
       "    <tr>\n",
       "      <th>50757</th>\n",
       "      <td>TP53</td>\n",
       "      <td>2OCJ</td>\n",
       "      <td>D</td>\n",
       "      <td>ARG</td>\n",
       "      <td>273</td>\n",
       "      <td>R</td>\n",
       "      <td>273</td>\n",
       "      <td>R</td>\n",
       "      <td>1.213013</td>\n",
       "      <td>0.363675</td>\n",
       "      <td>0.849337</td>\n",
       "      <td>0.000000</td>\n",
       "      <td>N</td>\n",
       "      <td>NaN</td>\n",
       "      <td>1</td>\n",
       "      <td>TSG</td>\n",
       "    </tr>\n",
       "    <tr>\n",
       "      <th>50758</th>\n",
       "      <td>TP53</td>\n",
       "      <td>2OCJ</td>\n",
       "      <td>D</td>\n",
       "      <td>VAL</td>\n",
       "      <td>274</td>\n",
       "      <td>V</td>\n",
       "      <td>274</td>\n",
       "      <td>V</td>\n",
       "      <td>9.133482</td>\n",
       "      <td>1.837869</td>\n",
       "      <td>7.295613</td>\n",
       "      <td>0.000000</td>\n",
       "      <td>N</td>\n",
       "      <td>NaN</td>\n",
       "      <td>1</td>\n",
       "      <td>TSG</td>\n",
       "    </tr>\n",
       "    <tr>\n",
       "      <th>52500</th>\n",
       "      <td>TP53</td>\n",
       "      <td>4IBS</td>\n",
       "      <td>A</td>\n",
       "      <td>PHE</td>\n",
       "      <td>270</td>\n",
       "      <td>F</td>\n",
       "      <td>270</td>\n",
       "      <td>F</td>\n",
       "      <td>3.415783</td>\n",
       "      <td>0.887232</td>\n",
       "      <td>0.551544</td>\n",
       "      <td>-1.977007</td>\n",
       "      <td>Y</td>\n",
       "      <td>R273H</td>\n",
       "      <td>1</td>\n",
       "      <td>TSG</td>\n",
       "    </tr>\n",
       "    <tr>\n",
       "      <th>52501</th>\n",
       "      <td>TP53</td>\n",
       "      <td>4IBS</td>\n",
       "      <td>A</td>\n",
       "      <td>GLU</td>\n",
       "      <td>271</td>\n",
       "      <td>E</td>\n",
       "      <td>271</td>\n",
       "      <td>E</td>\n",
       "      <td>2.670815</td>\n",
       "      <td>-0.058224</td>\n",
       "      <td>0.908988</td>\n",
       "      <td>-1.820051</td>\n",
       "      <td>Y</td>\n",
       "      <td>R273H</td>\n",
       "      <td>1</td>\n",
       "      <td>TSG</td>\n",
       "    </tr>\n",
       "    <tr>\n",
       "      <th>52502</th>\n",
       "      <td>TP53</td>\n",
       "      <td>4IBS</td>\n",
       "      <td>A</td>\n",
       "      <td>VAL</td>\n",
       "      <td>272</td>\n",
       "      <td>V</td>\n",
       "      <td>272</td>\n",
       "      <td>V</td>\n",
       "      <td>3.710058</td>\n",
       "      <td>0.941911</td>\n",
       "      <td>1.037775</td>\n",
       "      <td>-1.730373</td>\n",
       "      <td>Y</td>\n",
       "      <td>R273H</td>\n",
       "      <td>1</td>\n",
       "      <td>TSG</td>\n",
       "    </tr>\n",
       "    <tr>\n",
       "      <th>52503</th>\n",
       "      <td>TP53</td>\n",
       "      <td>4IBS</td>\n",
       "      <td>A</td>\n",
       "      <td>HIS</td>\n",
       "      <td>273</td>\n",
       "      <td>H</td>\n",
       "      <td>273</td>\n",
       "      <td>R</td>\n",
       "      <td>2.181209</td>\n",
       "      <td>0.178077</td>\n",
       "      <td>0.545769</td>\n",
       "      <td>-1.457363</td>\n",
       "      <td>Y</td>\n",
       "      <td>R273H</td>\n",
       "      <td>1</td>\n",
       "      <td>TSG</td>\n",
       "    </tr>\n",
       "    <tr>\n",
       "      <th>52504</th>\n",
       "      <td>TP53</td>\n",
       "      <td>4IBS</td>\n",
       "      <td>A</td>\n",
       "      <td>VAL</td>\n",
       "      <td>274</td>\n",
       "      <td>V</td>\n",
       "      <td>274</td>\n",
       "      <td>V</td>\n",
       "      <td>7.143282</td>\n",
       "      <td>1.782689</td>\n",
       "      <td>3.948611</td>\n",
       "      <td>-1.411982</td>\n",
       "      <td>Y</td>\n",
       "      <td>R273H</td>\n",
       "      <td>1</td>\n",
       "      <td>TSG</td>\n",
       "    </tr>\n",
       "    <tr>\n",
       "      <th>52694</th>\n",
       "      <td>TP53</td>\n",
       "      <td>4IBS</td>\n",
       "      <td>B</td>\n",
       "      <td>PHE</td>\n",
       "      <td>270</td>\n",
       "      <td>F</td>\n",
       "      <td>270</td>\n",
       "      <td>F</td>\n",
       "      <td>5.547676</td>\n",
       "      <td>0.887232</td>\n",
       "      <td>2.683437</td>\n",
       "      <td>-1.977007</td>\n",
       "      <td>Y</td>\n",
       "      <td>R273H</td>\n",
       "      <td>1</td>\n",
       "      <td>TSG</td>\n",
       "    </tr>\n",
       "    <tr>\n",
       "      <th>52695</th>\n",
       "      <td>TP53</td>\n",
       "      <td>4IBS</td>\n",
       "      <td>B</td>\n",
       "      <td>GLU</td>\n",
       "      <td>271</td>\n",
       "      <td>E</td>\n",
       "      <td>271</td>\n",
       "      <td>E</td>\n",
       "      <td>2.339978</td>\n",
       "      <td>-0.058224</td>\n",
       "      <td>0.578151</td>\n",
       "      <td>-1.820051</td>\n",
       "      <td>Y</td>\n",
       "      <td>R273H</td>\n",
       "      <td>1</td>\n",
       "      <td>TSG</td>\n",
       "    </tr>\n",
       "    <tr>\n",
       "      <th>52696</th>\n",
       "      <td>TP53</td>\n",
       "      <td>4IBS</td>\n",
       "      <td>B</td>\n",
       "      <td>VAL</td>\n",
       "      <td>272</td>\n",
       "      <td>V</td>\n",
       "      <td>272</td>\n",
       "      <td>V</td>\n",
       "      <td>2.797435</td>\n",
       "      <td>0.941911</td>\n",
       "      <td>0.125151</td>\n",
       "      <td>-1.730373</td>\n",
       "      <td>Y</td>\n",
       "      <td>R273H</td>\n",
       "      <td>1</td>\n",
       "      <td>TSG</td>\n",
       "    </tr>\n",
       "    <tr>\n",
       "      <th>52697</th>\n",
       "      <td>TP53</td>\n",
       "      <td>4IBS</td>\n",
       "      <td>B</td>\n",
       "      <td>HIS</td>\n",
       "      <td>273</td>\n",
       "      <td>H</td>\n",
       "      <td>273</td>\n",
       "      <td>R</td>\n",
       "      <td>2.119421</td>\n",
       "      <td>0.178077</td>\n",
       "      <td>0.483981</td>\n",
       "      <td>-1.457363</td>\n",
       "      <td>Y</td>\n",
       "      <td>R273H</td>\n",
       "      <td>1</td>\n",
       "      <td>TSG</td>\n",
       "    </tr>\n",
       "    <tr>\n",
       "      <th>52698</th>\n",
       "      <td>TP53</td>\n",
       "      <td>4IBS</td>\n",
       "      <td>B</td>\n",
       "      <td>VAL</td>\n",
       "      <td>274</td>\n",
       "      <td>V</td>\n",
       "      <td>274</td>\n",
       "      <td>V</td>\n",
       "      <td>7.143282</td>\n",
       "      <td>1.782689</td>\n",
       "      <td>3.948611</td>\n",
       "      <td>-1.411982</td>\n",
       "      <td>Y</td>\n",
       "      <td>R273H</td>\n",
       "      <td>1</td>\n",
       "      <td>TSG</td>\n",
       "    </tr>\n",
       "    <tr>\n",
       "      <th>52888</th>\n",
       "      <td>TP53</td>\n",
       "      <td>4IBS</td>\n",
       "      <td>C</td>\n",
       "      <td>PHE</td>\n",
       "      <td>270</td>\n",
       "      <td>F</td>\n",
       "      <td>270</td>\n",
       "      <td>F</td>\n",
       "      <td>4.561474</td>\n",
       "      <td>0.887232</td>\n",
       "      <td>1.697235</td>\n",
       "      <td>-1.977007</td>\n",
       "      <td>Y</td>\n",
       "      <td>R273H</td>\n",
       "      <td>1</td>\n",
       "      <td>TSG</td>\n",
       "    </tr>\n",
       "    <tr>\n",
       "      <th>52889</th>\n",
       "      <td>TP53</td>\n",
       "      <td>4IBS</td>\n",
       "      <td>C</td>\n",
       "      <td>GLU</td>\n",
       "      <td>271</td>\n",
       "      <td>E</td>\n",
       "      <td>271</td>\n",
       "      <td>E</td>\n",
       "      <td>2.527329</td>\n",
       "      <td>-0.058224</td>\n",
       "      <td>0.765501</td>\n",
       "      <td>-1.820051</td>\n",
       "      <td>Y</td>\n",
       "      <td>R273H</td>\n",
       "      <td>1</td>\n",
       "      <td>TSG</td>\n",
       "    </tr>\n",
       "    <tr>\n",
       "      <th>52890</th>\n",
       "      <td>TP53</td>\n",
       "      <td>4IBS</td>\n",
       "      <td>C</td>\n",
       "      <td>VAL</td>\n",
       "      <td>272</td>\n",
       "      <td>V</td>\n",
       "      <td>272</td>\n",
       "      <td>V</td>\n",
       "      <td>4.593669</td>\n",
       "      <td>0.941911</td>\n",
       "      <td>1.921386</td>\n",
       "      <td>-1.730373</td>\n",
       "      <td>Y</td>\n",
       "      <td>R273H</td>\n",
       "      <td>1</td>\n",
       "      <td>TSG</td>\n",
       "    </tr>\n",
       "    <tr>\n",
       "      <th>52891</th>\n",
       "      <td>TP53</td>\n",
       "      <td>4IBS</td>\n",
       "      <td>C</td>\n",
       "      <td>HIS</td>\n",
       "      <td>273</td>\n",
       "      <td>H</td>\n",
       "      <td>273</td>\n",
       "      <td>R</td>\n",
       "      <td>2.119421</td>\n",
       "      <td>0.178077</td>\n",
       "      <td>0.483981</td>\n",
       "      <td>-1.457363</td>\n",
       "      <td>Y</td>\n",
       "      <td>R273H</td>\n",
       "      <td>1</td>\n",
       "      <td>TSG</td>\n",
       "    </tr>\n",
       "    <tr>\n",
       "      <th>52892</th>\n",
       "      <td>TP53</td>\n",
       "      <td>4IBS</td>\n",
       "      <td>C</td>\n",
       "      <td>VAL</td>\n",
       "      <td>274</td>\n",
       "      <td>V</td>\n",
       "      <td>274</td>\n",
       "      <td>V</td>\n",
       "      <td>7.143282</td>\n",
       "      <td>1.782689</td>\n",
       "      <td>3.948611</td>\n",
       "      <td>-1.411982</td>\n",
       "      <td>Y</td>\n",
       "      <td>R273H</td>\n",
       "      <td>1</td>\n",
       "      <td>TSG</td>\n",
       "    </tr>\n",
       "    <tr>\n",
       "      <th>53082</th>\n",
       "      <td>TP53</td>\n",
       "      <td>4IBS</td>\n",
       "      <td>D</td>\n",
       "      <td>PHE</td>\n",
       "      <td>270</td>\n",
       "      <td>F</td>\n",
       "      <td>270</td>\n",
       "      <td>F</td>\n",
       "      <td>3.608525</td>\n",
       "      <td>0.887232</td>\n",
       "      <td>0.744286</td>\n",
       "      <td>-1.977007</td>\n",
       "      <td>Y</td>\n",
       "      <td>R273H</td>\n",
       "      <td>1</td>\n",
       "      <td>TSG</td>\n",
       "    </tr>\n",
       "    <tr>\n",
       "      <th>53083</th>\n",
       "      <td>TP53</td>\n",
       "      <td>4IBS</td>\n",
       "      <td>D</td>\n",
       "      <td>GLU</td>\n",
       "      <td>271</td>\n",
       "      <td>E</td>\n",
       "      <td>271</td>\n",
       "      <td>E</td>\n",
       "      <td>2.027233</td>\n",
       "      <td>-0.058224</td>\n",
       "      <td>0.265405</td>\n",
       "      <td>-1.820051</td>\n",
       "      <td>Y</td>\n",
       "      <td>R273H</td>\n",
       "      <td>1</td>\n",
       "      <td>TSG</td>\n",
       "    </tr>\n",
       "    <tr>\n",
       "      <th>53084</th>\n",
       "      <td>TP53</td>\n",
       "      <td>4IBS</td>\n",
       "      <td>D</td>\n",
       "      <td>VAL</td>\n",
       "      <td>272</td>\n",
       "      <td>V</td>\n",
       "      <td>272</td>\n",
       "      <td>V</td>\n",
       "      <td>2.797435</td>\n",
       "      <td>0.941911</td>\n",
       "      <td>0.125151</td>\n",
       "      <td>-1.730373</td>\n",
       "      <td>Y</td>\n",
       "      <td>R273H</td>\n",
       "      <td>1</td>\n",
       "      <td>TSG</td>\n",
       "    </tr>\n",
       "    <tr>\n",
       "      <th>53085</th>\n",
       "      <td>TP53</td>\n",
       "      <td>4IBS</td>\n",
       "      <td>D</td>\n",
       "      <td>HIS</td>\n",
       "      <td>273</td>\n",
       "      <td>H</td>\n",
       "      <td>273</td>\n",
       "      <td>R</td>\n",
       "      <td>2.182679</td>\n",
       "      <td>0.178077</td>\n",
       "      <td>0.547239</td>\n",
       "      <td>-1.457363</td>\n",
       "      <td>Y</td>\n",
       "      <td>R273H</td>\n",
       "      <td>1</td>\n",
       "      <td>TSG</td>\n",
       "    </tr>\n",
       "    <tr>\n",
       "      <th>53086</th>\n",
       "      <td>TP53</td>\n",
       "      <td>4IBS</td>\n",
       "      <td>D</td>\n",
       "      <td>VAL</td>\n",
       "      <td>274</td>\n",
       "      <td>V</td>\n",
       "      <td>274</td>\n",
       "      <td>V</td>\n",
       "      <td>7.574872</td>\n",
       "      <td>1.782689</td>\n",
       "      <td>4.380200</td>\n",
       "      <td>-1.411982</td>\n",
       "      <td>Y</td>\n",
       "      <td>R273H</td>\n",
       "      <td>1</td>\n",
       "      <td>TSG</td>\n",
       "    </tr>\n",
       "    <tr>\n",
       "      <th>54824</th>\n",
       "      <td>TP53</td>\n",
       "      <td>7V97</td>\n",
       "      <td>A</td>\n",
       "      <td>PHE</td>\n",
       "      <td>270</td>\n",
       "      <td>F</td>\n",
       "      <td>270</td>\n",
       "      <td>F</td>\n",
       "      <td>3.497339</td>\n",
       "      <td>0.978308</td>\n",
       "      <td>1.050313</td>\n",
       "      <td>-1.468718</td>\n",
       "      <td>Y</td>\n",
       "      <td>V272M</td>\n",
       "      <td>1</td>\n",
       "      <td>TSG</td>\n",
       "    </tr>\n",
       "    <tr>\n",
       "      <th>54825</th>\n",
       "      <td>TP53</td>\n",
       "      <td>7V97</td>\n",
       "      <td>A</td>\n",
       "      <td>GLU</td>\n",
       "      <td>271</td>\n",
       "      <td>E</td>\n",
       "      <td>271</td>\n",
       "      <td>E</td>\n",
       "      <td>2.953799</td>\n",
       "      <td>0.190260</td>\n",
       "      <td>2.025363</td>\n",
       "      <td>-0.738176</td>\n",
       "      <td>Y</td>\n",
       "      <td>V272M</td>\n",
       "      <td>1</td>\n",
       "      <td>TSG</td>\n",
       "    </tr>\n",
       "    <tr>\n",
       "      <th>54826</th>\n",
       "      <td>TP53</td>\n",
       "      <td>7V97</td>\n",
       "      <td>A</td>\n",
       "      <td>MET</td>\n",
       "      <td>272</td>\n",
       "      <td>M</td>\n",
       "      <td>272</td>\n",
       "      <td>V</td>\n",
       "      <td>3.744818</td>\n",
       "      <td>1.055397</td>\n",
       "      <td>0.774364</td>\n",
       "      <td>-1.915057</td>\n",
       "      <td>Y</td>\n",
       "      <td>V272M</td>\n",
       "      <td>1</td>\n",
       "      <td>TSG</td>\n",
       "    </tr>\n",
       "    <tr>\n",
       "      <th>54827</th>\n",
       "      <td>TP53</td>\n",
       "      <td>7V97</td>\n",
       "      <td>A</td>\n",
       "      <td>ARG</td>\n",
       "      <td>273</td>\n",
       "      <td>R</td>\n",
       "      <td>273</td>\n",
       "      <td>R</td>\n",
       "      <td>2.364878</td>\n",
       "      <td>0.240747</td>\n",
       "      <td>1.137576</td>\n",
       "      <td>-0.986555</td>\n",
       "      <td>Y</td>\n",
       "      <td>V272M</td>\n",
       "      <td>1</td>\n",
       "      <td>TSG</td>\n",
       "    </tr>\n",
       "    <tr>\n",
       "      <th>54828</th>\n",
       "      <td>TP53</td>\n",
       "      <td>7V97</td>\n",
       "      <td>A</td>\n",
       "      <td>VAL</td>\n",
       "      <td>274</td>\n",
       "      <td>V</td>\n",
       "      <td>274</td>\n",
       "      <td>V</td>\n",
       "      <td>9.228470</td>\n",
       "      <td>1.766361</td>\n",
       "      <td>5.857825</td>\n",
       "      <td>-1.604284</td>\n",
       "      <td>Y</td>\n",
       "      <td>V272M</td>\n",
       "      <td>1</td>\n",
       "      <td>TSG</td>\n",
       "    </tr>\n",
       "    <tr>\n",
       "      <th>55018</th>\n",
       "      <td>TP53</td>\n",
       "      <td>7V97</td>\n",
       "      <td>B</td>\n",
       "      <td>PHE</td>\n",
       "      <td>270</td>\n",
       "      <td>F</td>\n",
       "      <td>270</td>\n",
       "      <td>F</td>\n",
       "      <td>4.502016</td>\n",
       "      <td>0.978308</td>\n",
       "      <td>2.054990</td>\n",
       "      <td>-1.468718</td>\n",
       "      <td>Y</td>\n",
       "      <td>V272M</td>\n",
       "      <td>1</td>\n",
       "      <td>TSG</td>\n",
       "    </tr>\n",
       "    <tr>\n",
       "      <th>55019</th>\n",
       "      <td>TP53</td>\n",
       "      <td>7V97</td>\n",
       "      <td>B</td>\n",
       "      <td>GLU</td>\n",
       "      <td>271</td>\n",
       "      <td>E</td>\n",
       "      <td>271</td>\n",
       "      <td>E</td>\n",
       "      <td>2.953799</td>\n",
       "      <td>0.190260</td>\n",
       "      <td>2.025363</td>\n",
       "      <td>-0.738176</td>\n",
       "      <td>Y</td>\n",
       "      <td>V272M</td>\n",
       "      <td>1</td>\n",
       "      <td>TSG</td>\n",
       "    </tr>\n",
       "    <tr>\n",
       "      <th>55020</th>\n",
       "      <td>TP53</td>\n",
       "      <td>7V97</td>\n",
       "      <td>B</td>\n",
       "      <td>MET</td>\n",
       "      <td>272</td>\n",
       "      <td>M</td>\n",
       "      <td>272</td>\n",
       "      <td>V</td>\n",
       "      <td>4.604579</td>\n",
       "      <td>1.055397</td>\n",
       "      <td>1.634125</td>\n",
       "      <td>-1.915057</td>\n",
       "      <td>Y</td>\n",
       "      <td>V272M</td>\n",
       "      <td>1</td>\n",
       "      <td>TSG</td>\n",
       "    </tr>\n",
       "    <tr>\n",
       "      <th>55021</th>\n",
       "      <td>TP53</td>\n",
       "      <td>7V97</td>\n",
       "      <td>B</td>\n",
       "      <td>ARG</td>\n",
       "      <td>273</td>\n",
       "      <td>R</td>\n",
       "      <td>273</td>\n",
       "      <td>R</td>\n",
       "      <td>3.410852</td>\n",
       "      <td>0.240747</td>\n",
       "      <td>2.183550</td>\n",
       "      <td>-0.986555</td>\n",
       "      <td>Y</td>\n",
       "      <td>V272M</td>\n",
       "      <td>1</td>\n",
       "      <td>TSG</td>\n",
       "    </tr>\n",
       "    <tr>\n",
       "      <th>55022</th>\n",
       "      <td>TP53</td>\n",
       "      <td>7V97</td>\n",
       "      <td>B</td>\n",
       "      <td>VAL</td>\n",
       "      <td>274</td>\n",
       "      <td>V</td>\n",
       "      <td>274</td>\n",
       "      <td>V</td>\n",
       "      <td>5.681924</td>\n",
       "      <td>1.766361</td>\n",
       "      <td>2.311280</td>\n",
       "      <td>-1.604284</td>\n",
       "      <td>Y</td>\n",
       "      <td>V272M</td>\n",
       "      <td>1</td>\n",
       "      <td>TSG</td>\n",
       "    </tr>\n",
       "    <tr>\n",
       "      <th>55212</th>\n",
       "      <td>TP53</td>\n",
       "      <td>7V97</td>\n",
       "      <td>C</td>\n",
       "      <td>PHE</td>\n",
       "      <td>270</td>\n",
       "      <td>F</td>\n",
       "      <td>270</td>\n",
       "      <td>F</td>\n",
       "      <td>3.063388</td>\n",
       "      <td>0.978308</td>\n",
       "      <td>0.616362</td>\n",
       "      <td>-1.468718</td>\n",
       "      <td>Y</td>\n",
       "      <td>V272M</td>\n",
       "      <td>1</td>\n",
       "      <td>TSG</td>\n",
       "    </tr>\n",
       "    <tr>\n",
       "      <th>55213</th>\n",
       "      <td>TP53</td>\n",
       "      <td>7V97</td>\n",
       "      <td>C</td>\n",
       "      <td>GLU</td>\n",
       "      <td>271</td>\n",
       "      <td>E</td>\n",
       "      <td>271</td>\n",
       "      <td>E</td>\n",
       "      <td>2.953799</td>\n",
       "      <td>0.190260</td>\n",
       "      <td>2.025363</td>\n",
       "      <td>-0.738176</td>\n",
       "      <td>Y</td>\n",
       "      <td>V272M</td>\n",
       "      <td>1</td>\n",
       "      <td>TSG</td>\n",
       "    </tr>\n",
       "    <tr>\n",
       "      <th>55214</th>\n",
       "      <td>TP53</td>\n",
       "      <td>7V97</td>\n",
       "      <td>C</td>\n",
       "      <td>MET</td>\n",
       "      <td>272</td>\n",
       "      <td>M</td>\n",
       "      <td>272</td>\n",
       "      <td>V</td>\n",
       "      <td>3.427314</td>\n",
       "      <td>1.055397</td>\n",
       "      <td>0.456860</td>\n",
       "      <td>-1.915057</td>\n",
       "      <td>Y</td>\n",
       "      <td>V272M</td>\n",
       "      <td>1</td>\n",
       "      <td>TSG</td>\n",
       "    </tr>\n",
       "    <tr>\n",
       "      <th>55215</th>\n",
       "      <td>TP53</td>\n",
       "      <td>7V97</td>\n",
       "      <td>C</td>\n",
       "      <td>ARG</td>\n",
       "      <td>273</td>\n",
       "      <td>R</td>\n",
       "      <td>273</td>\n",
       "      <td>R</td>\n",
       "      <td>2.476190</td>\n",
       "      <td>0.240747</td>\n",
       "      <td>1.248888</td>\n",
       "      <td>-0.986555</td>\n",
       "      <td>Y</td>\n",
       "      <td>V272M</td>\n",
       "      <td>1</td>\n",
       "      <td>TSG</td>\n",
       "    </tr>\n",
       "    <tr>\n",
       "      <th>55216</th>\n",
       "      <td>TP53</td>\n",
       "      <td>7V97</td>\n",
       "      <td>C</td>\n",
       "      <td>VAL</td>\n",
       "      <td>274</td>\n",
       "      <td>V</td>\n",
       "      <td>274</td>\n",
       "      <td>V</td>\n",
       "      <td>5.971699</td>\n",
       "      <td>1.766361</td>\n",
       "      <td>2.601054</td>\n",
       "      <td>-1.604284</td>\n",
       "      <td>Y</td>\n",
       "      <td>V272M</td>\n",
       "      <td>1</td>\n",
       "      <td>TSG</td>\n",
       "    </tr>\n",
       "    <tr>\n",
       "      <th>55406</th>\n",
       "      <td>TP53</td>\n",
       "      <td>7V97</td>\n",
       "      <td>D</td>\n",
       "      <td>PHE</td>\n",
       "      <td>270</td>\n",
       "      <td>F</td>\n",
       "      <td>270</td>\n",
       "      <td>F</td>\n",
       "      <td>3.580638</td>\n",
       "      <td>0.978308</td>\n",
       "      <td>1.133612</td>\n",
       "      <td>-1.468718</td>\n",
       "      <td>Y</td>\n",
       "      <td>V272M</td>\n",
       "      <td>1</td>\n",
       "      <td>TSG</td>\n",
       "    </tr>\n",
       "    <tr>\n",
       "      <th>55407</th>\n",
       "      <td>TP53</td>\n",
       "      <td>7V97</td>\n",
       "      <td>D</td>\n",
       "      <td>GLU</td>\n",
       "      <td>271</td>\n",
       "      <td>E</td>\n",
       "      <td>271</td>\n",
       "      <td>E</td>\n",
       "      <td>2.953799</td>\n",
       "      <td>0.190260</td>\n",
       "      <td>2.025363</td>\n",
       "      <td>-0.738176</td>\n",
       "      <td>Y</td>\n",
       "      <td>V272M</td>\n",
       "      <td>1</td>\n",
       "      <td>TSG</td>\n",
       "    </tr>\n",
       "    <tr>\n",
       "      <th>55408</th>\n",
       "      <td>TP53</td>\n",
       "      <td>7V97</td>\n",
       "      <td>D</td>\n",
       "      <td>MET</td>\n",
       "      <td>272</td>\n",
       "      <td>M</td>\n",
       "      <td>272</td>\n",
       "      <td>V</td>\n",
       "      <td>3.427314</td>\n",
       "      <td>1.055397</td>\n",
       "      <td>0.456860</td>\n",
       "      <td>-1.915057</td>\n",
       "      <td>Y</td>\n",
       "      <td>V272M</td>\n",
       "      <td>1</td>\n",
       "      <td>TSG</td>\n",
       "    </tr>\n",
       "    <tr>\n",
       "      <th>55409</th>\n",
       "      <td>TP53</td>\n",
       "      <td>7V97</td>\n",
       "      <td>D</td>\n",
       "      <td>ARG</td>\n",
       "      <td>273</td>\n",
       "      <td>R</td>\n",
       "      <td>273</td>\n",
       "      <td>R</td>\n",
       "      <td>2.062919</td>\n",
       "      <td>0.240747</td>\n",
       "      <td>0.835617</td>\n",
       "      <td>-0.986555</td>\n",
       "      <td>Y</td>\n",
       "      <td>V272M</td>\n",
       "      <td>1</td>\n",
       "      <td>TSG</td>\n",
       "    </tr>\n",
       "    <tr>\n",
       "      <th>55410</th>\n",
       "      <td>TP53</td>\n",
       "      <td>7V97</td>\n",
       "      <td>D</td>\n",
       "      <td>VAL</td>\n",
       "      <td>274</td>\n",
       "      <td>V</td>\n",
       "      <td>274</td>\n",
       "      <td>V</td>\n",
       "      <td>8.015009</td>\n",
       "      <td>1.766361</td>\n",
       "      <td>4.644364</td>\n",
       "      <td>-1.604284</td>\n",
       "      <td>Y</td>\n",
       "      <td>V272M</td>\n",
       "      <td>1</td>\n",
       "      <td>TSG</td>\n",
       "    </tr>\n",
       "  </tbody>\n",
       "</table>\n",
       "</div>"
      ],
      "text/plain": [
       "       gene pdb_id chain sbna_aa3  sbna_num sbna_aa1 uniprot_num uniprot_aa  \\\n",
       "50172  TP53   2OCJ     A      PHE       270        F         270          F   \n",
       "50173  TP53   2OCJ     A      GLU       271        E         271          E   \n",
       "50174  TP53   2OCJ     A      VAL       272        V         272          V   \n",
       "50175  TP53   2OCJ     A      ARG       273        R         273          R   \n",
       "50176  TP53   2OCJ     A      VAL       274        V         274          V   \n",
       "50366  TP53   2OCJ     B      PHE       270        F         270          F   \n",
       "50367  TP53   2OCJ     B      GLU       271        E         271          E   \n",
       "50368  TP53   2OCJ     B      VAL       272        V         272          V   \n",
       "50369  TP53   2OCJ     B      ARG       273        R         273          R   \n",
       "50370  TP53   2OCJ     B      VAL       274        V         274          V   \n",
       "50560  TP53   2OCJ     C      PHE       270        F         270          F   \n",
       "50561  TP53   2OCJ     C      GLU       271        E         271          E   \n",
       "50562  TP53   2OCJ     C      VAL       272        V         272          V   \n",
       "50563  TP53   2OCJ     C      ARG       273        R         273          R   \n",
       "50564  TP53   2OCJ     C      VAL       274        V         274          V   \n",
       "50754  TP53   2OCJ     D      PHE       270        F         270          F   \n",
       "50755  TP53   2OCJ     D      GLU       271        E         271          E   \n",
       "50756  TP53   2OCJ     D      VAL       272        V         272          V   \n",
       "50757  TP53   2OCJ     D      ARG       273        R         273          R   \n",
       "50758  TP53   2OCJ     D      VAL       274        V         274          V   \n",
       "52500  TP53   4IBS     A      PHE       270        F         270          F   \n",
       "52501  TP53   4IBS     A      GLU       271        E         271          E   \n",
       "52502  TP53   4IBS     A      VAL       272        V         272          V   \n",
       "52503  TP53   4IBS     A      HIS       273        H         273          R   \n",
       "52504  TP53   4IBS     A      VAL       274        V         274          V   \n",
       "52694  TP53   4IBS     B      PHE       270        F         270          F   \n",
       "52695  TP53   4IBS     B      GLU       271        E         271          E   \n",
       "52696  TP53   4IBS     B      VAL       272        V         272          V   \n",
       "52697  TP53   4IBS     B      HIS       273        H         273          R   \n",
       "52698  TP53   4IBS     B      VAL       274        V         274          V   \n",
       "52888  TP53   4IBS     C      PHE       270        F         270          F   \n",
       "52889  TP53   4IBS     C      GLU       271        E         271          E   \n",
       "52890  TP53   4IBS     C      VAL       272        V         272          V   \n",
       "52891  TP53   4IBS     C      HIS       273        H         273          R   \n",
       "52892  TP53   4IBS     C      VAL       274        V         274          V   \n",
       "53082  TP53   4IBS     D      PHE       270        F         270          F   \n",
       "53083  TP53   4IBS     D      GLU       271        E         271          E   \n",
       "53084  TP53   4IBS     D      VAL       272        V         272          V   \n",
       "53085  TP53   4IBS     D      HIS       273        H         273          R   \n",
       "53086  TP53   4IBS     D      VAL       274        V         274          V   \n",
       "54824  TP53   7V97     A      PHE       270        F         270          F   \n",
       "54825  TP53   7V97     A      GLU       271        E         271          E   \n",
       "54826  TP53   7V97     A      MET       272        M         272          V   \n",
       "54827  TP53   7V97     A      ARG       273        R         273          R   \n",
       "54828  TP53   7V97     A      VAL       274        V         274          V   \n",
       "55018  TP53   7V97     B      PHE       270        F         270          F   \n",
       "55019  TP53   7V97     B      GLU       271        E         271          E   \n",
       "55020  TP53   7V97     B      MET       272        M         272          V   \n",
       "55021  TP53   7V97     B      ARG       273        R         273          R   \n",
       "55022  TP53   7V97     B      VAL       274        V         274          V   \n",
       "55212  TP53   7V97     C      PHE       270        F         270          F   \n",
       "55213  TP53   7V97     C      GLU       271        E         271          E   \n",
       "55214  TP53   7V97     C      MET       272        M         272          V   \n",
       "55215  TP53   7V97     C      ARG       273        R         273          R   \n",
       "55216  TP53   7V97     C      VAL       274        V         274          V   \n",
       "55406  TP53   7V97     D      PHE       270        F         270          F   \n",
       "55407  TP53   7V97     D      GLU       271        E         271          E   \n",
       "55408  TP53   7V97     D      MET       272        M         272          V   \n",
       "55409  TP53   7V97     D      ARG       273        R         273          R   \n",
       "55410  TP53   7V97     D      VAL       274        V         274          V   \n",
       "\n",
       "       network_score  SecondOrderIntermodularDegree_AVERAGE  \\\n",
       "50172       3.597299                               1.067343   \n",
       "50173       0.527466                               0.027699   \n",
       "50174       0.858813                               1.130576   \n",
       "50175       1.213013                               0.363675   \n",
       "50176       9.133482                               1.837869   \n",
       "50366       3.100208                               1.067343   \n",
       "50367       0.081973                               0.027699   \n",
       "50368       0.858813                               1.130576   \n",
       "50369       1.213013                               0.363675   \n",
       "50370       9.133482                               1.837869   \n",
       "50560       2.886580                               1.067343   \n",
       "50561       0.439810                               0.027699   \n",
       "50562       0.858813                               1.130576   \n",
       "50563       1.213013                               0.363675   \n",
       "50564       9.133482                               1.837869   \n",
       "50754       2.838350                               1.067343   \n",
       "50755       0.314916                               0.027699   \n",
       "50756       0.903826                               1.130576   \n",
       "50757       1.213013                               0.363675   \n",
       "50758       9.133482                               1.837869   \n",
       "52500       3.415783                               0.887232   \n",
       "52501       2.670815                              -0.058224   \n",
       "52502       3.710058                               0.941911   \n",
       "52503       2.181209                               0.178077   \n",
       "52504       7.143282                               1.782689   \n",
       "52694       5.547676                               0.887232   \n",
       "52695       2.339978                              -0.058224   \n",
       "52696       2.797435                               0.941911   \n",
       "52697       2.119421                               0.178077   \n",
       "52698       7.143282                               1.782689   \n",
       "52888       4.561474                               0.887232   \n",
       "52889       2.527329                              -0.058224   \n",
       "52890       4.593669                               0.941911   \n",
       "52891       2.119421                               0.178077   \n",
       "52892       7.143282                               1.782689   \n",
       "53082       3.608525                               0.887232   \n",
       "53083       2.027233                              -0.058224   \n",
       "53084       2.797435                               0.941911   \n",
       "53085       2.182679                               0.178077   \n",
       "53086       7.574872                               1.782689   \n",
       "54824       3.497339                               0.978308   \n",
       "54825       2.953799                               0.190260   \n",
       "54826       3.744818                               1.055397   \n",
       "54827       2.364878                               0.240747   \n",
       "54828       9.228470                               1.766361   \n",
       "55018       4.502016                               0.978308   \n",
       "55019       2.953799                               0.190260   \n",
       "55020       4.604579                               1.055397   \n",
       "55021       3.410852                               0.240747   \n",
       "55022       5.681924                               1.766361   \n",
       "55212       3.063388                               0.978308   \n",
       "55213       2.953799                               0.190260   \n",
       "55214       3.427314                               1.055397   \n",
       "55215       2.476190                               0.240747   \n",
       "55216       5.971699                               1.766361   \n",
       "55406       3.580638                               0.978308   \n",
       "55407       2.953799                               0.190260   \n",
       "55408       3.427314                               1.055397   \n",
       "55409       2.062919                               0.240747   \n",
       "55410       8.015009                               1.766361   \n",
       "\n",
       "       NodeEdgeBetweennessSTRIDE_sidechain_MAX  LigandMULTIMERCENTROIDSC_MIN  \\\n",
       "50172                                 2.529955                      0.000000   \n",
       "50173                                 0.499767                      0.000000   \n",
       "50174                                -0.271763                      0.000000   \n",
       "50175                                 0.849337                      0.000000   \n",
       "50176                                 7.295613                      0.000000   \n",
       "50366                                 2.032865                      0.000000   \n",
       "50367                                 0.054274                      0.000000   \n",
       "50368                                -0.271763                      0.000000   \n",
       "50369                                 0.849337                      0.000000   \n",
       "50370                                 7.295613                      0.000000   \n",
       "50560                                 1.819237                      0.000000   \n",
       "50561                                 0.412111                      0.000000   \n",
       "50562                                -0.271763                      0.000000   \n",
       "50563                                 0.849337                      0.000000   \n",
       "50564                                 7.295613                      0.000000   \n",
       "50754                                 1.771007                      0.000000   \n",
       "50755                                 0.287217                      0.000000   \n",
       "50756                                -0.226750                      0.000000   \n",
       "50757                                 0.849337                      0.000000   \n",
       "50758                                 7.295613                      0.000000   \n",
       "52500                                 0.551544                     -1.977007   \n",
       "52501                                 0.908988                     -1.820051   \n",
       "52502                                 1.037775                     -1.730373   \n",
       "52503                                 0.545769                     -1.457363   \n",
       "52504                                 3.948611                     -1.411982   \n",
       "52694                                 2.683437                     -1.977007   \n",
       "52695                                 0.578151                     -1.820051   \n",
       "52696                                 0.125151                     -1.730373   \n",
       "52697                                 0.483981                     -1.457363   \n",
       "52698                                 3.948611                     -1.411982   \n",
       "52888                                 1.697235                     -1.977007   \n",
       "52889                                 0.765501                     -1.820051   \n",
       "52890                                 1.921386                     -1.730373   \n",
       "52891                                 0.483981                     -1.457363   \n",
       "52892                                 3.948611                     -1.411982   \n",
       "53082                                 0.744286                     -1.977007   \n",
       "53083                                 0.265405                     -1.820051   \n",
       "53084                                 0.125151                     -1.730373   \n",
       "53085                                 0.547239                     -1.457363   \n",
       "53086                                 4.380200                     -1.411982   \n",
       "54824                                 1.050313                     -1.468718   \n",
       "54825                                 2.025363                     -0.738176   \n",
       "54826                                 0.774364                     -1.915057   \n",
       "54827                                 1.137576                     -0.986555   \n",
       "54828                                 5.857825                     -1.604284   \n",
       "55018                                 2.054990                     -1.468718   \n",
       "55019                                 2.025363                     -0.738176   \n",
       "55020                                 1.634125                     -1.915057   \n",
       "55021                                 2.183550                     -0.986555   \n",
       "55022                                 2.311280                     -1.604284   \n",
       "55212                                 0.616362                     -1.468718   \n",
       "55213                                 2.025363                     -0.738176   \n",
       "55214                                 0.456860                     -1.915057   \n",
       "55215                                 1.248888                     -0.986555   \n",
       "55216                                 2.601054                     -1.604284   \n",
       "55406                                 1.133612                     -1.468718   \n",
       "55407                                 2.025363                     -0.738176   \n",
       "55408                                 0.456860                     -1.915057   \n",
       "55409                                 0.835617                     -0.986555   \n",
       "55410                                 4.644364                     -1.604284   \n",
       "\n",
       "      mutant mutations  cgc_tier cancer_role  \n",
       "50172      N       NaN         1         TSG  \n",
       "50173      N       NaN         1         TSG  \n",
       "50174      N       NaN         1         TSG  \n",
       "50175      N       NaN         1         TSG  \n",
       "50176      N       NaN         1         TSG  \n",
       "50366      N       NaN         1         TSG  \n",
       "50367      N       NaN         1         TSG  \n",
       "50368      N       NaN         1         TSG  \n",
       "50369      N       NaN         1         TSG  \n",
       "50370      N       NaN         1         TSG  \n",
       "50560      N       NaN         1         TSG  \n",
       "50561      N       NaN         1         TSG  \n",
       "50562      N       NaN         1         TSG  \n",
       "50563      N       NaN         1         TSG  \n",
       "50564      N       NaN         1         TSG  \n",
       "50754      N       NaN         1         TSG  \n",
       "50755      N       NaN         1         TSG  \n",
       "50756      N       NaN         1         TSG  \n",
       "50757      N       NaN         1         TSG  \n",
       "50758      N       NaN         1         TSG  \n",
       "52500      Y     R273H         1         TSG  \n",
       "52501      Y     R273H         1         TSG  \n",
       "52502      Y     R273H         1         TSG  \n",
       "52503      Y     R273H         1         TSG  \n",
       "52504      Y     R273H         1         TSG  \n",
       "52694      Y     R273H         1         TSG  \n",
       "52695      Y     R273H         1         TSG  \n",
       "52696      Y     R273H         1         TSG  \n",
       "52697      Y     R273H         1         TSG  \n",
       "52698      Y     R273H         1         TSG  \n",
       "52888      Y     R273H         1         TSG  \n",
       "52889      Y     R273H         1         TSG  \n",
       "52890      Y     R273H         1         TSG  \n",
       "52891      Y     R273H         1         TSG  \n",
       "52892      Y     R273H         1         TSG  \n",
       "53082      Y     R273H         1         TSG  \n",
       "53083      Y     R273H         1         TSG  \n",
       "53084      Y     R273H         1         TSG  \n",
       "53085      Y     R273H         1         TSG  \n",
       "53086      Y     R273H         1         TSG  \n",
       "54824      Y     V272M         1         TSG  \n",
       "54825      Y     V272M         1         TSG  \n",
       "54826      Y     V272M         1         TSG  \n",
       "54827      Y     V272M         1         TSG  \n",
       "54828      Y     V272M         1         TSG  \n",
       "55018      Y     V272M         1         TSG  \n",
       "55019      Y     V272M         1         TSG  \n",
       "55020      Y     V272M         1         TSG  \n",
       "55021      Y     V272M         1         TSG  \n",
       "55022      Y     V272M         1         TSG  \n",
       "55212      Y     V272M         1         TSG  \n",
       "55213      Y     V272M         1         TSG  \n",
       "55214      Y     V272M         1         TSG  \n",
       "55215      Y     V272M         1         TSG  \n",
       "55216      Y     V272M         1         TSG  \n",
       "55406      Y     V272M         1         TSG  \n",
       "55407      Y     V272M         1         TSG  \n",
       "55408      Y     V272M         1         TSG  \n",
       "55409      Y     V272M         1         TSG  \n",
       "55410      Y     V272M         1         TSG  "
      ]
     },
     "execution_count": 12,
     "metadata": {},
     "output_type": "execute_result"
    }
   ],
   "source": [
    "ns_data = pd.read_csv(\"lung_genes_sbna.csv\")\n",
    "ns_data[(ns_data['gene']==\"TP53\") & (ns_data['uniprot_num'].isin([str(i) for i in range(270, 275)])) & (ns_data['pdb_id'].isin([\"2OCJ\", \"4IBS\", \"7V97\"]))]"
   ]
  },
  {
   "cell_type": "markdown",
   "metadata": {},
   "source": [
    "# compare WT vs MUT"
   ]
  },
  {
   "cell_type": "code",
   "execution_count": 2,
   "metadata": {},
   "outputs": [
    {
     "data": {
      "text/html": [
       "<div>\n",
       "<style scoped>\n",
       "    .dataframe tbody tr th:only-of-type {\n",
       "        vertical-align: middle;\n",
       "    }\n",
       "\n",
       "    .dataframe tbody tr th {\n",
       "        vertical-align: top;\n",
       "    }\n",
       "\n",
       "    .dataframe thead th {\n",
       "        text-align: right;\n",
       "    }\n",
       "</style>\n",
       "<table border=\"1\" class=\"dataframe\">\n",
       "  <thead>\n",
       "    <tr style=\"text-align: right;\">\n",
       "      <th></th>\n",
       "      <th>gene</th>\n",
       "      <th>uniprot_num</th>\n",
       "      <th>uniprot_aa</th>\n",
       "      <th>sbna_aa1</th>\n",
       "      <th>network_score_wt</th>\n",
       "      <th>SecondOrderIntermodularDegree_AVERAGE</th>\n",
       "      <th>NodeEdgeBetweennessSTRIDE_sidechain_MAX</th>\n",
       "      <th>LigandMULTIMERCENTROIDSC_MIN</th>\n",
       "      <th>cgc_tier</th>\n",
       "      <th>cancer_role</th>\n",
       "      <th>cbioportal_freq</th>\n",
       "      <th>uniprot_aa_type</th>\n",
       "      <th>mutations</th>\n",
       "      <th>network_score_mut</th>\n",
       "      <th>diff_ns</th>\n",
       "    </tr>\n",
       "  </thead>\n",
       "  <tbody>\n",
       "    <tr>\n",
       "      <th>0</th>\n",
       "      <td>AKT1</td>\n",
       "      <td>1</td>\n",
       "      <td>M</td>\n",
       "      <td>M</td>\n",
       "      <td>-1.442056</td>\n",
       "      <td>-0.831746</td>\n",
       "      <td>-0.478642</td>\n",
       "      <td>0.131669</td>\n",
       "      <td>1</td>\n",
       "      <td>oncogene</td>\n",
       "      <td>0</td>\n",
       "      <td>Nonpolar</td>\n",
       "      <td>E17K</td>\n",
       "      <td>-0.160771</td>\n",
       "      <td>1.281285</td>\n",
       "    </tr>\n",
       "    <tr>\n",
       "      <th>1</th>\n",
       "      <td>AKT1</td>\n",
       "      <td>2</td>\n",
       "      <td>S</td>\n",
       "      <td>S</td>\n",
       "      <td>-1.028050</td>\n",
       "      <td>-0.712966</td>\n",
       "      <td>-0.406600</td>\n",
       "      <td>-0.091516</td>\n",
       "      <td>1</td>\n",
       "      <td>oncogene</td>\n",
       "      <td>0</td>\n",
       "      <td>Polar</td>\n",
       "      <td>E17K</td>\n",
       "      <td>0.357676</td>\n",
       "      <td>1.385726</td>\n",
       "    </tr>\n",
       "  </tbody>\n",
       "</table>\n",
       "</div>"
      ],
      "text/plain": [
       "   gene  uniprot_num uniprot_aa sbna_aa1  network_score_wt  \\\n",
       "0  AKT1            1          M        M         -1.442056   \n",
       "1  AKT1            2          S        S         -1.028050   \n",
       "\n",
       "   SecondOrderIntermodularDegree_AVERAGE  \\\n",
       "0                              -0.831746   \n",
       "1                              -0.712966   \n",
       "\n",
       "   NodeEdgeBetweennessSTRIDE_sidechain_MAX  LigandMULTIMERCENTROIDSC_MIN  \\\n",
       "0                                -0.478642                      0.131669   \n",
       "1                                -0.406600                     -0.091516   \n",
       "\n",
       "   cgc_tier cancer_role  cbioportal_freq uniprot_aa_type mutations  \\\n",
       "0         1    oncogene                0        Nonpolar      E17K   \n",
       "1         1    oncogene                0           Polar      E17K   \n",
       "\n",
       "   network_score_mut   diff_ns  \n",
       "0          -0.160771  1.281285  \n",
       "1           0.357676  1.385726  "
      ]
     },
     "execution_count": 2,
     "metadata": {},
     "output_type": "execute_result"
    }
   ],
   "source": [
    "ns_data = pd.read_csv(\"sbna_wt_vs_mut.csv\")\n",
    "ns_data.head(2)"
   ]
  },
  {
   "cell_type": "code",
   "execution_count": 8,
   "metadata": {},
   "outputs": [],
   "source": [
    "# TO CREATE NICE LABEL IN PLOT:\n",
    "\n",
    "# Determine the maximum width of the gene names\n",
    "max_gene_length = ns_data['gene'].str.len().max()\n",
    "\n",
    "# Create the combined label with dynamic space\n",
    "ns_data['tmp_label'] = ns_data['gene'] + \": \" + ns_data['mutations']\n"
   ]
  },
  {
   "cell_type": "code",
   "execution_count": 9,
   "metadata": {},
   "outputs": [
    {
     "name": "stdout",
     "output_type": "stream",
     "text": [
      "['RB1: L561F, S608E, S612A, S780A'\n",
      " 'TP53: M133L, V203A, N239Y, G245S, N268D' 'TP53: N235K' 'TP53: N239Y'\n",
      " 'TP53: R273C' 'TP53: R273C, T284R' 'TP53: R273H' 'TP53: R280K'\n",
      " 'TP53: V272M' 'KIF5B: C7S, C65A, C168A, C174S, C294A' 'ALK: C1097S'\n",
      " 'ALK: F1174L' 'ALK: R1275K' 'AKT1: E17K' 'BRAF: V600E' 'EGFR: L858R'\n",
      " 'KRAS: G12C' 'KRAS: G12D' 'KRAS: G12V' 'FGFR2: K659M, C491A' 'SUB1: W89Y'\n",
      " 'EPHA3: Y596F' 'EPHA3: Y596F, Y602F, S768A' 'EPHA3: Y596F, Y602F, S768G'\n",
      " 'EPHA3: Y602F' 'EPHA3: Y602F, Y596F']\n"
     ]
    }
   ],
   "source": [
    "\"\"\"AKT1: E17K\n",
    "ALK: F1174L\n",
    "BRAF: V600E\n",
    "EGFR: L858R\n",
    "KRAS: G12C\n",
    "KRAS: G12D\n",
    "KRAS: G12V\n",
    "TP53: R273H\n",
    "TP53: R273C\n",
    "TP53: R273C, T284R\n",
    "TP53: V272M\n",
    "TP53: R280K\"\"\"\n",
    "print(ns_data['tmp_label'].unique())"
   ]
  },
  {
   "cell_type": "code",
   "execution_count": 13,
   "metadata": {},
   "outputs": [
    {
     "data": {
      "image/png": "[encoded data removed]",
      "text/plain": [
       "<Figure size 2000x1000 with 1 Axes>"
      ]
     },
     "metadata": {},
     "output_type": "display_data"
    }
   ],
   "source": [
    "# mutations that are present in lung cancer\n",
    "highlight_xticks = [\"AKT1: E17K\", \"ALK: F1174L\", \"BRAF: V600E\", \"EGFR: L858R\",\n",
    "                    \"KRAS: G12C\", \"KRAS: G12D\", \"KRAS: G12V\", \"TP53: R273H\",\n",
    "                    \"TP53: R273C\", \"TP53: R273C, T284R\", \"TP53: V272M\", \"TP53: R280K\"]\n",
    "\n",
    "\n",
    "# plot diff_ns by mutations boxplot\n",
    "plt.figure(figsize=(20, 10))\n",
    "# colour by cancer_role\n",
    "colors = {'TSG': '#1f77b4', 'oncogene': '#2ca02c', 'unknown': '#ff7f0e', 'fusion': '#9467bd'}\n",
    "\n",
    "# sort by cancer_role and tmp_label\n",
    "ns_data = ns_data.sort_values(['cancer_role', 'tmp_label'])\n",
    "sns.boxplot(x='diff_ns', y='tmp_label', data=ns_data, hue='cancer_role', palette=colors)\n",
    "# put line at 0\n",
    "plt.axvline(0, color='yellow', linestyle='--', alpha=0.5)\n",
    "plt.title(\"Difference in network scores between wild type and mutant structure (mutant - wild type)\")\n",
    "plt.xlabel(\"Difference in network score (mutant - wild type)\")\n",
    "plt.ylabel(\"Gene Mutation\")\n",
    "\n",
    "# Customize xticks\n",
    "ax = plt.gca()\n",
    "xticks = ax.get_yticklabels()\n",
    "\n",
    "for tick in xticks:\n",
    "    if tick.get_text() in highlight_xticks:\n",
    "        tick.set_color('red')\n",
    "plt.show()\n",
    "\n"
   ]
  },
  {
   "cell_type": "code",
   "execution_count": 14,
   "metadata": {},
   "outputs": [
    {
     "data": {
      "text/html": [
       "<div>\n",
       "<style scoped>\n",
       "    .dataframe tbody tr th:only-of-type {\n",
       "        vertical-align: middle;\n",
       "    }\n",
       "\n",
       "    .dataframe tbody tr th {\n",
       "        vertical-align: top;\n",
       "    }\n",
       "\n",
       "    .dataframe thead th {\n",
       "        text-align: right;\n",
       "    }\n",
       "</style>\n",
       "<table border=\"1\" class=\"dataframe\">\n",
       "  <thead>\n",
       "    <tr style=\"text-align: right;\">\n",
       "      <th></th>\n",
       "      <th>gene</th>\n",
       "      <th>uniprot_num</th>\n",
       "      <th>uniprot_aa</th>\n",
       "      <th>sbna_aa1</th>\n",
       "      <th>network_score_wt</th>\n",
       "      <th>SecondOrderIntermodularDegree_AVERAGE</th>\n",
       "      <th>NodeEdgeBetweennessSTRIDE_sidechain_MAX</th>\n",
       "      <th>LigandMULTIMERCENTROIDSC_MIN</th>\n",
       "      <th>cgc_tier</th>\n",
       "      <th>cancer_role</th>\n",
       "      <th>cbioportal_freq</th>\n",
       "      <th>uniprot_aa_type</th>\n",
       "      <th>mutations</th>\n",
       "      <th>network_score_mut</th>\n",
       "      <th>diff_ns</th>\n",
       "      <th>tmp_label</th>\n",
       "    </tr>\n",
       "  </thead>\n",
       "  <tbody>\n",
       "    <tr>\n",
       "      <th>3738</th>\n",
       "      <td>KRAS</td>\n",
       "      <td>68</td>\n",
       "      <td>R</td>\n",
       "      <td>R</td>\n",
       "      <td>0.650787</td>\n",
       "      <td>-0.059877</td>\n",
       "      <td>0.035645</td>\n",
       "      <td>-0.675019</td>\n",
       "      <td>1</td>\n",
       "      <td>oncogene</td>\n",
       "      <td>5</td>\n",
       "      <td>Charged</td>\n",
       "      <td>G12C</td>\n",
       "      <td>-2.335945</td>\n",
       "      <td>-2.986732</td>\n",
       "      <td>KRAS: G12C</td>\n",
       "    </tr>\n",
       "    <tr>\n",
       "      <th>3699</th>\n",
       "      <td>KRAS</td>\n",
       "      <td>55</td>\n",
       "      <td>I</td>\n",
       "      <td>I</td>\n",
       "      <td>3.063570</td>\n",
       "      <td>0.729555</td>\n",
       "      <td>2.067692</td>\n",
       "      <td>-0.266323</td>\n",
       "      <td>1</td>\n",
       "      <td>oncogene</td>\n",
       "      <td>0</td>\n",
       "      <td>Nonpolar</td>\n",
       "      <td>G12C</td>\n",
       "      <td>0.805905</td>\n",
       "      <td>-2.257665</td>\n",
       "      <td>KRAS: G12C</td>\n",
       "    </tr>\n",
       "    <tr>\n",
       "      <th>3700</th>\n",
       "      <td>KRAS</td>\n",
       "      <td>55</td>\n",
       "      <td>I</td>\n",
       "      <td>I</td>\n",
       "      <td>3.063570</td>\n",
       "      <td>0.729555</td>\n",
       "      <td>2.067692</td>\n",
       "      <td>-0.266323</td>\n",
       "      <td>1</td>\n",
       "      <td>oncogene</td>\n",
       "      <td>0</td>\n",
       "      <td>Nonpolar</td>\n",
       "      <td>G12D</td>\n",
       "      <td>0.894175</td>\n",
       "      <td>-2.169395</td>\n",
       "      <td>KRAS: G12D</td>\n",
       "    </tr>\n",
       "    <tr>\n",
       "      <th>3717</th>\n",
       "      <td>KRAS</td>\n",
       "      <td>61</td>\n",
       "      <td>Q</td>\n",
       "      <td>Q</td>\n",
       "      <td>-0.228087</td>\n",
       "      <td>-0.610344</td>\n",
       "      <td>-0.087115</td>\n",
       "      <td>-0.469372</td>\n",
       "      <td>1</td>\n",
       "      <td>oncogene</td>\n",
       "      <td>143</td>\n",
       "      <td>Polar</td>\n",
       "      <td>G12C</td>\n",
       "      <td>-2.352331</td>\n",
       "      <td>-2.124244</td>\n",
       "      <td>KRAS: G12C</td>\n",
       "    </tr>\n",
       "    <tr>\n",
       "      <th>3788</th>\n",
       "      <td>KRAS</td>\n",
       "      <td>84</td>\n",
       "      <td>I</td>\n",
       "      <td>I</td>\n",
       "      <td>2.856144</td>\n",
       "      <td>0.991832</td>\n",
       "      <td>1.323344</td>\n",
       "      <td>-0.540968</td>\n",
       "      <td>1</td>\n",
       "      <td>oncogene</td>\n",
       "      <td>3</td>\n",
       "      <td>Nonpolar</td>\n",
       "      <td>G12V</td>\n",
       "      <td>1.102777</td>\n",
       "      <td>-1.753367</td>\n",
       "      <td>KRAS: G12V</td>\n",
       "    </tr>\n",
       "    <tr>\n",
       "      <th>...</th>\n",
       "      <td>...</td>\n",
       "      <td>...</td>\n",
       "      <td>...</td>\n",
       "      <td>...</td>\n",
       "      <td>...</td>\n",
       "      <td>...</td>\n",
       "      <td>...</td>\n",
       "      <td>...</td>\n",
       "      <td>...</td>\n",
       "      <td>...</td>\n",
       "      <td>...</td>\n",
       "      <td>...</td>\n",
       "      <td>...</td>\n",
       "      <td>...</td>\n",
       "      <td>...</td>\n",
       "      <td>...</td>\n",
       "    </tr>\n",
       "    <tr>\n",
       "      <th>3710</th>\n",
       "      <td>KRAS</td>\n",
       "      <td>58</td>\n",
       "      <td>T</td>\n",
       "      <td>T</td>\n",
       "      <td>2.774491</td>\n",
       "      <td>1.272291</td>\n",
       "      <td>1.035042</td>\n",
       "      <td>-0.467159</td>\n",
       "      <td>1</td>\n",
       "      <td>oncogene</td>\n",
       "      <td>4</td>\n",
       "      <td>Polar</td>\n",
       "      <td>G12V</td>\n",
       "      <td>4.570449</td>\n",
       "      <td>1.795958</td>\n",
       "      <td>KRAS: G12V</td>\n",
       "    </tr>\n",
       "    <tr>\n",
       "      <th>3767</th>\n",
       "      <td>KRAS</td>\n",
       "      <td>77</td>\n",
       "      <td>G</td>\n",
       "      <td>G</td>\n",
       "      <td>2.077142</td>\n",
       "      <td>1.214345</td>\n",
       "      <td>1.236831</td>\n",
       "      <td>0.374033</td>\n",
       "      <td>1</td>\n",
       "      <td>oncogene</td>\n",
       "      <td>3</td>\n",
       "      <td>Polar</td>\n",
       "      <td>G12V</td>\n",
       "      <td>3.927720</td>\n",
       "      <td>1.850577</td>\n",
       "      <td>KRAS: G12V</td>\n",
       "    </tr>\n",
       "    <tr>\n",
       "      <th>3646</th>\n",
       "      <td>KRAS</td>\n",
       "      <td>37</td>\n",
       "      <td>E</td>\n",
       "      <td>E</td>\n",
       "      <td>-1.469715</td>\n",
       "      <td>-0.644145</td>\n",
       "      <td>-0.433875</td>\n",
       "      <td>0.391695</td>\n",
       "      <td>1</td>\n",
       "      <td>oncogene</td>\n",
       "      <td>0</td>\n",
       "      <td>Charged</td>\n",
       "      <td>G12D</td>\n",
       "      <td>1.364432</td>\n",
       "      <td>2.834146</td>\n",
       "      <td>KRAS: G12D</td>\n",
       "    </tr>\n",
       "    <tr>\n",
       "      <th>3647</th>\n",
       "      <td>KRAS</td>\n",
       "      <td>37</td>\n",
       "      <td>E</td>\n",
       "      <td>E</td>\n",
       "      <td>-1.469715</td>\n",
       "      <td>-0.644145</td>\n",
       "      <td>-0.433875</td>\n",
       "      <td>0.391695</td>\n",
       "      <td>1</td>\n",
       "      <td>oncogene</td>\n",
       "      <td>0</td>\n",
       "      <td>Charged</td>\n",
       "      <td>G12V</td>\n",
       "      <td>1.386254</td>\n",
       "      <td>2.855968</td>\n",
       "      <td>KRAS: G12V</td>\n",
       "    </tr>\n",
       "    <tr>\n",
       "      <th>3645</th>\n",
       "      <td>KRAS</td>\n",
       "      <td>37</td>\n",
       "      <td>E</td>\n",
       "      <td>E</td>\n",
       "      <td>-1.469715</td>\n",
       "      <td>-0.644145</td>\n",
       "      <td>-0.433875</td>\n",
       "      <td>0.391695</td>\n",
       "      <td>1</td>\n",
       "      <td>oncogene</td>\n",
       "      <td>0</td>\n",
       "      <td>Charged</td>\n",
       "      <td>G12C</td>\n",
       "      <td>1.788634</td>\n",
       "      <td>3.258349</td>\n",
       "      <td>KRAS: G12C</td>\n",
       "    </tr>\n",
       "  </tbody>\n",
       "</table>\n",
       "<p>504 rows × 16 columns</p>\n",
       "</div>"
      ],
      "text/plain": [
       "      gene  uniprot_num uniprot_aa sbna_aa1  network_score_wt  \\\n",
       "3738  KRAS           68          R        R          0.650787   \n",
       "3699  KRAS           55          I        I          3.063570   \n",
       "3700  KRAS           55          I        I          3.063570   \n",
       "3717  KRAS           61          Q        Q         -0.228087   \n",
       "3788  KRAS           84          I        I          2.856144   \n",
       "...    ...          ...        ...      ...               ...   \n",
       "3710  KRAS           58          T        T          2.774491   \n",
       "3767  KRAS           77          G        G          2.077142   \n",
       "3646  KRAS           37          E        E         -1.469715   \n",
       "3647  KRAS           37          E        E         -1.469715   \n",
       "3645  KRAS           37          E        E         -1.469715   \n",
       "\n",
       "      SecondOrderIntermodularDegree_AVERAGE  \\\n",
       "3738                              -0.059877   \n",
       "3699                               0.729555   \n",
       "3700                               0.729555   \n",
       "3717                              -0.610344   \n",
       "3788                               0.991832   \n",
       "...                                     ...   \n",
       "3710                               1.272291   \n",
       "3767                               1.214345   \n",
       "3646                              -0.644145   \n",
       "3647                              -0.644145   \n",
       "3645                              -0.644145   \n",
       "\n",
       "      NodeEdgeBetweennessSTRIDE_sidechain_MAX  LigandMULTIMERCENTROIDSC_MIN  \\\n",
       "3738                                 0.035645                     -0.675019   \n",
       "3699                                 2.067692                     -0.266323   \n",
       "3700                                 2.067692                     -0.266323   \n",
       "3717                                -0.087115                     -0.469372   \n",
       "3788                                 1.323344                     -0.540968   \n",
       "...                                       ...                           ...   \n",
       "3710                                 1.035042                     -0.467159   \n",
       "3767                                 1.236831                      0.374033   \n",
       "3646                                -0.433875                      0.391695   \n",
       "3647                                -0.433875                      0.391695   \n",
       "3645                                -0.433875                      0.391695   \n",
       "\n",
       "      cgc_tier cancer_role  cbioportal_freq uniprot_aa_type mutations  \\\n",
       "3738         1    oncogene                5         Charged      G12C   \n",
       "3699         1    oncogene                0        Nonpolar      G12C   \n",
       "3700         1    oncogene                0        Nonpolar      G12D   \n",
       "3717         1    oncogene              143           Polar      G12C   \n",
       "3788         1    oncogene                3        Nonpolar      G12V   \n",
       "...        ...         ...              ...             ...       ...   \n",
       "3710         1    oncogene                4           Polar      G12V   \n",
       "3767         1    oncogene                3           Polar      G12V   \n",
       "3646         1    oncogene                0         Charged      G12D   \n",
       "3647         1    oncogene                0         Charged      G12V   \n",
       "3645         1    oncogene                0         Charged      G12C   \n",
       "\n",
       "      network_score_mut   diff_ns   tmp_label  \n",
       "3738          -2.335945 -2.986732  KRAS: G12C  \n",
       "3699           0.805905 -2.257665  KRAS: G12C  \n",
       "3700           0.894175 -2.169395  KRAS: G12D  \n",
       "3717          -2.352331 -2.124244  KRAS: G12C  \n",
       "3788           1.102777 -1.753367  KRAS: G12V  \n",
       "...                 ...       ...         ...  \n",
       "3710           4.570449  1.795958  KRAS: G12V  \n",
       "3767           3.927720  1.850577  KRAS: G12V  \n",
       "3646           1.364432  2.834146  KRAS: G12D  \n",
       "3647           1.386254  2.855968  KRAS: G12V  \n",
       "3645           1.788634  3.258349  KRAS: G12C  \n",
       "\n",
       "[504 rows x 16 columns]"
      ]
     },
     "execution_count": 14,
     "metadata": {},
     "output_type": "execute_result"
    }
   ],
   "source": [
    "ns_data[ns_data['gene']==\"KRAS\"].sort_values(\"diff_ns\")"
   ]
  },
  {
   "cell_type": "code",
   "execution_count": null,
   "metadata": {},
   "outputs": [],
   "source": []
  },
  {
   "cell_type": "code",
   "execution_count": null,
   "metadata": {},
   "outputs": [],
   "source": []
  }
 ],
 "metadata": {
  "kernelspec": {
   "display_name": "sbna",
   "language": "python",
   "name": "python3"
  },
  "language_info": {
   "codemirror_mode": {
    "name": "ipython",
    "version": 3
   },
   "file_extension": ".py",
   "mimetype": "text/x-python",
   "name": "python",
   "nbconvert_exporter": "python",
   "pygments_lexer": "ipython3",
   "version": "3.12.2"
  }
 },
 "nbformat": 4,
 "nbformat_minor": 2
}
