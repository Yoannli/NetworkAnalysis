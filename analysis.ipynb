{
 "cells": [
  {
   "cell_type": "code",
   "execution_count": 41,
   "metadata": {},
   "outputs": [],
   "source": [
    "import pandas as pd\n",
    "import os\n",
    "import re\n",
    "import plotly.express as px\n",
    "import plotly.graph_objects as go\n",
    "import plotlyshare\n",
    "from matplotlib import pyplot as plt\n",
    "import seaborn as sns\n",
    "sns.set_style('darkgrid')"
   ]
  },
  {
   "cell_type": "markdown",
   "metadata": {},
   "source": [
    "# 1. number of structures analysis"
   ]
  },
  {
   "cell_type": "code",
   "execution_count": 2,
   "metadata": {},
   "outputs": [],
   "source": [
    "cgc_data = pd.read_csv('Census_all_with_pdb.csv')"
   ]
  },
  {
   "cell_type": "code",
   "execution_count": 3,
   "metadata": {},
   "outputs": [
    {
     "data": {
      "application/vnd.plotly.v1+json": {
       "config": {
        "plotlyServerURL": "https://plot.ly"
       },
       "data": [
        {
         "alignmentgroup": "True",
         "bingroup": "x",
         "hovertemplate": "n_structures=%{x}<br>count=%{y}<extra></extra>",
         "legendgroup": "",
         "marker": {
          "color": "#636efa",
          "pattern": {
           "shape": ""
          }
         },
         "name": "",
         "offsetgroup": "",
         "orientation": "v",
         "showlegend": false,
         "type": "histogram",
         "x": [
          1,
          1,
          81,
          9,
          8,
          0,
          0,
          76,
          2,
          5,
          6,
          1,
          0,
          9,
          0,
          36,
          18,
          1,
          28,
          77,
          3,
          21,
          30,
          13,
          92,
          2,
          1,
          6,
          3,
          0,
          0,
          4,
          3,
          2,
          2,
          32,
          0,
          3,
          2,
          0,
          0,
          5,
          14,
          3,
          0,
          1,
          12,
          16,
          1,
          1136,
          3,
          11,
          29,
          1,
          5,
          5,
          0,
          34,
          0,
          2,
          108,
          0,
          7,
          3,
          2,
          5,
          2,
          5,
          6,
          14,
          15,
          0,
          11,
          111,
          31,
          12,
          41,
          540,
          3,
          0,
          2,
          125,
          9,
          2,
          6,
          10,
          1,
          4,
          2,
          0,
          103,
          24,
          10,
          0,
          17,
          32,
          15,
          6,
          0,
          0,
          31,
          9,
          1,
          2,
          7,
          0,
          1,
          11,
          57,
          8,
          18,
          5,
          5,
          8,
          21,
          0,
          0,
          3,
          37,
          14,
          18,
          12,
          18,
          5,
          6,
          4,
          1,
          0,
          1,
          0,
          12,
          38,
          0,
          0,
          6,
          0,
          9,
          2,
          8,
          0,
          0,
          0,
          4,
          1,
          0,
          13,
          10,
          11,
          1,
          5,
          4,
          0,
          0,
          122,
          2,
          22,
          3,
          0,
          23,
          1,
          0,
          21,
          7,
          1,
          35,
          2,
          0,
          25,
          0,
          12,
          6,
          5,
          0,
          14,
          0,
          9,
          9,
          9,
          0,
          4,
          1,
          14,
          2,
          9,
          2,
          9,
          16,
          14,
          1,
          19,
          7,
          2,
          0,
          68,
          291,
          18,
          12,
          1,
          1,
          0,
          4,
          1,
          0,
          1,
          55,
          32,
          28,
          7,
          13,
          45,
          21,
          10,
          0,
          42,
          43,
          7,
          7,
          8,
          433,
          0,
          3,
          3,
          2,
          27,
          1,
          6,
          6,
          28,
          6,
          9,
          0,
          0,
          0,
          6,
          6,
          13,
          7,
          7,
          6,
          6,
          0,
          0,
          2,
          0,
          1,
          7,
          3,
          0,
          17,
          10,
          2,
          71,
          0,
          50,
          7,
          44,
          7,
          9,
          3,
          0,
          4,
          9,
          24,
          10,
          2,
          1,
          1,
          2,
          11,
          6,
          2,
          1,
          0,
          3,
          7,
          23,
          2,
          1,
          2,
          3,
          5,
          2,
          3,
          17,
          210,
          0,
          1,
          35,
          2,
          0,
          1,
          22,
          18,
          104,
          85,
          85,
          1,
          1,
          35,
          24,
          3,
          396,
          396,
          379,
          0,
          4,
          0,
          0,
          2,
          13,
          2,
          0,
          1,
          0,
          0,
          0,
          0,
          0,
          228,
          336,
          28,
          1,
          48,
          11,
          4,
          0,
          0,
          0,
          4,
          3,
          0,
          32,
          5,
          17,
          7,
          7,
          0,
          0,
          35,
          36,
          50,
          154,
          41,
          0,
          9,
          17,
          3,
          8,
          0,
          46,
          2,
          4,
          54,
          0,
          99,
          0,
          20,
          34,
          1,
          0,
          2,
          56,
          9,
          4,
          4,
          0,
          295,
          0,
          1,
          1,
          4,
          1,
          57,
          4,
          0,
          0,
          0,
          4,
          22,
          0,
          4,
          0,
          0,
          0,
          1,
          0,
          6,
          0,
          0,
          0,
          0,
          0,
          20,
          0,
          69,
          2,
          3,
          1,
          0,
          143,
          11,
          1,
          139,
          39,
          0,
          1,
          0,
          47,
          116,
          7,
          6,
          3,
          7,
          24,
          6,
          0,
          19,
          0,
          0,
          0,
          1,
          2,
          16,
          8,
          3,
          9,
          3,
          49,
          17,
          1,
          0,
          0,
          2,
          0,
          19,
          0,
          2,
          9,
          0,
          5,
          7,
          0,
          4,
          0,
          7,
          1,
          3,
          3,
          276,
          347,
          1,
          18,
          32,
          1,
          26,
          6,
          9,
          20,
          0,
          9,
          0,
          0,
          0,
          6,
          27,
          2,
          8,
          0,
          20,
          9,
          3,
          9,
          25,
          43,
          2,
          62,
          8,
          5,
          4,
          7,
          17,
          2,
          0,
          0,
          0,
          1,
          0,
          28,
          1,
          3,
          5,
          1,
          2,
          0,
          1,
          29,
          2,
          3,
          3,
          1,
          0,
          6,
          9,
          8,
          0,
          2,
          2,
          0,
          97,
          0,
          91,
          176,
          0,
          5,
          19,
          1,
          8,
          5,
          3,
          10,
          11,
          35,
          14,
          1,
          12,
          291,
          0,
          0,
          26,
          0,
          0,
          1,
          2,
          2,
          1,
          0,
          47,
          3,
          1,
          0,
          0,
          0,
          33,
          15,
          11,
          8,
          79,
          12,
          13,
          12,
          5,
          8,
          2,
          1,
          0,
          1,
          6,
          59,
          2,
          10,
          1,
          4,
          41,
          4,
          32,
          22,
          2,
          12,
          15,
          6,
          1,
          2,
          0,
          34,
          1,
          0,
          5,
          113,
          0,
          3,
          0,
          1,
          6,
          4,
          23,
          72,
          75,
          3,
          1,
          0,
          0,
          5,
          9,
          7,
          8,
          6,
          5,
          2,
          1,
          5,
          1,
          1,
          1,
          4,
          3,
          2,
          0,
          0,
          28,
          23,
          43,
          13,
          0,
          4,
          0,
          0,
          0,
          14,
          1,
          0,
          4,
          0,
          0,
          11,
          12,
          12,
          18,
          13,
          4,
          5,
          5,
          15,
          11,
          0,
          0,
          8,
          0,
          0,
          4,
          31,
          69,
          0,
          4,
          2,
          1,
          0,
          0,
          1,
          0,
          20,
          5,
          6,
          2,
          6,
          5,
          3,
          0,
          6,
          10,
          19,
          86,
          2,
          2,
          0,
          1,
          1,
          15,
          2,
          5,
          3,
          1,
          1,
          5,
          17,
          1,
          5,
          1,
          4,
          0,
          0,
          21,
          15,
          0,
          0,
          0,
          0,
          1,
          3,
          18,
          17,
          8,
          5,
          15,
          268,
          24,
          1,
          0,
          4,
          0,
          0,
          0,
          0,
          19,
          0,
          9,
          0,
          2,
          3,
          1,
          9,
          1,
          11,
          0,
          0,
          7,
          4,
          9,
          95,
          0,
          6,
          0,
          5,
          2,
          13,
          26,
          10,
          11,
          11,
          8,
          10,
          2,
          8,
          1,
          3,
          0,
          0,
          0,
          0,
          0,
          0,
          0,
          0,
          0
         ],
         "xaxis": "x",
         "yaxis": "y"
        }
       ],
       "layout": {
        "barmode": "relative",
        "legend": {
         "tracegroupgap": 0
        },
        "margin": {
         "t": 60
        },
        "template": {
         "data": {
          "bar": [
           {
            "error_x": {
             "color": "#2a3f5f"
            },
            "error_y": {
             "color": "#2a3f5f"
            },
            "marker": {
             "line": {
              "color": "#E5ECF6",
              "width": 0.5
             },
             "pattern": {
              "fillmode": "overlay",
              "size": 10,
              "solidity": 0.2
             }
            },
            "type": "bar"
           }
          ],
          "barpolar": [
           {
            "marker": {
             "line": {
              "color": "#E5ECF6",
              "width": 0.5
             },
             "pattern": {
              "fillmode": "overlay",
              "size": 10,
              "solidity": 0.2
             }
            },
            "type": "barpolar"
           }
          ],
          "carpet": [
           {
            "aaxis": {
             "endlinecolor": "#2a3f5f",
             "gridcolor": "white",
             "linecolor": "white",
             "minorgridcolor": "white",
             "startlinecolor": "#2a3f5f"
            },
            "baxis": {
             "endlinecolor": "#2a3f5f",
             "gridcolor": "white",
             "linecolor": "white",
             "minorgridcolor": "white",
             "startlinecolor": "#2a3f5f"
            },
            "type": "carpet"
           }
          ],
          "choropleth": [
           {
            "colorbar": {
             "outlinewidth": 0,
             "ticks": ""
            },
            "type": "choropleth"
           }
          ],
          "contour": [
           {
            "colorbar": {
             "outlinewidth": 0,
             "ticks": ""
            },
            "colorscale": [
             [
              0,
              "#0d0887"
             ],
             [
              0.1111111111111111,
              "#46039f"
             ],
             [
              0.2222222222222222,
              "#7201a8"
             ],
             [
              0.3333333333333333,
              "#9c179e"
             ],
             [
              0.4444444444444444,
              "#bd3786"
             ],
             [
              0.5555555555555556,
              "#d8576b"
             ],
             [
              0.6666666666666666,
              "#ed7953"
             ],
             [
              0.7777777777777778,
              "#fb9f3a"
             ],
             [
              0.8888888888888888,
              "#fdca26"
             ],
             [
              1,
              "#f0f921"
             ]
            ],
            "type": "contour"
           }
          ],
          "contourcarpet": [
           {
            "colorbar": {
             "outlinewidth": 0,
             "ticks": ""
            },
            "type": "contourcarpet"
           }
          ],
          "heatmap": [
           {
            "colorbar": {
             "outlinewidth": 0,
             "ticks": ""
            },
            "colorscale": [
             [
              0,
              "#0d0887"
             ],
             [
              0.1111111111111111,
              "#46039f"
             ],
             [
              0.2222222222222222,
              "#7201a8"
             ],
             [
              0.3333333333333333,
              "#9c179e"
             ],
             [
              0.4444444444444444,
              "#bd3786"
             ],
             [
              0.5555555555555556,
              "#d8576b"
             ],
             [
              0.6666666666666666,
              "#ed7953"
             ],
             [
              0.7777777777777778,
              "#fb9f3a"
             ],
             [
              0.8888888888888888,
              "#fdca26"
             ],
             [
              1,
              "#f0f921"
             ]
            ],
            "type": "heatmap"
           }
          ],
          "heatmapgl": [
           {
            "colorbar": {
             "outlinewidth": 0,
             "ticks": ""
            },
            "colorscale": [
             [
              0,
              "#0d0887"
             ],
             [
              0.1111111111111111,
              "#46039f"
             ],
             [
              0.2222222222222222,
              "#7201a8"
             ],
             [
              0.3333333333333333,
              "#9c179e"
             ],
             [
              0.4444444444444444,
              "#bd3786"
             ],
             [
              0.5555555555555556,
              "#d8576b"
             ],
             [
              0.6666666666666666,
              "#ed7953"
             ],
             [
              0.7777777777777778,
              "#fb9f3a"
             ],
             [
              0.8888888888888888,
              "#fdca26"
             ],
             [
              1,
              "#f0f921"
             ]
            ],
            "type": "heatmapgl"
           }
          ],
          "histogram": [
           {
            "marker": {
             "pattern": {
              "fillmode": "overlay",
              "size": 10,
              "solidity": 0.2
             }
            },
            "type": "histogram"
           }
          ],
          "histogram2d": [
           {
            "colorbar": {
             "outlinewidth": 0,
             "ticks": ""
            },
            "colorscale": [
             [
              0,
              "#0d0887"
             ],
             [
              0.1111111111111111,
              "#46039f"
             ],
             [
              0.2222222222222222,
              "#7201a8"
             ],
             [
              0.3333333333333333,
              "#9c179e"
             ],
             [
              0.4444444444444444,
              "#bd3786"
             ],
             [
              0.5555555555555556,
              "#d8576b"
             ],
             [
              0.6666666666666666,
              "#ed7953"
             ],
             [
              0.7777777777777778,
              "#fb9f3a"
             ],
             [
              0.8888888888888888,
              "#fdca26"
             ],
             [
              1,
              "#f0f921"
             ]
            ],
            "type": "histogram2d"
           }
          ],
          "histogram2dcontour": [
           {
            "colorbar": {
             "outlinewidth": 0,
             "ticks": ""
            },
            "colorscale": [
             [
              0,
              "#0d0887"
             ],
             [
              0.1111111111111111,
              "#46039f"
             ],
             [
              0.2222222222222222,
              "#7201a8"
             ],
             [
              0.3333333333333333,
              "#9c179e"
             ],
             [
              0.4444444444444444,
              "#bd3786"
             ],
             [
              0.5555555555555556,
              "#d8576b"
             ],
             [
              0.6666666666666666,
              "#ed7953"
             ],
             [
              0.7777777777777778,
              "#fb9f3a"
             ],
             [
              0.8888888888888888,
              "#fdca26"
             ],
             [
              1,
              "#f0f921"
             ]
            ],
            "type": "histogram2dcontour"
           }
          ],
          "mesh3d": [
           {
            "colorbar": {
             "outlinewidth": 0,
             "ticks": ""
            },
            "type": "mesh3d"
           }
          ],
          "parcoords": [
           {
            "line": {
             "colorbar": {
              "outlinewidth": 0,
              "ticks": ""
             }
            },
            "type": "parcoords"
           }
          ],
          "pie": [
           {
            "automargin": true,
            "type": "pie"
           }
          ],
          "scatter": [
           {
            "fillpattern": {
             "fillmode": "overlay",
             "size": 10,
             "solidity": 0.2
            },
            "type": "scatter"
           }
          ],
          "scatter3d": [
           {
            "line": {
             "colorbar": {
              "outlinewidth": 0,
              "ticks": ""
             }
            },
            "marker": {
             "colorbar": {
              "outlinewidth": 0,
              "ticks": ""
             }
            },
            "type": "scatter3d"
           }
          ],
          "scattercarpet": [
           {
            "marker": {
             "colorbar": {
              "outlinewidth": 0,
              "ticks": ""
             }
            },
            "type": "scattercarpet"
           }
          ],
          "scattergeo": [
           {
            "marker": {
             "colorbar": {
              "outlinewidth": 0,
              "ticks": ""
             }
            },
            "type": "scattergeo"
           }
          ],
          "scattergl": [
           {
            "marker": {
             "colorbar": {
              "outlinewidth": 0,
              "ticks": ""
             }
            },
            "type": "scattergl"
           }
          ],
          "scattermapbox": [
           {
            "marker": {
             "colorbar": {
              "outlinewidth": 0,
              "ticks": ""
             }
            },
            "type": "scattermapbox"
           }
          ],
          "scatterpolar": [
           {
            "marker": {
             "colorbar": {
              "outlinewidth": 0,
              "ticks": ""
             }
            },
            "type": "scatterpolar"
           }
          ],
          "scatterpolargl": [
           {
            "marker": {
             "colorbar": {
              "outlinewidth": 0,
              "ticks": ""
             }
            },
            "type": "scatterpolargl"
           }
          ],
          "scatterternary": [
           {
            "marker": {
             "colorbar": {
              "outlinewidth": 0,
              "ticks": ""
             }
            },
            "type": "scatterternary"
           }
          ],
          "surface": [
           {
            "colorbar": {
             "outlinewidth": 0,
             "ticks": ""
            },
            "colorscale": [
             [
              0,
              "#0d0887"
             ],
             [
              0.1111111111111111,
              "#46039f"
             ],
             [
              0.2222222222222222,
              "#7201a8"
             ],
             [
              0.3333333333333333,
              "#9c179e"
             ],
             [
              0.4444444444444444,
              "#bd3786"
             ],
             [
              0.5555555555555556,
              "#d8576b"
             ],
             [
              0.6666666666666666,
              "#ed7953"
             ],
             [
              0.7777777777777778,
              "#fb9f3a"
             ],
             [
              0.8888888888888888,
              "#fdca26"
             ],
             [
              1,
              "#f0f921"
             ]
            ],
            "type": "surface"
           }
          ],
          "table": [
           {
            "cells": {
             "fill": {
              "color": "#EBF0F8"
             },
             "line": {
              "color": "white"
             }
            },
            "header": {
             "fill": {
              "color": "#C8D4E3"
             },
             "line": {
              "color": "white"
             }
            },
            "type": "table"
           }
          ]
         },
         "layout": {
          "annotationdefaults": {
           "arrowcolor": "#2a3f5f",
           "arrowhead": 0,
           "arrowwidth": 1
          },
          "autotypenumbers": "strict",
          "coloraxis": {
           "colorbar": {
            "outlinewidth": 0,
            "ticks": ""
           }
          },
          "colorscale": {
           "diverging": [
            [
             0,
             "#8e0152"
            ],
            [
             0.1,
             "#c51b7d"
            ],
            [
             0.2,
             "#de77ae"
            ],
            [
             0.3,
             "#f1b6da"
            ],
            [
             0.4,
             "#fde0ef"
            ],
            [
             0.5,
             "#f7f7f7"
            ],
            [
             0.6,
             "#e6f5d0"
            ],
            [
             0.7,
             "#b8e186"
            ],
            [
             0.8,
             "#7fbc41"
            ],
            [
             0.9,
             "#4d9221"
            ],
            [
             1,
             "#276419"
            ]
           ],
           "sequential": [
            [
             0,
             "#0d0887"
            ],
            [
             0.1111111111111111,
             "#46039f"
            ],
            [
             0.2222222222222222,
             "#7201a8"
            ],
            [
             0.3333333333333333,
             "#9c179e"
            ],
            [
             0.4444444444444444,
             "#bd3786"
            ],
            [
             0.5555555555555556,
             "#d8576b"
            ],
            [
             0.6666666666666666,
             "#ed7953"
            ],
            [
             0.7777777777777778,
             "#fb9f3a"
            ],
            [
             0.8888888888888888,
             "#fdca26"
            ],
            [
             1,
             "#f0f921"
            ]
           ],
           "sequentialminus": [
            [
             0,
             "#0d0887"
            ],
            [
             0.1111111111111111,
             "#46039f"
            ],
            [
             0.2222222222222222,
             "#7201a8"
            ],
            [
             0.3333333333333333,
             "#9c179e"
            ],
            [
             0.4444444444444444,
             "#bd3786"
            ],
            [
             0.5555555555555556,
             "#d8576b"
            ],
            [
             0.6666666666666666,
             "#ed7953"
            ],
            [
             0.7777777777777778,
             "#fb9f3a"
            ],
            [
             0.8888888888888888,
             "#fdca26"
            ],
            [
             1,
             "#f0f921"
            ]
           ]
          },
          "colorway": [
           "#636efa",
           "#EF553B",
           "#00cc96",
           "#ab63fa",
           "#FFA15A",
           "#19d3f3",
           "#FF6692",
           "#B6E880",
           "#FF97FF",
           "#FECB52"
          ],
          "font": {
           "color": "#2a3f5f"
          },
          "geo": {
           "bgcolor": "white",
           "lakecolor": "white",
           "landcolor": "#E5ECF6",
           "showlakes": true,
           "showland": true,
           "subunitcolor": "white"
          },
          "hoverlabel": {
           "align": "left"
          },
          "hovermode": "closest",
          "mapbox": {
           "style": "light"
          },
          "paper_bgcolor": "white",
          "plot_bgcolor": "#E5ECF6",
          "polar": {
           "angularaxis": {
            "gridcolor": "white",
            "linecolor": "white",
            "ticks": ""
           },
           "bgcolor": "#E5ECF6",
           "radialaxis": {
            "gridcolor": "white",
            "linecolor": "white",
            "ticks": ""
           }
          },
          "scene": {
           "xaxis": {
            "backgroundcolor": "#E5ECF6",
            "gridcolor": "white",
            "gridwidth": 2,
            "linecolor": "white",
            "showbackground": true,
            "ticks": "",
            "zerolinecolor": "white"
           },
           "yaxis": {
            "backgroundcolor": "#E5ECF6",
            "gridcolor": "white",
            "gridwidth": 2,
            "linecolor": "white",
            "showbackground": true,
            "ticks": "",
            "zerolinecolor": "white"
           },
           "zaxis": {
            "backgroundcolor": "#E5ECF6",
            "gridcolor": "white",
            "gridwidth": 2,
            "linecolor": "white",
            "showbackground": true,
            "ticks": "",
            "zerolinecolor": "white"
           }
          },
          "shapedefaults": {
           "line": {
            "color": "#2a3f5f"
           }
          },
          "ternary": {
           "aaxis": {
            "gridcolor": "white",
            "linecolor": "white",
            "ticks": ""
           },
           "baxis": {
            "gridcolor": "white",
            "linecolor": "white",
            "ticks": ""
           },
           "bgcolor": "#E5ECF6",
           "caxis": {
            "gridcolor": "white",
            "linecolor": "white",
            "ticks": ""
           }
          },
          "title": {
           "x": 0.05
          },
          "xaxis": {
           "automargin": true,
           "gridcolor": "white",
           "linecolor": "white",
           "ticks": "",
           "title": {
            "standoff": 15
           },
           "zerolinecolor": "white",
           "zerolinewidth": 2
          },
          "yaxis": {
           "automargin": true,
           "gridcolor": "white",
           "linecolor": "white",
           "ticks": "",
           "title": {
            "standoff": 15
           },
           "zerolinecolor": "white",
           "zerolinewidth": 2
          }
         }
        },
        "xaxis": {
         "anchor": "y",
         "domain": [
          0,
          1
         ],
         "title": {
          "text": "n_structures"
         }
        },
        "yaxis": {
         "anchor": "x",
         "domain": [
          0,
          1
         ],
         "title": {
          "text": "count"
         }
        }
       }
      }
     },
     "metadata": {},
     "output_type": "display_data"
    }
   ],
   "source": [
    "fig = px.histogram(cgc_data, x=\"n_structures\")\n",
    "fig.show()"
   ]
  },
  {
   "cell_type": "code",
   "execution_count": 4,
   "metadata": {},
   "outputs": [
    {
     "data": {
      "application/vnd.plotly.v1+json": {
       "config": {
        "plotlyServerURL": "https://plot.ly"
       },
       "data": [
        {
         "alignmentgroup": "True",
         "hovertemplate": "n_structures=%{x}<extra></extra>",
         "legendgroup": "",
         "marker": {
          "color": "#636efa"
         },
         "name": "",
         "notched": false,
         "offsetgroup": "",
         "orientation": "h",
         "showlegend": false,
         "type": "box",
         "x": [
          1,
          1,
          81,
          9,
          8,
          0,
          0,
          76,
          2,
          5,
          6,
          1,
          0,
          9,
          0,
          36,
          18,
          1,
          28,
          77,
          3,
          21,
          30,
          13,
          92,
          2,
          1,
          6,
          3,
          0,
          0,
          4,
          3,
          2,
          2,
          32,
          0,
          3,
          2,
          0,
          0,
          5,
          14,
          3,
          0,
          1,
          12,
          16,
          1,
          1136,
          3,
          11,
          29,
          1,
          5,
          5,
          0,
          34,
          0,
          2,
          108,
          0,
          7,
          3,
          2,
          5,
          2,
          5,
          6,
          14,
          15,
          0,
          11,
          111,
          31,
          12,
          41,
          540,
          3,
          0,
          2,
          125,
          9,
          2,
          6,
          10,
          1,
          4,
          2,
          0,
          103,
          24,
          10,
          0,
          17,
          32,
          15,
          6,
          0,
          0,
          31,
          9,
          1,
          2,
          7,
          0,
          1,
          11,
          57,
          8,
          18,
          5,
          5,
          8,
          21,
          0,
          0,
          3,
          37,
          14,
          18,
          12,
          18,
          5,
          6,
          4,
          1,
          0,
          1,
          0,
          12,
          38,
          0,
          0,
          6,
          0,
          9,
          2,
          8,
          0,
          0,
          0,
          4,
          1,
          0,
          13,
          10,
          11,
          1,
          5,
          4,
          0,
          0,
          122,
          2,
          22,
          3,
          0,
          23,
          1,
          0,
          21,
          7,
          1,
          35,
          2,
          0,
          25,
          0,
          12,
          6,
          5,
          0,
          14,
          0,
          9,
          9,
          9,
          0,
          4,
          1,
          14,
          2,
          9,
          2,
          9,
          16,
          14,
          1,
          19,
          7,
          2,
          0,
          68,
          291,
          18,
          12,
          1,
          1,
          0,
          4,
          1,
          0,
          1,
          55,
          32,
          28,
          7,
          13,
          45,
          21,
          10,
          0,
          42,
          43,
          7,
          7,
          8,
          433,
          0,
          3,
          3,
          2,
          27,
          1,
          6,
          6,
          28,
          6,
          9,
          0,
          0,
          0,
          6,
          6,
          13,
          7,
          7,
          6,
          6,
          0,
          0,
          2,
          0,
          1,
          7,
          3,
          0,
          17,
          10,
          2,
          71,
          0,
          50,
          7,
          44,
          7,
          9,
          3,
          0,
          4,
          9,
          24,
          10,
          2,
          1,
          1,
          2,
          11,
          6,
          2,
          1,
          0,
          3,
          7,
          23,
          2,
          1,
          2,
          3,
          5,
          2,
          3,
          17,
          210,
          0,
          1,
          35,
          2,
          0,
          1,
          22,
          18,
          104,
          85,
          85,
          1,
          1,
          35,
          24,
          3,
          396,
          396,
          379,
          0,
          4,
          0,
          0,
          2,
          13,
          2,
          0,
          1,
          0,
          0,
          0,
          0,
          0,
          228,
          336,
          28,
          1,
          48,
          11,
          4,
          0,
          0,
          0,
          4,
          3,
          0,
          32,
          5,
          17,
          7,
          7,
          0,
          0,
          35,
          36,
          50,
          154,
          41,
          0,
          9,
          17,
          3,
          8,
          0,
          46,
          2,
          4,
          54,
          0,
          99,
          0,
          20,
          34,
          1,
          0,
          2,
          56,
          9,
          4,
          4,
          0,
          295,
          0,
          1,
          1,
          4,
          1,
          57,
          4,
          0,
          0,
          0,
          4,
          22,
          0,
          4,
          0,
          0,
          0,
          1,
          0,
          6,
          0,
          0,
          0,
          0,
          0,
          20,
          0,
          69,
          2,
          3,
          1,
          0,
          143,
          11,
          1,
          139,
          39,
          0,
          1,
          0,
          47,
          116,
          7,
          6,
          3,
          7,
          24,
          6,
          0,
          19,
          0,
          0,
          0,
          1,
          2,
          16,
          8,
          3,
          9,
          3,
          49,
          17,
          1,
          0,
          0,
          2,
          0,
          19,
          0,
          2,
          9,
          0,
          5,
          7,
          0,
          4,
          0,
          7,
          1,
          3,
          3,
          276,
          347,
          1,
          18,
          32,
          1,
          26,
          6,
          9,
          20,
          0,
          9,
          0,
          0,
          0,
          6,
          27,
          2,
          8,
          0,
          20,
          9,
          3,
          9,
          25,
          43,
          2,
          62,
          8,
          5,
          4,
          7,
          17,
          2,
          0,
          0,
          0,
          1,
          0,
          28,
          1,
          3,
          5,
          1,
          2,
          0,
          1,
          29,
          2,
          3,
          3,
          1,
          0,
          6,
          9,
          8,
          0,
          2,
          2,
          0,
          97,
          0,
          91,
          176,
          0,
          5,
          19,
          1,
          8,
          5,
          3,
          10,
          11,
          35,
          14,
          1,
          12,
          291,
          0,
          0,
          26,
          0,
          0,
          1,
          2,
          2,
          1,
          0,
          47,
          3,
          1,
          0,
          0,
          0,
          33,
          15,
          11,
          8,
          79,
          12,
          13,
          12,
          5,
          8,
          2,
          1,
          0,
          1,
          6,
          59,
          2,
          10,
          1,
          4,
          41,
          4,
          32,
          22,
          2,
          12,
          15,
          6,
          1,
          2,
          0,
          34,
          1,
          0,
          5,
          113,
          0,
          3,
          0,
          1,
          6,
          4,
          23,
          72,
          75,
          3,
          1,
          0,
          0,
          5,
          9,
          7,
          8,
          6,
          5,
          2,
          1,
          5,
          1,
          1,
          1,
          4,
          3,
          2,
          0,
          0,
          28,
          23,
          43,
          13,
          0,
          4,
          0,
          0,
          0,
          14,
          1,
          0,
          4,
          0,
          0,
          11,
          12,
          12,
          18,
          13,
          4,
          5,
          5,
          15,
          11,
          0,
          0,
          8,
          0,
          0,
          4,
          31,
          69,
          0,
          4,
          2,
          1,
          0,
          0,
          1,
          0,
          20,
          5,
          6,
          2,
          6,
          5,
          3,
          0,
          6,
          10,
          19,
          86,
          2,
          2,
          0,
          1,
          1,
          15,
          2,
          5,
          3,
          1,
          1,
          5,
          17,
          1,
          5,
          1,
          4,
          0,
          0,
          21,
          15,
          0,
          0,
          0,
          0,
          1,
          3,
          18,
          17,
          8,
          5,
          15,
          268,
          24,
          1,
          0,
          4,
          0,
          0,
          0,
          0,
          19,
          0,
          9,
          0,
          2,
          3,
          1,
          9,
          1,
          11,
          0,
          0,
          7,
          4,
          9,
          95,
          0,
          6,
          0,
          5,
          2,
          13,
          26,
          10,
          11,
          11,
          8,
          10,
          2,
          8,
          1,
          3,
          0,
          0,
          0,
          0,
          0,
          0,
          0,
          0,
          0
         ],
         "x0": " ",
         "xaxis": "x",
         "y0": " ",
         "yaxis": "y"
        }
       ],
       "layout": {
        "boxmode": "group",
        "legend": {
         "tracegroupgap": 0
        },
        "margin": {
         "t": 60
        },
        "template": {
         "data": {
          "bar": [
           {
            "error_x": {
             "color": "#2a3f5f"
            },
            "error_y": {
             "color": "#2a3f5f"
            },
            "marker": {
             "line": {
              "color": "#E5ECF6",
              "width": 0.5
             },
             "pattern": {
              "fillmode": "overlay",
              "size": 10,
              "solidity": 0.2
             }
            },
            "type": "bar"
           }
          ],
          "barpolar": [
           {
            "marker": {
             "line": {
              "color": "#E5ECF6",
              "width": 0.5
             },
             "pattern": {
              "fillmode": "overlay",
              "size": 10,
              "solidity": 0.2
             }
            },
            "type": "barpolar"
           }
          ],
          "carpet": [
           {
            "aaxis": {
             "endlinecolor": "#2a3f5f",
             "gridcolor": "white",
             "linecolor": "white",
             "minorgridcolor": "white",
             "startlinecolor": "#2a3f5f"
            },
            "baxis": {
             "endlinecolor": "#2a3f5f",
             "gridcolor": "white",
             "linecolor": "white",
             "minorgridcolor": "white",
             "startlinecolor": "#2a3f5f"
            },
            "type": "carpet"
           }
          ],
          "choropleth": [
           {
            "colorbar": {
             "outlinewidth": 0,
             "ticks": ""
            },
            "type": "choropleth"
           }
          ],
          "contour": [
           {
            "colorbar": {
             "outlinewidth": 0,
             "ticks": ""
            },
            "colorscale": [
             [
              0,
              "#0d0887"
             ],
             [
              0.1111111111111111,
              "#46039f"
             ],
             [
              0.2222222222222222,
              "#7201a8"
             ],
             [
              0.3333333333333333,
              "#9c179e"
             ],
             [
              0.4444444444444444,
              "#bd3786"
             ],
             [
              0.5555555555555556,
              "#d8576b"
             ],
             [
              0.6666666666666666,
              "#ed7953"
             ],
             [
              0.7777777777777778,
              "#fb9f3a"
             ],
             [
              0.8888888888888888,
              "#fdca26"
             ],
             [
              1,
              "#f0f921"
             ]
            ],
            "type": "contour"
           }
          ],
          "contourcarpet": [
           {
            "colorbar": {
             "outlinewidth": 0,
             "ticks": ""
            },
            "type": "contourcarpet"
           }
          ],
          "heatmap": [
           {
            "colorbar": {
             "outlinewidth": 0,
             "ticks": ""
            },
            "colorscale": [
             [
              0,
              "#0d0887"
             ],
             [
              0.1111111111111111,
              "#46039f"
             ],
             [
              0.2222222222222222,
              "#7201a8"
             ],
             [
              0.3333333333333333,
              "#9c179e"
             ],
             [
              0.4444444444444444,
              "#bd3786"
             ],
             [
              0.5555555555555556,
              "#d8576b"
             ],
             [
              0.6666666666666666,
              "#ed7953"
             ],
             [
              0.7777777777777778,
              "#fb9f3a"
             ],
             [
              0.8888888888888888,
              "#fdca26"
             ],
             [
              1,
              "#f0f921"
             ]
            ],
            "type": "heatmap"
           }
          ],
          "heatmapgl": [
           {
            "colorbar": {
             "outlinewidth": 0,
             "ticks": ""
            },
            "colorscale": [
             [
              0,
              "#0d0887"
             ],
             [
              0.1111111111111111,
              "#46039f"
             ],
             [
              0.2222222222222222,
              "#7201a8"
             ],
             [
              0.3333333333333333,
              "#9c179e"
             ],
             [
              0.4444444444444444,
              "#bd3786"
             ],
             [
              0.5555555555555556,
              "#d8576b"
             ],
             [
              0.6666666666666666,
              "#ed7953"
             ],
             [
              0.7777777777777778,
              "#fb9f3a"
             ],
             [
              0.8888888888888888,
              "#fdca26"
             ],
             [
              1,
              "#f0f921"
             ]
            ],
            "type": "heatmapgl"
           }
          ],
          "histogram": [
           {
            "marker": {
             "pattern": {
              "fillmode": "overlay",
              "size": 10,
              "solidity": 0.2
             }
            },
            "type": "histogram"
           }
          ],
          "histogram2d": [
           {
            "colorbar": {
             "outlinewidth": 0,
             "ticks": ""
            },
            "colorscale": [
             [
              0,
              "#0d0887"
             ],
             [
              0.1111111111111111,
              "#46039f"
             ],
             [
              0.2222222222222222,
              "#7201a8"
             ],
             [
              0.3333333333333333,
              "#9c179e"
             ],
             [
              0.4444444444444444,
              "#bd3786"
             ],
             [
              0.5555555555555556,
              "#d8576b"
             ],
             [
              0.6666666666666666,
              "#ed7953"
             ],
             [
              0.7777777777777778,
              "#fb9f3a"
             ],
             [
              0.8888888888888888,
              "#fdca26"
             ],
             [
              1,
              "#f0f921"
             ]
            ],
            "type": "histogram2d"
           }
          ],
          "histogram2dcontour": [
           {
            "colorbar": {
             "outlinewidth": 0,
             "ticks": ""
            },
            "colorscale": [
             [
              0,
              "#0d0887"
             ],
             [
              0.1111111111111111,
              "#46039f"
             ],
             [
              0.2222222222222222,
              "#7201a8"
             ],
             [
              0.3333333333333333,
              "#9c179e"
             ],
             [
              0.4444444444444444,
              "#bd3786"
             ],
             [
              0.5555555555555556,
              "#d8576b"
             ],
             [
              0.6666666666666666,
              "#ed7953"
             ],
             [
              0.7777777777777778,
              "#fb9f3a"
             ],
             [
              0.8888888888888888,
              "#fdca26"
             ],
             [
              1,
              "#f0f921"
             ]
            ],
            "type": "histogram2dcontour"
           }
          ],
          "mesh3d": [
           {
            "colorbar": {
             "outlinewidth": 0,
             "ticks": ""
            },
            "type": "mesh3d"
           }
          ],
          "parcoords": [
           {
            "line": {
             "colorbar": {
              "outlinewidth": 0,
              "ticks": ""
             }
            },
            "type": "parcoords"
           }
          ],
          "pie": [
           {
            "automargin": true,
            "type": "pie"
           }
          ],
          "scatter": [
           {
            "fillpattern": {
             "fillmode": "overlay",
             "size": 10,
             "solidity": 0.2
            },
            "type": "scatter"
           }
          ],
          "scatter3d": [
           {
            "line": {
             "colorbar": {
              "outlinewidth": 0,
              "ticks": ""
             }
            },
            "marker": {
             "colorbar": {
              "outlinewidth": 0,
              "ticks": ""
             }
            },
            "type": "scatter3d"
           }
          ],
          "scattercarpet": [
           {
            "marker": {
             "colorbar": {
              "outlinewidth": 0,
              "ticks": ""
             }
            },
            "type": "scattercarpet"
           }
          ],
          "scattergeo": [
           {
            "marker": {
             "colorbar": {
              "outlinewidth": 0,
              "ticks": ""
             }
            },
            "type": "scattergeo"
           }
          ],
          "scattergl": [
           {
            "marker": {
             "colorbar": {
              "outlinewidth": 0,
              "ticks": ""
             }
            },
            "type": "scattergl"
           }
          ],
          "scattermapbox": [
           {
            "marker": {
             "colorbar": {
              "outlinewidth": 0,
              "ticks": ""
             }
            },
            "type": "scattermapbox"
           }
          ],
          "scatterpolar": [
           {
            "marker": {
             "colorbar": {
              "outlinewidth": 0,
              "ticks": ""
             }
            },
            "type": "scatterpolar"
           }
          ],
          "scatterpolargl": [
           {
            "marker": {
             "colorbar": {
              "outlinewidth": 0,
              "ticks": ""
             }
            },
            "type": "scatterpolargl"
           }
          ],
          "scatterternary": [
           {
            "marker": {
             "colorbar": {
              "outlinewidth": 0,
              "ticks": ""
             }
            },
            "type": "scatterternary"
           }
          ],
          "surface": [
           {
            "colorbar": {
             "outlinewidth": 0,
             "ticks": ""
            },
            "colorscale": [
             [
              0,
              "#0d0887"
             ],
             [
              0.1111111111111111,
              "#46039f"
             ],
             [
              0.2222222222222222,
              "#7201a8"
             ],
             [
              0.3333333333333333,
              "#9c179e"
             ],
             [
              0.4444444444444444,
              "#bd3786"
             ],
             [
              0.5555555555555556,
              "#d8576b"
             ],
             [
              0.6666666666666666,
              "#ed7953"
             ],
             [
              0.7777777777777778,
              "#fb9f3a"
             ],
             [
              0.8888888888888888,
              "#fdca26"
             ],
             [
              1,
              "#f0f921"
             ]
            ],
            "type": "surface"
           }
          ],
          "table": [
           {
            "cells": {
             "fill": {
              "color": "#EBF0F8"
             },
             "line": {
              "color": "white"
             }
            },
            "header": {
             "fill": {
              "color": "#C8D4E3"
             },
             "line": {
              "color": "white"
             }
            },
            "type": "table"
           }
          ]
         },
         "layout": {
          "annotationdefaults": {
           "arrowcolor": "#2a3f5f",
           "arrowhead": 0,
           "arrowwidth": 1
          },
          "autotypenumbers": "strict",
          "coloraxis": {
           "colorbar": {
            "outlinewidth": 0,
            "ticks": ""
           }
          },
          "colorscale": {
           "diverging": [
            [
             0,
             "#8e0152"
            ],
            [
             0.1,
             "#c51b7d"
            ],
            [
             0.2,
             "#de77ae"
            ],
            [
             0.3,
             "#f1b6da"
            ],
            [
             0.4,
             "#fde0ef"
            ],
            [
             0.5,
             "#f7f7f7"
            ],
            [
             0.6,
             "#e6f5d0"
            ],
            [
             0.7,
             "#b8e186"
            ],
            [
             0.8,
             "#7fbc41"
            ],
            [
             0.9,
             "#4d9221"
            ],
            [
             1,
             "#276419"
            ]
           ],
           "sequential": [
            [
             0,
             "#0d0887"
            ],
            [
             0.1111111111111111,
             "#46039f"
            ],
            [
             0.2222222222222222,
             "#7201a8"
            ],
            [
             0.3333333333333333,
             "#9c179e"
            ],
            [
             0.4444444444444444,
             "#bd3786"
            ],
            [
             0.5555555555555556,
             "#d8576b"
            ],
            [
             0.6666666666666666,
             "#ed7953"
            ],
            [
             0.7777777777777778,
             "#fb9f3a"
            ],
            [
             0.8888888888888888,
             "#fdca26"
            ],
            [
             1,
             "#f0f921"
            ]
           ],
           "sequentialminus": [
            [
             0,
             "#0d0887"
            ],
            [
             0.1111111111111111,
             "#46039f"
            ],
            [
             0.2222222222222222,
             "#7201a8"
            ],
            [
             0.3333333333333333,
             "#9c179e"
            ],
            [
             0.4444444444444444,
             "#bd3786"
            ],
            [
             0.5555555555555556,
             "#d8576b"
            ],
            [
             0.6666666666666666,
             "#ed7953"
            ],
            [
             0.7777777777777778,
             "#fb9f3a"
            ],
            [
             0.8888888888888888,
             "#fdca26"
            ],
            [
             1,
             "#f0f921"
            ]
           ]
          },
          "colorway": [
           "#636efa",
           "#EF553B",
           "#00cc96",
           "#ab63fa",
           "#FFA15A",
           "#19d3f3",
           "#FF6692",
           "#B6E880",
           "#FF97FF",
           "#FECB52"
          ],
          "font": {
           "color": "#2a3f5f"
          },
          "geo": {
           "bgcolor": "white",
           "lakecolor": "white",
           "landcolor": "#E5ECF6",
           "showlakes": true,
           "showland": true,
           "subunitcolor": "white"
          },
          "hoverlabel": {
           "align": "left"
          },
          "hovermode": "closest",
          "mapbox": {
           "style": "light"
          },
          "paper_bgcolor": "white",
          "plot_bgcolor": "#E5ECF6",
          "polar": {
           "angularaxis": {
            "gridcolor": "white",
            "linecolor": "white",
            "ticks": ""
           },
           "bgcolor": "#E5ECF6",
           "radialaxis": {
            "gridcolor": "white",
            "linecolor": "white",
            "ticks": ""
           }
          },
          "scene": {
           "xaxis": {
            "backgroundcolor": "#E5ECF6",
            "gridcolor": "white",
            "gridwidth": 2,
            "linecolor": "white",
            "showbackground": true,
            "ticks": "",
            "zerolinecolor": "white"
           },
           "yaxis": {
            "backgroundcolor": "#E5ECF6",
            "gridcolor": "white",
            "gridwidth": 2,
            "linecolor": "white",
            "showbackground": true,
            "ticks": "",
            "zerolinecolor": "white"
           },
           "zaxis": {
            "backgroundcolor": "#E5ECF6",
            "gridcolor": "white",
            "gridwidth": 2,
            "linecolor": "white",
            "showbackground": true,
            "ticks": "",
            "zerolinecolor": "white"
           }
          },
          "shapedefaults": {
           "line": {
            "color": "#2a3f5f"
           }
          },
          "ternary": {
           "aaxis": {
            "gridcolor": "white",
            "linecolor": "white",
            "ticks": ""
           },
           "baxis": {
            "gridcolor": "white",
            "linecolor": "white",
            "ticks": ""
           },
           "bgcolor": "#E5ECF6",
           "caxis": {
            "gridcolor": "white",
            "linecolor": "white",
            "ticks": ""
           }
          },
          "title": {
           "x": 0.05
          },
          "xaxis": {
           "automargin": true,
           "gridcolor": "white",
           "linecolor": "white",
           "ticks": "",
           "title": {
            "standoff": 15
           },
           "zerolinecolor": "white",
           "zerolinewidth": 2
          },
          "yaxis": {
           "automargin": true,
           "gridcolor": "white",
           "linecolor": "white",
           "ticks": "",
           "title": {
            "standoff": 15
           },
           "zerolinecolor": "white",
           "zerolinewidth": 2
          }
         }
        },
        "xaxis": {
         "anchor": "y",
         "domain": [
          0,
          1
         ],
         "title": {
          "text": "n_structures"
         }
        },
        "yaxis": {
         "anchor": "x",
         "domain": [
          0,
          1
         ]
        }
       }
      }
     },
     "metadata": {},
     "output_type": "display_data"
    }
   ],
   "source": [
    "# horizontal boxplot\n",
    "fig = px.box(cgc_data, x=\"n_structures\", orientation='h')\n",
    "fig.show()"
   ]
  },
  {
   "cell_type": "markdown",
   "metadata": {},
   "source": [
    "### read clean residue data"
   ]
  },
  {
   "cell_type": "code",
   "execution_count": 34,
   "metadata": {},
   "outputs": [
    {
     "data": {
      "text/html": [
       "<div>\n",
       "<style scoped>\n",
       "    .dataframe tbody tr th:only-of-type {\n",
       "        vertical-align: middle;\n",
       "    }\n",
       "\n",
       "    .dataframe tbody tr th {\n",
       "        vertical-align: top;\n",
       "    }\n",
       "\n",
       "    .dataframe thead th {\n",
       "        text-align: right;\n",
       "    }\n",
       "</style>\n",
       "<table border=\"1\" class=\"dataframe\">\n",
       "  <thead>\n",
       "    <tr style=\"text-align: right;\">\n",
       "      <th></th>\n",
       "      <th>gene_symbol</th>\n",
       "      <th>pdb_id</th>\n",
       "      <th>chain</th>\n",
       "      <th>uniprot_id</th>\n",
       "      <th>assoc_gene</th>\n",
       "      <th>resolution</th>\n",
       "      <th>res_num</th>\n",
       "      <th>pdb_res</th>\n",
       "      <th>uniprot_res</th>\n",
       "      <th>network_score</th>\n",
       "      <th>outside_range</th>\n",
       "      <th>residue_match</th>\n",
       "    </tr>\n",
       "  </thead>\n",
       "  <tbody>\n",
       "    <tr>\n",
       "      <th>0</th>\n",
       "      <td>EGFR</td>\n",
       "      <td>3POZ</td>\n",
       "      <td>A</td>\n",
       "      <td>P00533</td>\n",
       "      <td>EGFR</td>\n",
       "      <td>1.5</td>\n",
       "      <td>701</td>\n",
       "      <td>Q</td>\n",
       "      <td>Q</td>\n",
       "      <td>-3.791355</td>\n",
       "      <td>False</td>\n",
       "      <td>True</td>\n",
       "    </tr>\n",
       "    <tr>\n",
       "      <th>1</th>\n",
       "      <td>EGFR</td>\n",
       "      <td>3POZ</td>\n",
       "      <td>A</td>\n",
       "      <td>P00533</td>\n",
       "      <td>EGFR</td>\n",
       "      <td>1.5</td>\n",
       "      <td>702</td>\n",
       "      <td>A</td>\n",
       "      <td>A</td>\n",
       "      <td>-2.634055</td>\n",
       "      <td>False</td>\n",
       "      <td>True</td>\n",
       "    </tr>\n",
       "    <tr>\n",
       "      <th>2</th>\n",
       "      <td>EGFR</td>\n",
       "      <td>3POZ</td>\n",
       "      <td>A</td>\n",
       "      <td>P00533</td>\n",
       "      <td>EGFR</td>\n",
       "      <td>1.5</td>\n",
       "      <td>703</td>\n",
       "      <td>L</td>\n",
       "      <td>L</td>\n",
       "      <td>-1.231055</td>\n",
       "      <td>False</td>\n",
       "      <td>True</td>\n",
       "    </tr>\n",
       "    <tr>\n",
       "      <th>3</th>\n",
       "      <td>EGFR</td>\n",
       "      <td>3POZ</td>\n",
       "      <td>A</td>\n",
       "      <td>P00533</td>\n",
       "      <td>EGFR</td>\n",
       "      <td>1.5</td>\n",
       "      <td>704</td>\n",
       "      <td>L</td>\n",
       "      <td>L</td>\n",
       "      <td>0.452193</td>\n",
       "      <td>False</td>\n",
       "      <td>True</td>\n",
       "    </tr>\n",
       "    <tr>\n",
       "      <th>4</th>\n",
       "      <td>EGFR</td>\n",
       "      <td>3POZ</td>\n",
       "      <td>A</td>\n",
       "      <td>P00533</td>\n",
       "      <td>EGFR</td>\n",
       "      <td>1.5</td>\n",
       "      <td>705</td>\n",
       "      <td>R</td>\n",
       "      <td>R</td>\n",
       "      <td>-1.086163</td>\n",
       "      <td>False</td>\n",
       "      <td>True</td>\n",
       "    </tr>\n",
       "  </tbody>\n",
       "</table>\n",
       "</div>"
      ],
      "text/plain": [
       "  gene_symbol pdb_id chain uniprot_id assoc_gene  resolution  res_num pdb_res  \\\n",
       "0        EGFR   3POZ     A     P00533       EGFR         1.5      701       Q   \n",
       "1        EGFR   3POZ     A     P00533       EGFR         1.5      702       A   \n",
       "2        EGFR   3POZ     A     P00533       EGFR         1.5      703       L   \n",
       "3        EGFR   3POZ     A     P00533       EGFR         1.5      704       L   \n",
       "4        EGFR   3POZ     A     P00533       EGFR         1.5      705       R   \n",
       "\n",
       "  uniprot_res  network_score  outside_range  residue_match  \n",
       "0           Q      -3.791355          False           True  \n",
       "1           A      -2.634055          False           True  \n",
       "2           L      -1.231055          False           True  \n",
       "3           L       0.452193          False           True  \n",
       "4           R      -1.086163          False           True  "
      ]
     },
     "execution_count": 34,
     "metadata": {},
     "output_type": "execute_result"
    }
   ],
   "source": [
    "residue_data = pd.read_csv('final_data.csv')\n",
    "residue_data.head()"
   ]
  },
  {
   "cell_type": "code",
   "execution_count": 35,
   "metadata": {},
   "outputs": [
    {
     "data": {
      "text/plain": [
       "array(['3POZ', '3VRP', '3W32', '3W33', '4I22', '4I24', '5CNO', '5GNK',\n",
       "       '5HG5', '5HG8', '5U8L', '5UG8', '5UG9', '5UGA', '5UGC', '6TFV',\n",
       "       '6TFY', '6TFZ', '6TG0', '6TG1', '6V66', '6WXN', '7JXQ', '7SI1',\n",
       "       '8A27', '8A2A', '8A2B', '8A2D'], dtype=object)"
      ]
     },
     "execution_count": 35,
     "metadata": {},
     "output_type": "execute_result"
    }
   ],
   "source": [
    "residue_data[residue_data['gene_symbol']==\"EGFR\"]['pdb_id'].unique()"
   ]
  },
  {
   "cell_type": "code",
   "execution_count": 36,
   "metadata": {},
   "outputs": [
    {
     "data": {
      "text/html": [
       "<div>\n",
       "<style scoped>\n",
       "    .dataframe tbody tr th:only-of-type {\n",
       "        vertical-align: middle;\n",
       "    }\n",
       "\n",
       "    .dataframe tbody tr th {\n",
       "        vertical-align: top;\n",
       "    }\n",
       "\n",
       "    .dataframe thead th {\n",
       "        text-align: right;\n",
       "    }\n",
       "</style>\n",
       "<table border=\"1\" class=\"dataframe\">\n",
       "  <thead>\n",
       "    <tr style=\"text-align: right;\">\n",
       "      <th></th>\n",
       "      <th>gene_symbol</th>\n",
       "      <th>pdb_id</th>\n",
       "    </tr>\n",
       "  </thead>\n",
       "  <tbody>\n",
       "    <tr>\n",
       "      <th>0</th>\n",
       "      <td>EGFR</td>\n",
       "      <td>28</td>\n",
       "    </tr>\n",
       "    <tr>\n",
       "      <th>1</th>\n",
       "      <td>HRAS</td>\n",
       "      <td>30</td>\n",
       "    </tr>\n",
       "    <tr>\n",
       "      <th>2</th>\n",
       "      <td>KRAS</td>\n",
       "      <td>31</td>\n",
       "    </tr>\n",
       "    <tr>\n",
       "      <th>3</th>\n",
       "      <td>TP53</td>\n",
       "      <td>109</td>\n",
       "    </tr>\n",
       "  </tbody>\n",
       "</table>\n",
       "</div>"
      ],
      "text/plain": [
       "  gene_symbol  pdb_id\n",
       "0        EGFR      28\n",
       "1        HRAS      30\n",
       "2        KRAS      31\n",
       "3        TP53     109"
      ]
     },
     "execution_count": 36,
     "metadata": {},
     "output_type": "execute_result"
    }
   ],
   "source": [
    "# count number of unique pdb_id for each gene\n",
    "residue_data.groupby('gene_symbol')['pdb_id'].nunique().reset_index()"
   ]
  },
  {
   "cell_type": "markdown",
   "metadata": {},
   "source": [
    "# 2. Compare NS between different crystals of same protein"
   ]
  },
  {
   "cell_type": "code",
   "execution_count": 37,
   "metadata": {},
   "outputs": [
    {
     "data": {
      "image/png": "[encoded data removed]",
      "text/plain": [
       "<Figure size 1000x600 with 1 Axes>"
      ]
     },
     "metadata": {},
     "output_type": "display_data"
    }
   ],
   "source": [
    "tmp = residue_data[residue_data['gene_symbol']==\"EGFR\"].reset_index(drop=True)\n",
    "tmp['pdb_chain'] = tmp['pdb_id'] + '_' + tmp['chain']\n",
    "\n",
    "# plot boxplot of network score for EGFR for each pdb_chain\n",
    "plt.figure(figsize=(10, 6))\n",
    "sns.boxplot(data=tmp, x='pdb_chain', y='network_score')\n",
    "plt.xticks(rotation=90)\n",
    "plt.title('Network score distribution for EGFR')\n",
    "plt.show()"
   ]
  },
  {
   "cell_type": "code",
   "execution_count": 38,
   "metadata": {},
   "outputs": [
    {
     "data": {
      "image/png": "[encoded data removed]",
      "text/plain": [
       "<Figure size 1000x600 with 1 Axes>"
      ]
     },
     "metadata": {},
     "output_type": "display_data"
    }
   ],
   "source": [
    "tmp = residue_data[residue_data['gene_symbol']==\"HRAS\"].reset_index(drop=True)\n",
    "tmp['pdb_chain'] = tmp['pdb_id'] + '_' + tmp['chain']\n",
    "\n",
    "# plot boxplot of network score for EGFR for each pdb_chain\n",
    "plt.figure(figsize=(10, 6))\n",
    "sns.boxplot(data=tmp, x='pdb_chain', y='network_score')\n",
    "plt.xticks(rotation=90)\n",
    "plt.title('Network score distribution for HRAS')\n",
    "plt.show()"
   ]
  },
  {
   "cell_type": "code",
   "execution_count": 39,
   "metadata": {},
   "outputs": [
    {
     "data": {
      "image/png": "[encoded data removed]",
      "text/plain": [
       "<Figure size 1000x600 with 1 Axes>"
      ]
     },
     "metadata": {},
     "output_type": "display_data"
    }
   ],
   "source": [
    "tmp = residue_data[residue_data['gene_symbol']==\"KRAS\"].reset_index(drop=True)\n",
    "tmp['pdb_chain'] = tmp['pdb_id'] + '_' + tmp['chain']\n",
    "\n",
    "# plot boxplot of network score for EGFR for each pdb_chain\n",
    "plt.figure(figsize=(10, 6))\n",
    "sns.boxplot(data=tmp, x='pdb_chain', y='network_score')\n",
    "plt.xticks(rotation=90)\n",
    "plt.title('Network score distribution for KRAS')\n",
    "plt.show()"
   ]
  },
  {
   "cell_type": "code",
   "execution_count": 40,
   "metadata": {},
   "outputs": [
    {
     "data": {
      "image/png": "[encoded data removed]",
      "text/plain": [
       "<Figure size 1600x600 with 1 Axes>"
      ]
     },
     "metadata": {},
     "output_type": "display_data"
    }
   ],
   "source": [
    "tmp = residue_data[residue_data['gene_symbol']==\"TP53\"].reset_index(drop=True)\n",
    "tmp['pdb_chain'] = tmp['pdb_id'] + '_' + tmp['chain']\n",
    "\n",
    "# plot boxplot of network score for EGFR for each pdb_chain\n",
    "plt.figure(figsize=(16, 6))\n",
    "sns.boxplot(data=tmp, x='pdb_chain', y='network_score')\n",
    "plt.title('Network score distribution for TP53')\n",
    "plt.xticks(rotation=90)\n",
    "plt.show()"
   ]
  },
  {
   "cell_type": "markdown",
   "metadata": {},
   "source": [
    "# 2. TCGA data"
   ]
  },
  {
   "cell_type": "code",
   "execution_count": 8,
   "metadata": {},
   "outputs": [
    {
     "data": {
      "text/html": [
       "<div>\n",
       "<style scoped>\n",
       "    .dataframe tbody tr th:only-of-type {\n",
       "        vertical-align: middle;\n",
       "    }\n",
       "\n",
       "    .dataframe tbody tr th {\n",
       "        vertical-align: top;\n",
       "    }\n",
       "\n",
       "    .dataframe thead th {\n",
       "        text-align: right;\n",
       "    }\n",
       "</style>\n",
       "<table border=\"1\" class=\"dataframe\">\n",
       "  <thead>\n",
       "    <tr style=\"text-align: right;\">\n",
       "      <th></th>\n",
       "      <th>gene_symbol</th>\n",
       "      <th>pdb_id</th>\n",
       "      <th>chain</th>\n",
       "      <th>uniprot_id</th>\n",
       "      <th>assoc_gene</th>\n",
       "      <th>resolution</th>\n",
       "      <th>res_num</th>\n",
       "      <th>pdb_res</th>\n",
       "      <th>uniprot_res</th>\n",
       "      <th>network_score</th>\n",
       "      <th>outside_range</th>\n",
       "      <th>residue_match</th>\n",
       "    </tr>\n",
       "  </thead>\n",
       "  <tbody>\n",
       "    <tr>\n",
       "      <th>0</th>\n",
       "      <td>EGFR</td>\n",
       "      <td>3POZ</td>\n",
       "      <td>A</td>\n",
       "      <td>P00533</td>\n",
       "      <td>EGFR</td>\n",
       "      <td>1.50</td>\n",
       "      <td>701</td>\n",
       "      <td>Q</td>\n",
       "      <td>Q</td>\n",
       "      <td>-3.791355</td>\n",
       "      <td>False</td>\n",
       "      <td>True</td>\n",
       "    </tr>\n",
       "    <tr>\n",
       "      <th>8569</th>\n",
       "      <td>EGFR</td>\n",
       "      <td>6V66</td>\n",
       "      <td>C</td>\n",
       "      <td>P00533</td>\n",
       "      <td>EGFR</td>\n",
       "      <td>1.79</td>\n",
       "      <td>909</td>\n",
       "      <td>T</td>\n",
       "      <td>T</td>\n",
       "      <td>0.551312</td>\n",
       "      <td>False</td>\n",
       "      <td>True</td>\n",
       "    </tr>\n",
       "    <tr>\n",
       "      <th>8570</th>\n",
       "      <td>EGFR</td>\n",
       "      <td>6V66</td>\n",
       "      <td>C</td>\n",
       "      <td>P00533</td>\n",
       "      <td>EGFR</td>\n",
       "      <td>1.79</td>\n",
       "      <td>910</td>\n",
       "      <td>F</td>\n",
       "      <td>F</td>\n",
       "      <td>1.368711</td>\n",
       "      <td>False</td>\n",
       "      <td>True</td>\n",
       "    </tr>\n",
       "    <tr>\n",
       "      <th>8571</th>\n",
       "      <td>EGFR</td>\n",
       "      <td>6V66</td>\n",
       "      <td>C</td>\n",
       "      <td>P00533</td>\n",
       "      <td>EGFR</td>\n",
       "      <td>1.79</td>\n",
       "      <td>911</td>\n",
       "      <td>G</td>\n",
       "      <td>G</td>\n",
       "      <td>3.902907</td>\n",
       "      <td>False</td>\n",
       "      <td>True</td>\n",
       "    </tr>\n",
       "    <tr>\n",
       "      <th>8572</th>\n",
       "      <td>EGFR</td>\n",
       "      <td>6V66</td>\n",
       "      <td>C</td>\n",
       "      <td>P00533</td>\n",
       "      <td>EGFR</td>\n",
       "      <td>1.79</td>\n",
       "      <td>912</td>\n",
       "      <td>S</td>\n",
       "      <td>S</td>\n",
       "      <td>1.386478</td>\n",
       "      <td>False</td>\n",
       "      <td>True</td>\n",
       "    </tr>\n",
       "  </tbody>\n",
       "</table>\n",
       "</div>"
      ],
      "text/plain": [
       "     gene_symbol pdb_id chain uniprot_id assoc_gene  resolution  res_num  \\\n",
       "0           EGFR   3POZ     A     P00533       EGFR        1.50      701   \n",
       "8569        EGFR   6V66     C     P00533       EGFR        1.79      909   \n",
       "8570        EGFR   6V66     C     P00533       EGFR        1.79      910   \n",
       "8571        EGFR   6V66     C     P00533       EGFR        1.79      911   \n",
       "8572        EGFR   6V66     C     P00533       EGFR        1.79      912   \n",
       "\n",
       "     pdb_res uniprot_res  network_score  outside_range  residue_match  \n",
       "0          Q           Q      -3.791355          False           True  \n",
       "8569       T           T       0.551312          False           True  \n",
       "8570       F           F       1.368711          False           True  \n",
       "8571       G           G       3.902907          False           True  \n",
       "8572       S           S       1.386478          False           True  "
      ]
     },
     "execution_count": 8,
     "metadata": {},
     "output_type": "execute_result"
    }
   ],
   "source": [
    "residue_data = pd.read_csv('final_data.csv')\n",
    "residue_data = residue_data.sort_values(\"assoc_gene\", ascending=True)\n",
    "residue_data \n",
    "residue_data.head()"
   ]
  },
  {
   "cell_type": "code",
   "execution_count": 9,
   "metadata": {},
   "outputs": [
    {
     "name": "stderr",
     "output_type": "stream",
     "text": [
      "<>:17: SyntaxWarning:\n",
      "\n",
      "invalid escape sequence '\\d'\n",
      "\n",
      "<>:17: SyntaxWarning:\n",
      "\n",
      "invalid escape sequence '\\d'\n",
      "\n",
      "C:\\Users\\liyoa\\AppData\\Local\\Temp\\ipykernel_26868\\303578690.py:17: SyntaxWarning:\n",
      "\n",
      "invalid escape sequence '\\d'\n",
      "\n"
     ]
    },
    {
     "name": "stdout",
     "output_type": "stream",
     "text": [
      "PlotlyShare: New plot quizzical solidity 24th Apr created at https://plotlyshare-1-r8742502.deta.app/plot/b3453d1bba1a757be445046a8f7c2bf0 of size 138.21kB\n",
      "PlotlyShare: New plot grieving nurture 24th Apr created at https://plotlyshare-1-r8742502.deta.app/plot/c39bebe0f946da128048a51956fdbe22 of size 52.01kB\n",
      "PlotlyShare: New plot deeply crocodile 24th Apr created at https://plotlyshare-1-r8742502.deta.app/plot/5f3ba6ed440d53ad13ad113d066dc214 of size 86.72kB\n",
      "PlotlyShare: New plot stingy shrine 24th Apr created at https://plotlyshare-1-r8742502.deta.app/plot/d4e57ae9e7ceba0720966ee6e1466804 of size 811.98kB\n"
     ]
    }
   ],
   "source": [
    "all_merged_data = pd.DataFrame()\n",
    "\n",
    "# map assoc_gene + residues to their mutational frequency \n",
    "for file in os.listdir('TCGA_data'):\n",
    "    \n",
    "    # extract gene name from file name\n",
    "    gene = re.match(r'^([A-Z0-9]+)', file).group(1)\n",
    "    \n",
    "    # filter residue data for gene\n",
    "    filtered_data = residue_data[residue_data['gene_symbol']==gene]\n",
    "    \n",
    "    # read tp53 TCGA data\n",
    "    missense_data = pd.read_csv(f\"TCGA_data/{file}\", sep='\\t')\n",
    "\n",
    "    # filter for missense mutations\n",
    "    missense_data = missense_data[missense_data['consequence']==\"Missense\"].reset_index(drop=True)\n",
    "    missense_data['res_num'] = missense_data['protein_change'].apply(lambda x: x.split(' ')[1]).str.extract('(\\d+)').astype(int) # get residue number\n",
    "    missense_data['orig_aa'] = missense_data['protein_change'].apply(lambda x: x.split(' ')[1][0]) # get original amino acid   \n",
    "\n",
    "    # sum the number of mutations for each residue\n",
    "    missense_data = missense_data.groupby(['res_num', 'orig_aa']).agg({'num_ssm_affected_cases': 'sum', 'sift_score': 'mean'}).reset_index()\n",
    "\n",
    "    # merge with residue data\n",
    "    merged_data = pd.merge(filtered_data, missense_data, left_on='res_num', right_on='res_num', how='left')\n",
    "    merged_data['num_ssm_affected_cases'] = merged_data['num_ssm_affected_cases'].fillna(0)\n",
    "    all_merged_data = pd.concat([all_merged_data, merged_data])\n",
    "    tmp = merged_data[merged_data['num_ssm_affected_cases'] > 0]\n",
    "    # plot scatter plot\n",
    " \n",
    "    fig = px.scatter(tmp, x='network_score', y='num_ssm_affected_cases', hover_data=['res_num', 'pdb_id', 'chain'], \n",
    "                            labels={'num_ssm_affected_cases': 'Number of affected cases',\n",
    "                                    'score': 'Network Score',\n",
    "                                    'num': 'Residue Number',\n",
    "                                    'pdb_id': 'PDB ID',\n",
    "                                    'chain': 'Chain'},\n",
    "                            color=\"residue_match\")\n",
    "            \n",
    "    # fig.update_layout(title=f\"Gene {gene} | PDB {pdb_id} | Chain {chain}\")\n",
    "    fig.update_layout(title=f\"Gene {gene} with {tmp['pdb_id'].nunique()} PDB structures\")\n",
    "    fig.update_xaxes(title_text='Network Score')\n",
    "    fig.update_yaxes(title_text='Number of affected cases')\n",
    "\n",
    "    # add label residue number to each point by hovering\n",
    "    fig.update_traces(text=tmp['res_num'], hoverinfo='text+y')\n",
    "    \n",
    "\t# make markers more transparent\n",
    "    fig.update_traces(marker=dict(opacity=0.5))\n",
    "\n",
    "    # fig.write_image(f\"plots/TP53_{pdb_id}_{chain}.png\")\n",
    "    fig.show(renderer=\"plotlyshare\") #\n"
   ]
  },
  {
   "cell_type": "code",
   "execution_count": 10,
   "metadata": {},
   "outputs": [
    {
     "data": {
      "text/html": [
       "<div>\n",
       "<style scoped>\n",
       "    .dataframe tbody tr th:only-of-type {\n",
       "        vertical-align: middle;\n",
       "    }\n",
       "\n",
       "    .dataframe tbody tr th {\n",
       "        vertical-align: top;\n",
       "    }\n",
       "\n",
       "    .dataframe thead th {\n",
       "        text-align: right;\n",
       "    }\n",
       "</style>\n",
       "<table border=\"1\" class=\"dataframe\">\n",
       "  <thead>\n",
       "    <tr style=\"text-align: right;\">\n",
       "      <th></th>\n",
       "      <th>gene_symbol</th>\n",
       "      <th>pdb_id</th>\n",
       "      <th>chain</th>\n",
       "      <th>uniprot_id</th>\n",
       "      <th>assoc_gene</th>\n",
       "      <th>resolution</th>\n",
       "      <th>res_num</th>\n",
       "      <th>pdb_res</th>\n",
       "      <th>uniprot_res</th>\n",
       "      <th>network_score</th>\n",
       "      <th>outside_range</th>\n",
       "      <th>residue_match</th>\n",
       "      <th>orig_aa</th>\n",
       "      <th>num_ssm_affected_cases</th>\n",
       "      <th>sift_score</th>\n",
       "    </tr>\n",
       "  </thead>\n",
       "  <tbody>\n",
       "    <tr>\n",
       "      <th>249</th>\n",
       "      <td>HRAS</td>\n",
       "      <td>5WDQ</td>\n",
       "      <td>A</td>\n",
       "      <td>P01112</td>\n",
       "      <td>HRAS</td>\n",
       "      <td>1.25</td>\n",
       "      <td>123</td>\n",
       "      <td>R</td>\n",
       "      <td>R</td>\n",
       "      <td>0.577568</td>\n",
       "      <td>False</td>\n",
       "      <td>True</td>\n",
       "      <td>R</td>\n",
       "      <td>1.0</td>\n",
       "      <td>0.020000</td>\n",
       "    </tr>\n",
       "    <tr>\n",
       "      <th>252</th>\n",
       "      <td>HRAS</td>\n",
       "      <td>5WDQ</td>\n",
       "      <td>A</td>\n",
       "      <td>P01112</td>\n",
       "      <td>HRAS</td>\n",
       "      <td>1.25</td>\n",
       "      <td>120</td>\n",
       "      <td>A</td>\n",
       "      <td>L</td>\n",
       "      <td>0.703925</td>\n",
       "      <td>False</td>\n",
       "      <td>False</td>\n",
       "      <td>L</td>\n",
       "      <td>1.0</td>\n",
       "      <td>0.000000</td>\n",
       "    </tr>\n",
       "    <tr>\n",
       "      <th>254</th>\n",
       "      <td>HRAS</td>\n",
       "      <td>5WDQ</td>\n",
       "      <td>A</td>\n",
       "      <td>P01112</td>\n",
       "      <td>HRAS</td>\n",
       "      <td>1.25</td>\n",
       "      <td>118</td>\n",
       "      <td>C</td>\n",
       "      <td>C</td>\n",
       "      <td>0.721531</td>\n",
       "      <td>False</td>\n",
       "      <td>True</td>\n",
       "      <td>C</td>\n",
       "      <td>1.0</td>\n",
       "      <td>0.050000</td>\n",
       "    </tr>\n",
       "    <tr>\n",
       "      <th>255</th>\n",
       "      <td>HRAS</td>\n",
       "      <td>5WDQ</td>\n",
       "      <td>A</td>\n",
       "      <td>P01112</td>\n",
       "      <td>HRAS</td>\n",
       "      <td>1.25</td>\n",
       "      <td>117</td>\n",
       "      <td>K</td>\n",
       "      <td>K</td>\n",
       "      <td>1.963923</td>\n",
       "      <td>False</td>\n",
       "      <td>True</td>\n",
       "      <td>K</td>\n",
       "      <td>7.0</td>\n",
       "      <td>0.006667</td>\n",
       "    </tr>\n",
       "    <tr>\n",
       "      <th>270</th>\n",
       "      <td>HRAS</td>\n",
       "      <td>5WDQ</td>\n",
       "      <td>A</td>\n",
       "      <td>P01112</td>\n",
       "      <td>HRAS</td>\n",
       "      <td>1.25</td>\n",
       "      <td>127</td>\n",
       "      <td>S</td>\n",
       "      <td>S</td>\n",
       "      <td>-1.939055</td>\n",
       "      <td>False</td>\n",
       "      <td>True</td>\n",
       "      <td>S</td>\n",
       "      <td>1.0</td>\n",
       "      <td>0.860000</td>\n",
       "    </tr>\n",
       "    <tr>\n",
       "      <th>275</th>\n",
       "      <td>HRAS</td>\n",
       "      <td>5WDQ</td>\n",
       "      <td>A</td>\n",
       "      <td>P01112</td>\n",
       "      <td>HRAS</td>\n",
       "      <td>1.25</td>\n",
       "      <td>147</td>\n",
       "      <td>K</td>\n",
       "      <td>K</td>\n",
       "      <td>-0.006125</td>\n",
       "      <td>False</td>\n",
       "      <td>True</td>\n",
       "      <td>K</td>\n",
       "      <td>1.0</td>\n",
       "      <td>0.000000</td>\n",
       "    </tr>\n",
       "    <tr>\n",
       "      <th>278</th>\n",
       "      <td>HRAS</td>\n",
       "      <td>5WDQ</td>\n",
       "      <td>A</td>\n",
       "      <td>P01112</td>\n",
       "      <td>HRAS</td>\n",
       "      <td>1.25</td>\n",
       "      <td>144</td>\n",
       "      <td>T</td>\n",
       "      <td>T</td>\n",
       "      <td>2.479485</td>\n",
       "      <td>False</td>\n",
       "      <td>True</td>\n",
       "      <td>T</td>\n",
       "      <td>1.0</td>\n",
       "      <td>0.060000</td>\n",
       "    </tr>\n",
       "    <tr>\n",
       "      <th>279</th>\n",
       "      <td>HRAS</td>\n",
       "      <td>5WDQ</td>\n",
       "      <td>A</td>\n",
       "      <td>P01112</td>\n",
       "      <td>HRAS</td>\n",
       "      <td>1.25</td>\n",
       "      <td>143</td>\n",
       "      <td>E</td>\n",
       "      <td>E</td>\n",
       "      <td>-0.107645</td>\n",
       "      <td>False</td>\n",
       "      <td>True</td>\n",
       "      <td>E</td>\n",
       "      <td>1.0</td>\n",
       "      <td>0.020000</td>\n",
       "    </tr>\n",
       "    <tr>\n",
       "      <th>287</th>\n",
       "      <td>HRAS</td>\n",
       "      <td>5WDQ</td>\n",
       "      <td>A</td>\n",
       "      <td>P01112</td>\n",
       "      <td>HRAS</td>\n",
       "      <td>1.25</td>\n",
       "      <td>135</td>\n",
       "      <td>R</td>\n",
       "      <td>R</td>\n",
       "      <td>-3.439047</td>\n",
       "      <td>False</td>\n",
       "      <td>True</td>\n",
       "      <td>R</td>\n",
       "      <td>1.0</td>\n",
       "      <td>0.170000</td>\n",
       "    </tr>\n",
       "    <tr>\n",
       "      <th>288</th>\n",
       "      <td>HRAS</td>\n",
       "      <td>5WDQ</td>\n",
       "      <td>A</td>\n",
       "      <td>P01112</td>\n",
       "      <td>HRAS</td>\n",
       "      <td>1.25</td>\n",
       "      <td>134</td>\n",
       "      <td>A</td>\n",
       "      <td>A</td>\n",
       "      <td>0.170913</td>\n",
       "      <td>False</td>\n",
       "      <td>True</td>\n",
       "      <td>A</td>\n",
       "      <td>1.0</td>\n",
       "      <td>0.000000</td>\n",
       "    </tr>\n",
       "    <tr>\n",
       "      <th>292</th>\n",
       "      <td>HRAS</td>\n",
       "      <td>5WDQ</td>\n",
       "      <td>A</td>\n",
       "      <td>P01112</td>\n",
       "      <td>HRAS</td>\n",
       "      <td>1.25</td>\n",
       "      <td>130</td>\n",
       "      <td>A</td>\n",
       "      <td>A</td>\n",
       "      <td>-0.290911</td>\n",
       "      <td>False</td>\n",
       "      <td>True</td>\n",
       "      <td>A</td>\n",
       "      <td>1.0</td>\n",
       "      <td>0.000000</td>\n",
       "    </tr>\n",
       "    <tr>\n",
       "      <th>1297</th>\n",
       "      <td>HRAS</td>\n",
       "      <td>5WDQ</td>\n",
       "      <td>A</td>\n",
       "      <td>P01112</td>\n",
       "      <td>HRAS</td>\n",
       "      <td>1.25</td>\n",
       "      <td>73</td>\n",
       "      <td>R</td>\n",
       "      <td>R</td>\n",
       "      <td>-3.399864</td>\n",
       "      <td>False</td>\n",
       "      <td>True</td>\n",
       "      <td>R</td>\n",
       "      <td>1.0</td>\n",
       "      <td>0.040000</td>\n",
       "    </tr>\n",
       "    <tr>\n",
       "      <th>1299</th>\n",
       "      <td>HRAS</td>\n",
       "      <td>5WDQ</td>\n",
       "      <td>A</td>\n",
       "      <td>P01112</td>\n",
       "      <td>HRAS</td>\n",
       "      <td>1.25</td>\n",
       "      <td>71</td>\n",
       "      <td>Y</td>\n",
       "      <td>Y</td>\n",
       "      <td>-1.807485</td>\n",
       "      <td>False</td>\n",
       "      <td>True</td>\n",
       "      <td>Y</td>\n",
       "      <td>1.0</td>\n",
       "      <td>0.050000</td>\n",
       "    </tr>\n",
       "    <tr>\n",
       "      <th>1302</th>\n",
       "      <td>HRAS</td>\n",
       "      <td>5WDQ</td>\n",
       "      <td>A</td>\n",
       "      <td>P01112</td>\n",
       "      <td>HRAS</td>\n",
       "      <td>1.25</td>\n",
       "      <td>68</td>\n",
       "      <td>R</td>\n",
       "      <td>R</td>\n",
       "      <td>0.919655</td>\n",
       "      <td>False</td>\n",
       "      <td>True</td>\n",
       "      <td>R</td>\n",
       "      <td>1.0</td>\n",
       "      <td>0.020000</td>\n",
       "    </tr>\n",
       "    <tr>\n",
       "      <th>1309</th>\n",
       "      <td>HRAS</td>\n",
       "      <td>5WDQ</td>\n",
       "      <td>A</td>\n",
       "      <td>P01112</td>\n",
       "      <td>HRAS</td>\n",
       "      <td>1.25</td>\n",
       "      <td>61</td>\n",
       "      <td>Q</td>\n",
       "      <td>Q</td>\n",
       "      <td>-0.140022</td>\n",
       "      <td>False</td>\n",
       "      <td>True</td>\n",
       "      <td>Q</td>\n",
       "      <td>52.0</td>\n",
       "      <td>0.030000</td>\n",
       "    </tr>\n",
       "    <tr>\n",
       "      <th>1310</th>\n",
       "      <td>HRAS</td>\n",
       "      <td>5WDQ</td>\n",
       "      <td>A</td>\n",
       "      <td>P01112</td>\n",
       "      <td>HRAS</td>\n",
       "      <td>1.25</td>\n",
       "      <td>60</td>\n",
       "      <td>G</td>\n",
       "      <td>G</td>\n",
       "      <td>1.693650</td>\n",
       "      <td>False</td>\n",
       "      <td>True</td>\n",
       "      <td>G</td>\n",
       "      <td>3.0</td>\n",
       "      <td>0.000000</td>\n",
       "    </tr>\n",
       "    <tr>\n",
       "      <th>1311</th>\n",
       "      <td>HRAS</td>\n",
       "      <td>5WDQ</td>\n",
       "      <td>A</td>\n",
       "      <td>P01112</td>\n",
       "      <td>HRAS</td>\n",
       "      <td>1.25</td>\n",
       "      <td>59</td>\n",
       "      <td>A</td>\n",
       "      <td>A</td>\n",
       "      <td>2.158454</td>\n",
       "      <td>False</td>\n",
       "      <td>True</td>\n",
       "      <td>A</td>\n",
       "      <td>4.0</td>\n",
       "      <td>0.060000</td>\n",
       "    </tr>\n",
       "    <tr>\n",
       "      <th>1329</th>\n",
       "      <td>HRAS</td>\n",
       "      <td>5WDQ</td>\n",
       "      <td>A</td>\n",
       "      <td>P01112</td>\n",
       "      <td>HRAS</td>\n",
       "      <td>1.25</td>\n",
       "      <td>91</td>\n",
       "      <td>E</td>\n",
       "      <td>E</td>\n",
       "      <td>-2.346764</td>\n",
       "      <td>False</td>\n",
       "      <td>True</td>\n",
       "      <td>E</td>\n",
       "      <td>1.0</td>\n",
       "      <td>0.050000</td>\n",
       "    </tr>\n",
       "    <tr>\n",
       "      <th>1330</th>\n",
       "      <td>HRAS</td>\n",
       "      <td>5WDQ</td>\n",
       "      <td>A</td>\n",
       "      <td>P01112</td>\n",
       "      <td>HRAS</td>\n",
       "      <td>1.25</td>\n",
       "      <td>90</td>\n",
       "      <td>F</td>\n",
       "      <td>F</td>\n",
       "      <td>-0.439589</td>\n",
       "      <td>False</td>\n",
       "      <td>True</td>\n",
       "      <td>F</td>\n",
       "      <td>1.0</td>\n",
       "      <td>0.000000</td>\n",
       "    </tr>\n",
       "    <tr>\n",
       "      <th>1357</th>\n",
       "      <td>HRAS</td>\n",
       "      <td>5WDQ</td>\n",
       "      <td>A</td>\n",
       "      <td>P01112</td>\n",
       "      <td>HRAS</td>\n",
       "      <td>1.25</td>\n",
       "      <td>13</td>\n",
       "      <td>G</td>\n",
       "      <td>G</td>\n",
       "      <td>3.463521</td>\n",
       "      <td>False</td>\n",
       "      <td>True</td>\n",
       "      <td>G</td>\n",
       "      <td>34.0</td>\n",
       "      <td>0.020000</td>\n",
       "    </tr>\n",
       "    <tr>\n",
       "      <th>1358</th>\n",
       "      <td>HRAS</td>\n",
       "      <td>5WDQ</td>\n",
       "      <td>A</td>\n",
       "      <td>P01112</td>\n",
       "      <td>HRAS</td>\n",
       "      <td>1.25</td>\n",
       "      <td>12</td>\n",
       "      <td>G</td>\n",
       "      <td>G</td>\n",
       "      <td>1.495682</td>\n",
       "      <td>False</td>\n",
       "      <td>True</td>\n",
       "      <td>G</td>\n",
       "      <td>27.0</td>\n",
       "      <td>0.018333</td>\n",
       "    </tr>\n",
       "    <tr>\n",
       "      <th>1366</th>\n",
       "      <td>HRAS</td>\n",
       "      <td>5WDQ</td>\n",
       "      <td>A</td>\n",
       "      <td>P01112</td>\n",
       "      <td>HRAS</td>\n",
       "      <td>1.25</td>\n",
       "      <td>53</td>\n",
       "      <td>L</td>\n",
       "      <td>L</td>\n",
       "      <td>0.804737</td>\n",
       "      <td>False</td>\n",
       "      <td>True</td>\n",
       "      <td>L</td>\n",
       "      <td>1.0</td>\n",
       "      <td>0.000000</td>\n",
       "    </tr>\n",
       "    <tr>\n",
       "      <th>1379</th>\n",
       "      <td>HRAS</td>\n",
       "      <td>5WDQ</td>\n",
       "      <td>A</td>\n",
       "      <td>P01112</td>\n",
       "      <td>HRAS</td>\n",
       "      <td>1.25</td>\n",
       "      <td>41</td>\n",
       "      <td>R</td>\n",
       "      <td>R</td>\n",
       "      <td>-1.068582</td>\n",
       "      <td>False</td>\n",
       "      <td>True</td>\n",
       "      <td>R</td>\n",
       "      <td>1.0</td>\n",
       "      <td>0.070000</td>\n",
       "    </tr>\n",
       "    <tr>\n",
       "      <th>1387</th>\n",
       "      <td>HRAS</td>\n",
       "      <td>5WDQ</td>\n",
       "      <td>A</td>\n",
       "      <td>P01112</td>\n",
       "      <td>HRAS</td>\n",
       "      <td>1.25</td>\n",
       "      <td>33</td>\n",
       "      <td>D</td>\n",
       "      <td>D</td>\n",
       "      <td>-0.953308</td>\n",
       "      <td>False</td>\n",
       "      <td>True</td>\n",
       "      <td>D</td>\n",
       "      <td>1.0</td>\n",
       "      <td>0.030000</td>\n",
       "    </tr>\n",
       "  </tbody>\n",
       "</table>\n",
       "</div>"
      ],
      "text/plain": [
       "     gene_symbol pdb_id chain uniprot_id assoc_gene  resolution  res_num  \\\n",
       "249         HRAS   5WDQ     A     P01112       HRAS        1.25      123   \n",
       "252         HRAS   5WDQ     A     P01112       HRAS        1.25      120   \n",
       "254         HRAS   5WDQ     A     P01112       HRAS        1.25      118   \n",
       "255         HRAS   5WDQ     A     P01112       HRAS        1.25      117   \n",
       "270         HRAS   5WDQ     A     P01112       HRAS        1.25      127   \n",
       "275         HRAS   5WDQ     A     P01112       HRAS        1.25      147   \n",
       "278         HRAS   5WDQ     A     P01112       HRAS        1.25      144   \n",
       "279         HRAS   5WDQ     A     P01112       HRAS        1.25      143   \n",
       "287         HRAS   5WDQ     A     P01112       HRAS        1.25      135   \n",
       "288         HRAS   5WDQ     A     P01112       HRAS        1.25      134   \n",
       "292         HRAS   5WDQ     A     P01112       HRAS        1.25      130   \n",
       "1297        HRAS   5WDQ     A     P01112       HRAS        1.25       73   \n",
       "1299        HRAS   5WDQ     A     P01112       HRAS        1.25       71   \n",
       "1302        HRAS   5WDQ     A     P01112       HRAS        1.25       68   \n",
       "1309        HRAS   5WDQ     A     P01112       HRAS        1.25       61   \n",
       "1310        HRAS   5WDQ     A     P01112       HRAS        1.25       60   \n",
       "1311        HRAS   5WDQ     A     P01112       HRAS        1.25       59   \n",
       "1329        HRAS   5WDQ     A     P01112       HRAS        1.25       91   \n",
       "1330        HRAS   5WDQ     A     P01112       HRAS        1.25       90   \n",
       "1357        HRAS   5WDQ     A     P01112       HRAS        1.25       13   \n",
       "1358        HRAS   5WDQ     A     P01112       HRAS        1.25       12   \n",
       "1366        HRAS   5WDQ     A     P01112       HRAS        1.25       53   \n",
       "1379        HRAS   5WDQ     A     P01112       HRAS        1.25       41   \n",
       "1387        HRAS   5WDQ     A     P01112       HRAS        1.25       33   \n",
       "\n",
       "     pdb_res uniprot_res  network_score  outside_range  residue_match orig_aa  \\\n",
       "249        R           R       0.577568          False           True       R   \n",
       "252        A           L       0.703925          False          False       L   \n",
       "254        C           C       0.721531          False           True       C   \n",
       "255        K           K       1.963923          False           True       K   \n",
       "270        S           S      -1.939055          False           True       S   \n",
       "275        K           K      -0.006125          False           True       K   \n",
       "278        T           T       2.479485          False           True       T   \n",
       "279        E           E      -0.107645          False           True       E   \n",
       "287        R           R      -3.439047          False           True       R   \n",
       "288        A           A       0.170913          False           True       A   \n",
       "292        A           A      -0.290911          False           True       A   \n",
       "1297       R           R      -3.399864          False           True       R   \n",
       "1299       Y           Y      -1.807485          False           True       Y   \n",
       "1302       R           R       0.919655          False           True       R   \n",
       "1309       Q           Q      -0.140022          False           True       Q   \n",
       "1310       G           G       1.693650          False           True       G   \n",
       "1311       A           A       2.158454          False           True       A   \n",
       "1329       E           E      -2.346764          False           True       E   \n",
       "1330       F           F      -0.439589          False           True       F   \n",
       "1357       G           G       3.463521          False           True       G   \n",
       "1358       G           G       1.495682          False           True       G   \n",
       "1366       L           L       0.804737          False           True       L   \n",
       "1379       R           R      -1.068582          False           True       R   \n",
       "1387       D           D      -0.953308          False           True       D   \n",
       "\n",
       "      num_ssm_affected_cases  sift_score  \n",
       "249                      1.0    0.020000  \n",
       "252                      1.0    0.000000  \n",
       "254                      1.0    0.050000  \n",
       "255                      7.0    0.006667  \n",
       "270                      1.0    0.860000  \n",
       "275                      1.0    0.000000  \n",
       "278                      1.0    0.060000  \n",
       "279                      1.0    0.020000  \n",
       "287                      1.0    0.170000  \n",
       "288                      1.0    0.000000  \n",
       "292                      1.0    0.000000  \n",
       "1297                     1.0    0.040000  \n",
       "1299                     1.0    0.050000  \n",
       "1302                     1.0    0.020000  \n",
       "1309                    52.0    0.030000  \n",
       "1310                     3.0    0.000000  \n",
       "1311                     4.0    0.060000  \n",
       "1329                     1.0    0.050000  \n",
       "1330                     1.0    0.000000  \n",
       "1357                    34.0    0.020000  \n",
       "1358                    27.0    0.018333  \n",
       "1366                     1.0    0.000000  \n",
       "1379                     1.0    0.070000  \n",
       "1387                     1.0    0.030000  "
      ]
     },
     "execution_count": 10,
     "metadata": {},
     "output_type": "execute_result"
    }
   ],
   "source": [
    "all_merged_data[(all_merged_data['pdb_id']==\"5WDQ\") & (all_merged_data['num_ssm_affected_cases']>0)]"
   ]
  },
  {
   "cell_type": "code",
   "execution_count": 11,
   "metadata": {},
   "outputs": [],
   "source": [
    "import dash\n",
    "from dash import dcc, html\n",
    "from dash.dependencies import Input, Output, State\n",
    "import plotly.express as px\n",
    "import pandas as pd\n"
   ]
  },
  {
   "cell_type": "code",
   "execution_count": 12,
   "metadata": {},
   "outputs": [
    {
     "data": {
      "text/html": [
       "\n",
       "        <iframe\n",
       "            width=\"100%\"\n",
       "            height=\"650\"\n",
       "            src=\"http://127.0.0.1:8050/\"\n",
       "            frameborder=\"0\"\n",
       "            allowfullscreen\n",
       "            \n",
       "        ></iframe>\n",
       "        "
      ],
      "text/plain": [
       "<IPython.lib.display.IFrame at 0x1409804bb30>"
      ]
     },
     "metadata": {},
     "output_type": "display_data"
    }
   ],
   "source": [
    "# Sample data (replace this with your actual data)\n",
    "df = all_merged_data\n",
    "df['pdb_chain'] = df['pdb_id'] + '_' + df['chain']\n",
    "\n",
    "# Get unique genes\n",
    "unique_genes = df['gene_symbol'].unique()\n",
    "\n",
    "# Initialize Dash app\n",
    "app = dash.Dash(__name__)\n",
    "\n",
    "# Define layout\n",
    "app.layout = html.Div([\n",
    "    dcc.Dropdown(\n",
    "        id='gene-dropdown',\n",
    "        options=[{'label': gene, 'value': gene} for gene in unique_genes],\n",
    "        value='TP53',  # Default value set to 'TP53'\n",
    "        clearable=False\n",
    "    ),\n",
    "    html.Br(),\n",
    "    dcc.Dropdown(\n",
    "        id='pdb-dropdown',\n",
    "        options=[{'label': 'All PDBs', 'value': 'all'}] + [{'label': pdb_id, 'value': pdb_id} for pdb_id in df['pdb_chain'].unique()],\n",
    "        multi=True\n",
    "    ),\n",
    "    dcc.Graph(id='scatter-plot')\n",
    "])\n",
    "\n",
    "# Define callback to update PDB dropdown based on selected gene\n",
    "@app.callback(\n",
    "    Output('pdb-dropdown', 'value'),\n",
    "    [Input('gene-dropdown', 'value')]\n",
    ")\n",
    "def update_pdb_value(selected_gene):\n",
    "    return ['all'] + list(df[df['gene_symbol'] == selected_gene]['pdb_chain'].unique())\n",
    "\n",
    "# Define callback to update scatter plot\n",
    "@app.callback(\n",
    "    Output('scatter-plot', 'figure'),\n",
    "    [Input('gene-dropdown', 'value'),\n",
    "     Input('pdb-dropdown', 'value')]\n",
    ")\n",
    "def update_plot(selected_gene, selected_pdb_ids):\n",
    "\n",
    "    if 'all' in selected_pdb_ids:\n",
    "        filtered_df = df[df['gene_symbol'] == selected_gene]\n",
    "    else:\n",
    "        filtered_df = df[df['pdb_chain'].isin(selected_pdb_ids)]\n",
    "    title = \"Network score distribution against TCGA mutational data (missense only)\"\n",
    "    fig = px.scatter(filtered_df, x='network_score', y='num_ssm_affected_cases',\n",
    "                     color='residue_match', color_discrete_map={True: 'blue', False: 'red'},\n",
    "                     hover_data=['pdb_id', 'chain', 'res_num', 'pdb_res', 'uniprot_res'],\n",
    "                     labels={'num_ssm_affected_cases': 'Number of affected cases',\n",
    "                             'network_score': 'Network Score',\n",
    "                             'residue_match': 'Residue Match',\n",
    "                                    'pdb_id': 'PDB ID',\n",
    "                                    'chain': 'Chain',\n",
    "                                    'res_num': 'Residue Number',\n",
    "                                    'pdb_res': 'PDB Residue',\n",
    "                                    'uniprot_res': 'UniProt Residue'},\n",
    "                     title=f'{title} ({len(selected_pdb_ids)} PDB chains selected)' if 'all' not in selected_pdb_ids else f'{title} (All PDB chains selected)')\n",
    "    \n",
    "    fig.update_xaxes(title_text='Network Score')\n",
    "    fig.update_yaxes(title_text='Number of affected cases')\n",
    "    fig.update_traces(opacity=.4)\n",
    "    return fig\n",
    "\n",
    "# Run the app\n",
    "if __name__ == '__main__':\n",
    "    app.run_server(debug=True)\n"
   ]
  },
  {
   "cell_type": "code",
   "execution_count": 40,
   "metadata": {},
   "outputs": [],
   "source": [
    "all_merged_data = all_merged_data.sort_values(['gene_symbol', 'pdb_id', 'chain', 'res_num'])\n",
    "all_merged_data.to_csv('all_merged_data.csv', index=False)"
   ]
  },
  {
   "cell_type": "markdown",
   "metadata": {},
   "source": [
    "## correlation matrix for NS"
   ]
  },
  {
   "cell_type": "code",
   "execution_count": 48,
   "metadata": {},
   "outputs": [
    {
     "data": {
      "text/html": [
       "<div>\n",
       "<style scoped>\n",
       "    .dataframe tbody tr th:only-of-type {\n",
       "        vertical-align: middle;\n",
       "    }\n",
       "\n",
       "    .dataframe tbody tr th {\n",
       "        vertical-align: top;\n",
       "    }\n",
       "\n",
       "    .dataframe thead th {\n",
       "        text-align: right;\n",
       "    }\n",
       "</style>\n",
       "<table border=\"1\" class=\"dataframe\">\n",
       "  <thead>\n",
       "    <tr style=\"text-align: right;\">\n",
       "      <th></th>\n",
       "      <th>gene_symbol</th>\n",
       "      <th>pdb_id</th>\n",
       "      <th>chain</th>\n",
       "      <th>uniprot_id</th>\n",
       "      <th>assoc_gene</th>\n",
       "      <th>resolution</th>\n",
       "      <th>res_num</th>\n",
       "      <th>pdb_res</th>\n",
       "      <th>uniprot_res</th>\n",
       "      <th>network_score</th>\n",
       "      <th>outside_range</th>\n",
       "      <th>residue_match</th>\n",
       "    </tr>\n",
       "  </thead>\n",
       "  <tbody>\n",
       "    <tr>\n",
       "      <th>0</th>\n",
       "      <td>EGFR</td>\n",
       "      <td>3POZ</td>\n",
       "      <td>A</td>\n",
       "      <td>P00533</td>\n",
       "      <td>EGFR</td>\n",
       "      <td>1.5</td>\n",
       "      <td>701</td>\n",
       "      <td>Q</td>\n",
       "      <td>Q</td>\n",
       "      <td>-3.791355</td>\n",
       "      <td>False</td>\n",
       "      <td>True</td>\n",
       "    </tr>\n",
       "    <tr>\n",
       "      <th>1</th>\n",
       "      <td>EGFR</td>\n",
       "      <td>3POZ</td>\n",
       "      <td>A</td>\n",
       "      <td>P00533</td>\n",
       "      <td>EGFR</td>\n",
       "      <td>1.5</td>\n",
       "      <td>702</td>\n",
       "      <td>A</td>\n",
       "      <td>A</td>\n",
       "      <td>-2.634055</td>\n",
       "      <td>False</td>\n",
       "      <td>True</td>\n",
       "    </tr>\n",
       "    <tr>\n",
       "      <th>2</th>\n",
       "      <td>EGFR</td>\n",
       "      <td>3POZ</td>\n",
       "      <td>A</td>\n",
       "      <td>P00533</td>\n",
       "      <td>EGFR</td>\n",
       "      <td>1.5</td>\n",
       "      <td>703</td>\n",
       "      <td>L</td>\n",
       "      <td>L</td>\n",
       "      <td>-1.231055</td>\n",
       "      <td>False</td>\n",
       "      <td>True</td>\n",
       "    </tr>\n",
       "    <tr>\n",
       "      <th>3</th>\n",
       "      <td>EGFR</td>\n",
       "      <td>3POZ</td>\n",
       "      <td>A</td>\n",
       "      <td>P00533</td>\n",
       "      <td>EGFR</td>\n",
       "      <td>1.5</td>\n",
       "      <td>704</td>\n",
       "      <td>L</td>\n",
       "      <td>L</td>\n",
       "      <td>0.452193</td>\n",
       "      <td>False</td>\n",
       "      <td>True</td>\n",
       "    </tr>\n",
       "    <tr>\n",
       "      <th>4</th>\n",
       "      <td>EGFR</td>\n",
       "      <td>3POZ</td>\n",
       "      <td>A</td>\n",
       "      <td>P00533</td>\n",
       "      <td>EGFR</td>\n",
       "      <td>1.5</td>\n",
       "      <td>705</td>\n",
       "      <td>R</td>\n",
       "      <td>R</td>\n",
       "      <td>-1.086163</td>\n",
       "      <td>False</td>\n",
       "      <td>True</td>\n",
       "    </tr>\n",
       "  </tbody>\n",
       "</table>\n",
       "</div>"
      ],
      "text/plain": [
       "  gene_symbol pdb_id chain uniprot_id assoc_gene  resolution  res_num pdb_res  \\\n",
       "0        EGFR   3POZ     A     P00533       EGFR         1.5      701       Q   \n",
       "1        EGFR   3POZ     A     P00533       EGFR         1.5      702       A   \n",
       "2        EGFR   3POZ     A     P00533       EGFR         1.5      703       L   \n",
       "3        EGFR   3POZ     A     P00533       EGFR         1.5      704       L   \n",
       "4        EGFR   3POZ     A     P00533       EGFR         1.5      705       R   \n",
       "\n",
       "  uniprot_res  network_score  outside_range  residue_match  \n",
       "0           Q      -3.791355          False           True  \n",
       "1           A      -2.634055          False           True  \n",
       "2           L      -1.231055          False           True  \n",
       "3           L       0.452193          False           True  \n",
       "4           R      -1.086163          False           True  "
      ]
     },
     "execution_count": 48,
     "metadata": {},
     "output_type": "execute_result"
    }
   ],
   "source": [
    "residue_data = pd.read_csv('final_data.csv')\n",
    "residue_data.head()"
   ]
  },
  {
   "cell_type": "code",
   "execution_count": 49,
   "metadata": {},
   "outputs": [
    {
     "data": {
      "text/html": [
       "<div>\n",
       "<style scoped>\n",
       "    .dataframe tbody tr th:only-of-type {\n",
       "        vertical-align: middle;\n",
       "    }\n",
       "\n",
       "    .dataframe tbody tr th {\n",
       "        vertical-align: top;\n",
       "    }\n",
       "\n",
       "    .dataframe thead th {\n",
       "        text-align: right;\n",
       "    }\n",
       "</style>\n",
       "<table border=\"1\" class=\"dataframe\">\n",
       "  <thead>\n",
       "    <tr style=\"text-align: right;\">\n",
       "      <th></th>\n",
       "      <th>gene_symbol</th>\n",
       "      <th>pdb_id</th>\n",
       "      <th>chain</th>\n",
       "      <th>uniprot_id</th>\n",
       "      <th>assoc_gene</th>\n",
       "      <th>resolution</th>\n",
       "      <th>res_num</th>\n",
       "      <th>pdb_res</th>\n",
       "      <th>uniprot_res</th>\n",
       "      <th>network_score</th>\n",
       "      <th>outside_range</th>\n",
       "      <th>residue_match</th>\n",
       "    </tr>\n",
       "  </thead>\n",
       "  <tbody>\n",
       "    <tr>\n",
       "      <th>0</th>\n",
       "      <td>TP53</td>\n",
       "      <td>1C26</td>\n",
       "      <td>A</td>\n",
       "      <td>P04637</td>\n",
       "      <td>TP53</td>\n",
       "      <td>1.7</td>\n",
       "      <td>325</td>\n",
       "      <td>G</td>\n",
       "      <td>G</td>\n",
       "      <td>-0.148266</td>\n",
       "      <td>False</td>\n",
       "      <td>True</td>\n",
       "    </tr>\n",
       "    <tr>\n",
       "      <th>1</th>\n",
       "      <td>TP53</td>\n",
       "      <td>1C26</td>\n",
       "      <td>A</td>\n",
       "      <td>P04637</td>\n",
       "      <td>TP53</td>\n",
       "      <td>1.7</td>\n",
       "      <td>326</td>\n",
       "      <td>E</td>\n",
       "      <td>E</td>\n",
       "      <td>-0.982754</td>\n",
       "      <td>False</td>\n",
       "      <td>True</td>\n",
       "    </tr>\n",
       "    <tr>\n",
       "      <th>2</th>\n",
       "      <td>TP53</td>\n",
       "      <td>1C26</td>\n",
       "      <td>A</td>\n",
       "      <td>P04637</td>\n",
       "      <td>TP53</td>\n",
       "      <td>1.7</td>\n",
       "      <td>327</td>\n",
       "      <td>Y</td>\n",
       "      <td>Y</td>\n",
       "      <td>0.164008</td>\n",
       "      <td>False</td>\n",
       "      <td>True</td>\n",
       "    </tr>\n",
       "    <tr>\n",
       "      <th>3</th>\n",
       "      <td>TP53</td>\n",
       "      <td>1C26</td>\n",
       "      <td>A</td>\n",
       "      <td>P04637</td>\n",
       "      <td>TP53</td>\n",
       "      <td>1.7</td>\n",
       "      <td>328</td>\n",
       "      <td>F</td>\n",
       "      <td>F</td>\n",
       "      <td>-0.577961</td>\n",
       "      <td>False</td>\n",
       "      <td>True</td>\n",
       "    </tr>\n",
       "    <tr>\n",
       "      <th>4</th>\n",
       "      <td>TP53</td>\n",
       "      <td>1C26</td>\n",
       "      <td>A</td>\n",
       "      <td>P04637</td>\n",
       "      <td>TP53</td>\n",
       "      <td>1.7</td>\n",
       "      <td>329</td>\n",
       "      <td>T</td>\n",
       "      <td>T</td>\n",
       "      <td>-0.808752</td>\n",
       "      <td>False</td>\n",
       "      <td>True</td>\n",
       "    </tr>\n",
       "    <tr>\n",
       "      <th>...</th>\n",
       "      <td>...</td>\n",
       "      <td>...</td>\n",
       "      <td>...</td>\n",
       "      <td>...</td>\n",
       "      <td>...</td>\n",
       "      <td>...</td>\n",
       "      <td>...</td>\n",
       "      <td>...</td>\n",
       "      <td>...</td>\n",
       "      <td>...</td>\n",
       "      <td>...</td>\n",
       "      <td>...</td>\n",
       "    </tr>\n",
       "    <tr>\n",
       "      <th>26396</th>\n",
       "      <td>TP53</td>\n",
       "      <td>8E7A</td>\n",
       "      <td>A</td>\n",
       "      <td>P04637</td>\n",
       "      <td>TP53</td>\n",
       "      <td>1.3</td>\n",
       "      <td>287</td>\n",
       "      <td>E</td>\n",
       "      <td>E</td>\n",
       "      <td>-1.837237</td>\n",
       "      <td>False</td>\n",
       "      <td>True</td>\n",
       "    </tr>\n",
       "    <tr>\n",
       "      <th>26397</th>\n",
       "      <td>TP53</td>\n",
       "      <td>8E7A</td>\n",
       "      <td>A</td>\n",
       "      <td>P04637</td>\n",
       "      <td>TP53</td>\n",
       "      <td>1.3</td>\n",
       "      <td>288</td>\n",
       "      <td>N</td>\n",
       "      <td>N</td>\n",
       "      <td>-1.837237</td>\n",
       "      <td>False</td>\n",
       "      <td>True</td>\n",
       "    </tr>\n",
       "    <tr>\n",
       "      <th>26398</th>\n",
       "      <td>TP53</td>\n",
       "      <td>8E7A</td>\n",
       "      <td>A</td>\n",
       "      <td>P04637</td>\n",
       "      <td>TP53</td>\n",
       "      <td>1.3</td>\n",
       "      <td>289</td>\n",
       "      <td>L</td>\n",
       "      <td>L</td>\n",
       "      <td>-1.196778</td>\n",
       "      <td>False</td>\n",
       "      <td>True</td>\n",
       "    </tr>\n",
       "    <tr>\n",
       "      <th>26399</th>\n",
       "      <td>TP53</td>\n",
       "      <td>8E7A</td>\n",
       "      <td>A</td>\n",
       "      <td>P04637</td>\n",
       "      <td>TP53</td>\n",
       "      <td>1.3</td>\n",
       "      <td>290</td>\n",
       "      <td>R</td>\n",
       "      <td>R</td>\n",
       "      <td>-1.624046</td>\n",
       "      <td>False</td>\n",
       "      <td>True</td>\n",
       "    </tr>\n",
       "    <tr>\n",
       "      <th>26400</th>\n",
       "      <td>TP53</td>\n",
       "      <td>8E7A</td>\n",
       "      <td>A</td>\n",
       "      <td>P04637</td>\n",
       "      <td>TP53</td>\n",
       "      <td>1.3</td>\n",
       "      <td>291</td>\n",
       "      <td>K</td>\n",
       "      <td>K</td>\n",
       "      <td>-1.816740</td>\n",
       "      <td>False</td>\n",
       "      <td>True</td>\n",
       "    </tr>\n",
       "  </tbody>\n",
       "</table>\n",
       "<p>26401 rows × 12 columns</p>\n",
       "</div>"
      ],
      "text/plain": [
       "      gene_symbol pdb_id chain uniprot_id assoc_gene  resolution  res_num  \\\n",
       "0            TP53   1C26     A     P04637       TP53         1.7      325   \n",
       "1            TP53   1C26     A     P04637       TP53         1.7      326   \n",
       "2            TP53   1C26     A     P04637       TP53         1.7      327   \n",
       "3            TP53   1C26     A     P04637       TP53         1.7      328   \n",
       "4            TP53   1C26     A     P04637       TP53         1.7      329   \n",
       "...           ...    ...   ...        ...        ...         ...      ...   \n",
       "26396        TP53   8E7A     A     P04637       TP53         1.3      287   \n",
       "26397        TP53   8E7A     A     P04637       TP53         1.3      288   \n",
       "26398        TP53   8E7A     A     P04637       TP53         1.3      289   \n",
       "26399        TP53   8E7A     A     P04637       TP53         1.3      290   \n",
       "26400        TP53   8E7A     A     P04637       TP53         1.3      291   \n",
       "\n",
       "      pdb_res uniprot_res  network_score  outside_range  residue_match  \n",
       "0           G           G      -0.148266          False           True  \n",
       "1           E           E      -0.982754          False           True  \n",
       "2           Y           Y       0.164008          False           True  \n",
       "3           F           F      -0.577961          False           True  \n",
       "4           T           T      -0.808752          False           True  \n",
       "...       ...         ...            ...            ...            ...  \n",
       "26396       E           E      -1.837237          False           True  \n",
       "26397       N           N      -1.837237          False           True  \n",
       "26398       L           L      -1.196778          False           True  \n",
       "26399       R           R      -1.624046          False           True  \n",
       "26400       K           K      -1.816740          False           True  \n",
       "\n",
       "[26401 rows x 12 columns]"
      ]
     },
     "execution_count": 49,
     "metadata": {},
     "output_type": "execute_result"
    }
   ],
   "source": [
    "tmp = residue_data[residue_data['gene_symbol']==\"TP53\"].reset_index(drop=True)\n",
    "tmp"
   ]
  },
  {
   "cell_type": "code",
   "execution_count": 53,
   "metadata": {},
   "outputs": [
    {
     "data": {
      "text/plain": [
       "196"
      ]
     },
     "execution_count": 53,
     "metadata": {},
     "output_type": "execute_result"
    }
   ],
   "source": [
    "chainA = tmp[(tmp['pdb_id']==\"1TSR\") & (tmp['chain']==\"A\")]\n",
    "chainC = tmp[(tmp['pdb_id']==\"1TSR\") & (tmp['chain']==\"C\")]\n",
    "\n"
   ]
  },
  {
   "cell_type": "code",
   "execution_count": 54,
   "metadata": {},
   "outputs": [
    {
     "data": {
      "text/html": [
       "<div>\n",
       "<style scoped>\n",
       "    .dataframe tbody tr th:only-of-type {\n",
       "        vertical-align: middle;\n",
       "    }\n",
       "\n",
       "    .dataframe tbody tr th {\n",
       "        vertical-align: top;\n",
       "    }\n",
       "\n",
       "    .dataframe thead th {\n",
       "        text-align: right;\n",
       "    }\n",
       "</style>\n",
       "<table border=\"1\" class=\"dataframe\">\n",
       "  <thead>\n",
       "    <tr style=\"text-align: right;\">\n",
       "      <th></th>\n",
       "      <th>gene_symbol</th>\n",
       "      <th>pdb_id</th>\n",
       "      <th>chain</th>\n",
       "      <th>uniprot_id</th>\n",
       "      <th>assoc_gene</th>\n",
       "      <th>resolution</th>\n",
       "      <th>res_num</th>\n",
       "      <th>pdb_res</th>\n",
       "      <th>uniprot_res</th>\n",
       "      <th>network_score</th>\n",
       "      <th>outside_range</th>\n",
       "      <th>residue_match</th>\n",
       "    </tr>\n",
       "  </thead>\n",
       "  <tbody>\n",
       "    <tr>\n",
       "      <th>459</th>\n",
       "      <td>TP53</td>\n",
       "      <td>1TSR</td>\n",
       "      <td>A</td>\n",
       "      <td>P04637</td>\n",
       "      <td>TP53</td>\n",
       "      <td>2.2</td>\n",
       "      <td>94</td>\n",
       "      <td>S</td>\n",
       "      <td>S</td>\n",
       "      <td>0.867448</td>\n",
       "      <td>False</td>\n",
       "      <td>True</td>\n",
       "    </tr>\n",
       "    <tr>\n",
       "      <th>460</th>\n",
       "      <td>TP53</td>\n",
       "      <td>1TSR</td>\n",
       "      <td>A</td>\n",
       "      <td>P04637</td>\n",
       "      <td>TP53</td>\n",
       "      <td>2.2</td>\n",
       "      <td>95</td>\n",
       "      <td>S</td>\n",
       "      <td>S</td>\n",
       "      <td>-0.045648</td>\n",
       "      <td>False</td>\n",
       "      <td>True</td>\n",
       "    </tr>\n",
       "    <tr>\n",
       "      <th>461</th>\n",
       "      <td>TP53</td>\n",
       "      <td>1TSR</td>\n",
       "      <td>A</td>\n",
       "      <td>P04637</td>\n",
       "      <td>TP53</td>\n",
       "      <td>2.2</td>\n",
       "      <td>96</td>\n",
       "      <td>S</td>\n",
       "      <td>S</td>\n",
       "      <td>-0.088533</td>\n",
       "      <td>False</td>\n",
       "      <td>True</td>\n",
       "    </tr>\n",
       "    <tr>\n",
       "      <th>462</th>\n",
       "      <td>TP53</td>\n",
       "      <td>1TSR</td>\n",
       "      <td>A</td>\n",
       "      <td>P04637</td>\n",
       "      <td>TP53</td>\n",
       "      <td>2.2</td>\n",
       "      <td>97</td>\n",
       "      <td>V</td>\n",
       "      <td>V</td>\n",
       "      <td>0.802604</td>\n",
       "      <td>False</td>\n",
       "      <td>True</td>\n",
       "    </tr>\n",
       "    <tr>\n",
       "      <th>463</th>\n",
       "      <td>TP53</td>\n",
       "      <td>1TSR</td>\n",
       "      <td>A</td>\n",
       "      <td>P04637</td>\n",
       "      <td>TP53</td>\n",
       "      <td>2.2</td>\n",
       "      <td>98</td>\n",
       "      <td>P</td>\n",
       "      <td>P</td>\n",
       "      <td>0.555823</td>\n",
       "      <td>False</td>\n",
       "      <td>True</td>\n",
       "    </tr>\n",
       "    <tr>\n",
       "      <th>...</th>\n",
       "      <td>...</td>\n",
       "      <td>...</td>\n",
       "      <td>...</td>\n",
       "      <td>...</td>\n",
       "      <td>...</td>\n",
       "      <td>...</td>\n",
       "      <td>...</td>\n",
       "      <td>...</td>\n",
       "      <td>...</td>\n",
       "      <td>...</td>\n",
       "      <td>...</td>\n",
       "      <td>...</td>\n",
       "    </tr>\n",
       "    <tr>\n",
       "      <th>650</th>\n",
       "      <td>TP53</td>\n",
       "      <td>1TSR</td>\n",
       "      <td>A</td>\n",
       "      <td>P04637</td>\n",
       "      <td>TP53</td>\n",
       "      <td>2.2</td>\n",
       "      <td>285</td>\n",
       "      <td>E</td>\n",
       "      <td>E</td>\n",
       "      <td>1.156992</td>\n",
       "      <td>False</td>\n",
       "      <td>True</td>\n",
       "    </tr>\n",
       "    <tr>\n",
       "      <th>651</th>\n",
       "      <td>TP53</td>\n",
       "      <td>1TSR</td>\n",
       "      <td>A</td>\n",
       "      <td>P04637</td>\n",
       "      <td>TP53</td>\n",
       "      <td>2.2</td>\n",
       "      <td>286</td>\n",
       "      <td>E</td>\n",
       "      <td>E</td>\n",
       "      <td>-0.055277</td>\n",
       "      <td>False</td>\n",
       "      <td>True</td>\n",
       "    </tr>\n",
       "    <tr>\n",
       "      <th>652</th>\n",
       "      <td>TP53</td>\n",
       "      <td>1TSR</td>\n",
       "      <td>A</td>\n",
       "      <td>P04637</td>\n",
       "      <td>TP53</td>\n",
       "      <td>2.2</td>\n",
       "      <td>287</td>\n",
       "      <td>E</td>\n",
       "      <td>E</td>\n",
       "      <td>0.020414</td>\n",
       "      <td>False</td>\n",
       "      <td>True</td>\n",
       "    </tr>\n",
       "    <tr>\n",
       "      <th>653</th>\n",
       "      <td>TP53</td>\n",
       "      <td>1TSR</td>\n",
       "      <td>A</td>\n",
       "      <td>P04637</td>\n",
       "      <td>TP53</td>\n",
       "      <td>2.2</td>\n",
       "      <td>288</td>\n",
       "      <td>N</td>\n",
       "      <td>N</td>\n",
       "      <td>0.018888</td>\n",
       "      <td>False</td>\n",
       "      <td>True</td>\n",
       "    </tr>\n",
       "    <tr>\n",
       "      <th>654</th>\n",
       "      <td>TP53</td>\n",
       "      <td>1TSR</td>\n",
       "      <td>A</td>\n",
       "      <td>P04637</td>\n",
       "      <td>TP53</td>\n",
       "      <td>2.2</td>\n",
       "      <td>289</td>\n",
       "      <td>L</td>\n",
       "      <td>L</td>\n",
       "      <td>-0.098248</td>\n",
       "      <td>False</td>\n",
       "      <td>True</td>\n",
       "    </tr>\n",
       "  </tbody>\n",
       "</table>\n",
       "<p>196 rows × 12 columns</p>\n",
       "</div>"
      ],
      "text/plain": [
       "    gene_symbol pdb_id chain uniprot_id assoc_gene  resolution  res_num  \\\n",
       "459        TP53   1TSR     A     P04637       TP53         2.2       94   \n",
       "460        TP53   1TSR     A     P04637       TP53         2.2       95   \n",
       "461        TP53   1TSR     A     P04637       TP53         2.2       96   \n",
       "462        TP53   1TSR     A     P04637       TP53         2.2       97   \n",
       "463        TP53   1TSR     A     P04637       TP53         2.2       98   \n",
       "..          ...    ...   ...        ...        ...         ...      ...   \n",
       "650        TP53   1TSR     A     P04637       TP53         2.2      285   \n",
       "651        TP53   1TSR     A     P04637       TP53         2.2      286   \n",
       "652        TP53   1TSR     A     P04637       TP53         2.2      287   \n",
       "653        TP53   1TSR     A     P04637       TP53         2.2      288   \n",
       "654        TP53   1TSR     A     P04637       TP53         2.2      289   \n",
       "\n",
       "    pdb_res uniprot_res  network_score  outside_range  residue_match  \n",
       "459       S           S       0.867448          False           True  \n",
       "460       S           S      -0.045648          False           True  \n",
       "461       S           S      -0.088533          False           True  \n",
       "462       V           V       0.802604          False           True  \n",
       "463       P           P       0.555823          False           True  \n",
       "..      ...         ...            ...            ...            ...  \n",
       "650       E           E       1.156992          False           True  \n",
       "651       E           E      -0.055277          False           True  \n",
       "652       E           E       0.020414          False           True  \n",
       "653       N           N       0.018888          False           True  \n",
       "654       L           L      -0.098248          False           True  \n",
       "\n",
       "[196 rows x 12 columns]"
      ]
     },
     "execution_count": 54,
     "metadata": {},
     "output_type": "execute_result"
    }
   ],
   "source": [
    "chainA"
   ]
  },
  {
   "cell_type": "code",
   "execution_count": 55,
   "metadata": {},
   "outputs": [
    {
     "data": {
      "text/html": [
       "<div>\n",
       "<style scoped>\n",
       "    .dataframe tbody tr th:only-of-type {\n",
       "        vertical-align: middle;\n",
       "    }\n",
       "\n",
       "    .dataframe tbody tr th {\n",
       "        vertical-align: top;\n",
       "    }\n",
       "\n",
       "    .dataframe thead th {\n",
       "        text-align: right;\n",
       "    }\n",
       "</style>\n",
       "<table border=\"1\" class=\"dataframe\">\n",
       "  <thead>\n",
       "    <tr style=\"text-align: right;\">\n",
       "      <th></th>\n",
       "      <th>gene_symbol</th>\n",
       "      <th>pdb_id</th>\n",
       "      <th>chain</th>\n",
       "      <th>uniprot_id</th>\n",
       "      <th>assoc_gene</th>\n",
       "      <th>resolution</th>\n",
       "      <th>res_num</th>\n",
       "      <th>pdb_res</th>\n",
       "      <th>uniprot_res</th>\n",
       "      <th>network_score</th>\n",
       "      <th>outside_range</th>\n",
       "      <th>residue_match</th>\n",
       "    </tr>\n",
       "  </thead>\n",
       "  <tbody>\n",
       "    <tr>\n",
       "      <th>655</th>\n",
       "      <td>TP53</td>\n",
       "      <td>1TSR</td>\n",
       "      <td>C</td>\n",
       "      <td>P04637</td>\n",
       "      <td>TP53</td>\n",
       "      <td>2.2</td>\n",
       "      <td>94</td>\n",
       "      <td>S</td>\n",
       "      <td>S</td>\n",
       "      <td>0.867448</td>\n",
       "      <td>False</td>\n",
       "      <td>True</td>\n",
       "    </tr>\n",
       "    <tr>\n",
       "      <th>656</th>\n",
       "      <td>TP53</td>\n",
       "      <td>1TSR</td>\n",
       "      <td>C</td>\n",
       "      <td>P04637</td>\n",
       "      <td>TP53</td>\n",
       "      <td>2.2</td>\n",
       "      <td>95</td>\n",
       "      <td>S</td>\n",
       "      <td>S</td>\n",
       "      <td>-0.045648</td>\n",
       "      <td>False</td>\n",
       "      <td>True</td>\n",
       "    </tr>\n",
       "    <tr>\n",
       "      <th>657</th>\n",
       "      <td>TP53</td>\n",
       "      <td>1TSR</td>\n",
       "      <td>C</td>\n",
       "      <td>P04637</td>\n",
       "      <td>TP53</td>\n",
       "      <td>2.2</td>\n",
       "      <td>96</td>\n",
       "      <td>S</td>\n",
       "      <td>S</td>\n",
       "      <td>-0.088533</td>\n",
       "      <td>False</td>\n",
       "      <td>True</td>\n",
       "    </tr>\n",
       "    <tr>\n",
       "      <th>658</th>\n",
       "      <td>TP53</td>\n",
       "      <td>1TSR</td>\n",
       "      <td>C</td>\n",
       "      <td>P04637</td>\n",
       "      <td>TP53</td>\n",
       "      <td>2.2</td>\n",
       "      <td>97</td>\n",
       "      <td>V</td>\n",
       "      <td>V</td>\n",
       "      <td>0.802604</td>\n",
       "      <td>False</td>\n",
       "      <td>True</td>\n",
       "    </tr>\n",
       "    <tr>\n",
       "      <th>659</th>\n",
       "      <td>TP53</td>\n",
       "      <td>1TSR</td>\n",
       "      <td>C</td>\n",
       "      <td>P04637</td>\n",
       "      <td>TP53</td>\n",
       "      <td>2.2</td>\n",
       "      <td>98</td>\n",
       "      <td>P</td>\n",
       "      <td>P</td>\n",
       "      <td>0.822388</td>\n",
       "      <td>False</td>\n",
       "      <td>True</td>\n",
       "    </tr>\n",
       "    <tr>\n",
       "      <th>...</th>\n",
       "      <td>...</td>\n",
       "      <td>...</td>\n",
       "      <td>...</td>\n",
       "      <td>...</td>\n",
       "      <td>...</td>\n",
       "      <td>...</td>\n",
       "      <td>...</td>\n",
       "      <td>...</td>\n",
       "      <td>...</td>\n",
       "      <td>...</td>\n",
       "      <td>...</td>\n",
       "      <td>...</td>\n",
       "    </tr>\n",
       "    <tr>\n",
       "      <th>846</th>\n",
       "      <td>TP53</td>\n",
       "      <td>1TSR</td>\n",
       "      <td>C</td>\n",
       "      <td>P04637</td>\n",
       "      <td>TP53</td>\n",
       "      <td>2.2</td>\n",
       "      <td>285</td>\n",
       "      <td>E</td>\n",
       "      <td>E</td>\n",
       "      <td>1.633168</td>\n",
       "      <td>False</td>\n",
       "      <td>True</td>\n",
       "    </tr>\n",
       "    <tr>\n",
       "      <th>847</th>\n",
       "      <td>TP53</td>\n",
       "      <td>1TSR</td>\n",
       "      <td>C</td>\n",
       "      <td>P04637</td>\n",
       "      <td>TP53</td>\n",
       "      <td>2.2</td>\n",
       "      <td>286</td>\n",
       "      <td>E</td>\n",
       "      <td>E</td>\n",
       "      <td>-0.055277</td>\n",
       "      <td>False</td>\n",
       "      <td>True</td>\n",
       "    </tr>\n",
       "    <tr>\n",
       "      <th>848</th>\n",
       "      <td>TP53</td>\n",
       "      <td>1TSR</td>\n",
       "      <td>C</td>\n",
       "      <td>P04637</td>\n",
       "      <td>TP53</td>\n",
       "      <td>2.2</td>\n",
       "      <td>287</td>\n",
       "      <td>E</td>\n",
       "      <td>E</td>\n",
       "      <td>0.020414</td>\n",
       "      <td>False</td>\n",
       "      <td>True</td>\n",
       "    </tr>\n",
       "    <tr>\n",
       "      <th>849</th>\n",
       "      <td>TP53</td>\n",
       "      <td>1TSR</td>\n",
       "      <td>C</td>\n",
       "      <td>P04637</td>\n",
       "      <td>TP53</td>\n",
       "      <td>2.2</td>\n",
       "      <td>288</td>\n",
       "      <td>N</td>\n",
       "      <td>N</td>\n",
       "      <td>0.018888</td>\n",
       "      <td>False</td>\n",
       "      <td>True</td>\n",
       "    </tr>\n",
       "    <tr>\n",
       "      <th>850</th>\n",
       "      <td>TP53</td>\n",
       "      <td>1TSR</td>\n",
       "      <td>C</td>\n",
       "      <td>P04637</td>\n",
       "      <td>TP53</td>\n",
       "      <td>2.2</td>\n",
       "      <td>289</td>\n",
       "      <td>L</td>\n",
       "      <td>L</td>\n",
       "      <td>-0.098248</td>\n",
       "      <td>False</td>\n",
       "      <td>True</td>\n",
       "    </tr>\n",
       "  </tbody>\n",
       "</table>\n",
       "<p>196 rows × 12 columns</p>\n",
       "</div>"
      ],
      "text/plain": [
       "    gene_symbol pdb_id chain uniprot_id assoc_gene  resolution  res_num  \\\n",
       "655        TP53   1TSR     C     P04637       TP53         2.2       94   \n",
       "656        TP53   1TSR     C     P04637       TP53         2.2       95   \n",
       "657        TP53   1TSR     C     P04637       TP53         2.2       96   \n",
       "658        TP53   1TSR     C     P04637       TP53         2.2       97   \n",
       "659        TP53   1TSR     C     P04637       TP53         2.2       98   \n",
       "..          ...    ...   ...        ...        ...         ...      ...   \n",
       "846        TP53   1TSR     C     P04637       TP53         2.2      285   \n",
       "847        TP53   1TSR     C     P04637       TP53         2.2      286   \n",
       "848        TP53   1TSR     C     P04637       TP53         2.2      287   \n",
       "849        TP53   1TSR     C     P04637       TP53         2.2      288   \n",
       "850        TP53   1TSR     C     P04637       TP53         2.2      289   \n",
       "\n",
       "    pdb_res uniprot_res  network_score  outside_range  residue_match  \n",
       "655       S           S       0.867448          False           True  \n",
       "656       S           S      -0.045648          False           True  \n",
       "657       S           S      -0.088533          False           True  \n",
       "658       V           V       0.802604          False           True  \n",
       "659       P           P       0.822388          False           True  \n",
       "..      ...         ...            ...            ...            ...  \n",
       "846       E           E       1.633168          False           True  \n",
       "847       E           E      -0.055277          False           True  \n",
       "848       E           E       0.020414          False           True  \n",
       "849       N           N       0.018888          False           True  \n",
       "850       L           L      -0.098248          False           True  \n",
       "\n",
       "[196 rows x 12 columns]"
      ]
     },
     "execution_count": 55,
     "metadata": {},
     "output_type": "execute_result"
    }
   ],
   "source": [
    "chainC"
   ]
  },
  {
   "cell_type": "code",
   "execution_count": null,
   "metadata": {},
   "outputs": [],
   "source": []
  },
  {
   "cell_type": "code",
   "execution_count": null,
   "metadata": {},
   "outputs": [],
   "source": []
  },
  {
   "cell_type": "code",
   "execution_count": null,
   "metadata": {},
   "outputs": [],
   "source": []
  }
 ],
 "metadata": {
  "kernelspec": {
   "display_name": "Python 3 (ipykernel)",
   "language": "python",
   "name": "python3"
  },
  "language_info": {
   "codemirror_mode": {
    "name": "ipython",
    "version": 3
   },
   "file_extension": ".py",
   "mimetype": "text/x-python",
   "name": "python",
   "nbconvert_exporter": "python",
   "pygments_lexer": "ipython3",
   "version": "3.12.2"
  }
 },
 "nbformat": 4,
 "nbformat_minor": 2
}
